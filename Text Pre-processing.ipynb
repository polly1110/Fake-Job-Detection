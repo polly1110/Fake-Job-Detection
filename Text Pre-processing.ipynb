{
 "cells": [
  {
   "cell_type": "markdown",
   "id": "09df1749",
   "metadata": {},
   "source": [
    "# Fake job Prediction: Investigating the pattern to avoid the job scam"
   ]
  },
  {
   "cell_type": "markdown",
   "id": "67f66fa2",
   "metadata": {},
   "source": [
    "# Notebook 3 -Text Pre-processing"
   ]
  },
  {
   "cell_type": "markdown",
   "id": "37252ae3",
   "metadata": {},
   "source": [
    "**Third setp: Text field pre process for NLP.**\n",
    "\n",
    "\n",
    "\n",
    "**By: Polly Pang**\n",
    "\n",
    "\n",
    "In this portion of the notebook, I will continuing working on cleaning methods especially text columns. I will be modifying columns, combine columns, and preparing the data for the implementation of Natural Language Processing (NLP) and other Machine Learning techniques.\n",
    "\n",
    "---"
   ]
  },
  {
   "cell_type": "markdown",
   "id": "fc0b0c98",
   "metadata": {},
   "source": [
    "<a id=\"top\"></a>\n",
    "<div class=\"list-group\" id=\"list-tab\" role=\"tablist\">\n",
    "<h3 class=\"list-group-item list-group-item-action active\" data-toggle=\"list\" role=\"tab\" aria-controls=\"home\"> Contents</h3>\n",
    "\n",
    "* [1. Libraries and load data](#1)\n",
    "* [2. Text columns](#2)\n",
    "    - [2.1 clean text columns](#2.1)\n",
    "    - [2.2 combine text columns](#2.2)\n",
    "    - [2.3 drop redundant columns](#2.3)\n",
    "* [3. Save File](#3)\n",
    "* [4. End of Notebook 3](#4)"
   ]
  },
  {
   "cell_type": "markdown",
   "id": "9d8decd0",
   "metadata": {},
   "source": [
    "## 1. Libraries <a id=\"1\"></a>"
   ]
  },
  {
   "cell_type": "code",
   "execution_count": 1,
   "id": "e94f07c9",
   "metadata": {},
   "outputs": [],
   "source": [
    "import numpy as np\n",
    "import pandas as pd\n",
    "import matplotlib.pyplot as plt\n",
    "import seaborn as sns\n",
    "import joblib\n",
    "import re\n",
    "\n",
    "\n",
    "#from langdetect import detect"
   ]
  },
  {
   "cell_type": "code",
   "execution_count": 25,
   "id": "d7fb6d07",
   "metadata": {},
   "outputs": [],
   "source": [
    "# load data\n",
    "text_clean_df = joblib.load('data/fake_job_cleaned.pkl')"
   ]
  },
  {
   "cell_type": "code",
   "execution_count": 26,
   "id": "65ac23a2",
   "metadata": {},
   "outputs": [
    {
     "data": {
      "text/html": [
       "<div>\n",
       "<style scoped>\n",
       "    .dataframe tbody tr th:only-of-type {\n",
       "        vertical-align: middle;\n",
       "    }\n",
       "\n",
       "    .dataframe tbody tr th {\n",
       "        vertical-align: top;\n",
       "    }\n",
       "\n",
       "    .dataframe thead th {\n",
       "        text-align: right;\n",
       "    }\n",
       "</style>\n",
       "<table border=\"1\" class=\"dataframe\">\n",
       "  <thead>\n",
       "    <tr style=\"text-align: right;\">\n",
       "      <th></th>\n",
       "      <th>title</th>\n",
       "      <th>department</th>\n",
       "      <th>has_salary_range</th>\n",
       "      <th>company_profile</th>\n",
       "      <th>description</th>\n",
       "      <th>requirements</th>\n",
       "      <th>benefits</th>\n",
       "      <th>telecommuting</th>\n",
       "      <th>has_company_logo</th>\n",
       "      <th>has_questions</th>\n",
       "      <th>employment_type</th>\n",
       "      <th>required_experience</th>\n",
       "      <th>required_education</th>\n",
       "      <th>industry</th>\n",
       "      <th>function</th>\n",
       "      <th>fraudulent</th>\n",
       "      <th>country</th>\n",
       "      <th>province</th>\n",
       "      <th>city</th>\n",
       "    </tr>\n",
       "  </thead>\n",
       "  <tbody>\n",
       "    <tr>\n",
       "      <th>0</th>\n",
       "      <td>Marketing Intern</td>\n",
       "      <td>Marketing</td>\n",
       "      <td>0</td>\n",
       "      <td>We're Food52, and we've created a groundbreaki...</td>\n",
       "      <td>Food52, a fast-growing, James Beard Award-winn...</td>\n",
       "      <td>Experience with content management systems a m...</td>\n",
       "      <td>Blank</td>\n",
       "      <td>0</td>\n",
       "      <td>1</td>\n",
       "      <td>0</td>\n",
       "      <td>Other</td>\n",
       "      <td>Internship</td>\n",
       "      <td>Blank</td>\n",
       "      <td>Blank</td>\n",
       "      <td>Marketing</td>\n",
       "      <td>0</td>\n",
       "      <td>US</td>\n",
       "      <td>NY</td>\n",
       "      <td>New York</td>\n",
       "    </tr>\n",
       "    <tr>\n",
       "      <th>2</th>\n",
       "      <td>Commissioning Machinery Assistant (CMA)</td>\n",
       "      <td>Blank</td>\n",
       "      <td>0</td>\n",
       "      <td>Valor Services provides Workforce Solutions th...</td>\n",
       "      <td>Our client, located in Houston, is actively se...</td>\n",
       "      <td>Implement pre-commissioning and commissioning ...</td>\n",
       "      <td>Blank</td>\n",
       "      <td>0</td>\n",
       "      <td>1</td>\n",
       "      <td>0</td>\n",
       "      <td>Blank</td>\n",
       "      <td>Blank</td>\n",
       "      <td>Blank</td>\n",
       "      <td>Blank</td>\n",
       "      <td>Blank</td>\n",
       "      <td>0</td>\n",
       "      <td>US</td>\n",
       "      <td>IA</td>\n",
       "      <td>Wever</td>\n",
       "    </tr>\n",
       "    <tr>\n",
       "      <th>3</th>\n",
       "      <td>Account Executive - Washington DC</td>\n",
       "      <td>Sales</td>\n",
       "      <td>0</td>\n",
       "      <td>Our passion for improving quality of life thro...</td>\n",
       "      <td>THE COMPANY: ESRI – Environmental Systems Rese...</td>\n",
       "      <td>EDUCATION: Bachelor’s or Master’s in GIS, busi...</td>\n",
       "      <td>Our culture is anything but corporate—we have ...</td>\n",
       "      <td>0</td>\n",
       "      <td>1</td>\n",
       "      <td>0</td>\n",
       "      <td>Full-time</td>\n",
       "      <td>Mid-Senior level</td>\n",
       "      <td>Bachelor's Degree</td>\n",
       "      <td>Computer Software</td>\n",
       "      <td>Sales</td>\n",
       "      <td>0</td>\n",
       "      <td>US</td>\n",
       "      <td>DC</td>\n",
       "      <td>Washington</td>\n",
       "    </tr>\n",
       "    <tr>\n",
       "      <th>4</th>\n",
       "      <td>Bill Review Manager</td>\n",
       "      <td>Blank</td>\n",
       "      <td>0</td>\n",
       "      <td>SpotSource Solutions LLC is a Global Human Cap...</td>\n",
       "      <td>JOB TITLE: Itemization Review ManagerLOCATION:...</td>\n",
       "      <td>QUALIFICATIONS:RN license in the State of Texa...</td>\n",
       "      <td>Full Benefits Offered</td>\n",
       "      <td>0</td>\n",
       "      <td>1</td>\n",
       "      <td>1</td>\n",
       "      <td>Full-time</td>\n",
       "      <td>Mid-Senior level</td>\n",
       "      <td>Bachelor's Degree</td>\n",
       "      <td>Hospital &amp; Health Care</td>\n",
       "      <td>Health Care Provider</td>\n",
       "      <td>0</td>\n",
       "      <td>US</td>\n",
       "      <td>FL</td>\n",
       "      <td>Fort Worth</td>\n",
       "    </tr>\n",
       "    <tr>\n",
       "      <th>5</th>\n",
       "      <td>Accounting Clerk</td>\n",
       "      <td>Blank</td>\n",
       "      <td>0</td>\n",
       "      <td>Blank</td>\n",
       "      <td>Job OverviewApex is an environmental consultin...</td>\n",
       "      <td>Blank</td>\n",
       "      <td>Blank</td>\n",
       "      <td>0</td>\n",
       "      <td>0</td>\n",
       "      <td>0</td>\n",
       "      <td>Blank</td>\n",
       "      <td>Blank</td>\n",
       "      <td>Blank</td>\n",
       "      <td>Blank</td>\n",
       "      <td>Blank</td>\n",
       "      <td>0</td>\n",
       "      <td>US</td>\n",
       "      <td>MD</td>\n",
       "      <td>Blank</td>\n",
       "    </tr>\n",
       "  </tbody>\n",
       "</table>\n",
       "</div>"
      ],
      "text/plain": [
       "                                     title department  has_salary_range  \\\n",
       "0                         Marketing Intern  Marketing                 0   \n",
       "2  Commissioning Machinery Assistant (CMA)      Blank                 0   \n",
       "3        Account Executive - Washington DC      Sales                 0   \n",
       "4                      Bill Review Manager      Blank                 0   \n",
       "5                         Accounting Clerk      Blank                 0   \n",
       "\n",
       "                                     company_profile  \\\n",
       "0  We're Food52, and we've created a groundbreaki...   \n",
       "2  Valor Services provides Workforce Solutions th...   \n",
       "3  Our passion for improving quality of life thro...   \n",
       "4  SpotSource Solutions LLC is a Global Human Cap...   \n",
       "5                                              Blank   \n",
       "\n",
       "                                         description  \\\n",
       "0  Food52, a fast-growing, James Beard Award-winn...   \n",
       "2  Our client, located in Houston, is actively se...   \n",
       "3  THE COMPANY: ESRI – Environmental Systems Rese...   \n",
       "4  JOB TITLE: Itemization Review ManagerLOCATION:...   \n",
       "5  Job OverviewApex is an environmental consultin...   \n",
       "\n",
       "                                        requirements  \\\n",
       "0  Experience with content management systems a m...   \n",
       "2  Implement pre-commissioning and commissioning ...   \n",
       "3  EDUCATION: Bachelor’s or Master’s in GIS, busi...   \n",
       "4  QUALIFICATIONS:RN license in the State of Texa...   \n",
       "5                                              Blank   \n",
       "\n",
       "                                            benefits  telecommuting  \\\n",
       "0                                              Blank              0   \n",
       "2                                              Blank              0   \n",
       "3  Our culture is anything but corporate—we have ...              0   \n",
       "4                              Full Benefits Offered              0   \n",
       "5                                              Blank              0   \n",
       "\n",
       "   has_company_logo  has_questions employment_type required_experience  \\\n",
       "0                 1              0           Other          Internship   \n",
       "2                 1              0           Blank               Blank   \n",
       "3                 1              0       Full-time    Mid-Senior level   \n",
       "4                 1              1       Full-time    Mid-Senior level   \n",
       "5                 0              0           Blank               Blank   \n",
       "\n",
       "  required_education                industry              function  \\\n",
       "0              Blank                   Blank             Marketing   \n",
       "2              Blank                   Blank                 Blank   \n",
       "3  Bachelor's Degree       Computer Software                 Sales   \n",
       "4  Bachelor's Degree  Hospital & Health Care  Health Care Provider   \n",
       "5              Blank                   Blank                 Blank   \n",
       "\n",
       "   fraudulent country province        city  \n",
       "0           0      US       NY    New York  \n",
       "2           0      US       IA       Wever  \n",
       "3           0      US       DC  Washington  \n",
       "4           0      US       FL  Fort Worth  \n",
       "5           0      US       MD       Blank  "
      ]
     },
     "execution_count": 26,
     "metadata": {},
     "output_type": "execute_result"
    }
   ],
   "source": [
    "text_clean_df.head()"
   ]
  },
  {
   "cell_type": "markdown",
   "id": "05834959",
   "metadata": {},
   "source": [
    "# 2. Text columns<a id=\"2\"></a>\n",
    "<a href=\"#top\" class=\"btn btn-primary btn-sm\" role=\"button\" aria-pressed=\"true\" style=\"color:white\" data-toggle=\"popover\">Go to TOC</a>"
   ]
  },
  {
   "cell_type": "markdown",
   "id": "8213248c",
   "metadata": {},
   "source": [
    "**Goal**:\n",
    "- My business goal is to detect the tect data from the job posts, and finding out is this is a fraudulent. I kept all columns initially to showcase some cleaning steps and EDA that may be used in later analysis. However, I will be dropping some columns to focus on my corpus, they will be the metadata for extend study or model improvement.\n",
    "column: `text` will includes all the text column which I want to use in the model.\n",
    "----"
   ]
  },
  {
   "cell_type": "markdown",
   "id": "fd477d77",
   "metadata": {},
   "source": [
    "## 2.1 clean text columns<a id=\"2.1\"></a>"
   ]
  },
  {
   "cell_type": "markdown",
   "id": "90b2a03c",
   "metadata": {},
   "source": [
    "**plan**:\n",
    "- `text`:'country', 'title', 'department', 'company_profile', 'description', 'requirements','benefits',  'employment_type','industry', 'function','required_experience','required_education.\n",
    "- columns `city` and `provience` will not included as I want to keep the sparse matrixes samll, I will only keep the top layer of the location. I will drop column `city` and `provience`\n",
    "- **clean**:\n",
    "    - white space\n",
    "    - separate sentences \n",
    "    - remove URLs\n",
    "    - non-ascii"
   ]
  },
  {
   "cell_type": "code",
   "execution_count": 53,
   "id": "91d0f4dc",
   "metadata": {},
   "outputs": [],
   "source": [
    "text_columns=['country', 'title', 'department', 'company_profile', 'description', 'requirements','benefits', 'employment_type','industry', 'function','required_experience','required_education']"
   ]
  },
  {
   "cell_type": "code",
   "execution_count": 54,
   "id": "359f0abe",
   "metadata": {},
   "outputs": [],
   "source": [
    "for col in text_columns:\n",
    "    text_clean_df[col] = text_clean_df[col].apply(lambda x: re.sub(r'â€™', '', str(x))) # remove specific character used for apostrophe\n",
    "                                                              # replace with '' before ascii removal so contractions together\n",
    "                                                            # works for a.A as well \n",
    "    text_clean_df[col] = text_clean_df[col].apply(lambda x: ''.join([\" \" if ord(i) < 32 or ord(i) > 126 else i for i in str(x)])) # remove non-ascii\n",
    "    text_clean_df[col] = text_clean_df[col].apply(lambda x: re.sub('http[^\\s]+ ', ' ', str(x))) # remove URLs\n",
    "    text_clean_df[col] = text_clean_df[col].apply(lambda x: re.sub('url[^\\s]+ ', ' ', str(x)))# remove URLs\n",
    "    text_clean_df[col] = text_clean_df[col].apply(lambda x: re.sub('URL[^\\s]+ ', ' ', str(x)))# remove URLs\n",
    "    text_clean_df[col] = text_clean_df[col].apply(lambda x: re.sub(' +', ' ', x)) # remove double and triple spaces\n",
    "    text_clean_df[col] = text_clean_df[col].apply(lambda x: str(x).strip()) # remove white space trailing/leading"
   ]
  },
  {
   "cell_type": "code",
   "execution_count": 55,
   "id": "fbf1478e",
   "metadata": {},
   "outputs": [
    {
     "data": {
      "text/html": [
       "<div>\n",
       "<style scoped>\n",
       "    .dataframe tbody tr th:only-of-type {\n",
       "        vertical-align: middle;\n",
       "    }\n",
       "\n",
       "    .dataframe tbody tr th {\n",
       "        vertical-align: top;\n",
       "    }\n",
       "\n",
       "    .dataframe thead th {\n",
       "        text-align: right;\n",
       "    }\n",
       "</style>\n",
       "<table border=\"1\" class=\"dataframe\">\n",
       "  <thead>\n",
       "    <tr style=\"text-align: right;\">\n",
       "      <th></th>\n",
       "      <th>title</th>\n",
       "      <th>department</th>\n",
       "      <th>has_salary_range</th>\n",
       "      <th>company_profile</th>\n",
       "      <th>description</th>\n",
       "      <th>requirements</th>\n",
       "      <th>benefits</th>\n",
       "      <th>telecommuting</th>\n",
       "      <th>has_company_logo</th>\n",
       "      <th>has_questions</th>\n",
       "      <th>employment_type</th>\n",
       "      <th>required_experience</th>\n",
       "      <th>required_education</th>\n",
       "      <th>industry</th>\n",
       "      <th>function</th>\n",
       "      <th>fraudulent</th>\n",
       "      <th>country</th>\n",
       "      <th>province</th>\n",
       "      <th>city</th>\n",
       "    </tr>\n",
       "  </thead>\n",
       "  <tbody>\n",
       "    <tr>\n",
       "      <th>17634</th>\n",
       "      <td>URGENT Part Timers &amp; Full Timers Required.</td>\n",
       "      <td>Blank</td>\n",
       "      <td>0</td>\n",
       "      <td>Blank</td>\n",
       "      <td>URGENT Part Timers &amp;amp; Full Timers Required....</td>\n",
       "      <td>Blank</td>\n",
       "      <td>Blank</td>\n",
       "      <td>0</td>\n",
       "      <td>0</td>\n",
       "      <td>0</td>\n",
       "      <td>Part-time</td>\n",
       "      <td>Blank</td>\n",
       "      <td>Blank</td>\n",
       "      <td>Blank</td>\n",
       "      <td>Blank</td>\n",
       "      <td>1</td>\n",
       "      <td>AU</td>\n",
       "      <td>NSW</td>\n",
       "      <td>Sydney</td>\n",
       "    </tr>\n",
       "    <tr>\n",
       "      <th>10801</th>\n",
       "      <td>NYC Field Organizer</td>\n",
       "      <td>Marketing</td>\n",
       "      <td>0</td>\n",
       "      <td>Farmigo is a mission-driven startup with a sim...</td>\n",
       "      <td>Farmigo is hiring Field Organizers to join our...</td>\n",
       "      <td>ResponsibilitiesAs a Field Organizer, you will...</td>\n",
       "      <td>Full-time, salaried position. Full health bene...</td>\n",
       "      <td>0</td>\n",
       "      <td>1</td>\n",
       "      <td>1</td>\n",
       "      <td>Full-time</td>\n",
       "      <td>Blank</td>\n",
       "      <td>Bachelor's Degree</td>\n",
       "      <td>Blank</td>\n",
       "      <td>Marketing</td>\n",
       "      <td>0</td>\n",
       "      <td>US</td>\n",
       "      <td>NY</td>\n",
       "      <td>Brooklyn</td>\n",
       "    </tr>\n",
       "    <tr>\n",
       "      <th>3813</th>\n",
       "      <td>The Untraditional Community Manager</td>\n",
       "      <td>Blank</td>\n",
       "      <td>0</td>\n",
       "      <td>We are the creators of Scypho - a revolutionar...</td>\n",
       "      <td>Join the Evolution and take on the role as com...</td>\n",
       "      <td>Proficient in HTML/CSS/JavaScriptB.S. universi...</td>\n",
       "      <td>Be part of an awesome team and one of the hott...</td>\n",
       "      <td>0</td>\n",
       "      <td>1</td>\n",
       "      <td>1</td>\n",
       "      <td>Full-time</td>\n",
       "      <td>Not Applicable</td>\n",
       "      <td>Bachelor's Degree</td>\n",
       "      <td>Consumer Electronics</td>\n",
       "      <td>Marketing</td>\n",
       "      <td>0</td>\n",
       "      <td>SE</td>\n",
       "      <td>Blank</td>\n",
       "      <td>Stockholm</td>\n",
       "    </tr>\n",
       "    <tr>\n",
       "      <th>3594</th>\n",
       "      <td>Client Services Co-ordinator</td>\n",
       "      <td>Client Services</td>\n",
       "      <td>1</td>\n",
       "      <td>Indigo Clothing produces customised clothing f...</td>\n",
       "      <td>The Client Services Co-ordinator will support ...</td>\n",
       "      <td>Excellent Telephone MannerAbility to deal with...</td>\n",
       "      <td>Base salary dependent on experience (between 1...</td>\n",
       "      <td>0</td>\n",
       "      <td>1</td>\n",
       "      <td>1</td>\n",
       "      <td>Contract</td>\n",
       "      <td>Entry level</td>\n",
       "      <td>Bachelor's Degree</td>\n",
       "      <td>Printing</td>\n",
       "      <td>Project Management</td>\n",
       "      <td>0</td>\n",
       "      <td>GB</td>\n",
       "      <td>LND</td>\n",
       "      <td>Leyton</td>\n",
       "    </tr>\n",
       "    <tr>\n",
       "      <th>6477</th>\n",
       "      <td>Senior Java Engineer</td>\n",
       "      <td>Blank</td>\n",
       "      <td>0</td>\n",
       "      <td>We re always looking for highly motivated foun...</td>\n",
       "      <td>The Mobile Majority is a rapidly growing ad te...</td>\n",
       "      <td>We're looking for an engineer who has knowledg...</td>\n",
       "      <td>It s no secret that we work hard, but we also ...</td>\n",
       "      <td>0</td>\n",
       "      <td>1</td>\n",
       "      <td>1</td>\n",
       "      <td>Full-time</td>\n",
       "      <td>Mid-Senior level</td>\n",
       "      <td>Blank</td>\n",
       "      <td>Internet</td>\n",
       "      <td>Engineering</td>\n",
       "      <td>0</td>\n",
       "      <td>US</td>\n",
       "      <td>CA</td>\n",
       "      <td>Santa Monica</td>\n",
       "    </tr>\n",
       "  </tbody>\n",
       "</table>\n",
       "</div>"
      ],
      "text/plain": [
       "                                            title       department  \\\n",
       "17634  URGENT Part Timers & Full Timers Required.            Blank   \n",
       "10801                         NYC Field Organizer        Marketing   \n",
       "3813          The Untraditional Community Manager            Blank   \n",
       "3594                 Client Services Co-ordinator  Client Services   \n",
       "6477                         Senior Java Engineer            Blank   \n",
       "\n",
       "       has_salary_range                                    company_profile  \\\n",
       "17634                 0                                              Blank   \n",
       "10801                 0  Farmigo is a mission-driven startup with a sim...   \n",
       "3813                  0  We are the creators of Scypho - a revolutionar...   \n",
       "3594                  1  Indigo Clothing produces customised clothing f...   \n",
       "6477                  0  We re always looking for highly motivated foun...   \n",
       "\n",
       "                                             description  \\\n",
       "17634  URGENT Part Timers &amp; Full Timers Required....   \n",
       "10801  Farmigo is hiring Field Organizers to join our...   \n",
       "3813   Join the Evolution and take on the role as com...   \n",
       "3594   The Client Services Co-ordinator will support ...   \n",
       "6477   The Mobile Majority is a rapidly growing ad te...   \n",
       "\n",
       "                                            requirements  \\\n",
       "17634                                              Blank   \n",
       "10801  ResponsibilitiesAs a Field Organizer, you will...   \n",
       "3813   Proficient in HTML/CSS/JavaScriptB.S. universi...   \n",
       "3594   Excellent Telephone MannerAbility to deal with...   \n",
       "6477   We're looking for an engineer who has knowledg...   \n",
       "\n",
       "                                                benefits  telecommuting  \\\n",
       "17634                                              Blank              0   \n",
       "10801  Full-time, salaried position. Full health bene...              0   \n",
       "3813   Be part of an awesome team and one of the hott...              0   \n",
       "3594   Base salary dependent on experience (between 1...              0   \n",
       "6477   It s no secret that we work hard, but we also ...              0   \n",
       "\n",
       "       has_company_logo  has_questions employment_type required_experience  \\\n",
       "17634                 0              0       Part-time               Blank   \n",
       "10801                 1              1       Full-time               Blank   \n",
       "3813                  1              1       Full-time      Not Applicable   \n",
       "3594                  1              1        Contract         Entry level   \n",
       "6477                  1              1       Full-time    Mid-Senior level   \n",
       "\n",
       "      required_education              industry            function  \\\n",
       "17634              Blank                 Blank               Blank   \n",
       "10801  Bachelor's Degree                 Blank           Marketing   \n",
       "3813   Bachelor's Degree  Consumer Electronics           Marketing   \n",
       "3594   Bachelor's Degree              Printing  Project Management   \n",
       "6477               Blank              Internet         Engineering   \n",
       "\n",
       "       fraudulent country province          city  \n",
       "17634           1      AU      NSW        Sydney  \n",
       "10801           0      US       NY      Brooklyn  \n",
       "3813            0      SE    Blank     Stockholm  \n",
       "3594            0      GB      LND        Leyton  \n",
       "6477            0      US       CA  Santa Monica  "
      ]
     },
     "execution_count": 55,
     "metadata": {},
     "output_type": "execute_result"
    }
   ],
   "source": [
    "text_clean_df.sample(5) # Check cleaning results"
   ]
  },
  {
   "cell_type": "markdown",
   "id": "85bbb4f3",
   "metadata": {},
   "source": [
    "## 2.2 combine text columns<a id=\"2.2\"></a>\n",
    "<a href=\"#top\" class=\"btn btn-primary btn-sm\" role=\"button\" aria-pressed=\"true\" style=\"color:white\" data-toggle=\"popover\">Go to TOC</a>"
   ]
  },
  {
   "cell_type": "markdown",
   "id": "336e5df8",
   "metadata": {},
   "source": [
    "**plan**:\n",
    "- combine columns: `country`, `title`, `department`, `company_profile`, `description`, `requirements`,`benefits`, `employment_type`,`industry`, `function`."
   ]
  },
  {
   "cell_type": "code",
   "execution_count": 60,
   "id": "54382d53",
   "metadata": {},
   "outputs": [],
   "source": [
    "# combine the text columns\n",
    "text_clean_df['text']=text_clean_df['title']+' '+text_clean_df['department']+' '+text_clean_df['company_profile']+' '+text_clean_df['description']+' '+\\\n",
    "text_clean_df['requirements']+' '+text_clean_df['benefits']+' '+text_clean_df['employment_type']+' '+text_clean_df['required_experience']+' '+text_clean_df['required_education']+\\\n",
    "text_clean_df['industry']+' '+text_clean_df['function']+' '+text_clean_df['country']"
   ]
  },
  {
   "cell_type": "code",
   "execution_count": 61,
   "id": "fa1cc11f",
   "metadata": {},
   "outputs": [
    {
     "data": {
      "text/plain": [
       "\"Marketing Intern Marketing We're Food52, and we've created a groundbreaking and award-winning cooking site. We support, connect, and celebrate home cooks, and give them everything they need in one place.We have a top editorial, business, and engineering team. We're focused on using technology to find new and better ways to connect people around their specific food interests, and to offer them superb, highly curated information about food and cooking. We attract the most talented home cooks and contributors in the country; we also publish well-known professionals like Mario Batali, Gwyneth Paltrow, and Danny Meyer. And we have partnerships with Whole Foods Market and Random House.Food52 has been named the best food website by the James Beard Foundation and IACP, and has been featured in the New York Times, NPR, Pando Daily, TechCrunch, and on the Today Show.We're located in Chelsea, in New York City. Food52, a fast-growing, James Beard Award-winning online food community and crowd-sourced and curated recipe hub, is currently interviewing full- and part-time unpaid interns to work in a small team of editors, executives, and developers in its New York City headquarters.Reproducing and/or repackaging existing Food52 content for a number of partner sites, such as Huffington Post, Yahoo, Buzzfeed, and more in their various content management systemsResearching blogs and websites for the Provisions by Food52 Affiliate ProgramAssisting in day-to-day affiliate program support, such as screening affiliates and assisting in any affiliate inquiriesSupporting with PR &amp; Events when neededHelping with office administrative work, such as filing, mailing, and preparing for meetingsWorking with developers to document bugs and suggest improvements to the siteSupporting the marketing and executive staff Experience with content management systems a major plus (any blogging counts!)Familiar with the Food52 editorial voice and aestheticLoves food, appreciates the importance of home cooking and cooking with the seasonsMeticulous editor, perfectionist, obsessive attention to detail, maddened by typos and broken links, delighted by finding and fixing themCheerful under pressureExcellent communication skillsA+ multi-tasker and juggler of responsibilities big and smallInterested in and engaged with social media like Twitter, Facebook, and PinterestLoves problem-solving and collaborating to drive Food52 forwardThinks big picture but pitches in on the nitty gritty of running a small company (dishes, shopping, administrative support)Comfortable with the realities of working for a startup: being on call on evenings and weekends, and working long hours Blank Other Internship BlankBlank Marketing US\""
      ]
     },
     "execution_count": 61,
     "metadata": {},
     "output_type": "execute_result"
    }
   ],
   "source": [
    "# check the text data sample\n",
    "text_clean_df.head()['text'][0]"
   ]
  },
  {
   "cell_type": "markdown",
   "id": "d2c816e4",
   "metadata": {},
   "source": [
    "## 2.3 drop redundant columns<a id=\"2.3\"></a>\n",
    "<a href=\"#top\" class=\"btn btn-primary btn-sm\" role=\"button\" aria-pressed=\"true\" style=\"color:white\" data-toggle=\"popover\">Go to TOC</a>"
   ]
  },
  {
   "cell_type": "code",
   "execution_count": 62,
   "id": "52f1094e",
   "metadata": {},
   "outputs": [
    {
     "name": "stdout",
     "output_type": "stream",
     "text": [
      "columns need to be dropped: ['country', 'title', 'department', 'company_profile', 'description', 'requirements', 'benefits', 'employment_type', 'industry', 'function', 'required_experience', 'required_education']\n"
     ]
    }
   ],
   "source": [
    "print(f\"columns need to be dropped: {text_columns}\")"
   ]
  },
  {
   "cell_type": "code",
   "execution_count": 92,
   "id": "b1038874",
   "metadata": {},
   "outputs": [],
   "source": [
    "df_model_full=text_clean_df.copy()\n",
    "df_model_full.drop(text_columns,inplace=True,axis=1)\n",
    "df_model_full.drop(['city','province'],inplace=True,axis=1)\n",
    "df_model_full.reset_index(drop=True,inplace=True)\n"
   ]
  },
  {
   "cell_type": "code",
   "execution_count": 93,
   "id": "aae923ef",
   "metadata": {},
   "outputs": [
    {
     "data": {
      "text/html": [
       "<div>\n",
       "<style scoped>\n",
       "    .dataframe tbody tr th:only-of-type {\n",
       "        vertical-align: middle;\n",
       "    }\n",
       "\n",
       "    .dataframe tbody tr th {\n",
       "        vertical-align: top;\n",
       "    }\n",
       "\n",
       "    .dataframe thead th {\n",
       "        text-align: right;\n",
       "    }\n",
       "</style>\n",
       "<table border=\"1\" class=\"dataframe\">\n",
       "  <thead>\n",
       "    <tr style=\"text-align: right;\">\n",
       "      <th></th>\n",
       "      <th>has_salary_range</th>\n",
       "      <th>telecommuting</th>\n",
       "      <th>has_company_logo</th>\n",
       "      <th>has_questions</th>\n",
       "      <th>fraudulent</th>\n",
       "      <th>text</th>\n",
       "    </tr>\n",
       "  </thead>\n",
       "  <tbody>\n",
       "    <tr>\n",
       "      <th>0</th>\n",
       "      <td>0</td>\n",
       "      <td>0</td>\n",
       "      <td>1</td>\n",
       "      <td>0</td>\n",
       "      <td>0</td>\n",
       "      <td>Marketing Intern Marketing We're Food52, and w...</td>\n",
       "    </tr>\n",
       "    <tr>\n",
       "      <th>1</th>\n",
       "      <td>0</td>\n",
       "      <td>0</td>\n",
       "      <td>1</td>\n",
       "      <td>0</td>\n",
       "      <td>0</td>\n",
       "      <td>Commissioning Machinery Assistant (CMA) Blank ...</td>\n",
       "    </tr>\n",
       "    <tr>\n",
       "      <th>2</th>\n",
       "      <td>0</td>\n",
       "      <td>0</td>\n",
       "      <td>1</td>\n",
       "      <td>0</td>\n",
       "      <td>0</td>\n",
       "      <td>Account Executive - Washington DC Sales Our pa...</td>\n",
       "    </tr>\n",
       "    <tr>\n",
       "      <th>3</th>\n",
       "      <td>0</td>\n",
       "      <td>0</td>\n",
       "      <td>1</td>\n",
       "      <td>1</td>\n",
       "      <td>0</td>\n",
       "      <td>Bill Review Manager Blank SpotSource Solutions...</td>\n",
       "    </tr>\n",
       "    <tr>\n",
       "      <th>4</th>\n",
       "      <td>0</td>\n",
       "      <td>0</td>\n",
       "      <td>0</td>\n",
       "      <td>0</td>\n",
       "      <td>0</td>\n",
       "      <td>Accounting Clerk Blank Blank Job OverviewApex ...</td>\n",
       "    </tr>\n",
       "  </tbody>\n",
       "</table>\n",
       "</div>"
      ],
      "text/plain": [
       "   has_salary_range  telecommuting  has_company_logo  has_questions  \\\n",
       "0                 0              0                 1              0   \n",
       "1                 0              0                 1              0   \n",
       "2                 0              0                 1              0   \n",
       "3                 0              0                 1              1   \n",
       "4                 0              0                 0              0   \n",
       "\n",
       "   fraudulent                                               text  \n",
       "0           0  Marketing Intern Marketing We're Food52, and w...  \n",
       "1           0  Commissioning Machinery Assistant (CMA) Blank ...  \n",
       "2           0  Account Executive - Washington DC Sales Our pa...  \n",
       "3           0  Bill Review Manager Blank SpotSource Solutions...  \n",
       "4           0  Accounting Clerk Blank Blank Job OverviewApex ...  "
      ]
     },
     "execution_count": 93,
     "metadata": {},
     "output_type": "execute_result"
    }
   ],
   "source": [
    "df_model_full.head()"
   ]
  },
  {
   "cell_type": "code",
   "execution_count": 3,
   "id": "0bb7c064",
   "metadata": {},
   "outputs": [
    {
     "data": {
      "text/plain": [
       "(17879, 6)"
      ]
     },
     "execution_count": 3,
     "metadata": {},
     "output_type": "execute_result"
    }
   ],
   "source": [
    "df_model_full.shape"
   ]
  },
  {
   "cell_type": "markdown",
   "id": "e13a2f81",
   "metadata": {},
   "source": [
    "- The shape of my final dataset is (17879, 6)"
   ]
  },
  {
   "cell_type": "markdown",
   "id": "9a4661da",
   "metadata": {},
   "source": [
    "# 3.Save File<a id=\"3\"></a>\n",
    "<a href=\"#top\" class=\"btn btn-primary btn-sm\" role=\"button\" aria-pressed=\"true\" style=\"color:white\" data-toggle=\"popover\">Go to TOC</a>"
   ]
  },
  {
   "cell_type": "code",
   "execution_count": 94,
   "id": "79912ed1",
   "metadata": {},
   "outputs": [
    {
     "data": {
      "text/plain": [
       "['data/df_model_full_df.pkl']"
      ]
     },
     "execution_count": 94,
     "metadata": {},
     "output_type": "execute_result"
    }
   ],
   "source": [
    "# Save df_model_full df as pickle file\n",
    "joblib.dump(df_model_full, 'data/df_model_full_df.pkl')"
   ]
  },
  {
   "cell_type": "markdown",
   "id": "3168ec80",
   "metadata": {},
   "source": [
    "-----"
   ]
  },
  {
   "cell_type": "markdown",
   "id": "6b8ff77d",
   "metadata": {},
   "source": [
    "**Approach 1:**\n",
    "- Focus on `text` only, keep the other columns as the matadata."
   ]
  },
  {
   "cell_type": "code",
   "execution_count": 97,
   "id": "ce6532a5",
   "metadata": {},
   "outputs": [],
   "source": [
    "text_df=df_model_full.copy()\n",
    "text_df.drop(['has_salary_range','telecommuting','has_company_logo','has_questions'],axis=1,inplace=True)\n",
    "text_df.reset_index(drop=True,inplace=True)"
   ]
  },
  {
   "cell_type": "code",
   "execution_count": 98,
   "id": "831ddb58",
   "metadata": {},
   "outputs": [
    {
     "data": {
      "text/html": [
       "<div>\n",
       "<style scoped>\n",
       "    .dataframe tbody tr th:only-of-type {\n",
       "        vertical-align: middle;\n",
       "    }\n",
       "\n",
       "    .dataframe tbody tr th {\n",
       "        vertical-align: top;\n",
       "    }\n",
       "\n",
       "    .dataframe thead th {\n",
       "        text-align: right;\n",
       "    }\n",
       "</style>\n",
       "<table border=\"1\" class=\"dataframe\">\n",
       "  <thead>\n",
       "    <tr style=\"text-align: right;\">\n",
       "      <th></th>\n",
       "      <th>fraudulent</th>\n",
       "      <th>text</th>\n",
       "    </tr>\n",
       "  </thead>\n",
       "  <tbody>\n",
       "    <tr>\n",
       "      <th>0</th>\n",
       "      <td>0</td>\n",
       "      <td>Marketing Intern Marketing We're Food52, and w...</td>\n",
       "    </tr>\n",
       "    <tr>\n",
       "      <th>1</th>\n",
       "      <td>0</td>\n",
       "      <td>Commissioning Machinery Assistant (CMA) Blank ...</td>\n",
       "    </tr>\n",
       "    <tr>\n",
       "      <th>2</th>\n",
       "      <td>0</td>\n",
       "      <td>Account Executive - Washington DC Sales Our pa...</td>\n",
       "    </tr>\n",
       "    <tr>\n",
       "      <th>3</th>\n",
       "      <td>0</td>\n",
       "      <td>Bill Review Manager Blank SpotSource Solutions...</td>\n",
       "    </tr>\n",
       "    <tr>\n",
       "      <th>4</th>\n",
       "      <td>0</td>\n",
       "      <td>Accounting Clerk Blank Blank Job OverviewApex ...</td>\n",
       "    </tr>\n",
       "  </tbody>\n",
       "</table>\n",
       "</div>"
      ],
      "text/plain": [
       "   fraudulent                                               text\n",
       "0           0  Marketing Intern Marketing We're Food52, and w...\n",
       "1           0  Commissioning Machinery Assistant (CMA) Blank ...\n",
       "2           0  Account Executive - Washington DC Sales Our pa...\n",
       "3           0  Bill Review Manager Blank SpotSource Solutions...\n",
       "4           0  Accounting Clerk Blank Blank Job OverviewApex ..."
      ]
     },
     "execution_count": 98,
     "metadata": {},
     "output_type": "execute_result"
    }
   ],
   "source": [
    "text_df.head()"
   ]
  },
  {
   "cell_type": "code",
   "execution_count": 99,
   "id": "20205396",
   "metadata": {},
   "outputs": [],
   "source": [
    "# Save df_model_full df as pickle file\n",
    "joblib.dump(text_df, 'data/df_text_model_df.pkl')"
   ]
  },
  {
   "cell_type": "markdown",
   "id": "1d9a3de8",
   "metadata": {},
   "source": [
    "---"
   ]
  },
  {
   "cell_type": "markdown",
   "id": "c78ffb64",
   "metadata": {},
   "source": [
    "# 4. End of Notebook 3 <a id=\"4\"></a>\n",
    "<a href=\"#top\" class=\"btn btn-primary btn-sm\" role=\"button\" aria-pressed=\"true\" style=\"color:white\" data-toggle=\"popover\">Go to TOC</a>"
   ]
  },
  {
   "cell_type": "markdown",
   "id": "5d5696a1",
   "metadata": {},
   "source": [
    "This is the end of Notebook 3.\n",
    "In the next notebook, I will be performing some Modeling. See Notebook 4-Modeling."
   ]
  },
  {
   "cell_type": "code",
   "execution_count": null,
   "id": "f3d44494",
   "metadata": {},
   "outputs": [],
   "source": []
  }
 ],
 "metadata": {
  "kernelspec": {
   "display_name": "Python 3 (ipykernel)",
   "language": "python",
   "name": "python3"
  },
  "language_info": {
   "codemirror_mode": {
    "name": "ipython",
    "version": 3
   },
   "file_extension": ".py",
   "mimetype": "text/x-python",
   "name": "python",
   "nbconvert_exporter": "python",
   "pygments_lexer": "ipython3",
   "version": "3.9.15"
  }
 },
 "nbformat": 4,
 "nbformat_minor": 5
}
