{
 "cells": [
  {
   "cell_type": "markdown",
   "id": "52044c1f",
   "metadata": {},
   "source": [
    "# Fake job Detection: Investigating Fake job posts to avoid the job scam"
   ]
  },
  {
   "cell_type": "markdown",
   "id": "44bd6a68",
   "metadata": {},
   "source": [
    "# Notebook  1: Data loading and Cleaning\n",
    "**First setp:Data collecting loading,cleaning and getting some first taste of the dataset.**\n",
    "\n",
    "\n",
    "\n",
    "**By: Polly Pang**\n",
    "\n",
    "\n",
    "In this portion of the notebook, I will define the purpose of this project, and the reasons why I am doing this analysis. Then I will start from the fundamental steps to load and clean the dataset for further EDA in the next portion.\n",
    "\n",
    "---"
   ]
  },
  {
   "cell_type": "markdown",
   "id": "a216a342",
   "metadata": {},
   "source": [
    "<a id=\"top\"></a>\n",
    "<div class=\"list-group\" id=\"list-tab\" role=\"tablist\">\n",
    "<h3 class=\"list-group-item list-group-item-action active\" data-toggle=\"list\" role=\"tab\" aria-controls=\"home\"> Contents</h3>\n",
    "\n",
    "* [1. Introduction](#1)\n",
    "    - [1.1 1.1 Problem Definition](#1.1)\n",
    "    - [1.2 Data Collection](#1.2)\n",
    "* [2. Libraries](#2)\n",
    "* [3. Loading the Data](#3)\n",
    "* [4. Data Overview](#4)\n",
    "    - [4.1 An Overview from the Data](#4.1)\n",
    "    - [4.2 Column Description](#4.2)\n",
    "    - [4.3 Check duplicted](#4.3)\n",
    "    - [4.4 Missing Values](#4.4)    \n",
    "* [5. Cleaning](#5)\n",
    "    - [5.1 drop job_id](#5.1)\n",
    "    - [5.2 Split the undity column](#5.2)\n",
    "    - [5.3 Fill the Nan](#5.3)\n",
    "* [6. Save Data](#6)\n",
    "* [7. End of Notebook 1](#7)"
   ]
  },
  {
   "cell_type": "markdown",
   "id": "08243104",
   "metadata": {},
   "source": [
    "# 1. Introduction  <a id=\"1\"></a>"
   ]
  },
  {
   "cell_type": "markdown",
   "id": "1e29f145",
   "metadata": {},
   "source": [
    "## 1.1 Problem Definition"
   ]
  },
  {
   "cell_type": "markdown",
   "id": "0ddbf80b",
   "metadata": {},
   "source": [
    "Fake job posts and the number of employment scams are increasing. According to the Canadian Anti-Fraud Centre, there were 2,100 job-related scam complaints across the country by the end of November 2020 compared to 1,764 in all of 2019.\n",
    "\n",
    "During the pandemic, current market situation and economic downturn dominated a huge reduction in job availability. According to BBB (Better Business Bureau) job scams have been around for years, that in 2019 there were an estimated 14 million victims resulting in $2 billion in direct losses related to job scams via different online platform (Linkedin, indeed, Monster etc.) and that the problem worsened in 2020. And job scams were also in the top five of BBB's list of riskiest scams across Canada.\n",
    "\n",
    "My aim for this project is to, maximum the possibility find fake jobs from online job posts, and help job seekers and employers avid employment scams. Although this a tricky question, we can still address this with Natural Language Processing (NLP) and Machine Learning approaches."
   ]
  },
  {
   "cell_type": "markdown",
   "id": "397a661a",
   "metadata": {},
   "source": [
    "## 1.2 Data Data Collection"
   ]
  },
  {
   "cell_type": "markdown",
   "id": "449c5dda",
   "metadata": {},
   "source": [
    "The dataset used in the project is provided by Kaggle and published by a user whose id is SHIVAM BANSAL. This dataset was first collected by the University of the Aegean, Laboratory of Information & Communication Systems Security, which contains 18K job descriptions, both textual information and meta-information about the jobs."
   ]
  },
  {
   "cell_type": "markdown",
   "id": "46c230cd",
   "metadata": {},
   "source": [
    "---"
   ]
  },
  {
   "cell_type": "markdown",
   "id": "89ea5cc8",
   "metadata": {},
   "source": [
    "# 2. Libraries <a id=\"2\"></a>\n",
    "<a href=\"#top\" class=\"btn btn-primary btn-sm\" role=\"button\" aria-pressed=\"true\" style=\"color:white\" data-toggle=\"popover\">Go to TOC</a>"
   ]
  },
  {
   "cell_type": "code",
   "execution_count": 65,
   "id": "359f328f",
   "metadata": {},
   "outputs": [],
   "source": [
    "# import libraries\n",
    "import numpy as np\n",
    "import pandas as pd\n",
    "import missingno as msno\n",
    "import matplotlib.pyplot as plt\n",
    "import joblib\n"
   ]
  },
  {
   "cell_type": "markdown",
   "id": "c78d0c2e",
   "metadata": {},
   "source": [
    "# 3. Loading data  <a id=\"3\"></a>"
   ]
  },
  {
   "cell_type": "code",
   "execution_count": 66,
   "id": "e9953863",
   "metadata": {},
   "outputs": [],
   "source": [
    "# loading the data\n",
    "df_fake_job=pd.read_csv(\"data/fake_job_postings.csv\")"
   ]
  },
  {
   "cell_type": "markdown",
   "id": "b97427c6",
   "metadata": {},
   "source": [
    "---"
   ]
  },
  {
   "cell_type": "markdown",
   "id": "cbe46d9f",
   "metadata": {},
   "source": [
    "# 4. Data Overview <a id=\"4.1\"></a>\n",
    "<a href=\"#top\" class=\"btn btn-primary btn-sm\" role=\"button\" aria-pressed=\"true\" style=\"color:white\" data-toggle=\"popover\">Go to TOC</a>"
   ]
  },
  {
   "cell_type": "code",
   "execution_count": 67,
   "id": "0e75379e",
   "metadata": {},
   "outputs": [
    {
     "data": {
      "text/html": [
       "<div>\n",
       "<style scoped>\n",
       "    .dataframe tbody tr th:only-of-type {\n",
       "        vertical-align: middle;\n",
       "    }\n",
       "\n",
       "    .dataframe tbody tr th {\n",
       "        vertical-align: top;\n",
       "    }\n",
       "\n",
       "    .dataframe thead th {\n",
       "        text-align: right;\n",
       "    }\n",
       "</style>\n",
       "<table border=\"1\" class=\"dataframe\">\n",
       "  <thead>\n",
       "    <tr style=\"text-align: right;\">\n",
       "      <th></th>\n",
       "      <th>job_id</th>\n",
       "      <th>title</th>\n",
       "      <th>location</th>\n",
       "      <th>department</th>\n",
       "      <th>salary_range</th>\n",
       "      <th>company_profile</th>\n",
       "      <th>description</th>\n",
       "      <th>requirements</th>\n",
       "      <th>benefits</th>\n",
       "      <th>telecommuting</th>\n",
       "      <th>has_company_logo</th>\n",
       "      <th>has_questions</th>\n",
       "      <th>employment_type</th>\n",
       "      <th>required_experience</th>\n",
       "      <th>required_education</th>\n",
       "      <th>industry</th>\n",
       "      <th>function</th>\n",
       "      <th>fraudulent</th>\n",
       "    </tr>\n",
       "  </thead>\n",
       "  <tbody>\n",
       "    <tr>\n",
       "      <th>0</th>\n",
       "      <td>1</td>\n",
       "      <td>Marketing Intern</td>\n",
       "      <td>US, NY, New York</td>\n",
       "      <td>Marketing</td>\n",
       "      <td>NaN</td>\n",
       "      <td>We're Food52, and we've created a groundbreaki...</td>\n",
       "      <td>Food52, a fast-growing, James Beard Award-winn...</td>\n",
       "      <td>Experience with content management systems a m...</td>\n",
       "      <td>NaN</td>\n",
       "      <td>0</td>\n",
       "      <td>1</td>\n",
       "      <td>0</td>\n",
       "      <td>Other</td>\n",
       "      <td>Internship</td>\n",
       "      <td>NaN</td>\n",
       "      <td>NaN</td>\n",
       "      <td>Marketing</td>\n",
       "      <td>0</td>\n",
       "    </tr>\n",
       "    <tr>\n",
       "      <th>1</th>\n",
       "      <td>2</td>\n",
       "      <td>Customer Service - Cloud Video Production</td>\n",
       "      <td>NZ, , Auckland</td>\n",
       "      <td>Success</td>\n",
       "      <td>NaN</td>\n",
       "      <td>90 Seconds, the worlds Cloud Video Production ...</td>\n",
       "      <td>Organised - Focused - Vibrant - Awesome!Do you...</td>\n",
       "      <td>What we expect from you:Your key responsibilit...</td>\n",
       "      <td>What you will get from usThrough being part of...</td>\n",
       "      <td>0</td>\n",
       "      <td>1</td>\n",
       "      <td>0</td>\n",
       "      <td>Full-time</td>\n",
       "      <td>Not Applicable</td>\n",
       "      <td>NaN</td>\n",
       "      <td>Marketing and Advertising</td>\n",
       "      <td>Customer Service</td>\n",
       "      <td>0</td>\n",
       "    </tr>\n",
       "    <tr>\n",
       "      <th>2</th>\n",
       "      <td>3</td>\n",
       "      <td>Commissioning Machinery Assistant (CMA)</td>\n",
       "      <td>US, IA, Wever</td>\n",
       "      <td>NaN</td>\n",
       "      <td>NaN</td>\n",
       "      <td>Valor Services provides Workforce Solutions th...</td>\n",
       "      <td>Our client, located in Houston, is actively se...</td>\n",
       "      <td>Implement pre-commissioning and commissioning ...</td>\n",
       "      <td>NaN</td>\n",
       "      <td>0</td>\n",
       "      <td>1</td>\n",
       "      <td>0</td>\n",
       "      <td>NaN</td>\n",
       "      <td>NaN</td>\n",
       "      <td>NaN</td>\n",
       "      <td>NaN</td>\n",
       "      <td>NaN</td>\n",
       "      <td>0</td>\n",
       "    </tr>\n",
       "    <tr>\n",
       "      <th>3</th>\n",
       "      <td>4</td>\n",
       "      <td>Account Executive - Washington DC</td>\n",
       "      <td>US, DC, Washington</td>\n",
       "      <td>Sales</td>\n",
       "      <td>NaN</td>\n",
       "      <td>Our passion for improving quality of life thro...</td>\n",
       "      <td>THE COMPANY: ESRI – Environmental Systems Rese...</td>\n",
       "      <td>EDUCATION: Bachelor’s or Master’s in GIS, busi...</td>\n",
       "      <td>Our culture is anything but corporate—we have ...</td>\n",
       "      <td>0</td>\n",
       "      <td>1</td>\n",
       "      <td>0</td>\n",
       "      <td>Full-time</td>\n",
       "      <td>Mid-Senior level</td>\n",
       "      <td>Bachelor's Degree</td>\n",
       "      <td>Computer Software</td>\n",
       "      <td>Sales</td>\n",
       "      <td>0</td>\n",
       "    </tr>\n",
       "    <tr>\n",
       "      <th>4</th>\n",
       "      <td>5</td>\n",
       "      <td>Bill Review Manager</td>\n",
       "      <td>US, FL, Fort Worth</td>\n",
       "      <td>NaN</td>\n",
       "      <td>NaN</td>\n",
       "      <td>SpotSource Solutions LLC is a Global Human Cap...</td>\n",
       "      <td>JOB TITLE: Itemization Review ManagerLOCATION:...</td>\n",
       "      <td>QUALIFICATIONS:RN license in the State of Texa...</td>\n",
       "      <td>Full Benefits Offered</td>\n",
       "      <td>0</td>\n",
       "      <td>1</td>\n",
       "      <td>1</td>\n",
       "      <td>Full-time</td>\n",
       "      <td>Mid-Senior level</td>\n",
       "      <td>Bachelor's Degree</td>\n",
       "      <td>Hospital &amp; Health Care</td>\n",
       "      <td>Health Care Provider</td>\n",
       "      <td>0</td>\n",
       "    </tr>\n",
       "  </tbody>\n",
       "</table>\n",
       "</div>"
      ],
      "text/plain": [
       "   job_id                                      title            location  \\\n",
       "0       1                           Marketing Intern    US, NY, New York   \n",
       "1       2  Customer Service - Cloud Video Production      NZ, , Auckland   \n",
       "2       3    Commissioning Machinery Assistant (CMA)       US, IA, Wever   \n",
       "3       4          Account Executive - Washington DC  US, DC, Washington   \n",
       "4       5                        Bill Review Manager  US, FL, Fort Worth   \n",
       "\n",
       "  department salary_range                                    company_profile  \\\n",
       "0  Marketing          NaN  We're Food52, and we've created a groundbreaki...   \n",
       "1    Success          NaN  90 Seconds, the worlds Cloud Video Production ...   \n",
       "2        NaN          NaN  Valor Services provides Workforce Solutions th...   \n",
       "3      Sales          NaN  Our passion for improving quality of life thro...   \n",
       "4        NaN          NaN  SpotSource Solutions LLC is a Global Human Cap...   \n",
       "\n",
       "                                         description  \\\n",
       "0  Food52, a fast-growing, James Beard Award-winn...   \n",
       "1  Organised - Focused - Vibrant - Awesome!Do you...   \n",
       "2  Our client, located in Houston, is actively se...   \n",
       "3  THE COMPANY: ESRI – Environmental Systems Rese...   \n",
       "4  JOB TITLE: Itemization Review ManagerLOCATION:...   \n",
       "\n",
       "                                        requirements  \\\n",
       "0  Experience with content management systems a m...   \n",
       "1  What we expect from you:Your key responsibilit...   \n",
       "2  Implement pre-commissioning and commissioning ...   \n",
       "3  EDUCATION: Bachelor’s or Master’s in GIS, busi...   \n",
       "4  QUALIFICATIONS:RN license in the State of Texa...   \n",
       "\n",
       "                                            benefits  telecommuting  \\\n",
       "0                                                NaN              0   \n",
       "1  What you will get from usThrough being part of...              0   \n",
       "2                                                NaN              0   \n",
       "3  Our culture is anything but corporate—we have ...              0   \n",
       "4                              Full Benefits Offered              0   \n",
       "\n",
       "   has_company_logo  has_questions employment_type required_experience  \\\n",
       "0                 1              0           Other          Internship   \n",
       "1                 1              0       Full-time      Not Applicable   \n",
       "2                 1              0             NaN                 NaN   \n",
       "3                 1              0       Full-time    Mid-Senior level   \n",
       "4                 1              1       Full-time    Mid-Senior level   \n",
       "\n",
       "  required_education                   industry              function  \\\n",
       "0                NaN                        NaN             Marketing   \n",
       "1                NaN  Marketing and Advertising      Customer Service   \n",
       "2                NaN                        NaN                   NaN   \n",
       "3  Bachelor's Degree          Computer Software                 Sales   \n",
       "4  Bachelor's Degree     Hospital & Health Care  Health Care Provider   \n",
       "\n",
       "   fraudulent  \n",
       "0           0  \n",
       "1           0  \n",
       "2           0  \n",
       "3           0  \n",
       "4           0  "
      ]
     },
     "execution_count": 67,
     "metadata": {},
     "output_type": "execute_result"
    }
   ],
   "source": [
    "# check top 5 rows \n",
    "df_fake_job.head()"
   ]
  },
  {
   "cell_type": "markdown",
   "id": "81a702ff",
   "metadata": {},
   "source": [
    "- looks like the `job_id` is the index in the dataset and it is starts from 1, which means this is redundant column. "
   ]
  },
  {
   "cell_type": "code",
   "execution_count": 68,
   "id": "e34dcb1e",
   "metadata": {},
   "outputs": [
    {
     "name": "stdout",
     "output_type": "stream",
     "text": [
      "There are 17880 rows and 18 columns in the dataframe.\n"
     ]
    }
   ],
   "source": [
    "print(f\"There are {df_fake_job.shape[0]} rows and {df_fake_job.shape[1]} columns in the dataframe.\")"
   ]
  },
  {
   "cell_type": "code",
   "execution_count": 69,
   "id": "1df97446",
   "metadata": {},
   "outputs": [
    {
     "name": "stdout",
     "output_type": "stream",
     "text": [
      "['job_id', 'title', 'location', 'department', 'salary_range', 'company_profile', 'description', 'requirements', 'benefits', 'telecommuting', 'has_company_logo', 'has_questions', 'employment_type', 'required_experience', 'required_education', 'industry', 'function', 'fraudulent']\n"
     ]
    }
   ],
   "source": [
    "# get columns\n",
    "print(list(df_fake_job.columns))"
   ]
  },
  {
   "cell_type": "markdown",
   "id": "e1cf4023",
   "metadata": {},
   "source": [
    "## 4.2 Column Description<a id=\"4.2\"></a>\n",
    "<a href=\"#top\" class=\"btn btn-primary btn-sm\" role=\"button\" aria-pressed=\"true\" style=\"color:white\" data-toggle=\"popover\">Go to TOC</a>"
   ]
  },
  {
   "cell_type": "markdown",
   "id": "ed0a8393",
   "metadata": {},
   "source": [
    "`job_id`: Identification number given to each job posting\n",
    "\n",
    "`title`: Job title\n",
    "\n",
    "`location`:Where the job is located\n",
    "\n",
    "`department`:department this job is offered by\n",
    "\n",
    "`salary_range`: Expected pay range\n",
    "\n",
    "`company_profile`: Information about the hiring company\n",
    "\n",
    "`description`: Job description\n",
    "\n",
    "`requirements`:Pre-requisites to qualify for the job\n",
    "\n",
    "`benefits`:Benefits provided by the employer\n",
    "\n",
    "`telecommuting`:Is the job remote or not\n",
    "\n",
    "`has_company_logo`:The post have a company logo or not\n",
    "\n",
    "`has_questions`:Does the post have any questions\n",
    "\n",
    "`employment_type`:Full-time, part-time, contract, temporary and other, in total 5 categories\n",
    "\n",
    "`required_experience`: Experience level,Entry level, Executive, Director etc…\n",
    "\n",
    "`required_education`:Education level,High School, Bachelor, Master etc…\n",
    "\n",
    "`industry`: Relevant industry of the job\n",
    "\n",
    "`function`: Main function of the role\n",
    "\n",
    "`fraudulent`: Fake job post or not(0: Real, 1: Fake)"
   ]
  },
  {
   "cell_type": "markdown",
   "id": "dd04935f",
   "metadata": {},
   "source": [
    "## 4.3 Check duplicted <a id=\"4.3\"></a>\n",
    "<a href=\"#top\" class=\"btn btn-primary btn-sm\" role=\"button\" aria-pressed=\"true\" style=\"color:white\" data-toggle=\"popover\">Go to TOC</a>"
   ]
  },
  {
   "cell_type": "code",
   "execution_count": 70,
   "id": "5769e0fa",
   "metadata": {},
   "outputs": [
    {
     "name": "stdout",
     "output_type": "stream",
     "text": [
      "<class 'pandas.core.frame.DataFrame'>\n",
      "RangeIndex: 17880 entries, 0 to 17879\n",
      "Data columns (total 18 columns):\n",
      " #   Column               Non-Null Count  Dtype \n",
      "---  ------               --------------  ----- \n",
      " 0   job_id               17880 non-null  int64 \n",
      " 1   title                17880 non-null  object\n",
      " 2   location             17534 non-null  object\n",
      " 3   department           6333 non-null   object\n",
      " 4   salary_range         2868 non-null   object\n",
      " 5   company_profile      14572 non-null  object\n",
      " 6   description          17879 non-null  object\n",
      " 7   requirements         15185 non-null  object\n",
      " 8   benefits             10670 non-null  object\n",
      " 9   telecommuting        17880 non-null  int64 \n",
      " 10  has_company_logo     17880 non-null  int64 \n",
      " 11  has_questions        17880 non-null  int64 \n",
      " 12  employment_type      14409 non-null  object\n",
      " 13  required_experience  10830 non-null  object\n",
      " 14  required_education   9775 non-null   object\n",
      " 15  industry             12977 non-null  object\n",
      " 16  function             11425 non-null  object\n",
      " 17  fraudulent           17880 non-null  int64 \n",
      "dtypes: int64(5), object(13)\n",
      "memory usage: 2.5+ MB\n"
     ]
    }
   ],
   "source": [
    "# check the data types of the columns\n",
    "df_fake_job.info()"
   ]
  },
  {
   "cell_type": "code",
   "execution_count": 71,
   "id": "6093f408",
   "metadata": {},
   "outputs": [
    {
     "data": {
      "text/plain": [
       "0        False\n",
       "1        False\n",
       "2        False\n",
       "3        False\n",
       "4        False\n",
       "         ...  \n",
       "17875    False\n",
       "17876    False\n",
       "17877    False\n",
       "17878    False\n",
       "17879    False\n",
       "Length: 17880, dtype: bool"
      ]
     },
     "execution_count": 71,
     "metadata": {},
     "output_type": "execute_result"
    }
   ],
   "source": [
    "# check duplicted column\n",
    "df_fake_job.duplicated()"
   ]
  },
  {
   "cell_type": "code",
   "execution_count": 72,
   "id": "579af55b",
   "metadata": {},
   "outputs": [
    {
     "data": {
      "text/plain": [
       "job_id                 False\n",
       "title                  False\n",
       "location               False\n",
       "department             False\n",
       "salary_range           False\n",
       "company_profile        False\n",
       "description            False\n",
       "requirements           False\n",
       "benefits               False\n",
       "telecommuting          False\n",
       "has_company_logo       False\n",
       "has_questions          False\n",
       "employment_type        False\n",
       "required_experience    False\n",
       "required_education     False\n",
       "industry               False\n",
       "function               False\n",
       "fraudulent             False\n",
       "dtype: bool"
      ]
     },
     "execution_count": 72,
     "metadata": {},
     "output_type": "execute_result"
    }
   ],
   "source": [
    "# check duplicted rows\n",
    "df_fake_job.T.duplicated()"
   ]
  },
  {
   "cell_type": "markdown",
   "id": "affae3dd",
   "metadata": {},
   "source": [
    "- There is **no duplicted** column or row in the dataframe."
   ]
  },
  {
   "cell_type": "markdown",
   "id": "d8df978b",
   "metadata": {},
   "source": [
    "## 4.4 Missing values <a id=\"4.4\"></a>\n",
    "<a href=\"#top\" class=\"btn btn-primary btn-sm\" role=\"button\" aria-pressed=\"true\" style=\"color:white\" data-toggle=\"popover\">Go to TOC</a>"
   ]
  },
  {
   "cell_type": "code",
   "execution_count": 73,
   "id": "69b3c77e",
   "metadata": {},
   "outputs": [
    {
     "data": {
      "text/html": [
       "<div>\n",
       "<style scoped>\n",
       "    .dataframe tbody tr th:only-of-type {\n",
       "        vertical-align: middle;\n",
       "    }\n",
       "\n",
       "    .dataframe tbody tr th {\n",
       "        vertical-align: top;\n",
       "    }\n",
       "\n",
       "    .dataframe thead th {\n",
       "        text-align: right;\n",
       "    }\n",
       "</style>\n",
       "<table border=\"1\" class=\"dataframe\">\n",
       "  <thead>\n",
       "    <tr style=\"text-align: right;\">\n",
       "      <th></th>\n",
       "      <th>Name</th>\n",
       "      <th>percentage</th>\n",
       "    </tr>\n",
       "  </thead>\n",
       "  <tbody>\n",
       "    <tr>\n",
       "      <th>0</th>\n",
       "      <td>salary_range</td>\n",
       "      <td>0.839597</td>\n",
       "    </tr>\n",
       "    <tr>\n",
       "      <th>1</th>\n",
       "      <td>department</td>\n",
       "      <td>0.645805</td>\n",
       "    </tr>\n",
       "    <tr>\n",
       "      <th>2</th>\n",
       "      <td>required_education</td>\n",
       "      <td>0.453300</td>\n",
       "    </tr>\n",
       "    <tr>\n",
       "      <th>3</th>\n",
       "      <td>benefits</td>\n",
       "      <td>0.403244</td>\n",
       "    </tr>\n",
       "    <tr>\n",
       "      <th>4</th>\n",
       "      <td>required_experience</td>\n",
       "      <td>0.394295</td>\n",
       "    </tr>\n",
       "    <tr>\n",
       "      <th>5</th>\n",
       "      <td>function</td>\n",
       "      <td>0.361018</td>\n",
       "    </tr>\n",
       "    <tr>\n",
       "      <th>6</th>\n",
       "      <td>industry</td>\n",
       "      <td>0.274217</td>\n",
       "    </tr>\n",
       "    <tr>\n",
       "      <th>7</th>\n",
       "      <td>employment_type</td>\n",
       "      <td>0.194128</td>\n",
       "    </tr>\n",
       "    <tr>\n",
       "      <th>8</th>\n",
       "      <td>company_profile</td>\n",
       "      <td>0.185011</td>\n",
       "    </tr>\n",
       "    <tr>\n",
       "      <th>9</th>\n",
       "      <td>requirements</td>\n",
       "      <td>0.150727</td>\n",
       "    </tr>\n",
       "    <tr>\n",
       "      <th>10</th>\n",
       "      <td>location</td>\n",
       "      <td>0.019351</td>\n",
       "    </tr>\n",
       "    <tr>\n",
       "      <th>11</th>\n",
       "      <td>description</td>\n",
       "      <td>0.000056</td>\n",
       "    </tr>\n",
       "    <tr>\n",
       "      <th>12</th>\n",
       "      <td>job_id</td>\n",
       "      <td>0.000000</td>\n",
       "    </tr>\n",
       "    <tr>\n",
       "      <th>13</th>\n",
       "      <td>telecommuting</td>\n",
       "      <td>0.000000</td>\n",
       "    </tr>\n",
       "    <tr>\n",
       "      <th>14</th>\n",
       "      <td>has_questions</td>\n",
       "      <td>0.000000</td>\n",
       "    </tr>\n",
       "    <tr>\n",
       "      <th>15</th>\n",
       "      <td>has_company_logo</td>\n",
       "      <td>0.000000</td>\n",
       "    </tr>\n",
       "    <tr>\n",
       "      <th>16</th>\n",
       "      <td>title</td>\n",
       "      <td>0.000000</td>\n",
       "    </tr>\n",
       "    <tr>\n",
       "      <th>17</th>\n",
       "      <td>fraudulent</td>\n",
       "      <td>0.000000</td>\n",
       "    </tr>\n",
       "  </tbody>\n",
       "</table>\n",
       "</div>"
      ],
      "text/plain": [
       "                   Name  percentage\n",
       "0          salary_range    0.839597\n",
       "1            department    0.645805\n",
       "2    required_education    0.453300\n",
       "3              benefits    0.403244\n",
       "4   required_experience    0.394295\n",
       "5              function    0.361018\n",
       "6              industry    0.274217\n",
       "7       employment_type    0.194128\n",
       "8       company_profile    0.185011\n",
       "9          requirements    0.150727\n",
       "10             location    0.019351\n",
       "11          description    0.000056\n",
       "12               job_id    0.000000\n",
       "13        telecommuting    0.000000\n",
       "14        has_questions    0.000000\n",
       "15     has_company_logo    0.000000\n",
       "16                title    0.000000\n",
       "17           fraudulent    0.000000"
      ]
     },
     "execution_count": 73,
     "metadata": {},
     "output_type": "execute_result"
    }
   ],
   "source": [
    "# % Missing data in the dataset\n",
    "df_missing=df_fake_job.isnull().mean().sort_values(ascending = False).to_frame().reset_index()\n",
    "df_missing.columns=['Name','percentage']\n",
    "df_missing"
   ]
  },
  {
   "cell_type": "code",
   "execution_count": 74,
   "id": "ecbe6b4c",
   "metadata": {},
   "outputs": [
    {
     "data": {
      "text/plain": [
       "<Figure size 432x288 with 0 Axes>"
      ]
     },
     "metadata": {},
     "output_type": "display_data"
    },
    {
     "data": {
      "image/png": "[encoded data removed]",
      "text/plain": [
       "<Figure size 1800x720 with 2 Axes>"
      ]
     },
     "metadata": {
      "needs_background": "light"
     },
     "output_type": "display_data"
    }
   ],
   "source": [
    "# plot the NaNs in data set (in white)\n",
    "plt.figure()\n",
    "msno.missingno.matrix(df_fake_job)\n",
    "plt.title(\"Missing value\",fontsize=20)\n",
    "plt.show()"
   ]
  },
  {
   "cell_type": "code",
   "execution_count": 75,
   "id": "6724a7e9",
   "metadata": {},
   "outputs": [
    {
     "data": {
      "image/png": "[encoded data removed]",
      "text/plain": [
       "<Figure size 1728x720 with 3 Axes>"
      ]
     },
     "metadata": {
      "needs_background": "light"
     },
     "output_type": "display_data"
    }
   ],
   "source": [
    "plt.figure()\n",
    "msno.bar(df_fake_job,sort=\"descending\")\n",
    "plt.title(\"non-mssing observation counts\",fontsize=22)\n",
    "plt.show()"
   ]
  },
  {
   "cell_type": "markdown",
   "id": "71c07622",
   "metadata": {},
   "source": [
    "- There are so many missing value in the datasets, the percentage is obviousily larger then 5%, I will **replace null** to string **\"blank\"** instead of dropping them as valid observation. It could mean that fake posts often have missing data, I need to keep them to for further investigat.\n",
    "\n",
    "\n",
    "- All the feature contains Nans are categorical data.\n",
    "----"
   ]
  },
  {
   "cell_type": "markdown",
   "id": "33cbaccd",
   "metadata": {},
   "source": [
    "# 5. Cleaning"
   ]
  },
  {
   "cell_type": "markdown",
   "id": "2d42f92e",
   "metadata": {},
   "source": [
    "## 5.1  drop job_id<a id=\"5.1\"></a>\n",
    "<a href=\"#top\" class=\"btn btn-primary btn-sm\" role=\"button\" aria-pressed=\"true\" style=\"color:white\" data-toggle=\"popover\">Go to TOC</a>"
   ]
  },
  {
   "cell_type": "code",
   "execution_count": 76,
   "id": "0cdd40e2",
   "metadata": {},
   "outputs": [
    {
     "name": "stdout",
     "output_type": "stream",
     "text": [
      "<class 'pandas.core.frame.DataFrame'>\n",
      "RangeIndex: 17880 entries, 0 to 17879\n",
      "Data columns (total 18 columns):\n",
      " #   Column               Non-Null Count  Dtype \n",
      "---  ------               --------------  ----- \n",
      " 0   job_id               17880 non-null  int64 \n",
      " 1   title                17880 non-null  object\n",
      " 2   location             17534 non-null  object\n",
      " 3   department           6333 non-null   object\n",
      " 4   salary_range         2868 non-null   object\n",
      " 5   company_profile      14572 non-null  object\n",
      " 6   description          17879 non-null  object\n",
      " 7   requirements         15185 non-null  object\n",
      " 8   benefits             10670 non-null  object\n",
      " 9   telecommuting        17880 non-null  int64 \n",
      " 10  has_company_logo     17880 non-null  int64 \n",
      " 11  has_questions        17880 non-null  int64 \n",
      " 12  employment_type      14409 non-null  object\n",
      " 13  required_experience  10830 non-null  object\n",
      " 14  required_education   9775 non-null   object\n",
      " 15  industry             12977 non-null  object\n",
      " 16  function             11425 non-null  object\n",
      " 17  fraudulent           17880 non-null  int64 \n",
      "dtypes: int64(5), object(13)\n",
      "memory usage: 2.5+ MB\n"
     ]
    }
   ],
   "source": [
    "df_fake_job.info()"
   ]
  },
  {
   "cell_type": "code",
   "execution_count": 77,
   "id": "8e4c1b3a",
   "metadata": {},
   "outputs": [],
   "source": [
    "# remove job_id,duplicted with index.\n",
    "df_job_clean=df_fake_job.copy()\n",
    "df_job_clean.drop(columns='job_id',index=1,inplace=True)"
   ]
  },
  {
   "cell_type": "code",
   "execution_count": 78,
   "id": "ab616fda",
   "metadata": {},
   "outputs": [
    {
     "data": {
      "text/html": [
       "<div>\n",
       "<style scoped>\n",
       "    .dataframe tbody tr th:only-of-type {\n",
       "        vertical-align: middle;\n",
       "    }\n",
       "\n",
       "    .dataframe tbody tr th {\n",
       "        vertical-align: top;\n",
       "    }\n",
       "\n",
       "    .dataframe thead th {\n",
       "        text-align: right;\n",
       "    }\n",
       "</style>\n",
       "<table border=\"1\" class=\"dataframe\">\n",
       "  <thead>\n",
       "    <tr style=\"text-align: right;\">\n",
       "      <th></th>\n",
       "      <th>title</th>\n",
       "      <th>location</th>\n",
       "      <th>department</th>\n",
       "      <th>salary_range</th>\n",
       "      <th>company_profile</th>\n",
       "      <th>description</th>\n",
       "      <th>requirements</th>\n",
       "      <th>benefits</th>\n",
       "      <th>telecommuting</th>\n",
       "      <th>has_company_logo</th>\n",
       "      <th>has_questions</th>\n",
       "      <th>employment_type</th>\n",
       "      <th>required_experience</th>\n",
       "      <th>required_education</th>\n",
       "      <th>industry</th>\n",
       "      <th>function</th>\n",
       "      <th>fraudulent</th>\n",
       "    </tr>\n",
       "  </thead>\n",
       "  <tbody>\n",
       "    <tr>\n",
       "      <th>0</th>\n",
       "      <td>Marketing Intern</td>\n",
       "      <td>US, NY, New York</td>\n",
       "      <td>Marketing</td>\n",
       "      <td>NaN</td>\n",
       "      <td>We're Food52, and we've created a groundbreaki...</td>\n",
       "      <td>Food52, a fast-growing, James Beard Award-winn...</td>\n",
       "      <td>Experience with content management systems a m...</td>\n",
       "      <td>NaN</td>\n",
       "      <td>0</td>\n",
       "      <td>1</td>\n",
       "      <td>0</td>\n",
       "      <td>Other</td>\n",
       "      <td>Internship</td>\n",
       "      <td>NaN</td>\n",
       "      <td>NaN</td>\n",
       "      <td>Marketing</td>\n",
       "      <td>0</td>\n",
       "    </tr>\n",
       "  </tbody>\n",
       "</table>\n",
       "</div>"
      ],
      "text/plain": [
       "              title          location department salary_range  \\\n",
       "0  Marketing Intern  US, NY, New York  Marketing          NaN   \n",
       "\n",
       "                                     company_profile  \\\n",
       "0  We're Food52, and we've created a groundbreaki...   \n",
       "\n",
       "                                         description  \\\n",
       "0  Food52, a fast-growing, James Beard Award-winn...   \n",
       "\n",
       "                                        requirements benefits  telecommuting  \\\n",
       "0  Experience with content management systems a m...      NaN              0   \n",
       "\n",
       "   has_company_logo  has_questions employment_type required_experience  \\\n",
       "0                 1              0           Other          Internship   \n",
       "\n",
       "  required_education industry   function  fraudulent  \n",
       "0                NaN      NaN  Marketing           0  "
      ]
     },
     "execution_count": 78,
     "metadata": {},
     "output_type": "execute_result"
    }
   ],
   "source": [
    "# job_id has been dropped\n",
    "df_job_clean.head(1)"
   ]
  },
  {
   "cell_type": "markdown",
   "id": "b1694850",
   "metadata": {},
   "source": [
    "## 5.2 Handle the undity columns <a id=\"5.2\"></a>\n",
    "<a href=\"#top\" class=\"btn btn-primary btn-sm\" role=\"button\" aria-pressed=\"true\" style=\"color:white\" data-toggle=\"popover\">Go to TOC</a>"
   ]
  },
  {
   "cell_type": "markdown",
   "id": "6161fb4c",
   "metadata": {},
   "source": [
    "- Split the `location` column into `country`, `province` and `city`"
   ]
  },
  {
   "cell_type": "code",
   "execution_count": 79,
   "id": "0d6eaedf",
   "metadata": {},
   "outputs": [],
   "source": [
    "df_job_clean[['country','province','city']]=df_job_clean['location'].str.split(\", \",n=2,expand = True)"
   ]
  },
  {
   "cell_type": "code",
   "execution_count": 80,
   "id": "8c1055f6",
   "metadata": {},
   "outputs": [],
   "source": [
    "df_job_clean.replace('None', np.nan, inplace=True) # replace none into Nan"
   ]
  },
  {
   "cell_type": "code",
   "execution_count": 81,
   "id": "d570eff3",
   "metadata": {},
   "outputs": [
    {
     "data": {
      "text/html": [
       "<div>\n",
       "<style scoped>\n",
       "    .dataframe tbody tr th:only-of-type {\n",
       "        vertical-align: middle;\n",
       "    }\n",
       "\n",
       "    .dataframe tbody tr th {\n",
       "        vertical-align: top;\n",
       "    }\n",
       "\n",
       "    .dataframe thead th {\n",
       "        text-align: right;\n",
       "    }\n",
       "</style>\n",
       "<table border=\"1\" class=\"dataframe\">\n",
       "  <thead>\n",
       "    <tr style=\"text-align: right;\">\n",
       "      <th></th>\n",
       "      <th>title</th>\n",
       "      <th>location</th>\n",
       "      <th>department</th>\n",
       "      <th>salary_range</th>\n",
       "      <th>company_profile</th>\n",
       "      <th>description</th>\n",
       "      <th>requirements</th>\n",
       "      <th>benefits</th>\n",
       "      <th>telecommuting</th>\n",
       "      <th>has_company_logo</th>\n",
       "      <th>has_questions</th>\n",
       "      <th>employment_type</th>\n",
       "      <th>required_experience</th>\n",
       "      <th>required_education</th>\n",
       "      <th>industry</th>\n",
       "      <th>function</th>\n",
       "      <th>fraudulent</th>\n",
       "      <th>country</th>\n",
       "      <th>province</th>\n",
       "      <th>city</th>\n",
       "    </tr>\n",
       "  </thead>\n",
       "  <tbody>\n",
       "    <tr>\n",
       "      <th>0</th>\n",
       "      <td>Marketing Intern</td>\n",
       "      <td>US, NY, New York</td>\n",
       "      <td>Marketing</td>\n",
       "      <td>NaN</td>\n",
       "      <td>We're Food52, and we've created a groundbreaki...</td>\n",
       "      <td>Food52, a fast-growing, James Beard Award-winn...</td>\n",
       "      <td>Experience with content management systems a m...</td>\n",
       "      <td>NaN</td>\n",
       "      <td>0</td>\n",
       "      <td>1</td>\n",
       "      <td>0</td>\n",
       "      <td>Other</td>\n",
       "      <td>Internship</td>\n",
       "      <td>NaN</td>\n",
       "      <td>NaN</td>\n",
       "      <td>Marketing</td>\n",
       "      <td>0</td>\n",
       "      <td>US</td>\n",
       "      <td>NY</td>\n",
       "      <td>New York</td>\n",
       "    </tr>\n",
       "  </tbody>\n",
       "</table>\n",
       "</div>"
      ],
      "text/plain": [
       "              title          location department salary_range  \\\n",
       "0  Marketing Intern  US, NY, New York  Marketing          NaN   \n",
       "\n",
       "                                     company_profile  \\\n",
       "0  We're Food52, and we've created a groundbreaki...   \n",
       "\n",
       "                                         description  \\\n",
       "0  Food52, a fast-growing, James Beard Award-winn...   \n",
       "\n",
       "                                        requirements benefits  telecommuting  \\\n",
       "0  Experience with content management systems a m...      NaN              0   \n",
       "\n",
       "   has_company_logo  has_questions employment_type required_experience  \\\n",
       "0                 1              0           Other          Internship   \n",
       "\n",
       "  required_education industry   function  fraudulent country province  \\\n",
       "0                NaN      NaN  Marketing           0      US       NY   \n",
       "\n",
       "       city  \n",
       "0  New York  "
      ]
     },
     "execution_count": 81,
     "metadata": {},
     "output_type": "execute_result"
    }
   ],
   "source": [
    "df_job_clean.head(1) # column location has been split into country, province and city 3 columns"
   ]
  },
  {
   "cell_type": "code",
   "execution_count": 82,
   "id": "40c77c54",
   "metadata": {},
   "outputs": [
    {
     "data": {
      "text/html": [
       "<div>\n",
       "<style scoped>\n",
       "    .dataframe tbody tr th:only-of-type {\n",
       "        vertical-align: middle;\n",
       "    }\n",
       "\n",
       "    .dataframe tbody tr th {\n",
       "        vertical-align: top;\n",
       "    }\n",
       "\n",
       "    .dataframe thead th {\n",
       "        text-align: right;\n",
       "    }\n",
       "</style>\n",
       "<table border=\"1\" class=\"dataframe\">\n",
       "  <thead>\n",
       "    <tr style=\"text-align: right;\">\n",
       "      <th></th>\n",
       "      <th>name</th>\n",
       "      <th>missing</th>\n",
       "    </tr>\n",
       "  </thead>\n",
       "  <tbody>\n",
       "    <tr>\n",
       "      <th>0</th>\n",
       "      <td>location</td>\n",
       "      <td>0.019352</td>\n",
       "    </tr>\n",
       "    <tr>\n",
       "      <th>1</th>\n",
       "      <td>country</td>\n",
       "      <td>0.019352</td>\n",
       "    </tr>\n",
       "    <tr>\n",
       "      <th>2</th>\n",
       "      <td>city</td>\n",
       "      <td>0.024610</td>\n",
       "    </tr>\n",
       "    <tr>\n",
       "      <th>3</th>\n",
       "      <td>province</td>\n",
       "      <td>0.024610</td>\n",
       "    </tr>\n",
       "  </tbody>\n",
       "</table>\n",
       "</div>"
      ],
      "text/plain": [
       "       name   missing\n",
       "0  location  0.019352\n",
       "1   country  0.019352\n",
       "2      city  0.024610\n",
       "3  province  0.024610"
      ]
     },
     "execution_count": 82,
     "metadata": {},
     "output_type": "execute_result"
    }
   ],
   "source": [
    "# column missing % after split\n",
    "missing_location=df_job_clean.isna().mean()[['location','country','city','province']].to_frame().reset_index()\n",
    "missing_location.columns=['name','missing']\n",
    "missing_location"
   ]
  },
  {
   "cell_type": "code",
   "execution_count": 83,
   "id": "b22fb80d",
   "metadata": {},
   "outputs": [
    {
     "data": {
      "image/png": "[encoded data removed]",
      "text/plain": [
       "<Figure size 1728x720 with 3 Axes>"
      ]
     },
     "metadata": {
      "needs_background": "light"
     },
     "output_type": "display_data"
    }
   ],
   "source": [
    "plt.figure()\n",
    "msno.bar(df_job_clean[['location','country','province','city']])\n",
    "plt.title(\"non-mssing location country city and provience\",fontsize=22)\n",
    "plt.show()"
   ]
  },
  {
   "cell_type": "markdown",
   "id": "137e8191",
   "metadata": {},
   "source": [
    "- column `location`and `country` keeps same observations in the graph, and `provience` and `city` has more mssing values, this means column `location` has been split successfully and we have some jobs with only provide country in the posts.  "
   ]
  },
  {
   "cell_type": "markdown",
   "id": "b1ada853",
   "metadata": {},
   "source": [
    "- There are 84% of `salary_range` is missing, and it is hard for us to get extra info from other place to implut it. We are going to change it into a bianary column as `has_salary_range`"
   ]
  },
  {
   "cell_type": "code",
   "execution_count": 87,
   "id": "ed33f542",
   "metadata": {},
   "outputs": [
    {
     "data": {
      "text/plain": [
       "15011"
      ]
     },
     "execution_count": 87,
     "metadata": {},
     "output_type": "execute_result"
    }
   ],
   "source": [
    "# check nans in the column salary_range\n",
    "df_job_clean['salary_range'].isnull().sum()"
   ]
  },
  {
   "cell_type": "code",
   "execution_count": 89,
   "id": "5fc2da25",
   "metadata": {},
   "outputs": [],
   "source": [
    "# salary_range into binary column 0--> has no salary_range,1--> has salary_range\n",
    "df_job_clean['salary_range']=np.where(df_job_clean['salary_range'].isnull()==True,0,1)"
   ]
  },
  {
   "cell_type": "code",
   "execution_count": 90,
   "id": "e639c1da",
   "metadata": {},
   "outputs": [
    {
     "data": {
      "text/plain": [
       "0    15011\n",
       "1     2868\n",
       "Name: salary_range, dtype: int64"
      ]
     },
     "execution_count": 90,
     "metadata": {},
     "output_type": "execute_result"
    }
   ],
   "source": [
    "# check result\n",
    "df_job_clean['salary_range'].value_counts()"
   ]
  },
  {
   "cell_type": "code",
   "execution_count": 94,
   "id": "93df0806",
   "metadata": {},
   "outputs": [],
   "source": [
    "df_job_clean.rename(columns={'salary_range':'has_salary_range'},inplace=True)"
   ]
  },
  {
   "cell_type": "code",
   "execution_count": 95,
   "id": "feadc50d",
   "metadata": {},
   "outputs": [],
   "source": [
    "df_job_clean.replace('None', np.nan, inplace=True)"
   ]
  },
  {
   "cell_type": "code",
   "execution_count": 96,
   "id": "d852d549",
   "metadata": {},
   "outputs": [
    {
     "data": {
      "text/html": [
       "<div>\n",
       "<style scoped>\n",
       "    .dataframe tbody tr th:only-of-type {\n",
       "        vertical-align: middle;\n",
       "    }\n",
       "\n",
       "    .dataframe tbody tr th {\n",
       "        vertical-align: top;\n",
       "    }\n",
       "\n",
       "    .dataframe thead th {\n",
       "        text-align: right;\n",
       "    }\n",
       "</style>\n",
       "<table border=\"1\" class=\"dataframe\">\n",
       "  <thead>\n",
       "    <tr style=\"text-align: right;\">\n",
       "      <th></th>\n",
       "      <th>title</th>\n",
       "      <th>location</th>\n",
       "      <th>department</th>\n",
       "      <th>has_salary_range</th>\n",
       "      <th>company_profile</th>\n",
       "      <th>description</th>\n",
       "      <th>requirements</th>\n",
       "      <th>benefits</th>\n",
       "      <th>telecommuting</th>\n",
       "      <th>has_company_logo</th>\n",
       "      <th>has_questions</th>\n",
       "      <th>employment_type</th>\n",
       "      <th>required_experience</th>\n",
       "      <th>required_education</th>\n",
       "      <th>industry</th>\n",
       "      <th>function</th>\n",
       "      <th>fraudulent</th>\n",
       "      <th>country</th>\n",
       "      <th>province</th>\n",
       "      <th>city</th>\n",
       "    </tr>\n",
       "  </thead>\n",
       "  <tbody>\n",
       "    <tr>\n",
       "      <th>0</th>\n",
       "      <td>Marketing Intern</td>\n",
       "      <td>US, NY, New York</td>\n",
       "      <td>Marketing</td>\n",
       "      <td>0</td>\n",
       "      <td>We're Food52, and we've created a groundbreaki...</td>\n",
       "      <td>Food52, a fast-growing, James Beard Award-winn...</td>\n",
       "      <td>Experience with content management systems a m...</td>\n",
       "      <td>NaN</td>\n",
       "      <td>0</td>\n",
       "      <td>1</td>\n",
       "      <td>0</td>\n",
       "      <td>Other</td>\n",
       "      <td>Internship</td>\n",
       "      <td>NaN</td>\n",
       "      <td>NaN</td>\n",
       "      <td>Marketing</td>\n",
       "      <td>0</td>\n",
       "      <td>US</td>\n",
       "      <td>NY</td>\n",
       "      <td>New York</td>\n",
       "    </tr>\n",
       "  </tbody>\n",
       "</table>\n",
       "</div>"
      ],
      "text/plain": [
       "              title          location department  has_salary_range  \\\n",
       "0  Marketing Intern  US, NY, New York  Marketing                 0   \n",
       "\n",
       "                                     company_profile  \\\n",
       "0  We're Food52, and we've created a groundbreaki...   \n",
       "\n",
       "                                         description  \\\n",
       "0  Food52, a fast-growing, James Beard Award-winn...   \n",
       "\n",
       "                                        requirements benefits  telecommuting  \\\n",
       "0  Experience with content management systems a m...      NaN              0   \n",
       "\n",
       "   has_company_logo  has_questions employment_type required_experience  \\\n",
       "0                 1              0           Other          Internship   \n",
       "\n",
       "  required_education industry   function  fraudulent country province  \\\n",
       "0                NaN      NaN  Marketing           0      US       NY   \n",
       "\n",
       "       city  \n",
       "0  New York  "
      ]
     },
     "execution_count": 96,
     "metadata": {},
     "output_type": "execute_result"
    }
   ],
   "source": [
    "df_job_clean.head(1)"
   ]
  },
  {
   "cell_type": "code",
   "execution_count": 97,
   "id": "26de1ff5",
   "metadata": {},
   "outputs": [
    {
     "data": {
      "text/plain": [
       "0.0"
      ]
     },
     "execution_count": 97,
     "metadata": {},
     "output_type": "execute_result"
    }
   ],
   "source": [
    "df_job_clean['has_salary_range'].isna().mean()"
   ]
  },
  {
   "cell_type": "markdown",
   "id": "3377941b",
   "metadata": {},
   "source": [
    "- column `salary_range` has been change into `has_salary_range` and with no missing value."
   ]
  },
  {
   "cell_type": "markdown",
   "id": "cb54ba46",
   "metadata": {},
   "source": [
    "## 5.3 Fill the Nan <a id=\"5.3\"></a>\n",
    "<a href=\"#top\" class=\"btn btn-primary btn-sm\" role=\"button\" aria-pressed=\"true\" style=\"color:white\" data-toggle=\"popover\">Go to TOC</a>"
   ]
  },
  {
   "cell_type": "markdown",
   "id": "3ff5bf91",
   "metadata": {},
   "source": [
    "- Fill Nans with string **'Blank'**"
   ]
  },
  {
   "cell_type": "code",
   "execution_count": 98,
   "id": "a18283ed",
   "metadata": {},
   "outputs": [],
   "source": [
    "#Fill Nans with string 'Blank'\n",
    "df_job_clean.fillna('Blank',inplace=True)"
   ]
  },
  {
   "cell_type": "code",
   "execution_count": 99,
   "id": "9d1c542d",
   "metadata": {},
   "outputs": [
    {
     "data": {
      "text/plain": [
       "title                  0.0\n",
       "location               0.0\n",
       "department             0.0\n",
       "has_salary_range       0.0\n",
       "company_profile        0.0\n",
       "description            0.0\n",
       "requirements           0.0\n",
       "benefits               0.0\n",
       "telecommuting          0.0\n",
       "has_company_logo       0.0\n",
       "has_questions          0.0\n",
       "employment_type        0.0\n",
       "required_experience    0.0\n",
       "required_education     0.0\n",
       "industry               0.0\n",
       "function               0.0\n",
       "fraudulent             0.0\n",
       "country                0.0\n",
       "province               0.0\n",
       "city                   0.0\n",
       "dtype: float64"
      ]
     },
     "execution_count": 99,
     "metadata": {},
     "output_type": "execute_result"
    }
   ],
   "source": [
    "# check % of Nan\n",
    "df_job_clean.isna().mean()"
   ]
  },
  {
   "cell_type": "markdown",
   "id": "79660b3d",
   "metadata": {},
   "source": [
    "- drop `location`  as this is redumdant now."
   ]
  },
  {
   "cell_type": "code",
   "execution_count": 102,
   "id": "1d4c93b0",
   "metadata": {},
   "outputs": [],
   "source": [
    "df_job_clean.drop(['location'],axis=1,inplace=True)"
   ]
  },
  {
   "cell_type": "code",
   "execution_count": 104,
   "id": "591ea26b",
   "metadata": {},
   "outputs": [
    {
     "name": "stdout",
     "output_type": "stream",
     "text": [
      "<class 'pandas.core.frame.DataFrame'>\n",
      "Int64Index: 17879 entries, 0 to 17879\n",
      "Data columns (total 19 columns):\n",
      " #   Column               Non-Null Count  Dtype \n",
      "---  ------               --------------  ----- \n",
      " 0   title                17879 non-null  object\n",
      " 1   department           17879 non-null  object\n",
      " 2   has_salary_range     17879 non-null  int32 \n",
      " 3   company_profile      17879 non-null  object\n",
      " 4   description          17879 non-null  object\n",
      " 5   requirements         17879 non-null  object\n",
      " 6   benefits             17879 non-null  object\n",
      " 7   telecommuting        17879 non-null  int64 \n",
      " 8   has_company_logo     17879 non-null  int64 \n",
      " 9   has_questions        17879 non-null  int64 \n",
      " 10  employment_type      17879 non-null  object\n",
      " 11  required_experience  17879 non-null  object\n",
      " 12  required_education   17879 non-null  object\n",
      " 13  industry             17879 non-null  object\n",
      " 14  function             17879 non-null  object\n",
      " 15  fraudulent           17879 non-null  int64 \n",
      " 16  country              17879 non-null  object\n",
      " 17  province             17879 non-null  object\n",
      " 18  city                 17879 non-null  object\n",
      "dtypes: int32(1), int64(4), object(14)\n",
      "memory usage: 2.7+ MB\n"
     ]
    }
   ],
   "source": [
    "df_job_clean.info()"
   ]
  },
  {
   "cell_type": "markdown",
   "id": "df07f536",
   "metadata": {},
   "source": [
    "- `location` has been dropped, there are 19 columns and 17897 rows in the datafame."
   ]
  },
  {
   "cell_type": "code",
   "execution_count": 105,
   "id": "2cd13652",
   "metadata": {},
   "outputs": [
    {
     "data": {
      "text/plain": [
       "<Figure size 432x288 with 0 Axes>"
      ]
     },
     "metadata": {},
     "output_type": "display_data"
    },
    {
     "data": {
      "image/png": "[encoded data removed]",
      "text/plain": [
       "<Figure size 1800x720 with 2 Axes>"
      ]
     },
     "metadata": {
      "needs_background": "light"
     },
     "output_type": "display_data"
    }
   ],
   "source": [
    "# plot the NaNs in df_job_clean (missing white)\n",
    "plt.figure()\n",
    "msno.missingno.matrix(df_job_clean)\n",
    "plt.title(\"Missing value in df_job_clean\",fontsize=20)\n",
    "plt.show()"
   ]
  },
  {
   "cell_type": "markdown",
   "id": "842a3498",
   "metadata": {},
   "source": [
    "####   No Nan in the dataframe and we have tidy job location and has_salary_range."
   ]
  },
  {
   "cell_type": "code",
   "execution_count": 106,
   "id": "7fb597c6",
   "metadata": {},
   "outputs": [
    {
     "data": {
      "text/html": [
       "<div>\n",
       "<style scoped>\n",
       "    .dataframe tbody tr th:only-of-type {\n",
       "        vertical-align: middle;\n",
       "    }\n",
       "\n",
       "    .dataframe tbody tr th {\n",
       "        vertical-align: top;\n",
       "    }\n",
       "\n",
       "    .dataframe thead th {\n",
       "        text-align: right;\n",
       "    }\n",
       "</style>\n",
       "<table border=\"1\" class=\"dataframe\">\n",
       "  <thead>\n",
       "    <tr style=\"text-align: right;\">\n",
       "      <th></th>\n",
       "      <th>title</th>\n",
       "      <th>department</th>\n",
       "      <th>has_salary_range</th>\n",
       "      <th>company_profile</th>\n",
       "      <th>description</th>\n",
       "      <th>requirements</th>\n",
       "      <th>benefits</th>\n",
       "      <th>telecommuting</th>\n",
       "      <th>has_company_logo</th>\n",
       "      <th>has_questions</th>\n",
       "      <th>employment_type</th>\n",
       "      <th>required_experience</th>\n",
       "      <th>required_education</th>\n",
       "      <th>industry</th>\n",
       "      <th>function</th>\n",
       "      <th>fraudulent</th>\n",
       "      <th>country</th>\n",
       "      <th>province</th>\n",
       "      <th>city</th>\n",
       "    </tr>\n",
       "  </thead>\n",
       "  <tbody>\n",
       "    <tr>\n",
       "      <th>3176</th>\n",
       "      <td>Customer Service Operator</td>\n",
       "      <td>Customer Service</td>\n",
       "      <td>0</td>\n",
       "      <td>At Command we care enough to consistently plac...</td>\n",
       "      <td>At Command we care enough to consistently plac...</td>\n",
       "      <td>Responsibilities:Determines requirements by wo...</td>\n",
       "      <td>Benefits:15.25/hr (non-negotiable)Medical/dent...</td>\n",
       "      <td>0</td>\n",
       "      <td>1</td>\n",
       "      <td>1</td>\n",
       "      <td>Blank</td>\n",
       "      <td>Blank</td>\n",
       "      <td>Blank</td>\n",
       "      <td>Blank</td>\n",
       "      <td>Blank</td>\n",
       "      <td>0</td>\n",
       "      <td>US</td>\n",
       "      <td>FL</td>\n",
       "      <td>Miami</td>\n",
       "    </tr>\n",
       "    <tr>\n",
       "      <th>569</th>\n",
       "      <td>English Teacher Abroad</td>\n",
       "      <td>Blank</td>\n",
       "      <td>0</td>\n",
       "      <td>We help teachers get safe &amp;amp; secure jobs ab...</td>\n",
       "      <td>Play with kids, get paid for it Love travel? J...</td>\n",
       "      <td>University degree required. TEFL / TESOL / CEL...</td>\n",
       "      <td>See job description</td>\n",
       "      <td>0</td>\n",
       "      <td>1</td>\n",
       "      <td>1</td>\n",
       "      <td>Contract</td>\n",
       "      <td>Blank</td>\n",
       "      <td>Bachelor's Degree</td>\n",
       "      <td>Education Management</td>\n",
       "      <td>Blank</td>\n",
       "      <td>0</td>\n",
       "      <td>US</td>\n",
       "      <td>NY</td>\n",
       "      <td>Oneonta</td>\n",
       "    </tr>\n",
       "    <tr>\n",
       "      <th>7417</th>\n",
       "      <td>Director, eCommerce</td>\n",
       "      <td>Blank</td>\n",
       "      <td>0</td>\n",
       "      <td>McKibbon Hotel Management, Inc., based in Tamp...</td>\n",
       "      <td>McKibbon Hotel Management, Inc., based in Tamp...</td>\n",
       "      <td>Blank</td>\n",
       "      <td>Blank</td>\n",
       "      <td>0</td>\n",
       "      <td>1</td>\n",
       "      <td>0</td>\n",
       "      <td>Full-time</td>\n",
       "      <td>Director</td>\n",
       "      <td>Bachelor's Degree</td>\n",
       "      <td>Hospitality</td>\n",
       "      <td>Marketing</td>\n",
       "      <td>0</td>\n",
       "      <td>US</td>\n",
       "      <td>FL</td>\n",
       "      <td>Tampa</td>\n",
       "    </tr>\n",
       "    <tr>\n",
       "      <th>13933</th>\n",
       "      <td>Engineering Tech</td>\n",
       "      <td>Blank</td>\n",
       "      <td>0</td>\n",
       "      <td>Valor Services provides Workforce Solutions th...</td>\n",
       "      <td>Take your career to the next level with this f...</td>\n",
       "      <td>EDUCATION and/or EXPERIENCEBachelor’s degree i...</td>\n",
       "      <td>Blank</td>\n",
       "      <td>0</td>\n",
       "      <td>1</td>\n",
       "      <td>1</td>\n",
       "      <td>Full-time</td>\n",
       "      <td>Blank</td>\n",
       "      <td>Blank</td>\n",
       "      <td>Oil &amp; Energy</td>\n",
       "      <td>Engineering</td>\n",
       "      <td>0</td>\n",
       "      <td>US</td>\n",
       "      <td>TX</td>\n",
       "      <td>Houston</td>\n",
       "    </tr>\n",
       "    <tr>\n",
       "      <th>11548</th>\n",
       "      <td>Mobile Developer-Back End</td>\n",
       "      <td>Information Technology</td>\n",
       "      <td>0</td>\n",
       "      <td>Aptitude Staffing Solutions has redesigned the...</td>\n",
       "      <td>Our mission is to help all the world’s people ...</td>\n",
       "      <td>What You Offer:Experience in writing clean and...</td>\n",
       "      <td>Blank</td>\n",
       "      <td>0</td>\n",
       "      <td>1</td>\n",
       "      <td>1</td>\n",
       "      <td>Full-time</td>\n",
       "      <td>Mid-Senior level</td>\n",
       "      <td>Bachelor's Degree</td>\n",
       "      <td>Environmental Services</td>\n",
       "      <td>Information Technology</td>\n",
       "      <td>1</td>\n",
       "      <td>US</td>\n",
       "      <td>CA</td>\n",
       "      <td>San Francisco</td>\n",
       "    </tr>\n",
       "  </tbody>\n",
       "</table>\n",
       "</div>"
      ],
      "text/plain": [
       "                            title              department  has_salary_range  \\\n",
       "3176    Customer Service Operator        Customer Service                 0   \n",
       "569       English Teacher Abroad                    Blank                 0   \n",
       "7417          Director, eCommerce                   Blank                 0   \n",
       "13933            Engineering Tech                   Blank                 0   \n",
       "11548  Mobile Developer-Back End   Information Technology                 0   \n",
       "\n",
       "                                         company_profile  \\\n",
       "3176   At Command we care enough to consistently plac...   \n",
       "569    We help teachers get safe &amp; secure jobs ab...   \n",
       "7417   McKibbon Hotel Management, Inc., based in Tamp...   \n",
       "13933  Valor Services provides Workforce Solutions th...   \n",
       "11548  Aptitude Staffing Solutions has redesigned the...   \n",
       "\n",
       "                                             description  \\\n",
       "3176   At Command we care enough to consistently plac...   \n",
       "569    Play with kids, get paid for it Love travel? J...   \n",
       "7417   McKibbon Hotel Management, Inc., based in Tamp...   \n",
       "13933  Take your career to the next level with this f...   \n",
       "11548  Our mission is to help all the world’s people ...   \n",
       "\n",
       "                                            requirements  \\\n",
       "3176   Responsibilities:Determines requirements by wo...   \n",
       "569    University degree required. TEFL / TESOL / CEL...   \n",
       "7417                                               Blank   \n",
       "13933  EDUCATION and/or EXPERIENCEBachelor’s degree i...   \n",
       "11548  What You Offer:Experience in writing clean and...   \n",
       "\n",
       "                                                benefits  telecommuting  \\\n",
       "3176   Benefits:15.25/hr (non-negotiable)Medical/dent...              0   \n",
       "569                                  See job description              0   \n",
       "7417                                               Blank              0   \n",
       "13933                                              Blank              0   \n",
       "11548                                              Blank              0   \n",
       "\n",
       "       has_company_logo  has_questions employment_type required_experience  \\\n",
       "3176                  1              1           Blank               Blank   \n",
       "569                   1              1        Contract               Blank   \n",
       "7417                  1              0       Full-time            Director   \n",
       "13933                 1              1       Full-time               Blank   \n",
       "11548                 1              1       Full-time    Mid-Senior level   \n",
       "\n",
       "      required_education                industry                function  \\\n",
       "3176               Blank                   Blank                   Blank   \n",
       "569    Bachelor's Degree    Education Management                   Blank   \n",
       "7417   Bachelor's Degree             Hospitality               Marketing   \n",
       "13933              Blank            Oil & Energy             Engineering   \n",
       "11548  Bachelor's Degree  Environmental Services  Information Technology   \n",
       "\n",
       "       fraudulent country province           city  \n",
       "3176            0      US       FL          Miami  \n",
       "569             0      US       NY        Oneonta  \n",
       "7417            0      US       FL          Tampa  \n",
       "13933           0      US       TX        Houston  \n",
       "11548           1      US       CA  San Francisco  "
      ]
     },
     "execution_count": 106,
     "metadata": {},
     "output_type": "execute_result"
    }
   ],
   "source": [
    "# Take 5 random samples from the df.\n",
    "df_job_clean.sample(5)"
   ]
  },
  {
   "cell_type": "markdown",
   "id": "04328569",
   "metadata": {},
   "source": [
    "#### I find there are still empty columns in some of the columns for example `city`. This may cased by some special characters. The columns are actually empty but not Nan."
   ]
  },
  {
   "cell_type": "code",
   "execution_count": 107,
   "id": "dc56ef9a",
   "metadata": {},
   "outputs": [
    {
     "data": {
      "text/plain": [
       "1627"
      ]
     },
     "execution_count": 107,
     "metadata": {},
     "output_type": "execute_result"
    }
   ],
   "source": [
    "# there are empty string in the column city\n",
    "df_job_clean['city'].isin(['']).sum()"
   ]
  },
  {
   "cell_type": "code",
   "execution_count": 108,
   "id": "df74f6b7",
   "metadata": {},
   "outputs": [],
   "source": [
    "df_job_clean['city'].replace('','Blank',inplace=True)"
   ]
  },
  {
   "cell_type": "code",
   "execution_count": 109,
   "id": "f5186509",
   "metadata": {},
   "outputs": [
    {
     "data": {
      "text/plain": [
       "0"
      ]
     },
     "execution_count": 109,
     "metadata": {},
     "output_type": "execute_result"
    }
   ],
   "source": [
    "# empty strings have been replced into 'Blank'\n",
    "df_job_clean['city'].isin(['']).sum()"
   ]
  },
  {
   "cell_type": "code",
   "execution_count": 110,
   "id": "66c1a94f",
   "metadata": {},
   "outputs": [
    {
     "data": {
      "text/plain": [
       "2139"
      ]
     },
     "execution_count": 110,
     "metadata": {},
     "output_type": "execute_result"
    }
   ],
   "source": [
    "df_job_clean['province'].isin(['']).sum()"
   ]
  },
  {
   "cell_type": "code",
   "execution_count": 111,
   "id": "59e9152f",
   "metadata": {},
   "outputs": [],
   "source": [
    "df_job_clean['province'].replace('','Blank',inplace=True)"
   ]
  },
  {
   "cell_type": "code",
   "execution_count": 112,
   "id": "b9066d48",
   "metadata": {},
   "outputs": [
    {
     "data": {
      "text/plain": [
       "0"
      ]
     },
     "execution_count": 112,
     "metadata": {},
     "output_type": "execute_result"
    }
   ],
   "source": [
    "df_job_clean['province'].isin(['']).sum()"
   ]
  },
  {
   "cell_type": "code",
   "execution_count": 113,
   "id": "6a49066c",
   "metadata": {},
   "outputs": [
    {
     "name": "stdout",
     "output_type": "stream",
     "text": [
      "column title has 0 empty columns\n",
      "column department has 0 empty columns\n",
      "column has_salary_range has 0 empty columns\n",
      "column company_profile has 0 empty columns\n",
      "column description has 0 empty columns\n",
      "column requirements has 0 empty columns\n",
      "column benefits has 0 empty columns\n",
      "column telecommuting has 0 empty columns\n",
      "column has_company_logo has 0 empty columns\n",
      "column has_questions has 0 empty columns\n",
      "column employment_type has 0 empty columns\n",
      "column required_experience has 0 empty columns\n",
      "column required_education has 0 empty columns\n",
      "column industry has 0 empty columns\n",
      "column function has 0 empty columns\n",
      "column fraudulent has 0 empty columns\n",
      "column country has 0 empty columns\n",
      "column province has 0 empty columns\n",
      "column city has 0 empty columns\n"
     ]
    }
   ],
   "source": [
    "# Check if there are any empty string in the dataframe\n",
    "for col in df_job_clean.columns:\n",
    "    empty_col=df_job_clean[col].isin(['']).sum()\n",
    "    print(f\"column {col} has {empty_col} empty columns\")"
   ]
  },
  {
   "cell_type": "markdown",
   "id": "62b12810",
   "metadata": {},
   "source": [
    "#### There is no Nan or empty string in the dataset."
   ]
  },
  {
   "cell_type": "markdown",
   "id": "e9f2f09a",
   "metadata": {},
   "source": [
    "---"
   ]
  },
  {
   "cell_type": "markdown",
   "id": "9a58d645",
   "metadata": {},
   "source": [
    "# 6. Save Data<a id=\"6\"></a>\n",
    "<a href=\"#top\" class=\"btn btn-primary btn-sm\" role=\"button\" aria-pressed=\"true\" style=\"color:white\" data-toggle=\"popover\">Go to TOC</a>"
   ]
  },
  {
   "cell_type": "markdown",
   "id": "76c0b5f5",
   "metadata": {},
   "source": [
    "## Plan:\n",
    "- Save cleaned dataframe in the format of .csv.\n",
    "- Save cleaned dataframe in the format of .pkl, in case execution time is excessive in the following EDA."
   ]
  },
  {
   "cell_type": "code",
   "execution_count": 114,
   "id": "df060406",
   "metadata": {},
   "outputs": [],
   "source": [
    "df_job_clean.to_csv(r'C:\\Users\\miru1\\Desktop\\DA_study\\brainstation\\projects\\fake_job_detection\\data\\fake_job_cleaned.csv',encoding='utf-8', index=False)"
   ]
  },
  {
   "cell_type": "code",
   "execution_count": 115,
   "id": "419651dd",
   "metadata": {},
   "outputs": [
    {
     "data": {
      "text/plain": [
       "['data/fake_job_cleaned.pkl']"
      ]
     },
     "execution_count": 115,
     "metadata": {},
     "output_type": "execute_result"
    }
   ],
   "source": [
    "# Save data as pickle file data folder\n",
    "joblib.dump(df_job_clean, 'data/fake_job_cleaned.pkl')"
   ]
  },
  {
   "cell_type": "markdown",
   "id": "de1086b8",
   "metadata": {},
   "source": [
    "# 7. End of Notebook 1<a id=\"7\"></a>\n",
    "<a href=\"#top\" class=\"btn btn-primary btn-sm\" role=\"button\" aria-pressed=\"true\" style=\"color:white\" data-toggle=\"popover\">Go to TOC</a>"
   ]
  },
  {
   "cell_type": "markdown",
   "id": "9e0c55d1",
   "metadata": {},
   "source": [
    "This is the end of notebook part 1 of project Fake Job Prediction. In this notebook, I finished the data loading and cleaning.No the dataset is cleaned and ready for EDA. I will give more insight into the next proportion, through the process of exploratory data analysis (EDA). Please see my next notebook. Notebook 2: EDA."
   ]
  },
  {
   "cell_type": "code",
   "execution_count": null,
   "id": "cb31ae70",
   "metadata": {},
   "outputs": [],
   "source": []
  }
 ],
 "metadata": {
  "kernelspec": {
   "display_name": "Python 3 (ipykernel)",
   "language": "python",
   "name": "python3"
  },
  "language_info": {
   "codemirror_mode": {
    "name": "ipython",
    "version": 3
   },
   "file_extension": ".py",
   "mimetype": "text/x-python",
   "name": "python",
   "nbconvert_exporter": "python",
   "pygments_lexer": "ipython3",
   "version": "3.9.15"
  }
 },
 "nbformat": 4,
 "nbformat_minor": 5
}
