{
 "cells": [
  {
   "cell_type": "markdown",
   "id": "30699655",
   "metadata": {},
   "source": [
    "# Fake job Detection: Investigating Fake job posts to avoid the job scam\n",
    "\n",
    "# Notebook 5  Neural network and Modeling\n",
    "\n",
    "**Fifth setp: Modeling with Pre-trained word vectors and Neural network**\n",
    "\n",
    "By: Polly Pang\n",
    "\n",
    "In this portion of the notebook, I will use Pre-trained word vectors, convert text column into sparse metrics. And implement traditional Ml models and also Neural network model."
   ]
  },
  {
   "cell_type": "markdown",
   "id": "c3b6afd2",
   "metadata": {},
   "source": [
    "<a id=\"top\"></a>\n",
    "<div class=\"list-group\" id=\"list-tab\" role=\"tablist\">\n",
    "<h3 class=\"list-group-item list-group-item-action active\" data-toggle=\"list\" role=\"tab\" aria-controls=\"home\"> Contents</h3>\n",
    "\n",
    "* [1. Libraries](#1)\n",
    "* [2. Load data](#2)\n",
    "* [3. NLP](#3)\n",
    "    - [3.1 Pre-process](#3.1)\n",
    "* [4. Word Embeddings](#4)\n",
    "    - [4.1 Word2Vec](#4.1)\n",
    "    - [4.2 GloVe](#4.2)\n",
    "* [5. Modeling](#5)\n",
    "    - [5.1 oversampling](#5.1)\n",
    "\n",
    "    \n",
    "    \n",
    "    \n",
    "* [7. End of Notebook 5](#7)"
   ]
  },
  {
   "cell_type": "markdown",
   "id": "e211031e",
   "metadata": {},
   "source": [
    "# 1. Libraries <a id=\"1\"></a>"
   ]
  },
  {
   "cell_type": "code",
   "execution_count": 2,
   "id": "66cb0bda",
   "metadata": {},
   "outputs": [
    {
     "name": "stdout",
     "output_type": "stream",
     "text": [
      "Requirement already satisfied: imblearn in d:\\anaconda\\lib\\site-packages (0.0)\n",
      "Requirement already satisfied: imbalanced-learn in d:\\anaconda\\lib\\site-packages (from imblearn) (0.10.1)\n",
      "Requirement already satisfied: numpy>=1.17.3 in d:\\anaconda\\lib\\site-packages (from imbalanced-learn->imblearn) (1.23.5)\n",
      "Requirement already satisfied: scipy>=1.3.2 in d:\\anaconda\\lib\\site-packages (from imbalanced-learn->imblearn) (1.10.0)\n",
      "Requirement already satisfied: scikit-learn>=1.0.2 in d:\\anaconda\\lib\\site-packages (from imbalanced-learn->imblearn) (1.1.3)\n",
      "Requirement already satisfied: threadpoolctl>=2.0.0 in d:\\anaconda\\lib\\site-packages (from imbalanced-learn->imblearn) (3.1.0)\n",
      "Requirement already satisfied: joblib>=1.1.1 in d:\\anaconda\\lib\\site-packages (from imbalanced-learn->imblearn) (1.2.0)\n"
     ]
    }
   ],
   "source": [
    "!pip install imblearn"
   ]
  },
  {
   "cell_type": "code",
   "execution_count": 103,
   "id": "35a154ef",
   "metadata": {},
   "outputs": [],
   "source": [
    "import numpy as np\n",
    "import pandas as pd\n",
    "import matplotlib.pyplot as plt\n",
    "import seaborn as sns\n",
    "import random\n",
    "import joblib\n",
    "from sklearn.model_selection import train_test_split\n",
    "\n",
    "# NLP\n",
    "import nltk\n",
    "import string\n",
    "from nltk.tokenize import word_tokenize\n",
    "from nltk.corpus import stopwords\n",
    "import gensim\n",
    "from gensim.utils import simple_preprocess\n",
    "from gensim.models import Word2Vec\n",
    "\n",
    "from sklearn.compose import ColumnTransformer\n",
    "from sklearn.pipeline import Pipeline\n",
    "from imblearn.pipeline import Pipeline as imbPipeline\n",
    "from tqdm import tqdm\n",
    "\n",
    "from imblearn.over_sampling import SMOTE\n",
    "\n",
    "# model\n",
    "import tensorflow as tf\n",
    "from tensorflow import keras\n",
    "from tensorflow.keras import layers\n",
    "from sklearn.linear_model import LogisticRegression\n",
    "\n",
    "# Ignore futurewarnings\n",
    "import warnings\n",
    "warnings.filterwarnings('ignore')"
   ]
  },
  {
   "cell_type": "markdown",
   "id": "97b1e3f1",
   "metadata": {},
   "source": [
    "# 2. Load data"
   ]
  },
  {
   "cell_type": "markdown",
   "id": "5bea552e",
   "metadata": {},
   "source": [
    "## 2.1 Target and Feature<a id=\"2.1\"></a>\n",
    "<a href=\"#top\" class=\"btn btn-primary btn-sm\" role=\"button\" aria-pressed=\"true\" style=\"color:white\" data-toggle=\"popover\">Go to TOC</a>"
   ]
  },
  {
   "cell_type": "markdown",
   "id": "ec639be1",
   "metadata": {},
   "source": [
    "**plan**\n",
    "- Define X and y, Target :`fraudulent`, Features:`has_salary_range`,`telecommuting`,`has_company_logo`,`has_questions`,and `text`.\n",
    "- split data into test set and reminder set, as I will process Cross-Validation in the follwing part, so I will not split my dataset into train and test.\n",
    "- investigate the distribustion of reminder set."
   ]
  },
  {
   "cell_type": "code",
   "execution_count": 4,
   "id": "c0dd2cc6",
   "metadata": {},
   "outputs": [],
   "source": [
    "# load data\n",
    "word_embed_df=joblib.load('data/df_model_full_df.pkl')"
   ]
  },
  {
   "cell_type": "code",
   "execution_count": 5,
   "id": "bcc0c6d1",
   "metadata": {},
   "outputs": [
    {
     "data": {
      "text/html": [
       "<div>\n",
       "<style scoped>\n",
       "    .dataframe tbody tr th:only-of-type {\n",
       "        vertical-align: middle;\n",
       "    }\n",
       "\n",
       "    .dataframe tbody tr th {\n",
       "        vertical-align: top;\n",
       "    }\n",
       "\n",
       "    .dataframe thead th {\n",
       "        text-align: right;\n",
       "    }\n",
       "</style>\n",
       "<table border=\"1\" class=\"dataframe\">\n",
       "  <thead>\n",
       "    <tr style=\"text-align: right;\">\n",
       "      <th></th>\n",
       "      <th>has_salary_range</th>\n",
       "      <th>telecommuting</th>\n",
       "      <th>has_company_logo</th>\n",
       "      <th>has_questions</th>\n",
       "      <th>fraudulent</th>\n",
       "      <th>text</th>\n",
       "    </tr>\n",
       "  </thead>\n",
       "  <tbody>\n",
       "    <tr>\n",
       "      <th>0</th>\n",
       "      <td>0</td>\n",
       "      <td>0</td>\n",
       "      <td>1</td>\n",
       "      <td>0</td>\n",
       "      <td>0</td>\n",
       "      <td>Marketing Intern Marketing We're Food52, and w...</td>\n",
       "    </tr>\n",
       "    <tr>\n",
       "      <th>1</th>\n",
       "      <td>0</td>\n",
       "      <td>0</td>\n",
       "      <td>1</td>\n",
       "      <td>0</td>\n",
       "      <td>0</td>\n",
       "      <td>Commissioning Machinery Assistant (CMA) Blank ...</td>\n",
       "    </tr>\n",
       "    <tr>\n",
       "      <th>2</th>\n",
       "      <td>0</td>\n",
       "      <td>0</td>\n",
       "      <td>1</td>\n",
       "      <td>0</td>\n",
       "      <td>0</td>\n",
       "      <td>Account Executive - Washington DC Sales Our pa...</td>\n",
       "    </tr>\n",
       "    <tr>\n",
       "      <th>3</th>\n",
       "      <td>0</td>\n",
       "      <td>0</td>\n",
       "      <td>1</td>\n",
       "      <td>1</td>\n",
       "      <td>0</td>\n",
       "      <td>Bill Review Manager Blank SpotSource Solutions...</td>\n",
       "    </tr>\n",
       "    <tr>\n",
       "      <th>4</th>\n",
       "      <td>0</td>\n",
       "      <td>0</td>\n",
       "      <td>0</td>\n",
       "      <td>0</td>\n",
       "      <td>0</td>\n",
       "      <td>Accounting Clerk Blank Blank Job OverviewApex ...</td>\n",
       "    </tr>\n",
       "    <tr>\n",
       "      <th>...</th>\n",
       "      <td>...</td>\n",
       "      <td>...</td>\n",
       "      <td>...</td>\n",
       "      <td>...</td>\n",
       "      <td>...</td>\n",
       "      <td>...</td>\n",
       "    </tr>\n",
       "    <tr>\n",
       "      <th>17874</th>\n",
       "      <td>0</td>\n",
       "      <td>0</td>\n",
       "      <td>1</td>\n",
       "      <td>1</td>\n",
       "      <td>0</td>\n",
       "      <td>Account Director - Distribution Sales Vend is ...</td>\n",
       "    </tr>\n",
       "    <tr>\n",
       "      <th>17875</th>\n",
       "      <td>0</td>\n",
       "      <td>0</td>\n",
       "      <td>1</td>\n",
       "      <td>1</td>\n",
       "      <td>0</td>\n",
       "      <td>Payroll Accountant Accounting WebLinc is the e...</td>\n",
       "    </tr>\n",
       "    <tr>\n",
       "      <th>17876</th>\n",
       "      <td>0</td>\n",
       "      <td>0</td>\n",
       "      <td>0</td>\n",
       "      <td>0</td>\n",
       "      <td>0</td>\n",
       "      <td>Project Cost Control Staff Engineer - Cost Con...</td>\n",
       "    </tr>\n",
       "    <tr>\n",
       "      <th>17877</th>\n",
       "      <td>0</td>\n",
       "      <td>0</td>\n",
       "      <td>0</td>\n",
       "      <td>1</td>\n",
       "      <td>0</td>\n",
       "      <td>Graphic Designer Blank Blank Nemsia Studios is...</td>\n",
       "    </tr>\n",
       "    <tr>\n",
       "      <th>17878</th>\n",
       "      <td>0</td>\n",
       "      <td>0</td>\n",
       "      <td>1</td>\n",
       "      <td>1</td>\n",
       "      <td>0</td>\n",
       "      <td>Web Application Developers Engineering Vend is...</td>\n",
       "    </tr>\n",
       "  </tbody>\n",
       "</table>\n",
       "<p>17879 rows × 6 columns</p>\n",
       "</div>"
      ],
      "text/plain": [
       "       has_salary_range  telecommuting  has_company_logo  has_questions  \\\n",
       "0                     0              0                 1              0   \n",
       "1                     0              0                 1              0   \n",
       "2                     0              0                 1              0   \n",
       "3                     0              0                 1              1   \n",
       "4                     0              0                 0              0   \n",
       "...                 ...            ...               ...            ...   \n",
       "17874                 0              0                 1              1   \n",
       "17875                 0              0                 1              1   \n",
       "17876                 0              0                 0              0   \n",
       "17877                 0              0                 0              1   \n",
       "17878                 0              0                 1              1   \n",
       "\n",
       "       fraudulent                                               text  \n",
       "0               0  Marketing Intern Marketing We're Food52, and w...  \n",
       "1               0  Commissioning Machinery Assistant (CMA) Blank ...  \n",
       "2               0  Account Executive - Washington DC Sales Our pa...  \n",
       "3               0  Bill Review Manager Blank SpotSource Solutions...  \n",
       "4               0  Accounting Clerk Blank Blank Job OverviewApex ...  \n",
       "...           ...                                                ...  \n",
       "17874           0  Account Director - Distribution Sales Vend is ...  \n",
       "17875           0  Payroll Accountant Accounting WebLinc is the e...  \n",
       "17876           0  Project Cost Control Staff Engineer - Cost Con...  \n",
       "17877           0  Graphic Designer Blank Blank Nemsia Studios is...  \n",
       "17878           0  Web Application Developers Engineering Vend is...  \n",
       "\n",
       "[17879 rows x 6 columns]"
      ]
     },
     "execution_count": 5,
     "metadata": {},
     "output_type": "execute_result"
    }
   ],
   "source": [
    "# sample of dataset\n",
    "word_embed_df"
   ]
  },
  {
   "cell_type": "code",
   "execution_count": 6,
   "id": "1693fa3f",
   "metadata": {},
   "outputs": [
    {
     "name": "stdout",
     "output_type": "stream",
     "text": [
      "The shape of word_embed_df is (17879, 6)\n"
     ]
    }
   ],
   "source": [
    "print(f\"The shape of word_embed_df is {word_embed_df.shape}\")"
   ]
  },
  {
   "cell_type": "code",
   "execution_count": 7,
   "id": "96eab67b",
   "metadata": {},
   "outputs": [
    {
     "name": "stdout",
     "output_type": "stream",
     "text": [
      "<class 'pandas.core.frame.DataFrame'>\n",
      "RangeIndex: 17879 entries, 0 to 17878\n",
      "Data columns (total 6 columns):\n",
      " #   Column            Non-Null Count  Dtype \n",
      "---  ------            --------------  ----- \n",
      " 0   has_salary_range  17879 non-null  int32 \n",
      " 1   telecommuting     17879 non-null  int64 \n",
      " 2   has_company_logo  17879 non-null  int64 \n",
      " 3   has_questions     17879 non-null  int64 \n",
      " 4   fraudulent        17879 non-null  int64 \n",
      " 5   text              17879 non-null  object\n",
      "dtypes: int32(1), int64(4), object(1)\n",
      "memory usage: 768.4+ KB\n"
     ]
    }
   ],
   "source": [
    "word_embed_df.info()"
   ]
  },
  {
   "cell_type": "markdown",
   "id": "3aa349b7",
   "metadata": {},
   "source": [
    "**Define Target and Features**"
   ]
  },
  {
   "cell_type": "code",
   "execution_count": 8,
   "id": "6ad9dc69",
   "metadata": {},
   "outputs": [],
   "source": [
    "# define X and y\n",
    "X=word_embed_df.drop('fraudulent',axis=1)\n",
    "y=word_embed_df['fraudulent']"
   ]
  },
  {
   "cell_type": "code",
   "execution_count": 9,
   "id": "7e3670d1",
   "metadata": {},
   "outputs": [
    {
     "name": "stdout",
     "output_type": "stream",
     "text": [
      "The shape of features(X) is (17879, 5),and the shape of y (Target) is (17879,)\n"
     ]
    }
   ],
   "source": [
    "print(f\"The shape of features(X) is {X.shape},and the shape of y (Target) is {y.shape}\")"
   ]
  },
  {
   "cell_type": "markdown",
   "id": "1428a38a",
   "metadata": {},
   "source": [
    "**Reminder and test split**"
   ]
  },
  {
   "cell_type": "code",
   "execution_count": 10,
   "id": "2f5631fc",
   "metadata": {},
   "outputs": [],
   "source": [
    "X_rem,X_test,y_rem,y_test=train_test_split(X,y,test_size=0.3,random_state=5, stratify=y)"
   ]
  },
  {
   "cell_type": "code",
   "execution_count": 11,
   "id": "bc7c2559",
   "metadata": {},
   "outputs": [
    {
     "name": "stdout",
     "output_type": "stream",
     "text": [
      "The shape of X_reminder is (12515, 5),and the shape of y_rem is (12515,)\n"
     ]
    }
   ],
   "source": [
    "print(f\"The shape of X_reminder is {X_rem.shape},and the shape of y_rem is {y_rem.shape}\")"
   ]
  },
  {
   "cell_type": "code",
   "execution_count": 12,
   "id": "058d01d8",
   "metadata": {},
   "outputs": [
    {
     "name": "stdout",
     "output_type": "stream",
     "text": [
      "The shape of X_test is (5364, 5),and the shape of y_test is (5364,)\n"
     ]
    }
   ],
   "source": [
    "print(f\"The shape of X_test is {X_test.shape},and the shape of y_test is {y_test.shape}\")"
   ]
  },
  {
   "cell_type": "code",
   "execution_count": 13,
   "id": "7f59efc2",
   "metadata": {},
   "outputs": [
    {
     "data": {
      "text/html": [
       "<div>\n",
       "<style scoped>\n",
       "    .dataframe tbody tr th:only-of-type {\n",
       "        vertical-align: middle;\n",
       "    }\n",
       "\n",
       "    .dataframe tbody tr th {\n",
       "        vertical-align: top;\n",
       "    }\n",
       "\n",
       "    .dataframe thead th {\n",
       "        text-align: right;\n",
       "    }\n",
       "</style>\n",
       "<table border=\"1\" class=\"dataframe\">\n",
       "  <thead>\n",
       "    <tr style=\"text-align: right;\">\n",
       "      <th></th>\n",
       "      <th>has_salary_range</th>\n",
       "      <th>telecommuting</th>\n",
       "      <th>has_company_logo</th>\n",
       "      <th>has_questions</th>\n",
       "      <th>text</th>\n",
       "    </tr>\n",
       "  </thead>\n",
       "  <tbody>\n",
       "    <tr>\n",
       "      <th>4310</th>\n",
       "      <td>0</td>\n",
       "      <td>0</td>\n",
       "      <td>1</td>\n",
       "      <td>1</td>\n",
       "      <td>Creative Director - Art Blank Kettle is an ind...</td>\n",
       "    </tr>\n",
       "    <tr>\n",
       "      <th>11082</th>\n",
       "      <td>0</td>\n",
       "      <td>0</td>\n",
       "      <td>1</td>\n",
       "      <td>0</td>\n",
       "      <td>CDL Driver Blank ABC Supply Co., Inc. is the n...</td>\n",
       "    </tr>\n",
       "    <tr>\n",
       "      <th>14188</th>\n",
       "      <td>0</td>\n",
       "      <td>0</td>\n",
       "      <td>1</td>\n",
       "      <td>0</td>\n",
       "      <td>Data Analyst (Marketing) Blank Blank We are lo...</td>\n",
       "    </tr>\n",
       "    <tr>\n",
       "      <th>8280</th>\n",
       "      <td>0</td>\n",
       "      <td>0</td>\n",
       "      <td>1</td>\n",
       "      <td>1</td>\n",
       "      <td>Channel Representative Blank Intercom (# is a ...</td>\n",
       "    </tr>\n",
       "    <tr>\n",
       "      <th>13924</th>\n",
       "      <td>0</td>\n",
       "      <td>0</td>\n",
       "      <td>1</td>\n",
       "      <td>0</td>\n",
       "      <td>Programmatic Media Manager Media Since 1978Our...</td>\n",
       "    </tr>\n",
       "  </tbody>\n",
       "</table>\n",
       "</div>"
      ],
      "text/plain": [
       "       has_salary_range  telecommuting  has_company_logo  has_questions  \\\n",
       "4310                  0              0                 1              1   \n",
       "11082                 0              0                 1              0   \n",
       "14188                 0              0                 1              0   \n",
       "8280                  0              0                 1              1   \n",
       "13924                 0              0                 1              0   \n",
       "\n",
       "                                                    text  \n",
       "4310   Creative Director - Art Blank Kettle is an ind...  \n",
       "11082  CDL Driver Blank ABC Supply Co., Inc. is the n...  \n",
       "14188  Data Analyst (Marketing) Blank Blank We are lo...  \n",
       "8280   Channel Representative Blank Intercom (# is a ...  \n",
       "13924  Programmatic Media Manager Media Since 1978Our...  "
      ]
     },
     "execution_count": 13,
     "metadata": {},
     "output_type": "execute_result"
    }
   ],
   "source": [
    "X_rem.head()"
   ]
  },
  {
   "cell_type": "code",
   "execution_count": 14,
   "id": "aaf366b7",
   "metadata": {},
   "outputs": [
    {
     "data": {
      "text/plain": [
       "array([0, 1], dtype=int64)"
      ]
     },
     "execution_count": 14,
     "metadata": {},
     "output_type": "execute_result"
    }
   ],
   "source": [
    "y_rem.unique()"
   ]
  },
  {
   "cell_type": "code",
   "execution_count": 15,
   "id": "a895360b",
   "metadata": {},
   "outputs": [
    {
     "data": {
      "text/html": [
       "<div>\n",
       "<style scoped>\n",
       "    .dataframe tbody tr th:only-of-type {\n",
       "        vertical-align: middle;\n",
       "    }\n",
       "\n",
       "    .dataframe tbody tr th {\n",
       "        vertical-align: top;\n",
       "    }\n",
       "\n",
       "    .dataframe thead th {\n",
       "        text-align: right;\n",
       "    }\n",
       "</style>\n",
       "<table border=\"1\" class=\"dataframe\">\n",
       "  <thead>\n",
       "    <tr style=\"text-align: right;\">\n",
       "      <th></th>\n",
       "      <th>has_salary_range</th>\n",
       "      <th>telecommuting</th>\n",
       "      <th>has_company_logo</th>\n",
       "      <th>has_questions</th>\n",
       "      <th>text</th>\n",
       "    </tr>\n",
       "  </thead>\n",
       "  <tbody>\n",
       "    <tr>\n",
       "      <th>8222</th>\n",
       "      <td>1</td>\n",
       "      <td>0</td>\n",
       "      <td>1</td>\n",
       "      <td>0</td>\n",
       "      <td>eCommerce Specialist / Database Management for...</td>\n",
       "    </tr>\n",
       "    <tr>\n",
       "      <th>1560</th>\n",
       "      <td>0</td>\n",
       "      <td>0</td>\n",
       "      <td>1</td>\n",
       "      <td>1</td>\n",
       "      <td>Solution Engineer Blank Declara is focused on ...</td>\n",
       "    </tr>\n",
       "    <tr>\n",
       "      <th>17171</th>\n",
       "      <td>1</td>\n",
       "      <td>0</td>\n",
       "      <td>0</td>\n",
       "      <td>1</td>\n",
       "      <td>Sales Representative for Home Improvement Blan...</td>\n",
       "    </tr>\n",
       "    <tr>\n",
       "      <th>9164</th>\n",
       "      <td>0</td>\n",
       "      <td>0</td>\n",
       "      <td>1</td>\n",
       "      <td>1</td>\n",
       "      <td>Customer Service Specialist Interpreting Servi...</td>\n",
       "    </tr>\n",
       "    <tr>\n",
       "      <th>9454</th>\n",
       "      <td>0</td>\n",
       "      <td>0</td>\n",
       "      <td>1</td>\n",
       "      <td>0</td>\n",
       "      <td>Customer Service Associate - Records Blank Nov...</td>\n",
       "    </tr>\n",
       "  </tbody>\n",
       "</table>\n",
       "</div>"
      ],
      "text/plain": [
       "       has_salary_range  telecommuting  has_company_logo  has_questions  \\\n",
       "8222                  1              0                 1              0   \n",
       "1560                  0              0                 1              1   \n",
       "17171                 1              0                 0              1   \n",
       "9164                  0              0                 1              1   \n",
       "9454                  0              0                 1              0   \n",
       "\n",
       "                                                    text  \n",
       "8222   eCommerce Specialist / Database Management for...  \n",
       "1560   Solution Engineer Blank Declara is focused on ...  \n",
       "17171  Sales Representative for Home Improvement Blan...  \n",
       "9164   Customer Service Specialist Interpreting Servi...  \n",
       "9454   Customer Service Associate - Records Blank Nov...  "
      ]
     },
     "execution_count": 15,
     "metadata": {},
     "output_type": "execute_result"
    }
   ],
   "source": [
    "X_test.head()"
   ]
  },
  {
   "cell_type": "code",
   "execution_count": 16,
   "id": "d0f38cb6",
   "metadata": {},
   "outputs": [
    {
     "data": {
      "text/plain": [
       "array([0, 1], dtype=int64)"
      ]
     },
     "execution_count": 16,
     "metadata": {},
     "output_type": "execute_result"
    }
   ],
   "source": [
    "y_test.unique()"
   ]
  },
  {
   "cell_type": "markdown",
   "id": "d6f08197",
   "metadata": {},
   "source": [
    "- X_rem and X_test have same features, and y_test and y_rem contains only 2 result.\n",
    "- 2 Reminder sets and test stes have same number of rows.\n",
    "- Now I have my reminder and test set ready.\n",
    "---"
   ]
  },
  {
   "cell_type": "markdown",
   "id": "c15ea260",
   "metadata": {},
   "source": [
    "# 3. NLP"
   ]
  },
  {
   "cell_type": "markdown",
   "id": "e88d5600",
   "metadata": {},
   "source": [
    "## 3.1 Pre-process<a id=\"3.1\"></a>\n",
    "<a href=\"#top\" class=\"btn btn-primary btn-sm\" role=\"button\" aria-pressed=\"true\" style=\"color:white\" data-toggle=\"popover\">Go to TOC</a>"
   ]
  },
  {
   "cell_type": "markdown",
   "id": "a2644cec",
   "metadata": {},
   "source": [
    "**Plan**\n",
    "- Define function text_process()\n",
    "- Transform X_rem and X_test\n",
    "\n",
    "\n",
    "**Function text_process()**\n",
    "\n",
    "**What does the function do**\n",
    "- lowercase all the text\n",
    "- Get rid of extra blank\n",
    "- Take out of stopwords\n",
    "- Take out puncuations\n",
    "- Stemming\n",
    "- Combine all the text back to a sentence"
   ]
  },
  {
   "cell_type": "code",
   "execution_count": 17,
   "id": "f96c0825",
   "metadata": {},
   "outputs": [],
   "source": [
    "# init stemmer\n",
    "stemmer = nltk.stem.PorterStemmer()\n",
    "# make tokens\n",
    "def text_process(text):\n",
    "    non_pun=''.join([w for w in text.lower() if w not in string.punctuation])\n",
    "\n",
    "    lst_words=non_pun.split(' ')\n",
    "    #print(lst_words)\n",
    "    # remove stop words and stem\n",
    "    lst_out=[]\n",
    "    for w in lst_words:\n",
    "        if (w not in stopwords.words('english')) and (w != \"\"):\n",
    "            stemmed_word = stemmer.stem(w)\n",
    "            lst_out.append(stemmed_word)\n",
    "    # combine list into sentence\n",
    "            sentence = ' '.join(lst_out)\n",
    "    return sentence"
   ]
  },
  {
   "cell_type": "code",
   "execution_count": 18,
   "id": "f8c8431f",
   "metadata": {},
   "outputs": [
    {
     "data": {
      "text/plain": [
       "'market intern market food52 weve creat groundbreak awardwin cook site support connect celebr home cook give everyth need one placew top editori busi engin team focus use technolog find new better way connect peopl around specif food interest offer superb highli curat inform food cook attract talent home cook contributor countri also publish wellknown profession like mario batali gwyneth paltrow danni meyer partnership whole food market random housefood52 name best food websit jame beard foundat iacp featur new york time npr pando daili techcrunch today showwer locat chelsea new york citi food52 fastgrow jame beard awardwin onlin food commun crowdsourc curat recip hub current interview full parttim unpaid intern work small team editor execut develop new york citi headquartersreproduc andor repackag exist food52 content number partner site huffington post yahoo buzzfe variou content manag systemsresearch blog websit provis food52 affili programassist daytoday affili program support screen affili assist affili inquiriessupport pr amp event neededhelp offic administr work file mail prepar meetingswork develop document bug suggest improv sitesupport market execut staff experi content manag system major plu blog countsfamiliar food52 editori voic aestheticlov food appreci import home cook cook seasonsmeticul editor perfectionist obsess attent detail madden typo broken link delight find fix themcheer pressureexcel commun skillsa multitask juggler respons big smallinterest engag social media like twitter facebook pinterestlov problemsolv collabor drive food52 forwardthink big pictur pitch nitti gritti run small compani dish shop administr supportcomfort realiti work startup call even weekend work long hour blank internship blankblank market us'"
      ]
     },
     "execution_count": 18,
     "metadata": {},
     "output_type": "execute_result"
    }
   ],
   "source": [
    "# test result\n",
    "text_process(X_rem['text'][0])"
   ]
  },
  {
   "cell_type": "code",
   "execution_count": 19,
   "id": "201b6af8",
   "metadata": {},
   "outputs": [
    {
     "data": {
      "text/plain": [
       "\"Marketing Intern Marketing We're Food52, and we've created a groundbreaking and award-winning cooking site. We support, connect, and celebrate home cooks, and give them everything they need in one place.We have a top editorial, business, and engineering team. We're focused on using technology to find new and better ways to connect people around their specific food interests, and to offer them superb, highly curated information about food and cooking. We attract the most talented home cooks and contributors in the country; we also publish well-known professionals like Mario Batali, Gwyneth Paltrow, and Danny Meyer. And we have partnerships with Whole Foods Market and Random House.Food52 has been named the best food website by the James Beard Foundation and IACP, and has been featured in the New York Times, NPR, Pando Daily, TechCrunch, and on the Today Show.We're located in Chelsea, in New York City. Food52, a fast-growing, James Beard Award-winning online food community and crowd-sourced and curated recipe hub, is currently interviewing full- and part-time unpaid interns to work in a small team of editors, executives, and developers in its New York City headquarters.Reproducing and/or repackaging existing Food52 content for a number of partner sites, such as Huffington Post, Yahoo, Buzzfeed, and more in their various content management systemsResearching blogs and websites for the Provisions by Food52 Affiliate ProgramAssisting in day-to-day affiliate program support, such as screening affiliates and assisting in any affiliate inquiriesSupporting with PR &amp; Events when neededHelping with office administrative work, such as filing, mailing, and preparing for meetingsWorking with developers to document bugs and suggest improvements to the siteSupporting the marketing and executive staff Experience with content management systems a major plus (any blogging counts!)Familiar with the Food52 editorial voice and aestheticLoves food, appreciates the importance of home cooking and cooking with the seasonsMeticulous editor, perfectionist, obsessive attention to detail, maddened by typos and broken links, delighted by finding and fixing themCheerful under pressureExcellent communication skillsA+ multi-tasker and juggler of responsibilities big and smallInterested in and engaged with social media like Twitter, Facebook, and PinterestLoves problem-solving and collaborating to drive Food52 forwardThinks big picture but pitches in on the nitty gritty of running a small company (dishes, shopping, administrative support)Comfortable with the realities of working for a startup: being on call on evenings and weekends, and working long hours Blank Other Internship BlankBlank Marketing US\""
      ]
     },
     "execution_count": 19,
     "metadata": {},
     "output_type": "execute_result"
    }
   ],
   "source": [
    "# compare with the orignal text\n",
    "X_rem['text'][0]"
   ]
  },
  {
   "cell_type": "markdown",
   "id": "0d72aec6",
   "metadata": {},
   "source": [
    "**Note: This `text` pre-process process is quite time-consuming, if you don't want to run this, you can load from my pickle files**\n",
    "\n",
    "**File list**\n",
    "- X_rem_stem.pkl stemmed X_rem\n",
    "- X_test_stem.pkl stemmed X_test\n",
    "\n",
    "**skip text preprocess step if you want to save time**"
   ]
  },
  {
   "cell_type": "code",
   "execution_count": 170,
   "id": "8d11e24a",
   "metadata": {},
   "outputs": [],
   "source": [
    "# X_rem pre-process \n",
    "X_rem_stem=X_rem.copy()\n",
    "X_rem_stem['text']=X_rem_stem['text'].apply(text_process)"
   ]
  },
  {
   "cell_type": "code",
   "execution_count": 171,
   "id": "f0fbb952",
   "metadata": {},
   "outputs": [
    {
     "data": {
      "text/plain": [
       "True"
      ]
     },
     "execution_count": 171,
     "metadata": {},
     "output_type": "execute_result"
    }
   ],
   "source": [
    "X_rem_stem.shape==X_rem.shape"
   ]
  },
  {
   "cell_type": "code",
   "execution_count": 221,
   "id": "72af5749",
   "metadata": {},
   "outputs": [
    {
     "data": {
      "text/plain": [
       "(12515, 5)"
      ]
     },
     "execution_count": 221,
     "metadata": {},
     "output_type": "execute_result"
    }
   ],
   "source": [
    "X_rem_stem.shape"
   ]
  },
  {
   "cell_type": "code",
   "execution_count": 172,
   "id": "b0071054",
   "metadata": {},
   "outputs": [],
   "source": [
    "# X_test pre-process \n",
    "X_test_stem=X_test.copy()\n",
    "X_test_stem['text']=X_test_stem['text'].apply(text_process)"
   ]
  },
  {
   "cell_type": "code",
   "execution_count": 173,
   "id": "7b6739d3",
   "metadata": {},
   "outputs": [
    {
     "data": {
      "text/plain": [
       "True"
      ]
     },
     "execution_count": 173,
     "metadata": {},
     "output_type": "execute_result"
    }
   ],
   "source": [
    "X_test.shape==X_test_stem.shape"
   ]
  },
  {
   "cell_type": "code",
   "execution_count": 222,
   "id": "99b62fc9",
   "metadata": {},
   "outputs": [
    {
     "data": {
      "text/plain": [
       "(5364, 5)"
      ]
     },
     "execution_count": 222,
     "metadata": {},
     "output_type": "execute_result"
    }
   ],
   "source": [
    "X_test_stem.shape"
   ]
  },
  {
   "cell_type": "code",
   "execution_count": 242,
   "id": "60a4c19a",
   "metadata": {},
   "outputs": [
    {
     "data": {
      "text/plain": [
       "['data_NN/X_rem_stem.pkl']"
      ]
     },
     "execution_count": 242,
     "metadata": {},
     "output_type": "execute_result"
    }
   ],
   "source": [
    "# dump stemmed X_rem\n",
    "joblib.dump(X_rem_stem,'data_NN/X_rem_stem.pkl')"
   ]
  },
  {
   "cell_type": "code",
   "execution_count": 243,
   "id": "aa39e89f",
   "metadata": {},
   "outputs": [
    {
     "data": {
      "text/plain": [
       "['data_NN/X_test_stem.pkl']"
      ]
     },
     "execution_count": 243,
     "metadata": {},
     "output_type": "execute_result"
    }
   ],
   "source": [
    "# dump stemmed X_test\n",
    "joblib.dump(X_test_stem,'data_NN/X_test_stem.pkl')"
   ]
  },
  {
   "cell_type": "markdown",
   "id": "716fc88f",
   "metadata": {},
   "source": [
    "**Load my result X_rem_stem and X_test_stem directly**"
   ]
  },
  {
   "cell_type": "code",
   "execution_count": 20,
   "id": "82700180",
   "metadata": {},
   "outputs": [],
   "source": [
    "X_rem_stem_r=joblib.load('data_NN/X_rem_stem.pkl')\n",
    "X_test_stem_r=joblib.load('data_NN/X_test_stem.pkl')"
   ]
  },
  {
   "cell_type": "markdown",
   "id": "81b74e81",
   "metadata": {},
   "source": [
    "- X_rem and X_test has been transfered, moving forward I will keep NLP precoess using X_test_stem and X_rem_stem.\n",
    "\n",
    "**Note: The previous text pre-process step take quite long time, I will use my dump result moving forward.**\n",
    "\n",
    "\n",
    "---"
   ]
  },
  {
   "cell_type": "markdown",
   "id": "4e7d3cd1",
   "metadata": {},
   "source": [
    "# 4. Word Embeddings"
   ]
  },
  {
   "cell_type": "markdown",
   "id": "84b7f328",
   "metadata": {},
   "source": [
    "## 4.1 Word2Vec<a id=\"4.1\"></a>\n",
    "<a href=\"#top\" class=\"btn btn-primary btn-sm\" role=\"button\" aria-pressed=\"true\" style=\"color:white\" data-toggle=\"popover\">Go to TOC</a>\n"
   ]
  },
  {
   "cell_type": "markdown",
   "id": "10567e19",
   "metadata": {},
   "source": [
    "**Inro**\n",
    "\n",
    "- Word2Vec, you need to down load and unzip the pre_trained word vectors. load pretrained vectors: we will use [LexVec](https://github.com/alexandres/lexvec) and Wikipedia.\n",
    "- This is a 300-dimensional embeddings."
   ]
  },
  {
   "cell_type": "code",
   "execution_count": 34,
   "id": "559772f0",
   "metadata": {},
   "outputs": [],
   "source": [
    "# load model\n",
    "model = gensim.models.KeyedVectors.load_word2vec_format('word_vectors/lexvec-wikipedia-word-vectors', binary=False)"
   ]
  },
  {
   "cell_type": "code",
   "execution_count": 22,
   "id": "4cc84466",
   "metadata": {},
   "outputs": [],
   "source": [
    "def sentence2vec(text):\n",
    "    \"\"\"\n",
    "    Embed a sentence by averaging the word vectors of the tokenized text. \n",
    "    Out-of-vocabulary words are replaced by the zero-vector.\n",
    "    -----\n",
    "    \n",
    "    Input: text (string)\n",
    "    Output: embedding vector (np.array)\n",
    "    \"\"\"\n",
    "    tokenized = simple_preprocess(text)\n",
    "    \n",
    "    word_embeddings = [np.zeros(300)]\n",
    "    for word in tokenized:\n",
    "        # if the word is in the model then embed\n",
    "        if word in model:\n",
    "            vector = model[word]\n",
    "        # add zeros for out-of-vocab words\n",
    "        else:\n",
    "            vector = np.zeros(300)\n",
    "            \n",
    "        word_embeddings.append(vector)\n",
    "    \n",
    "    # average the word vectors\n",
    "    sentence_embedding = np.stack(word_embeddings).mean(axis=0)\n",
    "    \n",
    "    return sentence_embedding"
   ]
  },
  {
   "cell_type": "code",
   "execution_count": 26,
   "id": "c78c8075",
   "metadata": {},
   "outputs": [],
   "source": [
    "test=X_rem_stem_r['text'][0]"
   ]
  },
  {
   "cell_type": "code",
   "execution_count": 27,
   "id": "fe11833d",
   "metadata": {
    "scrolled": true
   },
   "outputs": [
    {
     "data": {
      "text/plain": [
       "array([ 6.74341045e-03,  1.47785036e-02,  5.18470079e-02, -4.48522844e-02,\n",
       "       -2.32123977e-02,  7.35103956e-02, -7.02376553e-02, -5.86331787e-02,\n",
       "        2.72017154e-02,  3.71126025e-02,  6.18962439e-02,  6.79209924e-02,\n",
       "       -6.13002897e-02,  3.52634207e-02,  2.85057258e-02, -8.66618409e-03,\n",
       "       -5.40745569e-02,  1.24067808e-02,  1.81927631e-02,  2.75717560e-02,\n",
       "       -4.87615723e-02, -1.25809813e-03,  5.34995272e-02,  3.95418914e-02,\n",
       "       -4.34269696e-02,  1.93284652e-03,  5.51410959e-02,  9.17166852e-02,\n",
       "        5.33706070e-02,  7.19878818e-03, -5.27638614e-02, -1.21628942e-02,\n",
       "        8.86199968e-03, -1.11307108e-02, -2.01904659e-02,  2.45921786e-02,\n",
       "        3.41809196e-02, -2.82615622e-02, -1.13043402e-02,  3.55892729e-05,\n",
       "        3.59347051e-02,  9.14204037e-03, -5.65660100e-02, -8.42303885e-02,\n",
       "       -1.88666553e-02, -5.00674356e-02,  1.24683323e-02,  8.01085988e-04,\n",
       "       -4.29462464e-02, -1.46393554e-02,  2.80085617e-02,  1.34663207e-03,\n",
       "       -1.11906828e-02, -3.20012117e-03, -2.57661036e-02,  9.15322850e-03,\n",
       "        2.88608086e-03,  5.33182766e-02, -3.75987000e-02,  3.50404031e-03,\n",
       "        1.95202167e-02, -3.92093455e-02, -3.02391056e-02,  2.45100120e-02,\n",
       "        1.98328137e-02,  7.93455192e-02,  3.24940526e-02, -4.68326701e-02,\n",
       "        9.77112342e-03,  7.68095652e-04,  2.13851058e-02,  1.77626397e-02,\n",
       "       -3.43288793e-02,  4.72041182e-02, -2.58130002e-02, -2.26094230e-03,\n",
       "        2.66200454e-02, -5.59688892e-02,  3.53987303e-02,  5.56636757e-02,\n",
       "        4.66699493e-02,  2.89265362e-02, -2.24996470e-02,  3.16717102e-03,\n",
       "       -2.27166500e-02, -1.14320256e-02, -7.47162441e-02,  1.13902568e-02,\n",
       "       -1.45891940e-02, -4.36719926e-02, -3.30138459e-02, -2.91514185e-02,\n",
       "        1.77483252e-02,  9.52956410e-03,  2.69261845e-02, -2.29796195e-02,\n",
       "       -5.54292770e-02,  3.82327931e-02, -4.24386747e-02,  3.55035364e-02,\n",
       "        3.10155823e-02,  7.61365771e-02, -7.64111830e-03,  5.27274290e-03,\n",
       "        3.22151513e-02, -4.11626116e-02, -9.57184556e-02, -2.89184281e-02,\n",
       "        1.89783276e-02, -1.65859929e-03, -2.62874558e-02,  2.71983729e-02,\n",
       "        8.82678770e-02,  2.87011788e-02,  7.71671588e-02, -2.66264031e-02,\n",
       "        8.75207563e-03, -1.42725367e-02, -2.37471559e-02, -6.94945619e-02,\n",
       "        5.77227684e-02,  7.80066120e-02, -2.79102242e-02,  3.22688992e-02,\n",
       "        4.72047911e-02, -3.28840275e-03, -1.17773293e-03,  2.05165241e-02,\n",
       "       -5.00178268e-02,  5.46207763e-02,  4.48574480e-02, -3.06617432e-02,\n",
       "        1.20205213e-02, -6.34488092e-02, -5.49485540e-02,  9.54482392e-03,\n",
       "       -7.07529219e-02, -8.94941538e-02,  4.69169096e-02,  3.79089141e-02,\n",
       "        1.02878368e-02, -4.66292141e-02, -2.05991286e-02,  2.95065039e-02,\n",
       "        4.05941082e-02, -3.58491419e-03,  1.67002065e-02,  1.61504963e-02,\n",
       "       -6.67483395e-02,  1.77515895e-02, -8.66383323e-02,  2.78779568e-02,\n",
       "       -1.50679445e-02, -4.90585516e-02,  6.00607137e-04,  2.52981461e-02,\n",
       "       -4.70012924e-02,  4.69231032e-02, -1.94821157e-02,  1.25527736e-03,\n",
       "        7.12843175e-02, -3.33577301e-02,  1.32573274e-02,  6.96471058e-02,\n",
       "       -3.06339169e-02, -3.92284784e-02,  6.98541385e-02, -4.22267509e-02,\n",
       "        2.43444111e-03,  2.07236447e-02,  1.89430581e-02,  4.96474483e-02,\n",
       "        4.94500932e-02,  2.75531357e-02, -1.53417832e-02,  2.79672771e-02,\n",
       "       -1.84070907e-02, -3.85894259e-02, -1.99008365e-02, -2.32395316e-02,\n",
       "       -3.56707252e-02,  6.29526530e-02, -5.59811318e-03, -2.44150101e-02,\n",
       "        3.21690179e-02,  2.49636197e-02, -8.61557102e-02,  6.72805672e-02,\n",
       "        2.22174138e-02, -2.33485339e-02, -2.04922575e-02,  8.99509545e-03,\n",
       "        5.66803655e-02, -3.47318794e-02,  5.64421740e-02,  1.53338507e-03,\n",
       "       -1.84856901e-02,  1.46820356e-02, -2.33932845e-02, -4.67064508e-02,\n",
       "        4.48724226e-02,  1.11045292e-02,  3.46845892e-02,  1.27679497e-02,\n",
       "       -1.79552494e-02, -3.28423450e-02, -2.69859545e-02,  5.44526167e-03,\n",
       "       -5.52975693e-02,  5.60850602e-02,  1.94959850e-02, -8.83206565e-03,\n",
       "        1.09857615e-02,  1.97180055e-02, -2.33810552e-03,  1.45691648e-03,\n",
       "        9.14432008e-03, -4.59755513e-02,  5.54264736e-02, -3.12077736e-02,\n",
       "       -4.14824633e-02, -1.40889722e-02, -8.44995345e-02,  4.63982342e-02,\n",
       "       -3.91856425e-02, -4.49087332e-02,  7.05726772e-02, -1.48352819e-02,\n",
       "        2.66890025e-02, -3.85167685e-02,  1.26295165e-02,  1.32439826e-02,\n",
       "       -2.04873476e-02,  2.49412072e-03,  5.60222088e-02,  1.63594507e-02,\n",
       "        7.65127954e-02,  3.21873221e-02, -3.22797634e-02,  9.27033764e-03,\n",
       "        5.23905542e-02, -4.70485544e-02, -3.52014483e-02,  7.12668975e-03,\n",
       "        5.23173544e-03,  9.28302775e-03, -7.32583903e-02, -2.66970881e-02,\n",
       "       -4.96887833e-02, -3.53686822e-02,  3.21416363e-03, -8.60491234e-02,\n",
       "        2.37679118e-02, -1.64474681e-02,  1.16594839e-01, -1.99534434e-02,\n",
       "       -1.00923095e-02, -6.09400527e-02,  2.49084711e-02, -2.70673905e-02,\n",
       "       -3.96239323e-02,  1.27888418e-02,  2.63047128e-02, -2.27186349e-02,\n",
       "        2.91227684e-02, -2.77627959e-02, -8.37417605e-03,  2.11260050e-02,\n",
       "        4.48925718e-02, -8.92206291e-03, -2.40205209e-02,  1.86334615e-02,\n",
       "        3.13873804e-02,  2.38252166e-02,  5.93593727e-03, -1.89359399e-02,\n",
       "       -2.09069525e-03,  2.42099269e-02, -5.21194611e-02,  2.27529953e-02,\n",
       "       -4.36565235e-03, -3.55105338e-02, -2.46298963e-03, -2.85313779e-02,\n",
       "        3.29240046e-03, -2.88799346e-02, -1.31173669e-04,  1.70617431e-02,\n",
       "       -4.94230253e-02, -4.13128190e-02,  5.90114630e-03, -6.81568862e-02,\n",
       "       -2.45084938e-02, -1.15383225e-01, -7.46380528e-04,  2.50545720e-02,\n",
       "        2.34656300e-02, -3.14191085e-02,  2.10133294e-03,  2.25730760e-03])"
      ]
     },
     "execution_count": 27,
     "metadata": {},
     "output_type": "execute_result"
    }
   ],
   "source": [
    "# run test on function sentence2vec, funtion sentence2vec will vectorlize a chunk of words and make them into vectors.\n",
    "sentence2vec(test)"
   ]
  },
  {
   "cell_type": "code",
   "execution_count": 28,
   "id": "a254106e",
   "metadata": {},
   "outputs": [
    {
     "data": {
      "text/plain": [
       "(300,)"
      ]
     },
     "execution_count": 28,
     "metadata": {},
     "output_type": "execute_result"
    }
   ],
   "source": [
    "#  300-dimensional\n",
    "sentence2vec(test).shape"
   ]
  },
  {
   "cell_type": "code",
   "execution_count": 32,
   "id": "0ab96a21",
   "metadata": {},
   "outputs": [
    {
     "name": "stdout",
     "output_type": "stream",
     "text": [
      "Numerical columns are: ['has_salary_range', 'telecommuting', 'has_company_logo', 'has_questions']\n"
     ]
    }
   ],
   "source": [
    "numerical = list(X_rem_stem_r.select_dtypes('number').columns)\n",
    "print(f\"Numerical columns are: {numerical}\")"
   ]
  },
  {
   "cell_type": "code",
   "execution_count": 33,
   "id": "6ed97dc6",
   "metadata": {},
   "outputs": [
    {
     "name": "stdout",
     "output_type": "stream",
     "text": [
      "text columns is: ['text']\n"
     ]
    }
   ],
   "source": [
    "text = list(X_rem_stem_r.select_dtypes('object').columns)\n",
    "print(f\"text columns is: {text}\")"
   ]
  },
  {
   "cell_type": "markdown",
   "id": "359017c4",
   "metadata": {},
   "source": [
    "**column tranformer** (Not work)"
   ]
  },
  {
   "cell_type": "code",
   "execution_count": 114,
   "id": "62900f30",
   "metadata": {},
   "outputs": [],
   "source": [
    "# Create the column transformations list + columns to which to apply\n",
    "col_transforms_nn = [('num','passthrough', numerical),\n",
    "                ('sentence2vec', sentence2vec, 'text')]"
   ]
  },
  {
   "cell_type": "code",
   "execution_count": 118,
   "id": "b4a569ce",
   "metadata": {},
   "outputs": [],
   "source": [
    "# Create the column transformer\n",
    "col_trans_nn = ColumnTransformer(col_transforms_nn,remainder='drop')"
   ]
  },
  {
   "cell_type": "code",
   "execution_count": 119,
   "id": "2bbc92fa",
   "metadata": {},
   "outputs": [
    {
     "ename": "TypeError",
     "evalue": "All estimators should implement fit and transform, or can be 'drop' or 'passthrough' specifiers. '<function sentence2vec at 0x000001A9F90160D0>' (type <class 'function'>) doesn't.",
     "output_type": "error",
     "traceback": [
      "\u001b[1;31m---------------------------------------------------------------------------\u001b[0m",
      "\u001b[1;31mTypeError\u001b[0m                                 Traceback (most recent call last)",
      "Cell \u001b[1;32mIn[119], line 3\u001b[0m\n\u001b[0;32m      1\u001b[0m \u001b[38;5;66;03m# fit\u001b[39;00m\n\u001b[0;32m      2\u001b[0m \u001b[38;5;66;03m#pipeline.fit_transform(X_rem_stem)\u001b[39;00m\n\u001b[1;32m----> 3\u001b[0m \u001b[43mcol_trans_nn\u001b[49m\u001b[38;5;241;43m.\u001b[39;49m\u001b[43mfit\u001b[49m\u001b[43m(\u001b[49m\u001b[43mX_rem_stem\u001b[49m\u001b[43m)\u001b[49m\n",
      "File \u001b[1;32mD:\\anaconda\\lib\\site-packages\\sklearn\\compose\\_column_transformer.py:657\u001b[0m, in \u001b[0;36mColumnTransformer.fit\u001b[1;34m(self, X, y)\u001b[0m\n\u001b[0;32m    639\u001b[0m \u001b[38;5;250m\u001b[39m\u001b[38;5;124;03m\"\"\"Fit all transformers using X.\u001b[39;00m\n\u001b[0;32m    640\u001b[0m \n\u001b[0;32m    641\u001b[0m \u001b[38;5;124;03mParameters\u001b[39;00m\n\u001b[1;32m   (...)\u001b[0m\n\u001b[0;32m    653\u001b[0m \u001b[38;5;124;03m    This estimator.\u001b[39;00m\n\u001b[0;32m    654\u001b[0m \u001b[38;5;124;03m\"\"\"\u001b[39;00m\n\u001b[0;32m    655\u001b[0m \u001b[38;5;66;03m# we use fit_transform to make sure to set sparse_output_ (for which we\u001b[39;00m\n\u001b[0;32m    656\u001b[0m \u001b[38;5;66;03m# need the transformed data) to have consistent output type in predict\u001b[39;00m\n\u001b[1;32m--> 657\u001b[0m \u001b[38;5;28;43mself\u001b[39;49m\u001b[38;5;241;43m.\u001b[39;49m\u001b[43mfit_transform\u001b[49m\u001b[43m(\u001b[49m\u001b[43mX\u001b[49m\u001b[43m,\u001b[49m\u001b[43m \u001b[49m\u001b[43my\u001b[49m\u001b[38;5;241;43m=\u001b[39;49m\u001b[43my\u001b[49m\u001b[43m)\u001b[49m\n\u001b[0;32m    658\u001b[0m \u001b[38;5;28;01mreturn\u001b[39;00m \u001b[38;5;28mself\u001b[39m\n",
      "File \u001b[1;32mD:\\anaconda\\lib\\site-packages\\sklearn\\compose\\_column_transformer.py:686\u001b[0m, in \u001b[0;36mColumnTransformer.fit_transform\u001b[1;34m(self, X, y)\u001b[0m\n\u001b[0;32m    684\u001b[0m \u001b[38;5;66;03m# set n_features_in_ attribute\u001b[39;00m\n\u001b[0;32m    685\u001b[0m \u001b[38;5;28mself\u001b[39m\u001b[38;5;241m.\u001b[39m_check_n_features(X, reset\u001b[38;5;241m=\u001b[39m\u001b[38;5;28;01mTrue\u001b[39;00m)\n\u001b[1;32m--> 686\u001b[0m \u001b[38;5;28;43mself\u001b[39;49m\u001b[38;5;241;43m.\u001b[39;49m\u001b[43m_validate_transformers\u001b[49m\u001b[43m(\u001b[49m\u001b[43m)\u001b[49m\n\u001b[0;32m    687\u001b[0m \u001b[38;5;28mself\u001b[39m\u001b[38;5;241m.\u001b[39m_validate_column_callables(X)\n\u001b[0;32m    688\u001b[0m \u001b[38;5;28mself\u001b[39m\u001b[38;5;241m.\u001b[39m_validate_remainder(X)\n",
      "File \u001b[1;32mD:\\anaconda\\lib\\site-packages\\sklearn\\compose\\_column_transformer.py:358\u001b[0m, in \u001b[0;36mColumnTransformer._validate_transformers\u001b[1;34m(self)\u001b[0m\n\u001b[0;32m    354\u001b[0m     \u001b[38;5;28;01mcontinue\u001b[39;00m\n\u001b[0;32m    355\u001b[0m \u001b[38;5;28;01mif\u001b[39;00m \u001b[38;5;129;01mnot\u001b[39;00m (\u001b[38;5;28mhasattr\u001b[39m(t, \u001b[38;5;124m\"\u001b[39m\u001b[38;5;124mfit\u001b[39m\u001b[38;5;124m\"\u001b[39m) \u001b[38;5;129;01mor\u001b[39;00m \u001b[38;5;28mhasattr\u001b[39m(t, \u001b[38;5;124m\"\u001b[39m\u001b[38;5;124mfit_transform\u001b[39m\u001b[38;5;124m\"\u001b[39m)) \u001b[38;5;129;01mor\u001b[39;00m \u001b[38;5;129;01mnot\u001b[39;00m \u001b[38;5;28mhasattr\u001b[39m(\n\u001b[0;32m    356\u001b[0m     t, \u001b[38;5;124m\"\u001b[39m\u001b[38;5;124mtransform\u001b[39m\u001b[38;5;124m\"\u001b[39m\n\u001b[0;32m    357\u001b[0m ):\n\u001b[1;32m--> 358\u001b[0m     \u001b[38;5;28;01mraise\u001b[39;00m \u001b[38;5;167;01mTypeError\u001b[39;00m(\n\u001b[0;32m    359\u001b[0m         \u001b[38;5;124m\"\u001b[39m\u001b[38;5;124mAll estimators should implement fit and \u001b[39m\u001b[38;5;124m\"\u001b[39m\n\u001b[0;32m    360\u001b[0m         \u001b[38;5;124m\"\u001b[39m\u001b[38;5;124mtransform, or can be \u001b[39m\u001b[38;5;124m'\u001b[39m\u001b[38;5;124mdrop\u001b[39m\u001b[38;5;124m'\u001b[39m\u001b[38;5;124m or \u001b[39m\u001b[38;5;124m'\u001b[39m\u001b[38;5;124mpassthrough\u001b[39m\u001b[38;5;124m'\u001b[39m\u001b[38;5;124m \u001b[39m\u001b[38;5;124m\"\u001b[39m\n\u001b[0;32m    361\u001b[0m         \u001b[38;5;124m\"\u001b[39m\u001b[38;5;124mspecifiers. \u001b[39m\u001b[38;5;124m'\u001b[39m\u001b[38;5;132;01m%s\u001b[39;00m\u001b[38;5;124m'\u001b[39m\u001b[38;5;124m (type \u001b[39m\u001b[38;5;132;01m%s\u001b[39;00m\u001b[38;5;124m) doesn\u001b[39m\u001b[38;5;124m'\u001b[39m\u001b[38;5;124mt.\u001b[39m\u001b[38;5;124m\"\u001b[39m \u001b[38;5;241m%\u001b[39m (t, \u001b[38;5;28mtype\u001b[39m(t))\n\u001b[0;32m    362\u001b[0m     )\n",
      "\u001b[1;31mTypeError\u001b[0m: All estimators should implement fit and transform, or can be 'drop' or 'passthrough' specifiers. '<function sentence2vec at 0x000001A9F90160D0>' (type <class 'function'>) doesn't."
     ]
    }
   ],
   "source": [
    "# fit\n",
    "#pipeline.fit_transform(X_rem_stem)\n",
    "col_trans_nn.fit(X_rem_stem)"
   ]
  },
  {
   "cell_type": "markdown",
   "id": "ff243c46",
   "metadata": {},
   "source": [
    "**Apply sentence2vec function**\n",
    "\n",
    "**Plan**\n",
    "- Apply sentence2vec() on X_rem_stem[text] combine transformed df with X_rem_stem[numerical]\n",
    "- Apply sentence2vec() on X_rem_test[text] combine transformed df with X_rem_test[numerical]"
   ]
  },
  {
   "cell_type": "markdown",
   "id": "9e545bc4",
   "metadata": {},
   "source": [
    "**X_rem_stem**"
   ]
  },
  {
   "cell_type": "code",
   "execution_count": 35,
   "id": "c366c819",
   "metadata": {},
   "outputs": [
    {
     "data": {
      "text/html": [
       "<div>\n",
       "<style scoped>\n",
       "    .dataframe tbody tr th:only-of-type {\n",
       "        vertical-align: middle;\n",
       "    }\n",
       "\n",
       "    .dataframe tbody tr th {\n",
       "        vertical-align: top;\n",
       "    }\n",
       "\n",
       "    .dataframe thead th {\n",
       "        text-align: right;\n",
       "    }\n",
       "</style>\n",
       "<table border=\"1\" class=\"dataframe\">\n",
       "  <thead>\n",
       "    <tr style=\"text-align: right;\">\n",
       "      <th></th>\n",
       "      <th>has_salary_range</th>\n",
       "      <th>telecommuting</th>\n",
       "      <th>has_company_logo</th>\n",
       "      <th>has_questions</th>\n",
       "      <th>text</th>\n",
       "    </tr>\n",
       "  </thead>\n",
       "  <tbody>\n",
       "    <tr>\n",
       "      <th>4310</th>\n",
       "      <td>0</td>\n",
       "      <td>0</td>\n",
       "      <td>1</td>\n",
       "      <td>1</td>\n",
       "      <td>Creative Director - Art Blank Kettle is an ind...</td>\n",
       "    </tr>\n",
       "    <tr>\n",
       "      <th>11082</th>\n",
       "      <td>0</td>\n",
       "      <td>0</td>\n",
       "      <td>1</td>\n",
       "      <td>0</td>\n",
       "      <td>CDL Driver Blank ABC Supply Co., Inc. is the n...</td>\n",
       "    </tr>\n",
       "    <tr>\n",
       "      <th>14188</th>\n",
       "      <td>0</td>\n",
       "      <td>0</td>\n",
       "      <td>1</td>\n",
       "      <td>0</td>\n",
       "      <td>Data Analyst (Marketing) Blank Blank We are lo...</td>\n",
       "    </tr>\n",
       "    <tr>\n",
       "      <th>8280</th>\n",
       "      <td>0</td>\n",
       "      <td>0</td>\n",
       "      <td>1</td>\n",
       "      <td>1</td>\n",
       "      <td>Channel Representative Blank Intercom (# is a ...</td>\n",
       "    </tr>\n",
       "    <tr>\n",
       "      <th>13924</th>\n",
       "      <td>0</td>\n",
       "      <td>0</td>\n",
       "      <td>1</td>\n",
       "      <td>0</td>\n",
       "      <td>Programmatic Media Manager Media Since 1978Our...</td>\n",
       "    </tr>\n",
       "    <tr>\n",
       "      <th>...</th>\n",
       "      <td>...</td>\n",
       "      <td>...</td>\n",
       "      <td>...</td>\n",
       "      <td>...</td>\n",
       "      <td>...</td>\n",
       "    </tr>\n",
       "    <tr>\n",
       "      <th>1344</th>\n",
       "      <td>0</td>\n",
       "      <td>0</td>\n",
       "      <td>1</td>\n",
       "      <td>1</td>\n",
       "      <td>Sales Manager - Legal Services Sales Pardon Se...</td>\n",
       "    </tr>\n",
       "    <tr>\n",
       "      <th>7561</th>\n",
       "      <td>0</td>\n",
       "      <td>0</td>\n",
       "      <td>1</td>\n",
       "      <td>1</td>\n",
       "      <td>Texas Communication Assistant CSD Relay Why CS...</td>\n",
       "    </tr>\n",
       "    <tr>\n",
       "      <th>16552</th>\n",
       "      <td>1</td>\n",
       "      <td>0</td>\n",
       "      <td>1</td>\n",
       "      <td>0</td>\n",
       "      <td>Director, Information Security Blank Blank Dir...</td>\n",
       "    </tr>\n",
       "    <tr>\n",
       "      <th>14072</th>\n",
       "      <td>0</td>\n",
       "      <td>0</td>\n",
       "      <td>1</td>\n",
       "      <td>1</td>\n",
       "      <td>Sales &amp; Support role Blank Blank We are a smal...</td>\n",
       "    </tr>\n",
       "    <tr>\n",
       "      <th>7183</th>\n",
       "      <td>0</td>\n",
       "      <td>0</td>\n",
       "      <td>1</td>\n",
       "      <td>0</td>\n",
       "      <td>Physical Therapist Blank Supply chain manageme...</td>\n",
       "    </tr>\n",
       "  </tbody>\n",
       "</table>\n",
       "<p>12515 rows × 5 columns</p>\n",
       "</div>"
      ],
      "text/plain": [
       "       has_salary_range  telecommuting  has_company_logo  has_questions  \\\n",
       "4310                  0              0                 1              1   \n",
       "11082                 0              0                 1              0   \n",
       "14188                 0              0                 1              0   \n",
       "8280                  0              0                 1              1   \n",
       "13924                 0              0                 1              0   \n",
       "...                 ...            ...               ...            ...   \n",
       "1344                  0              0                 1              1   \n",
       "7561                  0              0                 1              1   \n",
       "16552                 1              0                 1              0   \n",
       "14072                 0              0                 1              1   \n",
       "7183                  0              0                 1              0   \n",
       "\n",
       "                                                    text  \n",
       "4310   Creative Director - Art Blank Kettle is an ind...  \n",
       "11082  CDL Driver Blank ABC Supply Co., Inc. is the n...  \n",
       "14188  Data Analyst (Marketing) Blank Blank We are lo...  \n",
       "8280   Channel Representative Blank Intercom (# is a ...  \n",
       "13924  Programmatic Media Manager Media Since 1978Our...  \n",
       "...                                                  ...  \n",
       "1344   Sales Manager - Legal Services Sales Pardon Se...  \n",
       "7561   Texas Communication Assistant CSD Relay Why CS...  \n",
       "16552  Director, Information Security Blank Blank Dir...  \n",
       "14072  Sales & Support role Blank Blank We are a smal...  \n",
       "7183   Physical Therapist Blank Supply chain manageme...  \n",
       "\n",
       "[12515 rows x 5 columns]"
      ]
     },
     "execution_count": 35,
     "metadata": {},
     "output_type": "execute_result"
    }
   ],
   "source": [
    "X_rem_stem_r"
   ]
  },
  {
   "cell_type": "code",
   "execution_count": 36,
   "id": "b9f19791",
   "metadata": {},
   "outputs": [
    {
     "name": "stderr",
     "output_type": "stream",
     "text": [
      "100%|██████████| 12515/12515 [00:24<00:00, 516.95it/s]\n"
     ]
    }
   ],
   "source": [
    "X_rem_word2vec_text = np.array([sentence2vec(x) for x in tqdm(X_rem_stem_r['text'])])"
   ]
  },
  {
   "cell_type": "code",
   "execution_count": 37,
   "id": "39221614",
   "metadata": {},
   "outputs": [
    {
     "data": {
      "text/plain": [
       "(12515, 300)"
      ]
     },
     "execution_count": 37,
     "metadata": {},
     "output_type": "execute_result"
    }
   ],
   "source": [
    "# keep the original row and 300d\n",
    "X_rem_word2vec_text.shape"
   ]
  },
  {
   "cell_type": "code",
   "execution_count": 38,
   "id": "56009502",
   "metadata": {},
   "outputs": [],
   "source": [
    "X_wv_text_df=pd.DataFrame(X_rem_word2vec_text).reset_index(drop=True)"
   ]
  },
  {
   "cell_type": "code",
   "execution_count": 39,
   "id": "bf25b15d",
   "metadata": {},
   "outputs": [
    {
     "name": "stdout",
     "output_type": "stream",
     "text": [
      "The shape of X_wv_text_df is (12515, 300)\n"
     ]
    }
   ],
   "source": [
    "print(f\"The shape of X_wv_text_df is {X_wv_text_df.shape}\")"
   ]
  },
  {
   "cell_type": "code",
   "execution_count": 40,
   "id": "ac70ab30",
   "metadata": {},
   "outputs": [
    {
     "data": {
      "text/html": [
       "<div>\n",
       "<style scoped>\n",
       "    .dataframe tbody tr th:only-of-type {\n",
       "        vertical-align: middle;\n",
       "    }\n",
       "\n",
       "    .dataframe tbody tr th {\n",
       "        vertical-align: top;\n",
       "    }\n",
       "\n",
       "    .dataframe thead th {\n",
       "        text-align: right;\n",
       "    }\n",
       "</style>\n",
       "<table border=\"1\" class=\"dataframe\">\n",
       "  <thead>\n",
       "    <tr style=\"text-align: right;\">\n",
       "      <th></th>\n",
       "      <th>has_salary_range</th>\n",
       "      <th>telecommuting</th>\n",
       "      <th>has_company_logo</th>\n",
       "      <th>has_questions</th>\n",
       "    </tr>\n",
       "  </thead>\n",
       "  <tbody>\n",
       "    <tr>\n",
       "      <th>0</th>\n",
       "      <td>0</td>\n",
       "      <td>0</td>\n",
       "      <td>1</td>\n",
       "      <td>1</td>\n",
       "    </tr>\n",
       "    <tr>\n",
       "      <th>1</th>\n",
       "      <td>0</td>\n",
       "      <td>0</td>\n",
       "      <td>1</td>\n",
       "      <td>0</td>\n",
       "    </tr>\n",
       "    <tr>\n",
       "      <th>2</th>\n",
       "      <td>0</td>\n",
       "      <td>0</td>\n",
       "      <td>1</td>\n",
       "      <td>0</td>\n",
       "    </tr>\n",
       "    <tr>\n",
       "      <th>3</th>\n",
       "      <td>0</td>\n",
       "      <td>0</td>\n",
       "      <td>1</td>\n",
       "      <td>1</td>\n",
       "    </tr>\n",
       "    <tr>\n",
       "      <th>4</th>\n",
       "      <td>0</td>\n",
       "      <td>0</td>\n",
       "      <td>1</td>\n",
       "      <td>0</td>\n",
       "    </tr>\n",
       "    <tr>\n",
       "      <th>...</th>\n",
       "      <td>...</td>\n",
       "      <td>...</td>\n",
       "      <td>...</td>\n",
       "      <td>...</td>\n",
       "    </tr>\n",
       "    <tr>\n",
       "      <th>12510</th>\n",
       "      <td>0</td>\n",
       "      <td>0</td>\n",
       "      <td>1</td>\n",
       "      <td>1</td>\n",
       "    </tr>\n",
       "    <tr>\n",
       "      <th>12511</th>\n",
       "      <td>0</td>\n",
       "      <td>0</td>\n",
       "      <td>1</td>\n",
       "      <td>1</td>\n",
       "    </tr>\n",
       "    <tr>\n",
       "      <th>12512</th>\n",
       "      <td>1</td>\n",
       "      <td>0</td>\n",
       "      <td>1</td>\n",
       "      <td>0</td>\n",
       "    </tr>\n",
       "    <tr>\n",
       "      <th>12513</th>\n",
       "      <td>0</td>\n",
       "      <td>0</td>\n",
       "      <td>1</td>\n",
       "      <td>1</td>\n",
       "    </tr>\n",
       "    <tr>\n",
       "      <th>12514</th>\n",
       "      <td>0</td>\n",
       "      <td>0</td>\n",
       "      <td>1</td>\n",
       "      <td>0</td>\n",
       "    </tr>\n",
       "  </tbody>\n",
       "</table>\n",
       "<p>12515 rows × 4 columns</p>\n",
       "</div>"
      ],
      "text/plain": [
       "       has_salary_range  telecommuting  has_company_logo  has_questions\n",
       "0                     0              0                 1              1\n",
       "1                     0              0                 1              0\n",
       "2                     0              0                 1              0\n",
       "3                     0              0                 1              1\n",
       "4                     0              0                 1              0\n",
       "...                 ...            ...               ...            ...\n",
       "12510                 0              0                 1              1\n",
       "12511                 0              0                 1              1\n",
       "12512                 1              0                 1              0\n",
       "12513                 0              0                 1              1\n",
       "12514                 0              0                 1              0\n",
       "\n",
       "[12515 rows x 4 columns]"
      ]
     },
     "execution_count": 40,
     "metadata": {},
     "output_type": "execute_result"
    }
   ],
   "source": [
    "X_num_stem_df=X_rem_stem_r[numerical].reset_index(drop=True)\n",
    "X_num_stem_df"
   ]
  },
  {
   "cell_type": "code",
   "execution_count": 41,
   "id": "8fdcca27",
   "metadata": {},
   "outputs": [
    {
     "data": {
      "text/plain": [
       "True"
      ]
     },
     "execution_count": 41,
     "metadata": {},
     "output_type": "execute_result"
    }
   ],
   "source": [
    "# check if X_wv_text_df and X_num_stem_df has the same rows.\n",
    "X_wv_text_df.shape[0]==X_num_stem_df.shape[0]"
   ]
  },
  {
   "cell_type": "code",
   "execution_count": 42,
   "id": "081a6c5b",
   "metadata": {},
   "outputs": [],
   "source": [
    "X_rem_wv_df=pd.concat([X_wv_text_df,X_num_stem_df],axis=1)"
   ]
  },
  {
   "cell_type": "code",
   "execution_count": 43,
   "id": "7c947948",
   "metadata": {},
   "outputs": [
    {
     "data": {
      "text/html": [
       "<div>\n",
       "<style scoped>\n",
       "    .dataframe tbody tr th:only-of-type {\n",
       "        vertical-align: middle;\n",
       "    }\n",
       "\n",
       "    .dataframe tbody tr th {\n",
       "        vertical-align: top;\n",
       "    }\n",
       "\n",
       "    .dataframe thead th {\n",
       "        text-align: right;\n",
       "    }\n",
       "</style>\n",
       "<table border=\"1\" class=\"dataframe\">\n",
       "  <thead>\n",
       "    <tr style=\"text-align: right;\">\n",
       "      <th></th>\n",
       "      <th>0</th>\n",
       "      <th>1</th>\n",
       "      <th>2</th>\n",
       "      <th>3</th>\n",
       "      <th>4</th>\n",
       "      <th>5</th>\n",
       "      <th>6</th>\n",
       "      <th>7</th>\n",
       "      <th>8</th>\n",
       "      <th>9</th>\n",
       "      <th>...</th>\n",
       "      <th>294</th>\n",
       "      <th>295</th>\n",
       "      <th>296</th>\n",
       "      <th>297</th>\n",
       "      <th>298</th>\n",
       "      <th>299</th>\n",
       "      <th>has_salary_range</th>\n",
       "      <th>telecommuting</th>\n",
       "      <th>has_company_logo</th>\n",
       "      <th>has_questions</th>\n",
       "    </tr>\n",
       "  </thead>\n",
       "  <tbody>\n",
       "    <tr>\n",
       "      <th>0</th>\n",
       "      <td>0.032685</td>\n",
       "      <td>0.030730</td>\n",
       "      <td>0.044741</td>\n",
       "      <td>-0.048046</td>\n",
       "      <td>-0.023740</td>\n",
       "      <td>0.069754</td>\n",
       "      <td>-0.085251</td>\n",
       "      <td>-0.081625</td>\n",
       "      <td>0.003326</td>\n",
       "      <td>0.032455</td>\n",
       "      <td>...</td>\n",
       "      <td>0.007239</td>\n",
       "      <td>0.025612</td>\n",
       "      <td>0.004509</td>\n",
       "      <td>-0.029718</td>\n",
       "      <td>-0.029850</td>\n",
       "      <td>0.010457</td>\n",
       "      <td>0</td>\n",
       "      <td>0</td>\n",
       "      <td>1</td>\n",
       "      <td>1</td>\n",
       "    </tr>\n",
       "    <tr>\n",
       "      <th>1</th>\n",
       "      <td>0.001888</td>\n",
       "      <td>-0.009283</td>\n",
       "      <td>0.046821</td>\n",
       "      <td>-0.030805</td>\n",
       "      <td>-0.031311</td>\n",
       "      <td>0.053163</td>\n",
       "      <td>-0.066486</td>\n",
       "      <td>-0.071417</td>\n",
       "      <td>0.007226</td>\n",
       "      <td>0.033280</td>\n",
       "      <td>...</td>\n",
       "      <td>0.001848</td>\n",
       "      <td>0.057129</td>\n",
       "      <td>0.031200</td>\n",
       "      <td>-0.049951</td>\n",
       "      <td>-0.002064</td>\n",
       "      <td>-0.014311</td>\n",
       "      <td>0</td>\n",
       "      <td>0</td>\n",
       "      <td>1</td>\n",
       "      <td>0</td>\n",
       "    </tr>\n",
       "    <tr>\n",
       "      <th>2</th>\n",
       "      <td>0.001702</td>\n",
       "      <td>0.017523</td>\n",
       "      <td>0.041336</td>\n",
       "      <td>-0.064283</td>\n",
       "      <td>-0.011654</td>\n",
       "      <td>0.060083</td>\n",
       "      <td>-0.094541</td>\n",
       "      <td>-0.063665</td>\n",
       "      <td>0.033909</td>\n",
       "      <td>0.026475</td>\n",
       "      <td>...</td>\n",
       "      <td>0.016631</td>\n",
       "      <td>0.030980</td>\n",
       "      <td>0.015536</td>\n",
       "      <td>-0.040767</td>\n",
       "      <td>-0.010167</td>\n",
       "      <td>0.015519</td>\n",
       "      <td>0</td>\n",
       "      <td>0</td>\n",
       "      <td>1</td>\n",
       "      <td>0</td>\n",
       "    </tr>\n",
       "    <tr>\n",
       "      <th>3</th>\n",
       "      <td>0.010606</td>\n",
       "      <td>0.012670</td>\n",
       "      <td>0.037562</td>\n",
       "      <td>-0.035672</td>\n",
       "      <td>-0.020939</td>\n",
       "      <td>0.058435</td>\n",
       "      <td>-0.086041</td>\n",
       "      <td>-0.052790</td>\n",
       "      <td>0.032813</td>\n",
       "      <td>0.030854</td>\n",
       "      <td>...</td>\n",
       "      <td>0.021882</td>\n",
       "      <td>0.036611</td>\n",
       "      <td>0.022881</td>\n",
       "      <td>-0.029615</td>\n",
       "      <td>-0.020560</td>\n",
       "      <td>-0.004619</td>\n",
       "      <td>0</td>\n",
       "      <td>0</td>\n",
       "      <td>1</td>\n",
       "      <td>1</td>\n",
       "    </tr>\n",
       "    <tr>\n",
       "      <th>4</th>\n",
       "      <td>-0.001269</td>\n",
       "      <td>0.015532</td>\n",
       "      <td>0.054022</td>\n",
       "      <td>-0.064340</td>\n",
       "      <td>-0.027642</td>\n",
       "      <td>0.061069</td>\n",
       "      <td>-0.072444</td>\n",
       "      <td>-0.042063</td>\n",
       "      <td>0.045245</td>\n",
       "      <td>0.022422</td>\n",
       "      <td>...</td>\n",
       "      <td>0.011772</td>\n",
       "      <td>0.024864</td>\n",
       "      <td>0.028411</td>\n",
       "      <td>-0.019539</td>\n",
       "      <td>-0.028128</td>\n",
       "      <td>0.002730</td>\n",
       "      <td>0</td>\n",
       "      <td>0</td>\n",
       "      <td>1</td>\n",
       "      <td>0</td>\n",
       "    </tr>\n",
       "    <tr>\n",
       "      <th>...</th>\n",
       "      <td>...</td>\n",
       "      <td>...</td>\n",
       "      <td>...</td>\n",
       "      <td>...</td>\n",
       "      <td>...</td>\n",
       "      <td>...</td>\n",
       "      <td>...</td>\n",
       "      <td>...</td>\n",
       "      <td>...</td>\n",
       "      <td>...</td>\n",
       "      <td>...</td>\n",
       "      <td>...</td>\n",
       "      <td>...</td>\n",
       "      <td>...</td>\n",
       "      <td>...</td>\n",
       "      <td>...</td>\n",
       "      <td>...</td>\n",
       "      <td>...</td>\n",
       "      <td>...</td>\n",
       "      <td>...</td>\n",
       "      <td>...</td>\n",
       "    </tr>\n",
       "    <tr>\n",
       "      <th>12510</th>\n",
       "      <td>-0.012657</td>\n",
       "      <td>0.010604</td>\n",
       "      <td>0.031436</td>\n",
       "      <td>-0.063076</td>\n",
       "      <td>-0.022296</td>\n",
       "      <td>0.031369</td>\n",
       "      <td>-0.100525</td>\n",
       "      <td>-0.053420</td>\n",
       "      <td>0.031306</td>\n",
       "      <td>0.030024</td>\n",
       "      <td>...</td>\n",
       "      <td>0.005301</td>\n",
       "      <td>0.022006</td>\n",
       "      <td>0.039932</td>\n",
       "      <td>-0.020936</td>\n",
       "      <td>-0.024622</td>\n",
       "      <td>-0.006558</td>\n",
       "      <td>0</td>\n",
       "      <td>0</td>\n",
       "      <td>1</td>\n",
       "      <td>1</td>\n",
       "    </tr>\n",
       "    <tr>\n",
       "      <th>12511</th>\n",
       "      <td>0.031819</td>\n",
       "      <td>0.022081</td>\n",
       "      <td>0.061195</td>\n",
       "      <td>-0.050659</td>\n",
       "      <td>-0.007663</td>\n",
       "      <td>0.067053</td>\n",
       "      <td>-0.088835</td>\n",
       "      <td>-0.055991</td>\n",
       "      <td>0.017140</td>\n",
       "      <td>0.020551</td>\n",
       "      <td>...</td>\n",
       "      <td>0.029177</td>\n",
       "      <td>0.036914</td>\n",
       "      <td>0.009130</td>\n",
       "      <td>-0.031829</td>\n",
       "      <td>-0.026540</td>\n",
       "      <td>-0.009258</td>\n",
       "      <td>0</td>\n",
       "      <td>0</td>\n",
       "      <td>1</td>\n",
       "      <td>1</td>\n",
       "    </tr>\n",
       "    <tr>\n",
       "      <th>12512</th>\n",
       "      <td>-0.008422</td>\n",
       "      <td>0.066171</td>\n",
       "      <td>0.007626</td>\n",
       "      <td>-0.021893</td>\n",
       "      <td>0.042899</td>\n",
       "      <td>0.061828</td>\n",
       "      <td>-0.117880</td>\n",
       "      <td>-0.058940</td>\n",
       "      <td>0.062139</td>\n",
       "      <td>0.012622</td>\n",
       "      <td>...</td>\n",
       "      <td>0.027131</td>\n",
       "      <td>0.040198</td>\n",
       "      <td>0.004391</td>\n",
       "      <td>-0.092511</td>\n",
       "      <td>-0.012208</td>\n",
       "      <td>0.032884</td>\n",
       "      <td>1</td>\n",
       "      <td>0</td>\n",
       "      <td>1</td>\n",
       "      <td>0</td>\n",
       "    </tr>\n",
       "    <tr>\n",
       "      <th>12513</th>\n",
       "      <td>-0.008137</td>\n",
       "      <td>-0.027150</td>\n",
       "      <td>0.017740</td>\n",
       "      <td>-0.042628</td>\n",
       "      <td>-0.003595</td>\n",
       "      <td>0.046319</td>\n",
       "      <td>-0.067264</td>\n",
       "      <td>-0.076473</td>\n",
       "      <td>0.036141</td>\n",
       "      <td>0.020093</td>\n",
       "      <td>...</td>\n",
       "      <td>0.010358</td>\n",
       "      <td>0.053446</td>\n",
       "      <td>0.038119</td>\n",
       "      <td>-0.023134</td>\n",
       "      <td>-0.000326</td>\n",
       "      <td>-0.021855</td>\n",
       "      <td>0</td>\n",
       "      <td>0</td>\n",
       "      <td>1</td>\n",
       "      <td>1</td>\n",
       "    </tr>\n",
       "    <tr>\n",
       "      <th>12514</th>\n",
       "      <td>0.026783</td>\n",
       "      <td>0.008713</td>\n",
       "      <td>0.045298</td>\n",
       "      <td>-0.041018</td>\n",
       "      <td>0.042584</td>\n",
       "      <td>0.018863</td>\n",
       "      <td>-0.071955</td>\n",
       "      <td>-0.037295</td>\n",
       "      <td>0.034701</td>\n",
       "      <td>0.037012</td>\n",
       "      <td>...</td>\n",
       "      <td>-0.006004</td>\n",
       "      <td>0.062486</td>\n",
       "      <td>-0.009277</td>\n",
       "      <td>-0.025836</td>\n",
       "      <td>-0.007509</td>\n",
       "      <td>0.009847</td>\n",
       "      <td>0</td>\n",
       "      <td>0</td>\n",
       "      <td>1</td>\n",
       "      <td>0</td>\n",
       "    </tr>\n",
       "  </tbody>\n",
       "</table>\n",
       "<p>12515 rows × 304 columns</p>\n",
       "</div>"
      ],
      "text/plain": [
       "              0         1         2         3         4         5         6  \\\n",
       "0      0.032685  0.030730  0.044741 -0.048046 -0.023740  0.069754 -0.085251   \n",
       "1      0.001888 -0.009283  0.046821 -0.030805 -0.031311  0.053163 -0.066486   \n",
       "2      0.001702  0.017523  0.041336 -0.064283 -0.011654  0.060083 -0.094541   \n",
       "3      0.010606  0.012670  0.037562 -0.035672 -0.020939  0.058435 -0.086041   \n",
       "4     -0.001269  0.015532  0.054022 -0.064340 -0.027642  0.061069 -0.072444   \n",
       "...         ...       ...       ...       ...       ...       ...       ...   \n",
       "12510 -0.012657  0.010604  0.031436 -0.063076 -0.022296  0.031369 -0.100525   \n",
       "12511  0.031819  0.022081  0.061195 -0.050659 -0.007663  0.067053 -0.088835   \n",
       "12512 -0.008422  0.066171  0.007626 -0.021893  0.042899  0.061828 -0.117880   \n",
       "12513 -0.008137 -0.027150  0.017740 -0.042628 -0.003595  0.046319 -0.067264   \n",
       "12514  0.026783  0.008713  0.045298 -0.041018  0.042584  0.018863 -0.071955   \n",
       "\n",
       "              7         8         9  ...       294       295       296  \\\n",
       "0     -0.081625  0.003326  0.032455  ...  0.007239  0.025612  0.004509   \n",
       "1     -0.071417  0.007226  0.033280  ...  0.001848  0.057129  0.031200   \n",
       "2     -0.063665  0.033909  0.026475  ...  0.016631  0.030980  0.015536   \n",
       "3     -0.052790  0.032813  0.030854  ...  0.021882  0.036611  0.022881   \n",
       "4     -0.042063  0.045245  0.022422  ...  0.011772  0.024864  0.028411   \n",
       "...         ...       ...       ...  ...       ...       ...       ...   \n",
       "12510 -0.053420  0.031306  0.030024  ...  0.005301  0.022006  0.039932   \n",
       "12511 -0.055991  0.017140  0.020551  ...  0.029177  0.036914  0.009130   \n",
       "12512 -0.058940  0.062139  0.012622  ...  0.027131  0.040198  0.004391   \n",
       "12513 -0.076473  0.036141  0.020093  ...  0.010358  0.053446  0.038119   \n",
       "12514 -0.037295  0.034701  0.037012  ... -0.006004  0.062486 -0.009277   \n",
       "\n",
       "            297       298       299  has_salary_range  telecommuting  \\\n",
       "0     -0.029718 -0.029850  0.010457                 0              0   \n",
       "1     -0.049951 -0.002064 -0.014311                 0              0   \n",
       "2     -0.040767 -0.010167  0.015519                 0              0   \n",
       "3     -0.029615 -0.020560 -0.004619                 0              0   \n",
       "4     -0.019539 -0.028128  0.002730                 0              0   \n",
       "...         ...       ...       ...               ...            ...   \n",
       "12510 -0.020936 -0.024622 -0.006558                 0              0   \n",
       "12511 -0.031829 -0.026540 -0.009258                 0              0   \n",
       "12512 -0.092511 -0.012208  0.032884                 1              0   \n",
       "12513 -0.023134 -0.000326 -0.021855                 0              0   \n",
       "12514 -0.025836 -0.007509  0.009847                 0              0   \n",
       "\n",
       "       has_company_logo  has_questions  \n",
       "0                     1              1  \n",
       "1                     1              0  \n",
       "2                     1              0  \n",
       "3                     1              1  \n",
       "4                     1              0  \n",
       "...                 ...            ...  \n",
       "12510                 1              1  \n",
       "12511                 1              1  \n",
       "12512                 1              0  \n",
       "12513                 1              1  \n",
       "12514                 1              0  \n",
       "\n",
       "[12515 rows x 304 columns]"
      ]
     },
     "execution_count": 43,
     "metadata": {},
     "output_type": "execute_result"
    }
   ],
   "source": [
    "# transformed X_rem df\n",
    "X_rem_wv_df"
   ]
  },
  {
   "cell_type": "code",
   "execution_count": 44,
   "id": "5a2a388d",
   "metadata": {},
   "outputs": [
    {
     "data": {
      "text/plain": [
       "(12515, 304)"
      ]
     },
     "execution_count": 44,
     "metadata": {},
     "output_type": "execute_result"
    }
   ],
   "source": [
    "X_rem_wv_df.shape"
   ]
  },
  {
   "cell_type": "code",
   "execution_count": 45,
   "id": "e980019d",
   "metadata": {},
   "outputs": [
    {
     "data": {
      "text/plain": [
       "0"
      ]
     },
     "execution_count": 45,
     "metadata": {},
     "output_type": "execute_result"
    }
   ],
   "source": [
    "# there is no nan in the X_rem_wv_df\n",
    "X_rem_wv_df.isna().sum().sum()"
   ]
  },
  {
   "cell_type": "markdown",
   "id": "eebbcea5",
   "metadata": {},
   "source": [
    "**X_rem_test**"
   ]
  },
  {
   "cell_type": "code",
   "execution_count": 46,
   "id": "d1b0b6af",
   "metadata": {},
   "outputs": [
    {
     "data": {
      "text/html": [
       "<div>\n",
       "<style scoped>\n",
       "    .dataframe tbody tr th:only-of-type {\n",
       "        vertical-align: middle;\n",
       "    }\n",
       "\n",
       "    .dataframe tbody tr th {\n",
       "        vertical-align: top;\n",
       "    }\n",
       "\n",
       "    .dataframe thead th {\n",
       "        text-align: right;\n",
       "    }\n",
       "</style>\n",
       "<table border=\"1\" class=\"dataframe\">\n",
       "  <thead>\n",
       "    <tr style=\"text-align: right;\">\n",
       "      <th></th>\n",
       "      <th>has_salary_range</th>\n",
       "      <th>telecommuting</th>\n",
       "      <th>has_company_logo</th>\n",
       "      <th>has_questions</th>\n",
       "      <th>text</th>\n",
       "    </tr>\n",
       "  </thead>\n",
       "  <tbody>\n",
       "    <tr>\n",
       "      <th>8222</th>\n",
       "      <td>1</td>\n",
       "      <td>0</td>\n",
       "      <td>1</td>\n",
       "      <td>0</td>\n",
       "      <td>ecommerc specialist databas manag home decor c...</td>\n",
       "    </tr>\n",
       "    <tr>\n",
       "      <th>1560</th>\n",
       "      <td>0</td>\n",
       "      <td>0</td>\n",
       "      <td>1</td>\n",
       "      <td>1</td>\n",
       "      <td>solut engin blank declara focus bring data lif...</td>\n",
       "    </tr>\n",
       "    <tr>\n",
       "      <th>17171</th>\n",
       "      <td>1</td>\n",
       "      <td>0</td>\n",
       "      <td>0</td>\n",
       "      <td>1</td>\n",
       "      <td>sale repres home improv blank blank look good ...</td>\n",
       "    </tr>\n",
       "    <tr>\n",
       "      <th>9164</th>\n",
       "      <td>0</td>\n",
       "      <td>0</td>\n",
       "      <td>1</td>\n",
       "      <td>1</td>\n",
       "      <td>custom servic specialist interpret servic rela...</td>\n",
       "    </tr>\n",
       "    <tr>\n",
       "      <th>9454</th>\n",
       "      <td>0</td>\n",
       "      <td>0</td>\n",
       "      <td>1</td>\n",
       "      <td>0</td>\n",
       "      <td>custom servic associ record blank novitex ente...</td>\n",
       "    </tr>\n",
       "    <tr>\n",
       "      <th>...</th>\n",
       "      <td>...</td>\n",
       "      <td>...</td>\n",
       "      <td>...</td>\n",
       "      <td>...</td>\n",
       "      <td>...</td>\n",
       "    </tr>\n",
       "    <tr>\n",
       "      <th>2611</th>\n",
       "      <td>0</td>\n",
       "      <td>0</td>\n",
       "      <td>1</td>\n",
       "      <td>0</td>\n",
       "      <td>stock manag blank blank execut flow merchandis...</td>\n",
       "    </tr>\n",
       "    <tr>\n",
       "      <th>11822</th>\n",
       "      <td>0</td>\n",
       "      <td>0</td>\n",
       "      <td>1</td>\n",
       "      <td>0</td>\n",
       "      <td>cabl tech night shift blank tel tech network v...</td>\n",
       "    </tr>\n",
       "    <tr>\n",
       "      <th>10961</th>\n",
       "      <td>0</td>\n",
       "      <td>0</td>\n",
       "      <td>1</td>\n",
       "      <td>1</td>\n",
       "      <td>advisori consult associ blank green street adv...</td>\n",
       "    </tr>\n",
       "    <tr>\n",
       "      <th>13509</th>\n",
       "      <td>0</td>\n",
       "      <td>0</td>\n",
       "      <td>1</td>\n",
       "      <td>0</td>\n",
       "      <td>dish washer 3040 hr per week blank belfri inn ...</td>\n",
       "    </tr>\n",
       "    <tr>\n",
       "      <th>10307</th>\n",
       "      <td>0</td>\n",
       "      <td>0</td>\n",
       "      <td>1</td>\n",
       "      <td>0</td>\n",
       "      <td>custom servic associ blank novitex enterpris s...</td>\n",
       "    </tr>\n",
       "  </tbody>\n",
       "</table>\n",
       "<p>5364 rows × 5 columns</p>\n",
       "</div>"
      ],
      "text/plain": [
       "       has_salary_range  telecommuting  has_company_logo  has_questions  \\\n",
       "8222                  1              0                 1              0   \n",
       "1560                  0              0                 1              1   \n",
       "17171                 1              0                 0              1   \n",
       "9164                  0              0                 1              1   \n",
       "9454                  0              0                 1              0   \n",
       "...                 ...            ...               ...            ...   \n",
       "2611                  0              0                 1              0   \n",
       "11822                 0              0                 1              0   \n",
       "10961                 0              0                 1              1   \n",
       "13509                 0              0                 1              0   \n",
       "10307                 0              0                 1              0   \n",
       "\n",
       "                                                    text  \n",
       "8222   ecommerc specialist databas manag home decor c...  \n",
       "1560   solut engin blank declara focus bring data lif...  \n",
       "17171  sale repres home improv blank blank look good ...  \n",
       "9164   custom servic specialist interpret servic rela...  \n",
       "9454   custom servic associ record blank novitex ente...  \n",
       "...                                                  ...  \n",
       "2611   stock manag blank blank execut flow merchandis...  \n",
       "11822  cabl tech night shift blank tel tech network v...  \n",
       "10961  advisori consult associ blank green street adv...  \n",
       "13509  dish washer 3040 hr per week blank belfri inn ...  \n",
       "10307  custom servic associ blank novitex enterpris s...  \n",
       "\n",
       "[5364 rows x 5 columns]"
      ]
     },
     "execution_count": 46,
     "metadata": {},
     "output_type": "execute_result"
    }
   ],
   "source": [
    "X_test_stem_r"
   ]
  },
  {
   "cell_type": "code",
   "execution_count": 47,
   "id": "e0137aa4",
   "metadata": {},
   "outputs": [
    {
     "name": "stderr",
     "output_type": "stream",
     "text": [
      "100%|██████████| 5364/5364 [00:06<00:00, 851.07it/s]\n"
     ]
    }
   ],
   "source": [
    "X_test_word2vec_text = np.array([sentence2vec(x) for x in tqdm(X_test_stem_r['text'])])"
   ]
  },
  {
   "cell_type": "code",
   "execution_count": 48,
   "id": "567699f9",
   "metadata": {},
   "outputs": [
    {
     "data": {
      "text/plain": [
       "(5364, 300)"
      ]
     },
     "execution_count": 48,
     "metadata": {},
     "output_type": "execute_result"
    }
   ],
   "source": [
    "# keep the original row and 300d\n",
    "X_test_word2vec_text.shape"
   ]
  },
  {
   "cell_type": "code",
   "execution_count": 49,
   "id": "59601c96",
   "metadata": {},
   "outputs": [],
   "source": [
    "X_test_wv_text_df=pd.DataFrame(X_test_word2vec_text).reset_index(drop=True)"
   ]
  },
  {
   "cell_type": "code",
   "execution_count": 50,
   "id": "8bce0e6c",
   "metadata": {},
   "outputs": [
    {
     "data": {
      "text/plain": [
       "True"
      ]
     },
     "execution_count": 50,
     "metadata": {},
     "output_type": "execute_result"
    }
   ],
   "source": [
    "# check if transformed df shape is not changed \n",
    "X_test_wv_text_df.shape==X_test_word2vec_text.shape"
   ]
  },
  {
   "cell_type": "code",
   "execution_count": 52,
   "id": "b568b31f",
   "metadata": {},
   "outputs": [],
   "source": [
    "X_test_num_stem_df=X_test_stem_r[numerical].reset_index(drop=True)"
   ]
  },
  {
   "cell_type": "code",
   "execution_count": 54,
   "id": "e3e0c019",
   "metadata": {},
   "outputs": [
    {
     "data": {
      "text/plain": [
       "True"
      ]
     },
     "execution_count": 54,
     "metadata": {},
     "output_type": "execute_result"
    }
   ],
   "source": [
    "# check if transformed df shape is not changed \n",
    "X_test_num_stem_df.shape==X_test_stem_r[numerical].shape"
   ]
  },
  {
   "cell_type": "code",
   "execution_count": 55,
   "id": "c1a10277",
   "metadata": {},
   "outputs": [
    {
     "data": {
      "text/plain": [
       "True"
      ]
     },
     "execution_count": 55,
     "metadata": {},
     "output_type": "execute_result"
    }
   ],
   "source": [
    "# test set: numerical features and text features has same rows \n",
    "X_test_num_stem_df.shape[0]==X_test_wv_text_df.shape[0]"
   ]
  },
  {
   "cell_type": "code",
   "execution_count": 56,
   "id": "a953d2c4",
   "metadata": {},
   "outputs": [],
   "source": [
    "# combine test set\n",
    "X_test_wv_df=pd.concat([X_test_wv_text_df,X_test_num_stem_df],axis=1)"
   ]
  },
  {
   "cell_type": "code",
   "execution_count": 57,
   "id": "c9a94bf3",
   "metadata": {},
   "outputs": [
    {
     "data": {
      "text/html": [
       "<div>\n",
       "<style scoped>\n",
       "    .dataframe tbody tr th:only-of-type {\n",
       "        vertical-align: middle;\n",
       "    }\n",
       "\n",
       "    .dataframe tbody tr th {\n",
       "        vertical-align: top;\n",
       "    }\n",
       "\n",
       "    .dataframe thead th {\n",
       "        text-align: right;\n",
       "    }\n",
       "</style>\n",
       "<table border=\"1\" class=\"dataframe\">\n",
       "  <thead>\n",
       "    <tr style=\"text-align: right;\">\n",
       "      <th></th>\n",
       "      <th>0</th>\n",
       "      <th>1</th>\n",
       "      <th>2</th>\n",
       "      <th>3</th>\n",
       "      <th>4</th>\n",
       "      <th>5</th>\n",
       "      <th>6</th>\n",
       "      <th>7</th>\n",
       "      <th>8</th>\n",
       "      <th>9</th>\n",
       "      <th>...</th>\n",
       "      <th>294</th>\n",
       "      <th>295</th>\n",
       "      <th>296</th>\n",
       "      <th>297</th>\n",
       "      <th>298</th>\n",
       "      <th>299</th>\n",
       "      <th>has_salary_range</th>\n",
       "      <th>telecommuting</th>\n",
       "      <th>has_company_logo</th>\n",
       "      <th>has_questions</th>\n",
       "    </tr>\n",
       "  </thead>\n",
       "  <tbody>\n",
       "    <tr>\n",
       "      <th>0</th>\n",
       "      <td>0.018789</td>\n",
       "      <td>-0.022035</td>\n",
       "      <td>-0.013473</td>\n",
       "      <td>0.011040</td>\n",
       "      <td>0.001409</td>\n",
       "      <td>0.095111</td>\n",
       "      <td>0.007145</td>\n",
       "      <td>-0.054297</td>\n",
       "      <td>0.044798</td>\n",
       "      <td>0.040261</td>\n",
       "      <td>...</td>\n",
       "      <td>0.007426</td>\n",
       "      <td>0.037257</td>\n",
       "      <td>-0.023748</td>\n",
       "      <td>-0.006802</td>\n",
       "      <td>-0.024362</td>\n",
       "      <td>0.016189</td>\n",
       "      <td>1</td>\n",
       "      <td>0</td>\n",
       "      <td>1</td>\n",
       "      <td>0</td>\n",
       "    </tr>\n",
       "    <tr>\n",
       "      <th>1</th>\n",
       "      <td>0.010367</td>\n",
       "      <td>-0.050015</td>\n",
       "      <td>-0.010797</td>\n",
       "      <td>-0.007565</td>\n",
       "      <td>0.000990</td>\n",
       "      <td>0.048667</td>\n",
       "      <td>-0.014224</td>\n",
       "      <td>-0.055378</td>\n",
       "      <td>0.009178</td>\n",
       "      <td>0.042945</td>\n",
       "      <td>...</td>\n",
       "      <td>0.020617</td>\n",
       "      <td>0.053427</td>\n",
       "      <td>-0.012712</td>\n",
       "      <td>-0.027088</td>\n",
       "      <td>-0.010420</td>\n",
       "      <td>0.032028</td>\n",
       "      <td>0</td>\n",
       "      <td>0</td>\n",
       "      <td>1</td>\n",
       "      <td>1</td>\n",
       "    </tr>\n",
       "    <tr>\n",
       "      <th>2</th>\n",
       "      <td>-0.000405</td>\n",
       "      <td>-0.014026</td>\n",
       "      <td>-0.019699</td>\n",
       "      <td>0.005127</td>\n",
       "      <td>-0.017995</td>\n",
       "      <td>0.043106</td>\n",
       "      <td>-0.011168</td>\n",
       "      <td>-0.019834</td>\n",
       "      <td>-0.002494</td>\n",
       "      <td>-0.000975</td>\n",
       "      <td>...</td>\n",
       "      <td>-0.045438</td>\n",
       "      <td>0.080359</td>\n",
       "      <td>-0.031152</td>\n",
       "      <td>-0.004918</td>\n",
       "      <td>0.009107</td>\n",
       "      <td>0.053894</td>\n",
       "      <td>1</td>\n",
       "      <td>0</td>\n",
       "      <td>0</td>\n",
       "      <td>1</td>\n",
       "    </tr>\n",
       "    <tr>\n",
       "      <th>3</th>\n",
       "      <td>0.025157</td>\n",
       "      <td>-0.009937</td>\n",
       "      <td>0.010194</td>\n",
       "      <td>-0.006731</td>\n",
       "      <td>0.005550</td>\n",
       "      <td>0.053188</td>\n",
       "      <td>-0.027584</td>\n",
       "      <td>-0.029183</td>\n",
       "      <td>0.002354</td>\n",
       "      <td>0.012742</td>\n",
       "      <td>...</td>\n",
       "      <td>0.017930</td>\n",
       "      <td>0.038814</td>\n",
       "      <td>-0.025250</td>\n",
       "      <td>-0.016356</td>\n",
       "      <td>-0.011946</td>\n",
       "      <td>0.024874</td>\n",
       "      <td>0</td>\n",
       "      <td>0</td>\n",
       "      <td>1</td>\n",
       "      <td>1</td>\n",
       "    </tr>\n",
       "    <tr>\n",
       "      <th>4</th>\n",
       "      <td>0.015688</td>\n",
       "      <td>-0.003842</td>\n",
       "      <td>-0.021589</td>\n",
       "      <td>-0.003563</td>\n",
       "      <td>-0.012856</td>\n",
       "      <td>0.071822</td>\n",
       "      <td>-0.014360</td>\n",
       "      <td>-0.032929</td>\n",
       "      <td>0.020752</td>\n",
       "      <td>0.014072</td>\n",
       "      <td>...</td>\n",
       "      <td>0.006578</td>\n",
       "      <td>0.048972</td>\n",
       "      <td>-0.019309</td>\n",
       "      <td>-0.004729</td>\n",
       "      <td>-0.018557</td>\n",
       "      <td>0.011441</td>\n",
       "      <td>0</td>\n",
       "      <td>0</td>\n",
       "      <td>1</td>\n",
       "      <td>0</td>\n",
       "    </tr>\n",
       "    <tr>\n",
       "      <th>...</th>\n",
       "      <td>...</td>\n",
       "      <td>...</td>\n",
       "      <td>...</td>\n",
       "      <td>...</td>\n",
       "      <td>...</td>\n",
       "      <td>...</td>\n",
       "      <td>...</td>\n",
       "      <td>...</td>\n",
       "      <td>...</td>\n",
       "      <td>...</td>\n",
       "      <td>...</td>\n",
       "      <td>...</td>\n",
       "      <td>...</td>\n",
       "      <td>...</td>\n",
       "      <td>...</td>\n",
       "      <td>...</td>\n",
       "      <td>...</td>\n",
       "      <td>...</td>\n",
       "      <td>...</td>\n",
       "      <td>...</td>\n",
       "      <td>...</td>\n",
       "    </tr>\n",
       "    <tr>\n",
       "      <th>5359</th>\n",
       "      <td>0.009623</td>\n",
       "      <td>-0.038822</td>\n",
       "      <td>0.007203</td>\n",
       "      <td>-0.003796</td>\n",
       "      <td>-0.022963</td>\n",
       "      <td>0.027172</td>\n",
       "      <td>0.011261</td>\n",
       "      <td>-0.080157</td>\n",
       "      <td>0.034272</td>\n",
       "      <td>-0.006636</td>\n",
       "      <td>...</td>\n",
       "      <td>-0.026421</td>\n",
       "      <td>0.048347</td>\n",
       "      <td>-0.001478</td>\n",
       "      <td>-0.004622</td>\n",
       "      <td>-0.026346</td>\n",
       "      <td>-0.001985</td>\n",
       "      <td>0</td>\n",
       "      <td>0</td>\n",
       "      <td>1</td>\n",
       "      <td>0</td>\n",
       "    </tr>\n",
       "    <tr>\n",
       "      <th>5360</th>\n",
       "      <td>0.005633</td>\n",
       "      <td>-0.036866</td>\n",
       "      <td>-0.004559</td>\n",
       "      <td>0.013722</td>\n",
       "      <td>-0.038692</td>\n",
       "      <td>0.063361</td>\n",
       "      <td>-0.004791</td>\n",
       "      <td>-0.048095</td>\n",
       "      <td>0.006991</td>\n",
       "      <td>0.001913</td>\n",
       "      <td>...</td>\n",
       "      <td>0.020413</td>\n",
       "      <td>0.055088</td>\n",
       "      <td>0.011159</td>\n",
       "      <td>-0.020813</td>\n",
       "      <td>-0.008464</td>\n",
       "      <td>0.008605</td>\n",
       "      <td>0</td>\n",
       "      <td>0</td>\n",
       "      <td>1</td>\n",
       "      <td>0</td>\n",
       "    </tr>\n",
       "    <tr>\n",
       "      <th>5361</th>\n",
       "      <td>-0.004940</td>\n",
       "      <td>-0.017801</td>\n",
       "      <td>0.012386</td>\n",
       "      <td>-0.027455</td>\n",
       "      <td>0.022083</td>\n",
       "      <td>0.048710</td>\n",
       "      <td>-0.009394</td>\n",
       "      <td>-0.057615</td>\n",
       "      <td>0.042862</td>\n",
       "      <td>-0.009790</td>\n",
       "      <td>...</td>\n",
       "      <td>0.031981</td>\n",
       "      <td>0.064530</td>\n",
       "      <td>0.005916</td>\n",
       "      <td>-0.020952</td>\n",
       "      <td>-0.002602</td>\n",
       "      <td>0.030358</td>\n",
       "      <td>0</td>\n",
       "      <td>0</td>\n",
       "      <td>1</td>\n",
       "      <td>1</td>\n",
       "    </tr>\n",
       "    <tr>\n",
       "      <th>5362</th>\n",
       "      <td>-0.001808</td>\n",
       "      <td>-0.074149</td>\n",
       "      <td>-0.000581</td>\n",
       "      <td>-0.003270</td>\n",
       "      <td>-0.002644</td>\n",
       "      <td>0.047228</td>\n",
       "      <td>0.013216</td>\n",
       "      <td>-0.050476</td>\n",
       "      <td>0.055103</td>\n",
       "      <td>0.000468</td>\n",
       "      <td>...</td>\n",
       "      <td>-0.022682</td>\n",
       "      <td>0.093179</td>\n",
       "      <td>-0.026688</td>\n",
       "      <td>-0.038551</td>\n",
       "      <td>0.017785</td>\n",
       "      <td>-0.015965</td>\n",
       "      <td>0</td>\n",
       "      <td>0</td>\n",
       "      <td>1</td>\n",
       "      <td>0</td>\n",
       "    </tr>\n",
       "    <tr>\n",
       "      <th>5363</th>\n",
       "      <td>0.030027</td>\n",
       "      <td>-0.021073</td>\n",
       "      <td>-0.027623</td>\n",
       "      <td>0.011156</td>\n",
       "      <td>0.001816</td>\n",
       "      <td>0.088727</td>\n",
       "      <td>-0.006664</td>\n",
       "      <td>-0.035719</td>\n",
       "      <td>0.020171</td>\n",
       "      <td>0.019871</td>\n",
       "      <td>...</td>\n",
       "      <td>0.010312</td>\n",
       "      <td>0.053660</td>\n",
       "      <td>-0.022318</td>\n",
       "      <td>-0.016587</td>\n",
       "      <td>-0.034201</td>\n",
       "      <td>0.035940</td>\n",
       "      <td>0</td>\n",
       "      <td>0</td>\n",
       "      <td>1</td>\n",
       "      <td>0</td>\n",
       "    </tr>\n",
       "  </tbody>\n",
       "</table>\n",
       "<p>5364 rows × 304 columns</p>\n",
       "</div>"
      ],
      "text/plain": [
       "             0         1         2         3         4         5         6  \\\n",
       "0     0.018789 -0.022035 -0.013473  0.011040  0.001409  0.095111  0.007145   \n",
       "1     0.010367 -0.050015 -0.010797 -0.007565  0.000990  0.048667 -0.014224   \n",
       "2    -0.000405 -0.014026 -0.019699  0.005127 -0.017995  0.043106 -0.011168   \n",
       "3     0.025157 -0.009937  0.010194 -0.006731  0.005550  0.053188 -0.027584   \n",
       "4     0.015688 -0.003842 -0.021589 -0.003563 -0.012856  0.071822 -0.014360   \n",
       "...        ...       ...       ...       ...       ...       ...       ...   \n",
       "5359  0.009623 -0.038822  0.007203 -0.003796 -0.022963  0.027172  0.011261   \n",
       "5360  0.005633 -0.036866 -0.004559  0.013722 -0.038692  0.063361 -0.004791   \n",
       "5361 -0.004940 -0.017801  0.012386 -0.027455  0.022083  0.048710 -0.009394   \n",
       "5362 -0.001808 -0.074149 -0.000581 -0.003270 -0.002644  0.047228  0.013216   \n",
       "5363  0.030027 -0.021073 -0.027623  0.011156  0.001816  0.088727 -0.006664   \n",
       "\n",
       "             7         8         9  ...       294       295       296  \\\n",
       "0    -0.054297  0.044798  0.040261  ...  0.007426  0.037257 -0.023748   \n",
       "1    -0.055378  0.009178  0.042945  ...  0.020617  0.053427 -0.012712   \n",
       "2    -0.019834 -0.002494 -0.000975  ... -0.045438  0.080359 -0.031152   \n",
       "3    -0.029183  0.002354  0.012742  ...  0.017930  0.038814 -0.025250   \n",
       "4    -0.032929  0.020752  0.014072  ...  0.006578  0.048972 -0.019309   \n",
       "...        ...       ...       ...  ...       ...       ...       ...   \n",
       "5359 -0.080157  0.034272 -0.006636  ... -0.026421  0.048347 -0.001478   \n",
       "5360 -0.048095  0.006991  0.001913  ...  0.020413  0.055088  0.011159   \n",
       "5361 -0.057615  0.042862 -0.009790  ...  0.031981  0.064530  0.005916   \n",
       "5362 -0.050476  0.055103  0.000468  ... -0.022682  0.093179 -0.026688   \n",
       "5363 -0.035719  0.020171  0.019871  ...  0.010312  0.053660 -0.022318   \n",
       "\n",
       "           297       298       299  has_salary_range  telecommuting  \\\n",
       "0    -0.006802 -0.024362  0.016189                 1              0   \n",
       "1    -0.027088 -0.010420  0.032028                 0              0   \n",
       "2    -0.004918  0.009107  0.053894                 1              0   \n",
       "3    -0.016356 -0.011946  0.024874                 0              0   \n",
       "4    -0.004729 -0.018557  0.011441                 0              0   \n",
       "...        ...       ...       ...               ...            ...   \n",
       "5359 -0.004622 -0.026346 -0.001985                 0              0   \n",
       "5360 -0.020813 -0.008464  0.008605                 0              0   \n",
       "5361 -0.020952 -0.002602  0.030358                 0              0   \n",
       "5362 -0.038551  0.017785 -0.015965                 0              0   \n",
       "5363 -0.016587 -0.034201  0.035940                 0              0   \n",
       "\n",
       "      has_company_logo  has_questions  \n",
       "0                    1              0  \n",
       "1                    1              1  \n",
       "2                    0              1  \n",
       "3                    1              1  \n",
       "4                    1              0  \n",
       "...                ...            ...  \n",
       "5359                 1              0  \n",
       "5360                 1              0  \n",
       "5361                 1              1  \n",
       "5362                 1              0  \n",
       "5363                 1              0  \n",
       "\n",
       "[5364 rows x 304 columns]"
      ]
     },
     "execution_count": 57,
     "metadata": {},
     "output_type": "execute_result"
    }
   ],
   "source": [
    "X_test_wv_df"
   ]
  },
  {
   "cell_type": "code",
   "execution_count": 58,
   "id": "104f5b84",
   "metadata": {},
   "outputs": [
    {
     "data": {
      "text/plain": [
       "(5364, 304)"
      ]
     },
     "execution_count": 58,
     "metadata": {},
     "output_type": "execute_result"
    }
   ],
   "source": [
    "X_test_wv_df.shape"
   ]
  },
  {
   "cell_type": "code",
   "execution_count": 59,
   "id": "97ebf286",
   "metadata": {},
   "outputs": [
    {
     "data": {
      "text/plain": [
       "0"
      ]
     },
     "execution_count": 59,
     "metadata": {},
     "output_type": "execute_result"
    }
   ],
   "source": [
    "X_test_wv_df.isna().sum().sum()"
   ]
  },
  {
   "cell_type": "code",
   "execution_count": 60,
   "id": "f37db480",
   "metadata": {},
   "outputs": [
    {
     "name": "stdout",
     "output_type": "stream",
     "text": [
      "The shape of transformed (word2vec) reminder is (12515, 304),shape of transformed test set is (5364, 304) \n"
     ]
    }
   ],
   "source": [
    "print(f'The shape of transformed (word2vec) reminder is {X_rem_wv_df.shape},shape of transformed test set is {X_test_wv_df.shape} ')"
   ]
  },
  {
   "cell_type": "markdown",
   "id": "3d14c5b9",
   "metadata": {},
   "source": [
    "## 4.2 GloVe<a id=\"4.2\"></a>\n",
    "<a href=\"#top\" class=\"btn btn-primary btn-sm\" role=\"button\" aria-pressed=\"true\" style=\"color:white\" data-toggle=\"popover\">Go to TOC</a>"
   ]
  },
  {
   "cell_type": "markdown",
   "id": "2b1f5da7",
   "metadata": {},
   "source": [
    "**Intro**\n",
    "\n",
    "GloVe (Global Vectors for Word Representation) is a pre-trained word embedding model that is used to map words to their vector representations. It was developed by researchers at Stanford University and published in a 2014 paper by Jeffrey Pennington, Richard Socher, and Christopher D. Manning, you can get more detail from here. [GloVe](https://nlp.stanford.edu/projects/glove/).\n",
    "\n",
    "- In this project I will use this re-trained GloVe embedding version down below.\n",
    "- Down load from here. [GloVe](https://nlp.stanford.edu/projects/glove/).\n",
    "Common Crawl (840B tokens, 2.2M vocab, cased, 300d vectors, 2.03 GB download)"
   ]
  },
  {
   "cell_type": "code",
   "execution_count": null,
   "id": "d370924b",
   "metadata": {},
   "outputs": [],
   "source": []
  },
  {
   "cell_type": "code",
   "execution_count": null,
   "id": "143fd23e",
   "metadata": {},
   "outputs": [],
   "source": []
  },
  {
   "cell_type": "markdown",
   "id": "25c2d419",
   "metadata": {},
   "source": [
    "# 5. Modeling"
   ]
  },
  {
   "cell_type": "markdown",
   "id": "7db20dd9",
   "metadata": {},
   "source": [
    "**Plan**\n",
    "\n",
    "- re-check target distribution\n",
    "- handle imbalanced data\n",
    "- modeling"
   ]
  },
  {
   "cell_type": "code",
   "execution_count": 61,
   "id": "41593ff0",
   "metadata": {},
   "outputs": [
    {
     "data": {
      "image/png": "[encoded data removed]",
      "text/plain": [
       "<Figure size 2000x600 with 2 Axes>"
      ]
     },
     "metadata": {},
     "output_type": "display_data"
    }
   ],
   "source": [
    "plt.figure(figsize=(20,6))\n",
    "plt.subplot(1,2,1)\n",
    "y_rem.value_counts().plot(kind='bar')\n",
    "plt.title(\"Distribution of job post Train\")\n",
    "plt.xlabel(\"Fake or not\")\n",
    "plt.ylabel('count')\n",
    "\n",
    "plt.subplot(1,2,2)\n",
    "y_test.value_counts().plot(kind='bar',color='red')\n",
    "plt.title(\"Distribution of job post Test\")\n",
    "plt.xlabel(\"Fake or not\")\n",
    "plt.ylabel('count')\n",
    "plt.show()"
   ]
  },
  {
   "cell_type": "markdown",
   "id": "1b3be510",
   "metadata": {},
   "source": [
    "- Data set is very embalanced, I need to balace the train set before modeling.\n",
    "- I don't want to touch test set, as most of the process on the test set may cause data leaking, or introduce bias in the test set."
   ]
  },
  {
   "cell_type": "markdown",
   "id": "746bf5a9",
   "metadata": {},
   "source": [
    "**Imbalanced data**\n",
    "\n",
    "**Note** : I will only use SMOTE() on remder set."
   ]
  },
  {
   "cell_type": "code",
   "execution_count": 62,
   "id": "048d98de",
   "metadata": {},
   "outputs": [],
   "source": [
    "smote = SMOTE(random_state=42)\n",
    "X_rem_wv_smote, y_rem_smote = smote.fit_resample(X_rem_wv_df, y_rem)"
   ]
  },
  {
   "cell_type": "code",
   "execution_count": 63,
   "id": "48b56d36",
   "metadata": {},
   "outputs": [
    {
     "data": {
      "text/plain": [
       "(23818, 304)"
      ]
     },
     "execution_count": 63,
     "metadata": {},
     "output_type": "execute_result"
    }
   ],
   "source": [
    "X_rem_wv_smote.shape"
   ]
  },
  {
   "cell_type": "code",
   "execution_count": 64,
   "id": "9818253e",
   "metadata": {},
   "outputs": [
    {
     "data": {
      "text/plain": [
       "0    11909\n",
       "1    11909\n",
       "Name: fraudulent, dtype: int64"
      ]
     },
     "execution_count": 64,
     "metadata": {},
     "output_type": "execute_result"
    }
   ],
   "source": [
    "y_rem_smote.value_counts()"
   ]
  },
  {
   "cell_type": "code",
   "execution_count": null,
   "id": "9824955e",
   "metadata": {},
   "outputs": [],
   "source": []
  },
  {
   "cell_type": "code",
   "execution_count": 83,
   "id": "3f8d4ab6",
   "metadata": {},
   "outputs": [],
   "source": [
    "from tensorflow import random as tf_random\n",
    "from tensorflow import keras\n",
    "from tensorflow.keras import layers\n",
    "\n",
    "# random seeds for reproducability\n",
    "np.random.seed(123)\n",
    "tf_random.set_seed(123)\n",
    "\n",
    "# create a new sequential model\n",
    "model = keras.Sequential()\n",
    "\n",
    "model.add(layers.Dense(128, activation=\"relu\"))\n",
    "model.add(layers.Dropout(0.2))\n",
    "model.add(layers.Dense(32, activation=\"relu\"))\n",
    "model.add(layers.Dropout(0.2))\n",
    "#model.add(layers.Dense(2, activation=\"softmax\")) # output layer\n",
    "\n",
    "model.add(layers.Dense(1, activation=\"sigmoid\")) # output\n",
    "\n",
    "model.compile(\n",
    "    optimizer=keras.optimizers.Adam(),  \n",
    "    loss=keras.losses.BinaryCrossentropy(),\n",
    "    metrics=[keras.metrics.BinaryAccuracy()]\n",
    ")\n",
    "\n",
    "\n",
    "\n",
    "#history = model.fit(X_rem_wv_smote.astype(np.float32), y_rem_smote, \n",
    "#                    validation_split=0.2, \n",
    "#                    epochs=10, \n",
    "#                    verbose=1)"
   ]
  },
  {
   "cell_type": "code",
   "execution_count": 91,
   "id": "480e8f80",
   "metadata": {},
   "outputs": [
    {
     "name": "stdout",
     "output_type": "stream",
     "text": [
      "Epoch 1/30\n",
      "298/298 [==============================] - 0s 2ms/step - loss: 0.0282 - binary_accuracy: 0.9911 - val_loss: 0.0110 - val_binary_accuracy: 0.9981\n",
      "Epoch 2/30\n",
      "298/298 [==============================] - 0s 1ms/step - loss: 0.0225 - binary_accuracy: 0.9925 - val_loss: 0.0077 - val_binary_accuracy: 0.9996\n",
      "Epoch 3/30\n",
      "298/298 [==============================] - 0s 1ms/step - loss: 0.0241 - binary_accuracy: 0.9918 - val_loss: 0.0266 - val_binary_accuracy: 0.9966\n",
      "Epoch 4/30\n",
      "298/298 [==============================] - 0s 1ms/step - loss: 0.0222 - binary_accuracy: 0.9927 - val_loss: 0.0049 - val_binary_accuracy: 0.9996\n",
      "Epoch 5/30\n",
      "298/298 [==============================] - 0s 1ms/step - loss: 0.0229 - binary_accuracy: 0.9927 - val_loss: 0.0107 - val_binary_accuracy: 0.9992\n",
      "Epoch 6/30\n",
      "298/298 [==============================] - 0s 1ms/step - loss: 0.0230 - binary_accuracy: 0.9919 - val_loss: 0.0034 - val_binary_accuracy: 0.9996\n",
      "Epoch 7/30\n",
      "298/298 [==============================] - 0s 2ms/step - loss: 0.0195 - binary_accuracy: 0.9937 - val_loss: 0.0129 - val_binary_accuracy: 0.9983\n",
      "Epoch 8/30\n",
      "298/298 [==============================] - 0s 1ms/step - loss: 0.0147 - binary_accuracy: 0.9957 - val_loss: 0.0042 - val_binary_accuracy: 0.9998\n",
      "Epoch 9/30\n",
      "298/298 [==============================] - 0s 1ms/step - loss: 0.0229 - binary_accuracy: 0.9924 - val_loss: 0.0217 - val_binary_accuracy: 0.9966\n",
      "Epoch 10/30\n",
      "298/298 [==============================] - 0s 1ms/step - loss: 0.0184 - binary_accuracy: 0.9935 - val_loss: 0.0032 - val_binary_accuracy: 0.9992\n",
      "Epoch 11/30\n",
      "298/298 [==============================] - 0s 1ms/step - loss: 0.0178 - binary_accuracy: 0.9943 - val_loss: 0.0042 - val_binary_accuracy: 0.9996\n",
      "Epoch 12/30\n",
      "298/298 [==============================] - 0s 1ms/step - loss: 0.0114 - binary_accuracy: 0.9967 - val_loss: 0.0023 - val_binary_accuracy: 0.9998\n",
      "Epoch 13/30\n",
      "298/298 [==============================] - 0s 1ms/step - loss: 0.0163 - binary_accuracy: 0.9942 - val_loss: 0.0133 - val_binary_accuracy: 0.9983\n",
      "Epoch 14/30\n",
      "298/298 [==============================] - 0s 1ms/step - loss: 0.0180 - binary_accuracy: 0.9939 - val_loss: 0.0056 - val_binary_accuracy: 0.9996\n",
      "Epoch 15/30\n",
      "298/298 [==============================] - 0s 1ms/step - loss: 0.0170 - binary_accuracy: 0.9945 - val_loss: 0.0055 - val_binary_accuracy: 0.9985\n",
      "Epoch 16/30\n",
      "298/298 [==============================] - 0s 1ms/step - loss: 0.0146 - binary_accuracy: 0.9949 - val_loss: 0.0117 - val_binary_accuracy: 0.9971\n",
      "Epoch 17/30\n",
      "298/298 [==============================] - 0s 1ms/step - loss: 0.0160 - binary_accuracy: 0.9948 - val_loss: 0.0561 - val_binary_accuracy: 0.9819\n",
      "Epoch 18/30\n",
      "298/298 [==============================] - 0s 1ms/step - loss: 0.0130 - binary_accuracy: 0.9959 - val_loss: 0.0025 - val_binary_accuracy: 0.9996\n",
      "Epoch 19/30\n",
      "298/298 [==============================] - 0s 2ms/step - loss: 0.0125 - binary_accuracy: 0.9955 - val_loss: 0.0036 - val_binary_accuracy: 0.9994\n",
      "Epoch 20/30\n",
      "298/298 [==============================] - 1s 2ms/step - loss: 0.0135 - binary_accuracy: 0.9950 - val_loss: 0.0022 - val_binary_accuracy: 0.9996\n",
      "Epoch 21/30\n",
      "298/298 [==============================] - 0s 1ms/step - loss: 0.0234 - binary_accuracy: 0.9919 - val_loss: 0.0129 - val_binary_accuracy: 0.9960\n",
      "Epoch 22/30\n",
      "298/298 [==============================] - 0s 2ms/step - loss: 0.0116 - binary_accuracy: 0.9961 - val_loss: 0.0083 - val_binary_accuracy: 0.9979\n",
      "Epoch 23/30\n",
      "298/298 [==============================] - 0s 1ms/step - loss: 0.0136 - binary_accuracy: 0.9955 - val_loss: 0.0072 - val_binary_accuracy: 0.9990\n",
      "Epoch 24/30\n",
      "298/298 [==============================] - 0s 2ms/step - loss: 0.0155 - binary_accuracy: 0.9945 - val_loss: 0.0335 - val_binary_accuracy: 0.9924\n",
      "Epoch 25/30\n",
      "298/298 [==============================] - 0s 2ms/step - loss: 0.0136 - binary_accuracy: 0.9956 - val_loss: 0.0019 - val_binary_accuracy: 0.9996\n",
      "Epoch 26/30\n",
      "298/298 [==============================] - 0s 2ms/step - loss: 0.0143 - binary_accuracy: 0.9953 - val_loss: 0.0023 - val_binary_accuracy: 0.9998\n",
      "Epoch 27/30\n",
      "298/298 [==============================] - 0s 2ms/step - loss: 0.0116 - binary_accuracy: 0.9963 - val_loss: 0.0045 - val_binary_accuracy: 0.9992\n",
      "Epoch 28/30\n",
      "298/298 [==============================] - 0s 2ms/step - loss: 0.0151 - binary_accuracy: 0.9949 - val_loss: 0.0026 - val_binary_accuracy: 0.9996\n",
      "Epoch 29/30\n",
      "298/298 [==============================] - 0s 1ms/step - loss: 0.0095 - binary_accuracy: 0.9972 - val_loss: 0.0167 - val_binary_accuracy: 0.9956\n",
      "Epoch 30/30\n",
      "298/298 [==============================] - 0s 1ms/step - loss: 0.0140 - binary_accuracy: 0.9954 - val_loss: 0.0056 - val_binary_accuracy: 0.9992\n"
     ]
    }
   ],
   "source": [
    "history=model.fit(X_rem_wv_smote.astype(np.float32), y=y_rem_smote, batch_size=64, \n",
    "          epochs=30, verbose=1, \n",
    "          validation_split=0.2)"
   ]
  },
  {
   "cell_type": "code",
   "execution_count": 92,
   "id": "777997d9",
   "metadata": {},
   "outputs": [
    {
     "name": "stdout",
     "output_type": "stream",
     "text": [
      "Train Accuracy: 0.9954\n",
      "Test Accuracy: 0.9504\n"
     ]
    }
   ],
   "source": [
    "# Evaluate the network\n",
    "train_accuracy = history.history[\"binary_accuracy\"][-1]\n",
    "result = model.evaluate(X_test_wv_df,y_test, verbose=0)\n",
    "\n",
    "print(f\"Train Accuracy: {train_accuracy:.4f}\")\n",
    "print(f\"Test Accuracy: {result[1]:.4f}\")"
   ]
  },
  {
   "cell_type": "code",
   "execution_count": 98,
   "id": "8a93e42e",
   "metadata": {},
   "outputs": [],
   "source": [
    "predictions = model.predict(X_test_wv_df)"
   ]
  },
  {
   "cell_type": "code",
   "execution_count": 101,
   "id": "b8440d70",
   "metadata": {},
   "outputs": [
    {
     "data": {
      "text/plain": [
       "array([[7.1642760e-05],\n",
       "       [4.6118204e-13],\n",
       "       [9.6149688e-07],\n",
       "       ...,\n",
       "       [1.3920431e-11],\n",
       "       [6.8885854e-17],\n",
       "       [1.8909247e-11]], dtype=float32)"
      ]
     },
     "execution_count": 101,
     "metadata": {},
     "output_type": "execute_result"
    }
   ],
   "source": [
    "predictions"
   ]
  },
  {
   "cell_type": "code",
   "execution_count": 93,
   "id": "caf4880c",
   "metadata": {},
   "outputs": [
    {
     "data": {
      "image/png": "[encoded data removed]",
      "text/plain": [
       "<Figure size 640x480 with 1 Axes>"
      ]
     },
     "metadata": {},
     "output_type": "display_data"
    }
   ],
   "source": [
    "plt.plot(history.history['loss'])\n",
    "plt.plot(history.history['val_loss'])\n",
    "plt.title('Model Loss')\n",
    "plt.ylabel('Loss')\n",
    "plt.xlabel('Epoch')\n",
    "#ax.set_xticks(list(range(1,21))\n",
    "plt.legend(['Train', 'Validation'])\n",
    "plt.show()"
   ]
  },
  {
   "cell_type": "code",
   "execution_count": 108,
   "id": "c402bc96",
   "metadata": {},
   "outputs": [
    {
     "data": {
      "text/plain": [
       "Index([                 0,                  1,                  2,\n",
       "                        3,                  4,                  5,\n",
       "                        6,                  7,                  8,\n",
       "                        9,\n",
       "       ...\n",
       "                      294,                295,                296,\n",
       "                      297,                298,                299,\n",
       "       'has_salary_range',    'telecommuting', 'has_company_logo',\n",
       "          'has_questions'],\n",
       "      dtype='object', length=304)"
      ]
     },
     "execution_count": 108,
     "metadata": {},
     "output_type": "execute_result"
    }
   ],
   "source": [
    "X_test_wv_df.columns"
   ]
  },
  {
   "cell_type": "code",
   "execution_count": 104,
   "id": "3fbfd74f",
   "metadata": {},
   "outputs": [],
   "source": [
    "log_reg=LogisticRegression()\n",
    "log_reg.fit(X_rem_wv_smote,y_rem_smote)\n",
    "log_reg.predict(X_test_wv_df)\n",
    "coefficients=log_reg.coef_[0]"
   ]
  },
  {
   "cell_type": "code",
   "execution_count": 110,
   "id": "7be8e95b",
   "metadata": {},
   "outputs": [
    {
     "data": {
      "text/html": [
       "<div>\n",
       "<style scoped>\n",
       "    .dataframe tbody tr th:only-of-type {\n",
       "        vertical-align: middle;\n",
       "    }\n",
       "\n",
       "    .dataframe tbody tr th {\n",
       "        vertical-align: top;\n",
       "    }\n",
       "\n",
       "    .dataframe thead th {\n",
       "        text-align: right;\n",
       "    }\n",
       "</style>\n",
       "<table border=\"1\" class=\"dataframe\">\n",
       "  <thead>\n",
       "    <tr style=\"text-align: right;\">\n",
       "      <th></th>\n",
       "      <th>coefficients</th>\n",
       "    </tr>\n",
       "  </thead>\n",
       "  <tbody>\n",
       "    <tr>\n",
       "      <th>252</th>\n",
       "      <td>8.791477</td>\n",
       "    </tr>\n",
       "    <tr>\n",
       "      <th>268</th>\n",
       "      <td>6.789299</td>\n",
       "    </tr>\n",
       "    <tr>\n",
       "      <th>146</th>\n",
       "      <td>6.701490</td>\n",
       "    </tr>\n",
       "    <tr>\n",
       "      <th>60</th>\n",
       "      <td>6.523205</td>\n",
       "    </tr>\n",
       "    <tr>\n",
       "      <th>295</th>\n",
       "      <td>6.349401</td>\n",
       "    </tr>\n",
       "    <tr>\n",
       "      <th>...</th>\n",
       "      <td>...</td>\n",
       "    </tr>\n",
       "    <tr>\n",
       "      <th>32</th>\n",
       "      <td>-5.963758</td>\n",
       "    </tr>\n",
       "    <tr>\n",
       "      <th>53</th>\n",
       "      <td>-5.973222</td>\n",
       "    </tr>\n",
       "    <tr>\n",
       "      <th>89</th>\n",
       "      <td>-6.259209</td>\n",
       "    </tr>\n",
       "    <tr>\n",
       "      <th>243</th>\n",
       "      <td>-6.579357</td>\n",
       "    </tr>\n",
       "    <tr>\n",
       "      <th>269</th>\n",
       "      <td>-7.245909</td>\n",
       "    </tr>\n",
       "  </tbody>\n",
       "</table>\n",
       "<p>304 rows × 1 columns</p>\n",
       "</div>"
      ],
      "text/plain": [
       "     coefficients\n",
       "252      8.791477\n",
       "268      6.789299\n",
       "146      6.701490\n",
       "60       6.523205\n",
       "295      6.349401\n",
       "..            ...\n",
       "32      -5.963758\n",
       "53      -5.973222\n",
       "89      -6.259209\n",
       "243     -6.579357\n",
       "269     -7.245909\n",
       "\n",
       "[304 rows x 1 columns]"
      ]
     },
     "execution_count": 110,
     "metadata": {},
     "output_type": "execute_result"
    }
   ],
   "source": [
    "cof = pd.DataFrame(\n",
    "    {\"coefficients\": coefficients},\n",
    "    index=X_test_wv_df.columns\n",
    ").sort_values(\"coefficients\", ascending=False)\n",
    "cof"
   ]
  },
  {
   "cell_type": "code",
   "execution_count": 115,
   "id": "e5add0cc",
   "metadata": {},
   "outputs": [
    {
     "data": {
      "text/plain": [
       "254     64\n",
       "255     42\n",
       "256     19\n",
       "257    218\n",
       "258    147\n",
       "259    180\n",
       "260    211\n",
       "261     91\n",
       "262    171\n",
       "263    134\n",
       "264    285\n",
       "265    178\n",
       "266     23\n",
       "267    225\n",
       "268    124\n",
       "269    133\n",
       "270    114\n",
       "271    143\n",
       "272    167\n",
       "273     15\n",
       "274    245\n",
       "275     68\n",
       "276     75\n",
       "277    270\n",
       "278     57\n",
       "279     61\n",
       "280     10\n",
       "281     40\n",
       "282    256\n",
       "283     20\n",
       "284    174\n",
       "285      1\n",
       "286    290\n",
       "287      0\n",
       "288    209\n",
       "289    122\n",
       "290     34\n",
       "291    189\n",
       "292    282\n",
       "293     49\n",
       "294     92\n",
       "295     24\n",
       "296    155\n",
       "297     67\n",
       "298    238\n",
       "299     32\n",
       "300     53\n",
       "301     89\n",
       "302    243\n",
       "303    269\n",
       "Name: index, dtype: object"
      ]
     },
     "execution_count": 115,
     "metadata": {},
     "output_type": "execute_result"
    }
   ],
   "source": [
    "cof.reset_index()['index'].tail(50)"
   ]
  },
  {
   "cell_type": "code",
   "execution_count": null,
   "id": "e60da063",
   "metadata": {},
   "outputs": [],
   "source": []
  }
 ],
 "metadata": {
  "kernelspec": {
   "display_name": "deeplearning",
   "language": "python",
   "name": "deeplearning"
  },
  "language_info": {
   "codemirror_mode": {
    "name": "ipython",
    "version": 3
   },
   "file_extension": ".py",
   "mimetype": "text/x-python",
   "name": "python",
   "nbconvert_exporter": "python",
   "pygments_lexer": "ipython3",
   "version": "3.8.15"
  }
 },
 "nbformat": 4,
 "nbformat_minor": 5
}
