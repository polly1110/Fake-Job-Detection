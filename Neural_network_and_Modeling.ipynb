{
 "cells": [
  {
   "cell_type": "markdown",
   "id": "30699655",
   "metadata": {},
   "source": [
    "# Fake job Prediction: Investigating the pattern to avoid the job scam\n",
    "\n",
    "# Notebook 5  Neural network and Modeling\n",
    "\n",
    "**Fifth setp: Modeling with Pre-trained word vectors and Neural network**\n",
    "\n",
    "By: Polly Pang\n",
    "\n",
    "In this portion of the notebook, I will use Pre-trained word vectors, convert text column into sparse metrics. And implement traditional Ml models and also Neural network model."
   ]
  },
  {
   "cell_type": "markdown",
   "id": "c3b6afd2",
   "metadata": {},
   "source": [
    "<a id=\"top\"></a>\n",
    "<div class=\"list-group\" id=\"list-tab\" role=\"tablist\">\n",
    "<h3 class=\"list-group-item list-group-item-action active\" data-toggle=\"list\" role=\"tab\" aria-controls=\"home\"> Contents</h3>\n",
    "\n",
    "* [1. Libraries](#1)\n",
    "* [2. Load data](#2)\n",
    "* [3. NLP](#3)\n",
    "    - [3.1 Pre-process](#3.1)\n",
    "* [4. Word Embeddings](#4)\n",
    "    - [4.1 Word2Vec](#4.1)\n",
    "    - [4.2 GloVe](#4.2)\n",
    "* [5. Modeling](#5)\n",
    "    - [5.1 oversampling](#5.1)\n",
    "\n",
    "    \n",
    "    \n",
    "    \n",
    "* [7. End of Notebook 5](#7)"
   ]
  },
  {
   "cell_type": "markdown",
   "id": "e211031e",
   "metadata": {},
   "source": [
    "# 1. Libraries <a id=\"1\"></a>"
   ]
  },
  {
   "cell_type": "code",
   "execution_count": 264,
   "id": "35a154ef",
   "metadata": {},
   "outputs": [
    {
     "ename": "ModuleNotFoundError",
     "evalue": "No module named 'tensorflow'",
     "output_type": "error",
     "traceback": [
      "\u001b[1;31m---------------------------------------------------------------------------\u001b[0m",
      "\u001b[1;31mModuleNotFoundError\u001b[0m                       Traceback (most recent call last)",
      "Cell \u001b[1;32mIn[264], line 26\u001b[0m\n\u001b[0;32m     23\u001b[0m \u001b[38;5;28;01mfrom\u001b[39;00m \u001b[38;5;21;01mimblearn\u001b[39;00m\u001b[38;5;21;01m.\u001b[39;00m\u001b[38;5;21;01mover_sampling\u001b[39;00m \u001b[38;5;28;01mimport\u001b[39;00m SMOTE\n\u001b[0;32m     25\u001b[0m \u001b[38;5;66;03m# model\u001b[39;00m\n\u001b[1;32m---> 26\u001b[0m \u001b[38;5;28;01mimport\u001b[39;00m \u001b[38;5;21;01mtensorflow\u001b[39;00m \u001b[38;5;28;01mas\u001b[39;00m \u001b[38;5;21;01mtf\u001b[39;00m\n\u001b[0;32m     27\u001b[0m \u001b[38;5;28;01mfrom\u001b[39;00m \u001b[38;5;21;01mtensorflow\u001b[39;00m \u001b[38;5;28;01mimport\u001b[39;00m keras\n\u001b[0;32m     28\u001b[0m \u001b[38;5;28;01mfrom\u001b[39;00m \u001b[38;5;21;01mtensorflow\u001b[39;00m\u001b[38;5;21;01m.\u001b[39;00m\u001b[38;5;21;01mkeras\u001b[39;00m \u001b[38;5;28;01mimport\u001b[39;00m layers\n",
      "\u001b[1;31mModuleNotFoundError\u001b[0m: No module named 'tensorflow'"
     ]
    }
   ],
   "source": [
    "import numpy as np\n",
    "import pandas as pd\n",
    "import matplotlib.pyplot as plt\n",
    "import seaborn as sns\n",
    "import random\n",
    "import joblib\n",
    "from sklearn.model_selection import train_test_split\n",
    "\n",
    "# NLP\n",
    "import nltk\n",
    "import string\n",
    "from nltk.tokenize import word_tokenize\n",
    "from nltk.corpus import stopwords\n",
    "import gensim\n",
    "from gensim.utils import simple_preprocess\n",
    "from gensim.models import Word2Vec\n",
    "\n",
    "from sklearn.compose import ColumnTransformer\n",
    "from sklearn.pipeline import Pipeline\n",
    "from imblearn.pipeline import Pipeline as imbPipeline\n",
    "from tqdm import tqdm\n",
    "\n",
    "from imblearn.over_sampling import SMOTE\n",
    "\n",
    "# model\n",
    "import tensorflow as tf\n",
    "from tensorflow import keras\n",
    "from tensorflow.keras import layers\n",
    "\n",
    "# Ignore futurewarnings\n",
    "import warnings\n",
    "warnings.filterwarnings('ignore')"
   ]
  },
  {
   "cell_type": "markdown",
   "id": "97b1e3f1",
   "metadata": {},
   "source": [
    "# 2. Load data"
   ]
  },
  {
   "cell_type": "markdown",
   "id": "5bea552e",
   "metadata": {},
   "source": [
    "## 2.1 Target and Feature<a id=\"2.1\"></a>\n",
    "<a href=\"#top\" class=\"btn btn-primary btn-sm\" role=\"button\" aria-pressed=\"true\" style=\"color:white\" data-toggle=\"popover\">Go to TOC</a>"
   ]
  },
  {
   "cell_type": "markdown",
   "id": "ec639be1",
   "metadata": {},
   "source": [
    "**plan**\n",
    "- Define X and y, Target :`fraudulent`, Features:`has_salary_range`,`telecommuting`,`has_company_logo`,`has_questions`,and `text`.\n",
    "- split data into test set and reminder set, as I will process Cross-Validation in the follwing part, so I will not split my dataset into train and test.\n",
    "- investigate the distribustion of reminder set."
   ]
  },
  {
   "cell_type": "code",
   "execution_count": 154,
   "id": "c0dd2cc6",
   "metadata": {},
   "outputs": [],
   "source": [
    "# load data\n",
    "word_embed_df=joblib.load('data/df_model_full_df.pkl')"
   ]
  },
  {
   "cell_type": "code",
   "execution_count": 155,
   "id": "bcc0c6d1",
   "metadata": {},
   "outputs": [
    {
     "data": {
      "text/html": [
       "<div>\n",
       "<style scoped>\n",
       "    .dataframe tbody tr th:only-of-type {\n",
       "        vertical-align: middle;\n",
       "    }\n",
       "\n",
       "    .dataframe tbody tr th {\n",
       "        vertical-align: top;\n",
       "    }\n",
       "\n",
       "    .dataframe thead th {\n",
       "        text-align: right;\n",
       "    }\n",
       "</style>\n",
       "<table border=\"1\" class=\"dataframe\">\n",
       "  <thead>\n",
       "    <tr style=\"text-align: right;\">\n",
       "      <th></th>\n",
       "      <th>has_salary_range</th>\n",
       "      <th>telecommuting</th>\n",
       "      <th>has_company_logo</th>\n",
       "      <th>has_questions</th>\n",
       "      <th>fraudulent</th>\n",
       "      <th>text</th>\n",
       "    </tr>\n",
       "  </thead>\n",
       "  <tbody>\n",
       "    <tr>\n",
       "      <th>0</th>\n",
       "      <td>0</td>\n",
       "      <td>0</td>\n",
       "      <td>1</td>\n",
       "      <td>0</td>\n",
       "      <td>0</td>\n",
       "      <td>Marketing Intern Marketing We're Food52, and w...</td>\n",
       "    </tr>\n",
       "    <tr>\n",
       "      <th>1</th>\n",
       "      <td>0</td>\n",
       "      <td>0</td>\n",
       "      <td>1</td>\n",
       "      <td>0</td>\n",
       "      <td>0</td>\n",
       "      <td>Commissioning Machinery Assistant (CMA) Blank ...</td>\n",
       "    </tr>\n",
       "    <tr>\n",
       "      <th>2</th>\n",
       "      <td>0</td>\n",
       "      <td>0</td>\n",
       "      <td>1</td>\n",
       "      <td>0</td>\n",
       "      <td>0</td>\n",
       "      <td>Account Executive - Washington DC Sales Our pa...</td>\n",
       "    </tr>\n",
       "    <tr>\n",
       "      <th>3</th>\n",
       "      <td>0</td>\n",
       "      <td>0</td>\n",
       "      <td>1</td>\n",
       "      <td>1</td>\n",
       "      <td>0</td>\n",
       "      <td>Bill Review Manager Blank SpotSource Solutions...</td>\n",
       "    </tr>\n",
       "    <tr>\n",
       "      <th>4</th>\n",
       "      <td>0</td>\n",
       "      <td>0</td>\n",
       "      <td>0</td>\n",
       "      <td>0</td>\n",
       "      <td>0</td>\n",
       "      <td>Accounting Clerk Blank Blank Job OverviewApex ...</td>\n",
       "    </tr>\n",
       "    <tr>\n",
       "      <th>...</th>\n",
       "      <td>...</td>\n",
       "      <td>...</td>\n",
       "      <td>...</td>\n",
       "      <td>...</td>\n",
       "      <td>...</td>\n",
       "      <td>...</td>\n",
       "    </tr>\n",
       "    <tr>\n",
       "      <th>17874</th>\n",
       "      <td>0</td>\n",
       "      <td>0</td>\n",
       "      <td>1</td>\n",
       "      <td>1</td>\n",
       "      <td>0</td>\n",
       "      <td>Account Director - Distribution Sales Vend is ...</td>\n",
       "    </tr>\n",
       "    <tr>\n",
       "      <th>17875</th>\n",
       "      <td>0</td>\n",
       "      <td>0</td>\n",
       "      <td>1</td>\n",
       "      <td>1</td>\n",
       "      <td>0</td>\n",
       "      <td>Payroll Accountant Accounting WebLinc is the e...</td>\n",
       "    </tr>\n",
       "    <tr>\n",
       "      <th>17876</th>\n",
       "      <td>0</td>\n",
       "      <td>0</td>\n",
       "      <td>0</td>\n",
       "      <td>0</td>\n",
       "      <td>0</td>\n",
       "      <td>Project Cost Control Staff Engineer - Cost Con...</td>\n",
       "    </tr>\n",
       "    <tr>\n",
       "      <th>17877</th>\n",
       "      <td>0</td>\n",
       "      <td>0</td>\n",
       "      <td>0</td>\n",
       "      <td>1</td>\n",
       "      <td>0</td>\n",
       "      <td>Graphic Designer Blank Blank Nemsia Studios is...</td>\n",
       "    </tr>\n",
       "    <tr>\n",
       "      <th>17878</th>\n",
       "      <td>0</td>\n",
       "      <td>0</td>\n",
       "      <td>1</td>\n",
       "      <td>1</td>\n",
       "      <td>0</td>\n",
       "      <td>Web Application Developers Engineering Vend is...</td>\n",
       "    </tr>\n",
       "  </tbody>\n",
       "</table>\n",
       "<p>17879 rows × 6 columns</p>\n",
       "</div>"
      ],
      "text/plain": [
       "       has_salary_range  telecommuting  has_company_logo  has_questions  \\\n",
       "0                     0              0                 1              0   \n",
       "1                     0              0                 1              0   \n",
       "2                     0              0                 1              0   \n",
       "3                     0              0                 1              1   \n",
       "4                     0              0                 0              0   \n",
       "...                 ...            ...               ...            ...   \n",
       "17874                 0              0                 1              1   \n",
       "17875                 0              0                 1              1   \n",
       "17876                 0              0                 0              0   \n",
       "17877                 0              0                 0              1   \n",
       "17878                 0              0                 1              1   \n",
       "\n",
       "       fraudulent                                               text  \n",
       "0               0  Marketing Intern Marketing We're Food52, and w...  \n",
       "1               0  Commissioning Machinery Assistant (CMA) Blank ...  \n",
       "2               0  Account Executive - Washington DC Sales Our pa...  \n",
       "3               0  Bill Review Manager Blank SpotSource Solutions...  \n",
       "4               0  Accounting Clerk Blank Blank Job OverviewApex ...  \n",
       "...           ...                                                ...  \n",
       "17874           0  Account Director - Distribution Sales Vend is ...  \n",
       "17875           0  Payroll Accountant Accounting WebLinc is the e...  \n",
       "17876           0  Project Cost Control Staff Engineer - Cost Con...  \n",
       "17877           0  Graphic Designer Blank Blank Nemsia Studios is...  \n",
       "17878           0  Web Application Developers Engineering Vend is...  \n",
       "\n",
       "[17879 rows x 6 columns]"
      ]
     },
     "execution_count": 155,
     "metadata": {},
     "output_type": "execute_result"
    }
   ],
   "source": [
    "# sample of dataset\n",
    "word_embed_df"
   ]
  },
  {
   "cell_type": "code",
   "execution_count": 156,
   "id": "1693fa3f",
   "metadata": {},
   "outputs": [
    {
     "name": "stdout",
     "output_type": "stream",
     "text": [
      "The shape of word_embed_df is (17879, 6)\n"
     ]
    }
   ],
   "source": [
    "print(f\"The shape of word_embed_df is {word_embed_df.shape}\")"
   ]
  },
  {
   "cell_type": "code",
   "execution_count": 157,
   "id": "96eab67b",
   "metadata": {},
   "outputs": [
    {
     "name": "stdout",
     "output_type": "stream",
     "text": [
      "<class 'pandas.core.frame.DataFrame'>\n",
      "RangeIndex: 17879 entries, 0 to 17878\n",
      "Data columns (total 6 columns):\n",
      " #   Column            Non-Null Count  Dtype \n",
      "---  ------            --------------  ----- \n",
      " 0   has_salary_range  17879 non-null  int32 \n",
      " 1   telecommuting     17879 non-null  int64 \n",
      " 2   has_company_logo  17879 non-null  int64 \n",
      " 3   has_questions     17879 non-null  int64 \n",
      " 4   fraudulent        17879 non-null  int64 \n",
      " 5   text              17879 non-null  object\n",
      "dtypes: int32(1), int64(4), object(1)\n",
      "memory usage: 768.4+ KB\n"
     ]
    }
   ],
   "source": [
    "word_embed_df.info()"
   ]
  },
  {
   "cell_type": "markdown",
   "id": "3aa349b7",
   "metadata": {},
   "source": [
    "**Define Target and Features**"
   ]
  },
  {
   "cell_type": "code",
   "execution_count": 158,
   "id": "6ad9dc69",
   "metadata": {},
   "outputs": [],
   "source": [
    "# define X and y\n",
    "X=word_embed_df.drop('fraudulent',axis=1)\n",
    "y=word_embed_df['fraudulent']"
   ]
  },
  {
   "cell_type": "code",
   "execution_count": 159,
   "id": "7e3670d1",
   "metadata": {},
   "outputs": [
    {
     "name": "stdout",
     "output_type": "stream",
     "text": [
      "The shape of features(X) is (17879, 5),and the shape of y (Target) is (17879,)\n"
     ]
    }
   ],
   "source": [
    "print(f\"The shape of features(X) is {X.shape},and the shape of y (Target) is {y.shape}\")"
   ]
  },
  {
   "cell_type": "markdown",
   "id": "1428a38a",
   "metadata": {},
   "source": [
    "**Reminder and test split**"
   ]
  },
  {
   "cell_type": "code",
   "execution_count": 160,
   "id": "2f5631fc",
   "metadata": {},
   "outputs": [],
   "source": [
    "X_rem,X_test,y_rem,y_test=train_test_split(X,y,test_size=0.3,random_state=5, stratify=y)"
   ]
  },
  {
   "cell_type": "code",
   "execution_count": 161,
   "id": "bc7c2559",
   "metadata": {},
   "outputs": [
    {
     "name": "stdout",
     "output_type": "stream",
     "text": [
      "The shape of X_reminder is (12515, 5),and the shape of y_rem is (12515,)\n"
     ]
    }
   ],
   "source": [
    "print(f\"The shape of X_reminder is {X_rem.shape},and the shape of y_rem is {y_rem.shape}\")"
   ]
  },
  {
   "cell_type": "code",
   "execution_count": 162,
   "id": "058d01d8",
   "metadata": {},
   "outputs": [
    {
     "name": "stdout",
     "output_type": "stream",
     "text": [
      "The shape of X_test is (5364, 5),and the shape of y_test is (5364,)\n"
     ]
    }
   ],
   "source": [
    "print(f\"The shape of X_test is {X_test.shape},and the shape of y_test is {y_test.shape}\")"
   ]
  },
  {
   "cell_type": "code",
   "execution_count": 163,
   "id": "7f59efc2",
   "metadata": {},
   "outputs": [
    {
     "data": {
      "text/html": [
       "<div>\n",
       "<style scoped>\n",
       "    .dataframe tbody tr th:only-of-type {\n",
       "        vertical-align: middle;\n",
       "    }\n",
       "\n",
       "    .dataframe tbody tr th {\n",
       "        vertical-align: top;\n",
       "    }\n",
       "\n",
       "    .dataframe thead th {\n",
       "        text-align: right;\n",
       "    }\n",
       "</style>\n",
       "<table border=\"1\" class=\"dataframe\">\n",
       "  <thead>\n",
       "    <tr style=\"text-align: right;\">\n",
       "      <th></th>\n",
       "      <th>has_salary_range</th>\n",
       "      <th>telecommuting</th>\n",
       "      <th>has_company_logo</th>\n",
       "      <th>has_questions</th>\n",
       "      <th>text</th>\n",
       "    </tr>\n",
       "  </thead>\n",
       "  <tbody>\n",
       "    <tr>\n",
       "      <th>4310</th>\n",
       "      <td>0</td>\n",
       "      <td>0</td>\n",
       "      <td>1</td>\n",
       "      <td>1</td>\n",
       "      <td>Creative Director - Art Blank Kettle is an ind...</td>\n",
       "    </tr>\n",
       "    <tr>\n",
       "      <th>11082</th>\n",
       "      <td>0</td>\n",
       "      <td>0</td>\n",
       "      <td>1</td>\n",
       "      <td>0</td>\n",
       "      <td>CDL Driver Blank ABC Supply Co., Inc. is the n...</td>\n",
       "    </tr>\n",
       "    <tr>\n",
       "      <th>14188</th>\n",
       "      <td>0</td>\n",
       "      <td>0</td>\n",
       "      <td>1</td>\n",
       "      <td>0</td>\n",
       "      <td>Data Analyst (Marketing) Blank Blank We are lo...</td>\n",
       "    </tr>\n",
       "    <tr>\n",
       "      <th>8280</th>\n",
       "      <td>0</td>\n",
       "      <td>0</td>\n",
       "      <td>1</td>\n",
       "      <td>1</td>\n",
       "      <td>Channel Representative Blank Intercom (# is a ...</td>\n",
       "    </tr>\n",
       "    <tr>\n",
       "      <th>13924</th>\n",
       "      <td>0</td>\n",
       "      <td>0</td>\n",
       "      <td>1</td>\n",
       "      <td>0</td>\n",
       "      <td>Programmatic Media Manager Media Since 1978Our...</td>\n",
       "    </tr>\n",
       "  </tbody>\n",
       "</table>\n",
       "</div>"
      ],
      "text/plain": [
       "       has_salary_range  telecommuting  has_company_logo  has_questions  \\\n",
       "4310                  0              0                 1              1   \n",
       "11082                 0              0                 1              0   \n",
       "14188                 0              0                 1              0   \n",
       "8280                  0              0                 1              1   \n",
       "13924                 0              0                 1              0   \n",
       "\n",
       "                                                    text  \n",
       "4310   Creative Director - Art Blank Kettle is an ind...  \n",
       "11082  CDL Driver Blank ABC Supply Co., Inc. is the n...  \n",
       "14188  Data Analyst (Marketing) Blank Blank We are lo...  \n",
       "8280   Channel Representative Blank Intercom (# is a ...  \n",
       "13924  Programmatic Media Manager Media Since 1978Our...  "
      ]
     },
     "execution_count": 163,
     "metadata": {},
     "output_type": "execute_result"
    }
   ],
   "source": [
    "X_rem.head()"
   ]
  },
  {
   "cell_type": "code",
   "execution_count": 164,
   "id": "aaf366b7",
   "metadata": {},
   "outputs": [
    {
     "data": {
      "text/plain": [
       "array([0, 1], dtype=int64)"
      ]
     },
     "execution_count": 164,
     "metadata": {},
     "output_type": "execute_result"
    }
   ],
   "source": [
    "y_rem.unique()"
   ]
  },
  {
   "cell_type": "code",
   "execution_count": 165,
   "id": "a895360b",
   "metadata": {},
   "outputs": [
    {
     "data": {
      "text/html": [
       "<div>\n",
       "<style scoped>\n",
       "    .dataframe tbody tr th:only-of-type {\n",
       "        vertical-align: middle;\n",
       "    }\n",
       "\n",
       "    .dataframe tbody tr th {\n",
       "        vertical-align: top;\n",
       "    }\n",
       "\n",
       "    .dataframe thead th {\n",
       "        text-align: right;\n",
       "    }\n",
       "</style>\n",
       "<table border=\"1\" class=\"dataframe\">\n",
       "  <thead>\n",
       "    <tr style=\"text-align: right;\">\n",
       "      <th></th>\n",
       "      <th>has_salary_range</th>\n",
       "      <th>telecommuting</th>\n",
       "      <th>has_company_logo</th>\n",
       "      <th>has_questions</th>\n",
       "      <th>text</th>\n",
       "    </tr>\n",
       "  </thead>\n",
       "  <tbody>\n",
       "    <tr>\n",
       "      <th>8222</th>\n",
       "      <td>1</td>\n",
       "      <td>0</td>\n",
       "      <td>1</td>\n",
       "      <td>0</td>\n",
       "      <td>eCommerce Specialist / Database Management for...</td>\n",
       "    </tr>\n",
       "    <tr>\n",
       "      <th>1560</th>\n",
       "      <td>0</td>\n",
       "      <td>0</td>\n",
       "      <td>1</td>\n",
       "      <td>1</td>\n",
       "      <td>Solution Engineer Blank Declara is focused on ...</td>\n",
       "    </tr>\n",
       "    <tr>\n",
       "      <th>17171</th>\n",
       "      <td>1</td>\n",
       "      <td>0</td>\n",
       "      <td>0</td>\n",
       "      <td>1</td>\n",
       "      <td>Sales Representative for Home Improvement Blan...</td>\n",
       "    </tr>\n",
       "    <tr>\n",
       "      <th>9164</th>\n",
       "      <td>0</td>\n",
       "      <td>0</td>\n",
       "      <td>1</td>\n",
       "      <td>1</td>\n",
       "      <td>Customer Service Specialist Interpreting Servi...</td>\n",
       "    </tr>\n",
       "    <tr>\n",
       "      <th>9454</th>\n",
       "      <td>0</td>\n",
       "      <td>0</td>\n",
       "      <td>1</td>\n",
       "      <td>0</td>\n",
       "      <td>Customer Service Associate - Records Blank Nov...</td>\n",
       "    </tr>\n",
       "  </tbody>\n",
       "</table>\n",
       "</div>"
      ],
      "text/plain": [
       "       has_salary_range  telecommuting  has_company_logo  has_questions  \\\n",
       "8222                  1              0                 1              0   \n",
       "1560                  0              0                 1              1   \n",
       "17171                 1              0                 0              1   \n",
       "9164                  0              0                 1              1   \n",
       "9454                  0              0                 1              0   \n",
       "\n",
       "                                                    text  \n",
       "8222   eCommerce Specialist / Database Management for...  \n",
       "1560   Solution Engineer Blank Declara is focused on ...  \n",
       "17171  Sales Representative for Home Improvement Blan...  \n",
       "9164   Customer Service Specialist Interpreting Servi...  \n",
       "9454   Customer Service Associate - Records Blank Nov...  "
      ]
     },
     "execution_count": 165,
     "metadata": {},
     "output_type": "execute_result"
    }
   ],
   "source": [
    "X_test.head()"
   ]
  },
  {
   "cell_type": "code",
   "execution_count": 166,
   "id": "d0f38cb6",
   "metadata": {},
   "outputs": [
    {
     "data": {
      "text/plain": [
       "array([0, 1], dtype=int64)"
      ]
     },
     "execution_count": 166,
     "metadata": {},
     "output_type": "execute_result"
    }
   ],
   "source": [
    "y_test.unique()"
   ]
  },
  {
   "cell_type": "markdown",
   "id": "d6f08197",
   "metadata": {},
   "source": [
    "- X_rem and X_test have same features, and y_test and y_rem contains only 2 result.\n",
    "- 2 Reminder sets and test stes have same number of rows.\n",
    "- Now I have my reminder and test set ready.\n",
    "---"
   ]
  },
  {
   "cell_type": "markdown",
   "id": "c15ea260",
   "metadata": {},
   "source": [
    "# 3. NLP"
   ]
  },
  {
   "cell_type": "markdown",
   "id": "e88d5600",
   "metadata": {},
   "source": [
    "## 3.1 Pre-process<a id=\"3.1\"></a>\n",
    "<a href=\"#top\" class=\"btn btn-primary btn-sm\" role=\"button\" aria-pressed=\"true\" style=\"color:white\" data-toggle=\"popover\">Go to TOC</a>"
   ]
  },
  {
   "cell_type": "markdown",
   "id": "a2644cec",
   "metadata": {},
   "source": [
    "**Plan**\n",
    "- Define function text_process()\n",
    "- Transform X_rem and X_test\n",
    "\n",
    "\n",
    "**Function text_process()**\n",
    "\n",
    "**What does the function do**\n",
    "- lowercase all the text\n",
    "- Get rid of extra blank\n",
    "- Take out of stopwords\n",
    "- Take out puncuations\n",
    "- Stemming\n",
    "- Combine all the text back to a sentence"
   ]
  },
  {
   "cell_type": "code",
   "execution_count": 167,
   "id": "f96c0825",
   "metadata": {},
   "outputs": [],
   "source": [
    "# init stemmer\n",
    "stemmer = nltk.stem.PorterStemmer()\n",
    "# make tokens\n",
    "def text_process(text):\n",
    "    non_pun=''.join([w for w in text.lower() if w not in string.punctuation])\n",
    "\n",
    "    lst_words=non_pun.split(' ')\n",
    "    #print(lst_words)\n",
    "    # remove stop words and stem\n",
    "    lst_out=[]\n",
    "    for w in lst_words:\n",
    "        if (w not in stopwords.words('english')) and (w != \"\"):\n",
    "            stemmed_word = stemmer.stem(w)\n",
    "            lst_out.append(stemmed_word)\n",
    "    # combine list into sentence\n",
    "            sentence = ' '.join(lst_out)\n",
    "    return sentence"
   ]
  },
  {
   "cell_type": "code",
   "execution_count": 168,
   "id": "f8c8431f",
   "metadata": {},
   "outputs": [
    {
     "data": {
      "text/plain": [
       "'market intern market food52 weve creat groundbreak awardwin cook site support connect celebr home cook give everyth need one placew top editori busi engin team focus use technolog find new better way connect peopl around specif food interest offer superb highli curat inform food cook attract talent home cook contributor countri also publish wellknown profession like mario batali gwyneth paltrow danni meyer partnership whole food market random housefood52 name best food websit jame beard foundat iacp featur new york time npr pando daili techcrunch today showwer locat chelsea new york citi food52 fastgrow jame beard awardwin onlin food commun crowdsourc curat recip hub current interview full parttim unpaid intern work small team editor execut develop new york citi headquartersreproduc andor repackag exist food52 content number partner site huffington post yahoo buzzfe variou content manag systemsresearch blog websit provis food52 affili programassist daytoday affili program support screen affili assist affili inquiriessupport pr amp event neededhelp offic administr work file mail prepar meetingswork develop document bug suggest improv sitesupport market execut staff experi content manag system major plu blog countsfamiliar food52 editori voic aestheticlov food appreci import home cook cook seasonsmeticul editor perfectionist obsess attent detail madden typo broken link delight find fix themcheer pressureexcel commun skillsa multitask juggler respons big smallinterest engag social media like twitter facebook pinterestlov problemsolv collabor drive food52 forwardthink big pictur pitch nitti gritti run small compani dish shop administr supportcomfort realiti work startup call even weekend work long hour blank internship blankblank market us'"
      ]
     },
     "execution_count": 168,
     "metadata": {},
     "output_type": "execute_result"
    }
   ],
   "source": [
    "# test result\n",
    "text_process(X_rem['text'][0])"
   ]
  },
  {
   "cell_type": "code",
   "execution_count": 169,
   "id": "201b6af8",
   "metadata": {},
   "outputs": [
    {
     "data": {
      "text/plain": [
       "\"Marketing Intern Marketing We're Food52, and we've created a groundbreaking and award-winning cooking site. We support, connect, and celebrate home cooks, and give them everything they need in one place.We have a top editorial, business, and engineering team. We're focused on using technology to find new and better ways to connect people around their specific food interests, and to offer them superb, highly curated information about food and cooking. We attract the most talented home cooks and contributors in the country; we also publish well-known professionals like Mario Batali, Gwyneth Paltrow, and Danny Meyer. And we have partnerships with Whole Foods Market and Random House.Food52 has been named the best food website by the James Beard Foundation and IACP, and has been featured in the New York Times, NPR, Pando Daily, TechCrunch, and on the Today Show.We're located in Chelsea, in New York City. Food52, a fast-growing, James Beard Award-winning online food community and crowd-sourced and curated recipe hub, is currently interviewing full- and part-time unpaid interns to work in a small team of editors, executives, and developers in its New York City headquarters.Reproducing and/or repackaging existing Food52 content for a number of partner sites, such as Huffington Post, Yahoo, Buzzfeed, and more in their various content management systemsResearching blogs and websites for the Provisions by Food52 Affiliate ProgramAssisting in day-to-day affiliate program support, such as screening affiliates and assisting in any affiliate inquiriesSupporting with PR &amp; Events when neededHelping with office administrative work, such as filing, mailing, and preparing for meetingsWorking with developers to document bugs and suggest improvements to the siteSupporting the marketing and executive staff Experience with content management systems a major plus (any blogging counts!)Familiar with the Food52 editorial voice and aestheticLoves food, appreciates the importance of home cooking and cooking with the seasonsMeticulous editor, perfectionist, obsessive attention to detail, maddened by typos and broken links, delighted by finding and fixing themCheerful under pressureExcellent communication skillsA+ multi-tasker and juggler of responsibilities big and smallInterested in and engaged with social media like Twitter, Facebook, and PinterestLoves problem-solving and collaborating to drive Food52 forwardThinks big picture but pitches in on the nitty gritty of running a small company (dishes, shopping, administrative support)Comfortable with the realities of working for a startup: being on call on evenings and weekends, and working long hours Blank Other Internship BlankBlank Marketing US\""
      ]
     },
     "execution_count": 169,
     "metadata": {},
     "output_type": "execute_result"
    }
   ],
   "source": [
    "# compare with the orignal text\n",
    "X_rem['text'][0]"
   ]
  },
  {
   "cell_type": "markdown",
   "id": "32ff211d",
   "metadata": {},
   "source": [
    "**Note: This `text` pre-process process is quite time-consuming, if you don't want to run this, you can load from my pickle files**\n",
    "\n",
    "**File list**\n",
    "- X_rem_stem.pkl stemmed X_rem\n",
    "- X_test_stem.pkl stemmed X_test"
   ]
  },
  {
   "cell_type": "code",
   "execution_count": 170,
   "id": "8d11e24a",
   "metadata": {},
   "outputs": [],
   "source": [
    "# X_rem pre-process \n",
    "X_rem_stem=X_rem.copy()\n",
    "X_rem_stem['text']=X_rem_stem['text'].apply(text_process)"
   ]
  },
  {
   "cell_type": "code",
   "execution_count": 171,
   "id": "f0fbb952",
   "metadata": {},
   "outputs": [
    {
     "data": {
      "text/plain": [
       "True"
      ]
     },
     "execution_count": 171,
     "metadata": {},
     "output_type": "execute_result"
    }
   ],
   "source": [
    "X_rem_stem.shape==X_rem.shape"
   ]
  },
  {
   "cell_type": "code",
   "execution_count": 221,
   "id": "02b3bfca",
   "metadata": {},
   "outputs": [
    {
     "data": {
      "text/plain": [
       "(12515, 5)"
      ]
     },
     "execution_count": 221,
     "metadata": {},
     "output_type": "execute_result"
    }
   ],
   "source": [
    "X_rem_stem.shape"
   ]
  },
  {
   "cell_type": "code",
   "execution_count": 172,
   "id": "b0071054",
   "metadata": {},
   "outputs": [],
   "source": [
    "# X_test pre-process \n",
    "X_test_stem=X_test.copy()\n",
    "X_test_stem['text']=X_test_stem['text'].apply(text_process)"
   ]
  },
  {
   "cell_type": "code",
   "execution_count": 173,
   "id": "7b6739d3",
   "metadata": {},
   "outputs": [
    {
     "data": {
      "text/plain": [
       "True"
      ]
     },
     "execution_count": 173,
     "metadata": {},
     "output_type": "execute_result"
    }
   ],
   "source": [
    "X_test.shape==X_test_stem.shape"
   ]
  },
  {
   "cell_type": "code",
   "execution_count": 222,
   "id": "57ef739c",
   "metadata": {},
   "outputs": [
    {
     "data": {
      "text/plain": [
       "(5364, 5)"
      ]
     },
     "execution_count": 222,
     "metadata": {},
     "output_type": "execute_result"
    }
   ],
   "source": [
    "X_test_stem.shape"
   ]
  },
  {
   "cell_type": "code",
   "execution_count": 242,
   "id": "ea8fb353",
   "metadata": {},
   "outputs": [
    {
     "data": {
      "text/plain": [
       "['data_NN/X_rem_stem.pkl']"
      ]
     },
     "execution_count": 242,
     "metadata": {},
     "output_type": "execute_result"
    }
   ],
   "source": [
    "# dump stemmed X_rem\n",
    "joblib.dump(X_rem_stem,'data_NN/X_rem_stem.pkl')"
   ]
  },
  {
   "cell_type": "code",
   "execution_count": 243,
   "id": "235b020d",
   "metadata": {},
   "outputs": [
    {
     "data": {
      "text/plain": [
       "['data_NN/X_test_stem.pkl']"
      ]
     },
     "execution_count": 243,
     "metadata": {},
     "output_type": "execute_result"
    }
   ],
   "source": [
    "# dump stemmed X_test\n",
    "joblib.dump(X_test_stem,'data_NN/X_test_stem.pkl')"
   ]
  },
  {
   "cell_type": "markdown",
   "id": "81b74e81",
   "metadata": {},
   "source": [
    "- X_rem and X_test has been transfered, moving forward I will keep NLP precoess using X_test_stem and X_rem_stem.\n",
    "---"
   ]
  },
  {
   "cell_type": "markdown",
   "id": "43170872",
   "metadata": {},
   "source": [
    "# 4. Word Embeddings"
   ]
  },
  {
   "cell_type": "markdown",
   "id": "84b7f328",
   "metadata": {},
   "source": [
    "## 4.1 Word2Vec<a id=\"4.1\"></a>\n",
    "<a href=\"#top\" class=\"btn btn-primary btn-sm\" role=\"button\" aria-pressed=\"true\" style=\"color:white\" data-toggle=\"popover\">Go to TOC</a>\n"
   ]
  },
  {
   "cell_type": "markdown",
   "id": "10567e19",
   "metadata": {},
   "source": [
    "**Inro**\n",
    "\n",
    "- Word2Vec, you need to down load and unzip the pre_trained word vectors. load pretrained vectors: we will use [LexVec](https://github.com/alexandres/lexvec) and Wikipedia.\n",
    "- This is a 300-dimensional embeddings."
   ]
  },
  {
   "cell_type": "code",
   "execution_count": 69,
   "id": "559772f0",
   "metadata": {},
   "outputs": [],
   "source": [
    "# load model\n",
    "model = gensim.models.KeyedVectors.load_word2vec_format('word_vectors/lexvec-wikipedia-word-vectors', binary=False)"
   ]
  },
  {
   "cell_type": "code",
   "execution_count": 70,
   "id": "4cc84466",
   "metadata": {},
   "outputs": [],
   "source": [
    "def sentence2vec(text):\n",
    "    \"\"\"\n",
    "    Embed a sentence by averaging the word vectors of the tokenized text. \n",
    "    Out-of-vocabulary words are replaced by the zero-vector.\n",
    "    -----\n",
    "    \n",
    "    Input: text (string)\n",
    "    Output: embedding vector (np.array)\n",
    "    \"\"\"\n",
    "    tokenized = simple_preprocess(text)\n",
    "    \n",
    "    word_embeddings = [np.zeros(300)]\n",
    "    for word in tokenized:\n",
    "        # if the word is in the model then embed\n",
    "        if word in model:\n",
    "            vector = model[word]\n",
    "        # add zeros for out-of-vocab words\n",
    "        else:\n",
    "            vector = np.zeros(300)\n",
    "            \n",
    "        word_embeddings.append(vector)\n",
    "    \n",
    "    # average the word vectors\n",
    "    sentence_embedding = np.stack(word_embeddings).mean(axis=0)\n",
    "    \n",
    "    return sentence_embedding"
   ]
  },
  {
   "cell_type": "code",
   "execution_count": 43,
   "id": "fe11833d",
   "metadata": {
    "scrolled": true
   },
   "outputs": [
    {
     "data": {
      "text/plain": [
       "array([-8.73303677e-03, -7.40721906e-03,  1.96714861e-02, -9.62654653e-03,\n",
       "       -7.61171243e-03,  7.10465100e-02,  2.79783374e-03, -3.44043646e-02,\n",
       "        2.67091537e-02,  3.47746526e-02,  3.64276721e-02,  4.86087006e-02,\n",
       "       -5.14526681e-02,  5.95221453e-02,  3.72461983e-02, -7.26838076e-03,\n",
       "       -2.58509070e-02,  1.05571504e-02,  1.63256722e-02,  2.45892592e-02,\n",
       "       -2.23805102e-02, -1.03946277e-02,  3.08614728e-02,  2.79396841e-02,\n",
       "       -3.21179997e-02,  2.59392796e-02,  6.13525187e-02,  6.66009756e-02,\n",
       "        8.12814498e-02, -9.03423099e-03, -6.22478060e-02,  1.34164980e-02,\n",
       "        1.39349112e-02, -1.21182504e-02,  6.12421055e-03,  4.17263240e-02,\n",
       "        1.42471214e-02, -5.70988515e-04, -2.02543078e-02,  5.34754635e-03,\n",
       "        4.08871904e-02,  6.40502865e-03, -4.73126478e-02, -7.77524050e-02,\n",
       "       -1.58924088e-02, -3.13673809e-02,  3.28009921e-02, -1.21536515e-02,\n",
       "       -3.01963932e-02, -5.86122256e-03,  2.21079427e-02,  2.29700792e-03,\n",
       "       -3.03853055e-03,  3.96353019e-03, -4.42204048e-02,  1.57283600e-02,\n",
       "       -5.05864819e-03,  2.78710556e-02, -1.02716395e-02, -2.80501209e-03,\n",
       "        1.65872876e-03, -3.75584014e-02, -6.49008160e-04,  4.16275381e-02,\n",
       "        1.80152388e-02,  8.44019111e-02, -1.17866150e-02, -1.14091379e-02,\n",
       "        4.20767492e-02,  1.02564615e-02,  4.44633194e-02,  4.32129714e-02,\n",
       "       -1.15927775e-02,  4.67524256e-02, -4.95560486e-02,  3.17853605e-02,\n",
       "        3.32782507e-02, -3.41542753e-02,  4.20375302e-02, -6.99870822e-04,\n",
       "       -2.85661144e-03,  3.41618423e-02, -3.78657738e-02,  2.65487366e-02,\n",
       "       -3.53626763e-02,  1.48444931e-03, -5.84048015e-02, -6.36928361e-03,\n",
       "       -6.58726680e-02, -5.00130728e-02, -2.41725382e-02, -3.94797249e-02,\n",
       "        7.72302045e-03,  2.14122350e-02,  1.56342837e-02, -3.50100563e-02,\n",
       "       -3.95903124e-02,  1.55408460e-02, -2.32668987e-02,  1.18518420e-02,\n",
       "        2.69083111e-02,  6.57801702e-02, -2.95390119e-02,  6.61836064e-03,\n",
       "        2.00162026e-02, -3.67816635e-02, -4.03475255e-02, -1.95818059e-02,\n",
       "       -1.21903601e-02,  1.72530646e-02,  2.85218183e-02,  4.83889473e-02,\n",
       "        5.94670814e-02,  3.46116353e-02,  2.86958746e-02, -3.12540691e-02,\n",
       "        2.16449959e-02, -1.87791059e-02, -2.25995793e-02, -7.71865670e-02,\n",
       "        1.66540563e-02,  4.05761584e-02, -3.84822549e-02,  5.52955708e-02,\n",
       "        3.60513191e-02, -4.03114651e-02,  2.63017650e-02,  2.31752267e-02,\n",
       "       -4.62275716e-02,  2.51909393e-02,  2.33631821e-02,  2.33437454e-02,\n",
       "       -6.70149875e-04, -1.72589154e-02, -3.75522273e-02, -9.17720909e-04,\n",
       "       -6.97686481e-02, -6.37113038e-02,  5.72858059e-02,  6.24366519e-02,\n",
       "        2.39142839e-02, -3.31843889e-02,  1.10939071e-02, -2.18459494e-03,\n",
       "        3.73589518e-02, -9.47134451e-03,  2.51789872e-03, -9.08381383e-03,\n",
       "       -6.53199145e-02,  2.04717562e-02, -6.36755304e-02,  1.24953118e-02,\n",
       "       -4.77523160e-02, -4.41864052e-02, -4.80610141e-03,  1.26335382e-02,\n",
       "       -3.86268790e-03,  2.74667489e-02, -4.19288735e-03, -2.46593519e-03,\n",
       "        5.62302102e-02, -4.53644775e-02, -4.75880973e-03,  6.13439682e-02,\n",
       "        1.54184224e-03, -2.93566116e-02,  3.42749274e-02, -4.06120483e-02,\n",
       "       -2.73979149e-02,  1.96447292e-02,  2.42238988e-02,  5.83313603e-02,\n",
       "        7.65917446e-02,  4.27093038e-02,  5.15150127e-04,  6.79396775e-03,\n",
       "       -9.23764770e-03, -1.01143154e-02, -1.21429717e-02, -1.91317815e-02,\n",
       "        7.73642934e-03,  5.84752186e-02, -5.19726301e-03, -3.34883078e-02,\n",
       "        1.06097771e-02,  2.21071415e-02, -3.68400529e-02,  5.08319228e-02,\n",
       "       -6.00463517e-03, -3.72513325e-02, -2.25720529e-02,  9.70951396e-03,\n",
       "        2.74910525e-02, -3.85040200e-02,  3.90872555e-02, -6.34551895e-03,\n",
       "        7.62818379e-04,  3.12025458e-02,  1.97861170e-02, -6.51361703e-02,\n",
       "       -3.23078147e-03,  3.23441339e-02,  1.83710363e-02,  2.78033729e-02,\n",
       "       -6.59930334e-03, -1.95116521e-02, -9.88559493e-03, -6.82036834e-03,\n",
       "       -4.94472897e-03,  2.75407286e-02, -9.90654218e-03,  5.20020622e-03,\n",
       "        2.46427171e-02, -9.58842925e-03, -4.58287083e-02,  5.34068990e-02,\n",
       "        2.91440811e-02, -4.23244373e-02,  3.84451622e-02, -4.99455753e-02,\n",
       "       -2.22358216e-02,  2.54084489e-02, -3.16608259e-02,  3.40818907e-02,\n",
       "       -5.04451661e-02, -4.54876597e-02,  4.73371536e-02, -6.69248547e-03,\n",
       "        2.12283605e-02, -3.31768586e-02,  1.02384980e-02, -7.95574088e-03,\n",
       "       -8.39403676e-03, -1.06138056e-02,  4.64014732e-02,  1.72728253e-02,\n",
       "        1.65219560e-02,  1.92024170e-02, -1.69415668e-02, -3.13999556e-03,\n",
       "        3.98305910e-02, -5.55029633e-02, -2.97191861e-03, -6.24175561e-05,\n",
       "        1.58049879e-02,  4.84402949e-02, -3.25810407e-02, -4.92860044e-02,\n",
       "       -2.83023520e-02, -1.43410644e-02,  1.66438704e-02, -4.32236428e-02,\n",
       "        1.98079744e-03, -4.77228054e-02,  7.86000856e-02, -3.53264940e-02,\n",
       "       -2.84337766e-02, -3.82795868e-02,  4.40924289e-02, -2.00570021e-03,\n",
       "       -3.61030003e-02,  3.50310205e-02, -6.31870297e-04, -1.17109961e-02,\n",
       "       -3.64997174e-03, -2.41858303e-02,  3.36507736e-02,  2.89040286e-02,\n",
       "        5.32041135e-02, -2.20460567e-02, -2.44538780e-02,  4.18870849e-02,\n",
       "        5.69188543e-02,  4.91121499e-03, -4.20184975e-03, -1.58323326e-02,\n",
       "       -9.39673703e-03, -6.71695914e-03, -4.78232352e-02,  1.14018143e-02,\n",
       "       -1.72505062e-02, -1.01440688e-02,  7.16295792e-04, -5.16316205e-03,\n",
       "       -1.05390731e-02, -1.21337047e-02,  2.54566721e-02,  3.06098822e-02,\n",
       "       -6.18839924e-02, -3.25950851e-02,  1.84137854e-02, -5.72200114e-02,\n",
       "       -1.60633243e-02, -7.00598506e-02, -3.35707740e-03,  4.14168911e-02,\n",
       "       -9.73145325e-03, -1.08634777e-02, -5.58942900e-03,  1.39117775e-02])"
      ]
     },
     "execution_count": 43,
     "metadata": {},
     "output_type": "execute_result"
    }
   ],
   "source": [
    "# run test on function sentence2vec, funtion sentence2vec will vectorlize a chunk of words and make them into vectors.\n",
    "sentence2vec(test)"
   ]
  },
  {
   "cell_type": "code",
   "execution_count": 174,
   "id": "a254106e",
   "metadata": {},
   "outputs": [
    {
     "data": {
      "text/plain": [
       "(300,)"
      ]
     },
     "execution_count": 174,
     "metadata": {},
     "output_type": "execute_result"
    }
   ],
   "source": [
    "#  300-dimensional\n",
    "sentence2vec(test).shape"
   ]
  },
  {
   "cell_type": "code",
   "execution_count": 175,
   "id": "0ab96a21",
   "metadata": {},
   "outputs": [
    {
     "name": "stdout",
     "output_type": "stream",
     "text": [
      "Numerical columns are: ['has_salary_range', 'telecommuting', 'has_company_logo', 'has_questions']\n"
     ]
    }
   ],
   "source": [
    "numerical = list(X_rem_stem.select_dtypes('number').columns)\n",
    "print(f\"Numerical columns are: {numerical}\")"
   ]
  },
  {
   "cell_type": "code",
   "execution_count": 176,
   "id": "6ed97dc6",
   "metadata": {},
   "outputs": [
    {
     "name": "stdout",
     "output_type": "stream",
     "text": [
      "text columns is: ['text']\n"
     ]
    }
   ],
   "source": [
    "text = list(X_rem_stem.select_dtypes('object').columns)\n",
    "print(f\"text columns is: {text}\")"
   ]
  },
  {
   "cell_type": "markdown",
   "id": "359017c4",
   "metadata": {},
   "source": [
    "**column tranformer** (Not work)"
   ]
  },
  {
   "cell_type": "code",
   "execution_count": 114,
   "id": "62900f30",
   "metadata": {},
   "outputs": [],
   "source": [
    "# Create the column transformations list + columns to which to apply\n",
    "col_transforms_nn = [('num','passthrough', numerical),\n",
    "                ('sentence2vec', sentence2vec, 'text')]"
   ]
  },
  {
   "cell_type": "code",
   "execution_count": 118,
   "id": "b4a569ce",
   "metadata": {},
   "outputs": [],
   "source": [
    "# Create the column transformer\n",
    "col_trans_nn = ColumnTransformer(col_transforms_nn,remainder='drop')"
   ]
  },
  {
   "cell_type": "code",
   "execution_count": 119,
   "id": "2bbc92fa",
   "metadata": {},
   "outputs": [
    {
     "ename": "TypeError",
     "evalue": "All estimators should implement fit and transform, or can be 'drop' or 'passthrough' specifiers. '<function sentence2vec at 0x000001A9F90160D0>' (type <class 'function'>) doesn't.",
     "output_type": "error",
     "traceback": [
      "\u001b[1;31m---------------------------------------------------------------------------\u001b[0m",
      "\u001b[1;31mTypeError\u001b[0m                                 Traceback (most recent call last)",
      "Cell \u001b[1;32mIn[119], line 3\u001b[0m\n\u001b[0;32m      1\u001b[0m \u001b[38;5;66;03m# fit\u001b[39;00m\n\u001b[0;32m      2\u001b[0m \u001b[38;5;66;03m#pipeline.fit_transform(X_rem_stem)\u001b[39;00m\n\u001b[1;32m----> 3\u001b[0m \u001b[43mcol_trans_nn\u001b[49m\u001b[38;5;241;43m.\u001b[39;49m\u001b[43mfit\u001b[49m\u001b[43m(\u001b[49m\u001b[43mX_rem_stem\u001b[49m\u001b[43m)\u001b[49m\n",
      "File \u001b[1;32mD:\\anaconda\\lib\\site-packages\\sklearn\\compose\\_column_transformer.py:657\u001b[0m, in \u001b[0;36mColumnTransformer.fit\u001b[1;34m(self, X, y)\u001b[0m\n\u001b[0;32m    639\u001b[0m \u001b[38;5;250m\u001b[39m\u001b[38;5;124;03m\"\"\"Fit all transformers using X.\u001b[39;00m\n\u001b[0;32m    640\u001b[0m \n\u001b[0;32m    641\u001b[0m \u001b[38;5;124;03mParameters\u001b[39;00m\n\u001b[1;32m   (...)\u001b[0m\n\u001b[0;32m    653\u001b[0m \u001b[38;5;124;03m    This estimator.\u001b[39;00m\n\u001b[0;32m    654\u001b[0m \u001b[38;5;124;03m\"\"\"\u001b[39;00m\n\u001b[0;32m    655\u001b[0m \u001b[38;5;66;03m# we use fit_transform to make sure to set sparse_output_ (for which we\u001b[39;00m\n\u001b[0;32m    656\u001b[0m \u001b[38;5;66;03m# need the transformed data) to have consistent output type in predict\u001b[39;00m\n\u001b[1;32m--> 657\u001b[0m \u001b[38;5;28;43mself\u001b[39;49m\u001b[38;5;241;43m.\u001b[39;49m\u001b[43mfit_transform\u001b[49m\u001b[43m(\u001b[49m\u001b[43mX\u001b[49m\u001b[43m,\u001b[49m\u001b[43m \u001b[49m\u001b[43my\u001b[49m\u001b[38;5;241;43m=\u001b[39;49m\u001b[43my\u001b[49m\u001b[43m)\u001b[49m\n\u001b[0;32m    658\u001b[0m \u001b[38;5;28;01mreturn\u001b[39;00m \u001b[38;5;28mself\u001b[39m\n",
      "File \u001b[1;32mD:\\anaconda\\lib\\site-packages\\sklearn\\compose\\_column_transformer.py:686\u001b[0m, in \u001b[0;36mColumnTransformer.fit_transform\u001b[1;34m(self, X, y)\u001b[0m\n\u001b[0;32m    684\u001b[0m \u001b[38;5;66;03m# set n_features_in_ attribute\u001b[39;00m\n\u001b[0;32m    685\u001b[0m \u001b[38;5;28mself\u001b[39m\u001b[38;5;241m.\u001b[39m_check_n_features(X, reset\u001b[38;5;241m=\u001b[39m\u001b[38;5;28;01mTrue\u001b[39;00m)\n\u001b[1;32m--> 686\u001b[0m \u001b[38;5;28;43mself\u001b[39;49m\u001b[38;5;241;43m.\u001b[39;49m\u001b[43m_validate_transformers\u001b[49m\u001b[43m(\u001b[49m\u001b[43m)\u001b[49m\n\u001b[0;32m    687\u001b[0m \u001b[38;5;28mself\u001b[39m\u001b[38;5;241m.\u001b[39m_validate_column_callables(X)\n\u001b[0;32m    688\u001b[0m \u001b[38;5;28mself\u001b[39m\u001b[38;5;241m.\u001b[39m_validate_remainder(X)\n",
      "File \u001b[1;32mD:\\anaconda\\lib\\site-packages\\sklearn\\compose\\_column_transformer.py:358\u001b[0m, in \u001b[0;36mColumnTransformer._validate_transformers\u001b[1;34m(self)\u001b[0m\n\u001b[0;32m    354\u001b[0m     \u001b[38;5;28;01mcontinue\u001b[39;00m\n\u001b[0;32m    355\u001b[0m \u001b[38;5;28;01mif\u001b[39;00m \u001b[38;5;129;01mnot\u001b[39;00m (\u001b[38;5;28mhasattr\u001b[39m(t, \u001b[38;5;124m\"\u001b[39m\u001b[38;5;124mfit\u001b[39m\u001b[38;5;124m\"\u001b[39m) \u001b[38;5;129;01mor\u001b[39;00m \u001b[38;5;28mhasattr\u001b[39m(t, \u001b[38;5;124m\"\u001b[39m\u001b[38;5;124mfit_transform\u001b[39m\u001b[38;5;124m\"\u001b[39m)) \u001b[38;5;129;01mor\u001b[39;00m \u001b[38;5;129;01mnot\u001b[39;00m \u001b[38;5;28mhasattr\u001b[39m(\n\u001b[0;32m    356\u001b[0m     t, \u001b[38;5;124m\"\u001b[39m\u001b[38;5;124mtransform\u001b[39m\u001b[38;5;124m\"\u001b[39m\n\u001b[0;32m    357\u001b[0m ):\n\u001b[1;32m--> 358\u001b[0m     \u001b[38;5;28;01mraise\u001b[39;00m \u001b[38;5;167;01mTypeError\u001b[39;00m(\n\u001b[0;32m    359\u001b[0m         \u001b[38;5;124m\"\u001b[39m\u001b[38;5;124mAll estimators should implement fit and \u001b[39m\u001b[38;5;124m\"\u001b[39m\n\u001b[0;32m    360\u001b[0m         \u001b[38;5;124m\"\u001b[39m\u001b[38;5;124mtransform, or can be \u001b[39m\u001b[38;5;124m'\u001b[39m\u001b[38;5;124mdrop\u001b[39m\u001b[38;5;124m'\u001b[39m\u001b[38;5;124m or \u001b[39m\u001b[38;5;124m'\u001b[39m\u001b[38;5;124mpassthrough\u001b[39m\u001b[38;5;124m'\u001b[39m\u001b[38;5;124m \u001b[39m\u001b[38;5;124m\"\u001b[39m\n\u001b[0;32m    361\u001b[0m         \u001b[38;5;124m\"\u001b[39m\u001b[38;5;124mspecifiers. \u001b[39m\u001b[38;5;124m'\u001b[39m\u001b[38;5;132;01m%s\u001b[39;00m\u001b[38;5;124m'\u001b[39m\u001b[38;5;124m (type \u001b[39m\u001b[38;5;132;01m%s\u001b[39;00m\u001b[38;5;124m) doesn\u001b[39m\u001b[38;5;124m'\u001b[39m\u001b[38;5;124mt.\u001b[39m\u001b[38;5;124m\"\u001b[39m \u001b[38;5;241m%\u001b[39m (t, \u001b[38;5;28mtype\u001b[39m(t))\n\u001b[0;32m    362\u001b[0m     )\n",
      "\u001b[1;31mTypeError\u001b[0m: All estimators should implement fit and transform, or can be 'drop' or 'passthrough' specifiers. '<function sentence2vec at 0x000001A9F90160D0>' (type <class 'function'>) doesn't."
     ]
    }
   ],
   "source": [
    "# fit\n",
    "#pipeline.fit_transform(X_rem_stem)\n",
    "col_trans_nn.fit(X_rem_stem)"
   ]
  },
  {
   "cell_type": "markdown",
   "id": "f81e4495",
   "metadata": {},
   "source": [
    "**Apply sentence2vec function**\n",
    "\n",
    "**Plan**\n",
    "- Apply sentence2vec() on X_rem_stem[text] combine transformed df with X_rem_stem[numerical]\n",
    "- Apply sentence2vec() on X_rem_test[text] combine transformed df with X_rem_test[numerical]"
   ]
  },
  {
   "cell_type": "markdown",
   "id": "e742a250",
   "metadata": {},
   "source": [
    "**X_rem_stem**"
   ]
  },
  {
   "cell_type": "code",
   "execution_count": 223,
   "id": "c91e57d1",
   "metadata": {},
   "outputs": [
    {
     "data": {
      "text/html": [
       "<div>\n",
       "<style scoped>\n",
       "    .dataframe tbody tr th:only-of-type {\n",
       "        vertical-align: middle;\n",
       "    }\n",
       "\n",
       "    .dataframe tbody tr th {\n",
       "        vertical-align: top;\n",
       "    }\n",
       "\n",
       "    .dataframe thead th {\n",
       "        text-align: right;\n",
       "    }\n",
       "</style>\n",
       "<table border=\"1\" class=\"dataframe\">\n",
       "  <thead>\n",
       "    <tr style=\"text-align: right;\">\n",
       "      <th></th>\n",
       "      <th>has_salary_range</th>\n",
       "      <th>telecommuting</th>\n",
       "      <th>has_company_logo</th>\n",
       "      <th>has_questions</th>\n",
       "      <th>text</th>\n",
       "    </tr>\n",
       "  </thead>\n",
       "  <tbody>\n",
       "    <tr>\n",
       "      <th>4310</th>\n",
       "      <td>0</td>\n",
       "      <td>0</td>\n",
       "      <td>1</td>\n",
       "      <td>1</td>\n",
       "      <td>Creative Director - Art Blank Kettle is an ind...</td>\n",
       "    </tr>\n",
       "    <tr>\n",
       "      <th>11082</th>\n",
       "      <td>0</td>\n",
       "      <td>0</td>\n",
       "      <td>1</td>\n",
       "      <td>0</td>\n",
       "      <td>CDL Driver Blank ABC Supply Co., Inc. is the n...</td>\n",
       "    </tr>\n",
       "    <tr>\n",
       "      <th>14188</th>\n",
       "      <td>0</td>\n",
       "      <td>0</td>\n",
       "      <td>1</td>\n",
       "      <td>0</td>\n",
       "      <td>Data Analyst (Marketing) Blank Blank We are lo...</td>\n",
       "    </tr>\n",
       "    <tr>\n",
       "      <th>8280</th>\n",
       "      <td>0</td>\n",
       "      <td>0</td>\n",
       "      <td>1</td>\n",
       "      <td>1</td>\n",
       "      <td>Channel Representative Blank Intercom (# is a ...</td>\n",
       "    </tr>\n",
       "    <tr>\n",
       "      <th>13924</th>\n",
       "      <td>0</td>\n",
       "      <td>0</td>\n",
       "      <td>1</td>\n",
       "      <td>0</td>\n",
       "      <td>Programmatic Media Manager Media Since 1978Our...</td>\n",
       "    </tr>\n",
       "    <tr>\n",
       "      <th>...</th>\n",
       "      <td>...</td>\n",
       "      <td>...</td>\n",
       "      <td>...</td>\n",
       "      <td>...</td>\n",
       "      <td>...</td>\n",
       "    </tr>\n",
       "    <tr>\n",
       "      <th>1344</th>\n",
       "      <td>0</td>\n",
       "      <td>0</td>\n",
       "      <td>1</td>\n",
       "      <td>1</td>\n",
       "      <td>Sales Manager - Legal Services Sales Pardon Se...</td>\n",
       "    </tr>\n",
       "    <tr>\n",
       "      <th>7561</th>\n",
       "      <td>0</td>\n",
       "      <td>0</td>\n",
       "      <td>1</td>\n",
       "      <td>1</td>\n",
       "      <td>Texas Communication Assistant CSD Relay Why CS...</td>\n",
       "    </tr>\n",
       "    <tr>\n",
       "      <th>16552</th>\n",
       "      <td>1</td>\n",
       "      <td>0</td>\n",
       "      <td>1</td>\n",
       "      <td>0</td>\n",
       "      <td>Director, Information Security Blank Blank Dir...</td>\n",
       "    </tr>\n",
       "    <tr>\n",
       "      <th>14072</th>\n",
       "      <td>0</td>\n",
       "      <td>0</td>\n",
       "      <td>1</td>\n",
       "      <td>1</td>\n",
       "      <td>Sales &amp; Support role Blank Blank We are a smal...</td>\n",
       "    </tr>\n",
       "    <tr>\n",
       "      <th>7183</th>\n",
       "      <td>0</td>\n",
       "      <td>0</td>\n",
       "      <td>1</td>\n",
       "      <td>0</td>\n",
       "      <td>Physical Therapist Blank Supply chain manageme...</td>\n",
       "    </tr>\n",
       "  </tbody>\n",
       "</table>\n",
       "<p>12515 rows × 5 columns</p>\n",
       "</div>"
      ],
      "text/plain": [
       "       has_salary_range  telecommuting  has_company_logo  has_questions  \\\n",
       "4310                  0              0                 1              1   \n",
       "11082                 0              0                 1              0   \n",
       "14188                 0              0                 1              0   \n",
       "8280                  0              0                 1              1   \n",
       "13924                 0              0                 1              0   \n",
       "...                 ...            ...               ...            ...   \n",
       "1344                  0              0                 1              1   \n",
       "7561                  0              0                 1              1   \n",
       "16552                 1              0                 1              0   \n",
       "14072                 0              0                 1              1   \n",
       "7183                  0              0                 1              0   \n",
       "\n",
       "                                                    text  \n",
       "4310   Creative Director - Art Blank Kettle is an ind...  \n",
       "11082  CDL Driver Blank ABC Supply Co., Inc. is the n...  \n",
       "14188  Data Analyst (Marketing) Blank Blank We are lo...  \n",
       "8280   Channel Representative Blank Intercom (# is a ...  \n",
       "13924  Programmatic Media Manager Media Since 1978Our...  \n",
       "...                                                  ...  \n",
       "1344   Sales Manager - Legal Services Sales Pardon Se...  \n",
       "7561   Texas Communication Assistant CSD Relay Why CS...  \n",
       "16552  Director, Information Security Blank Blank Dir...  \n",
       "14072  Sales & Support role Blank Blank We are a smal...  \n",
       "7183   Physical Therapist Blank Supply chain manageme...  \n",
       "\n",
       "[12515 rows x 5 columns]"
      ]
     },
     "execution_count": 223,
     "metadata": {},
     "output_type": "execute_result"
    }
   ],
   "source": [
    "X_rem_stem"
   ]
  },
  {
   "cell_type": "code",
   "execution_count": 177,
   "id": "b9f19791",
   "metadata": {},
   "outputs": [
    {
     "name": "stderr",
     "output_type": "stream",
     "text": [
      "100%|██████████| 12515/12515 [00:14<00:00, 839.23it/s]\n"
     ]
    }
   ],
   "source": [
    "X_rem_word2vec_text = np.array([sentence2vec(x) for x in tqdm(X_rem_stem['text'])])"
   ]
  },
  {
   "cell_type": "code",
   "execution_count": 179,
   "id": "75f70a88",
   "metadata": {},
   "outputs": [
    {
     "data": {
      "text/plain": [
       "(12515, 300)"
      ]
     },
     "execution_count": 179,
     "metadata": {},
     "output_type": "execute_result"
    }
   ],
   "source": [
    "# keep the original row and 300d\n",
    "X_rem_word2vec_text.shape"
   ]
  },
  {
   "cell_type": "code",
   "execution_count": 205,
   "id": "56009502",
   "metadata": {},
   "outputs": [],
   "source": [
    "X_wv_text_df=pd.DataFrame(X_rem_word2vec_text).reset_index(drop=True)"
   ]
  },
  {
   "cell_type": "code",
   "execution_count": 207,
   "id": "a2903f82",
   "metadata": {},
   "outputs": [
    {
     "name": "stdout",
     "output_type": "stream",
     "text": [
      "The shape of X_wv_text_df is (12515, 300)\n"
     ]
    }
   ],
   "source": [
    "print(f\"The shape of X_wv_text_df is {X_wv_text_df.shape}\")"
   ]
  },
  {
   "cell_type": "code",
   "execution_count": 214,
   "id": "b5f7cf4a",
   "metadata": {},
   "outputs": [
    {
     "data": {
      "text/html": [
       "<div>\n",
       "<style scoped>\n",
       "    .dataframe tbody tr th:only-of-type {\n",
       "        vertical-align: middle;\n",
       "    }\n",
       "\n",
       "    .dataframe tbody tr th {\n",
       "        vertical-align: top;\n",
       "    }\n",
       "\n",
       "    .dataframe thead th {\n",
       "        text-align: right;\n",
       "    }\n",
       "</style>\n",
       "<table border=\"1\" class=\"dataframe\">\n",
       "  <thead>\n",
       "    <tr style=\"text-align: right;\">\n",
       "      <th></th>\n",
       "      <th>has_salary_range</th>\n",
       "      <th>telecommuting</th>\n",
       "      <th>has_company_logo</th>\n",
       "      <th>has_questions</th>\n",
       "    </tr>\n",
       "  </thead>\n",
       "  <tbody>\n",
       "    <tr>\n",
       "      <th>0</th>\n",
       "      <td>0</td>\n",
       "      <td>0</td>\n",
       "      <td>1</td>\n",
       "      <td>1</td>\n",
       "    </tr>\n",
       "    <tr>\n",
       "      <th>1</th>\n",
       "      <td>0</td>\n",
       "      <td>0</td>\n",
       "      <td>1</td>\n",
       "      <td>0</td>\n",
       "    </tr>\n",
       "    <tr>\n",
       "      <th>2</th>\n",
       "      <td>0</td>\n",
       "      <td>0</td>\n",
       "      <td>1</td>\n",
       "      <td>0</td>\n",
       "    </tr>\n",
       "    <tr>\n",
       "      <th>3</th>\n",
       "      <td>0</td>\n",
       "      <td>0</td>\n",
       "      <td>1</td>\n",
       "      <td>1</td>\n",
       "    </tr>\n",
       "    <tr>\n",
       "      <th>4</th>\n",
       "      <td>0</td>\n",
       "      <td>0</td>\n",
       "      <td>1</td>\n",
       "      <td>0</td>\n",
       "    </tr>\n",
       "    <tr>\n",
       "      <th>...</th>\n",
       "      <td>...</td>\n",
       "      <td>...</td>\n",
       "      <td>...</td>\n",
       "      <td>...</td>\n",
       "    </tr>\n",
       "    <tr>\n",
       "      <th>12510</th>\n",
       "      <td>0</td>\n",
       "      <td>0</td>\n",
       "      <td>1</td>\n",
       "      <td>1</td>\n",
       "    </tr>\n",
       "    <tr>\n",
       "      <th>12511</th>\n",
       "      <td>0</td>\n",
       "      <td>0</td>\n",
       "      <td>1</td>\n",
       "      <td>1</td>\n",
       "    </tr>\n",
       "    <tr>\n",
       "      <th>12512</th>\n",
       "      <td>1</td>\n",
       "      <td>0</td>\n",
       "      <td>1</td>\n",
       "      <td>0</td>\n",
       "    </tr>\n",
       "    <tr>\n",
       "      <th>12513</th>\n",
       "      <td>0</td>\n",
       "      <td>0</td>\n",
       "      <td>1</td>\n",
       "      <td>1</td>\n",
       "    </tr>\n",
       "    <tr>\n",
       "      <th>12514</th>\n",
       "      <td>0</td>\n",
       "      <td>0</td>\n",
       "      <td>1</td>\n",
       "      <td>0</td>\n",
       "    </tr>\n",
       "  </tbody>\n",
       "</table>\n",
       "<p>12515 rows × 4 columns</p>\n",
       "</div>"
      ],
      "text/plain": [
       "       has_salary_range  telecommuting  has_company_logo  has_questions\n",
       "0                     0              0                 1              1\n",
       "1                     0              0                 1              0\n",
       "2                     0              0                 1              0\n",
       "3                     0              0                 1              1\n",
       "4                     0              0                 1              0\n",
       "...                 ...            ...               ...            ...\n",
       "12510                 0              0                 1              1\n",
       "12511                 0              0                 1              1\n",
       "12512                 1              0                 1              0\n",
       "12513                 0              0                 1              1\n",
       "12514                 0              0                 1              0\n",
       "\n",
       "[12515 rows x 4 columns]"
      ]
     },
     "execution_count": 214,
     "metadata": {},
     "output_type": "execute_result"
    }
   ],
   "source": [
    "X_num_stem_df=X_rem_stem[numerical].reset_index(drop=True)\n",
    "X_num_stem_df"
   ]
  },
  {
   "cell_type": "code",
   "execution_count": 215,
   "id": "8b234f41",
   "metadata": {},
   "outputs": [
    {
     "data": {
      "text/plain": [
       "True"
      ]
     },
     "execution_count": 215,
     "metadata": {},
     "output_type": "execute_result"
    }
   ],
   "source": [
    "# check if X_wv_text_df and X_num_stem_df has the same rows.\n",
    "X_wv_text_df.shape[0]==X_num_stem_df.shape[0]"
   ]
  },
  {
   "cell_type": "code",
   "execution_count": 216,
   "id": "081a6c5b",
   "metadata": {},
   "outputs": [],
   "source": [
    "X_rem_wv_df=pd.concat([X_wv_text_df,X_num_stem_df],axis=1)"
   ]
  },
  {
   "cell_type": "code",
   "execution_count": 219,
   "id": "94ad7049",
   "metadata": {},
   "outputs": [
    {
     "data": {
      "text/html": [
       "<div>\n",
       "<style scoped>\n",
       "    .dataframe tbody tr th:only-of-type {\n",
       "        vertical-align: middle;\n",
       "    }\n",
       "\n",
       "    .dataframe tbody tr th {\n",
       "        vertical-align: top;\n",
       "    }\n",
       "\n",
       "    .dataframe thead th {\n",
       "        text-align: right;\n",
       "    }\n",
       "</style>\n",
       "<table border=\"1\" class=\"dataframe\">\n",
       "  <thead>\n",
       "    <tr style=\"text-align: right;\">\n",
       "      <th></th>\n",
       "      <th>0</th>\n",
       "      <th>1</th>\n",
       "      <th>2</th>\n",
       "      <th>3</th>\n",
       "      <th>4</th>\n",
       "      <th>5</th>\n",
       "      <th>6</th>\n",
       "      <th>7</th>\n",
       "      <th>8</th>\n",
       "      <th>9</th>\n",
       "      <th>...</th>\n",
       "      <th>294</th>\n",
       "      <th>295</th>\n",
       "      <th>296</th>\n",
       "      <th>297</th>\n",
       "      <th>298</th>\n",
       "      <th>299</th>\n",
       "      <th>has_salary_range</th>\n",
       "      <th>telecommuting</th>\n",
       "      <th>has_company_logo</th>\n",
       "      <th>has_questions</th>\n",
       "    </tr>\n",
       "  </thead>\n",
       "  <tbody>\n",
       "    <tr>\n",
       "      <th>0</th>\n",
       "      <td>0.018585</td>\n",
       "      <td>-0.023172</td>\n",
       "      <td>-0.010314</td>\n",
       "      <td>-0.016143</td>\n",
       "      <td>-0.007745</td>\n",
       "      <td>0.057815</td>\n",
       "      <td>-0.017379</td>\n",
       "      <td>-0.040377</td>\n",
       "      <td>-0.000957</td>\n",
       "      <td>0.000053</td>\n",
       "      <td>...</td>\n",
       "      <td>0.008006</td>\n",
       "      <td>0.036052</td>\n",
       "      <td>0.008423</td>\n",
       "      <td>-0.009175</td>\n",
       "      <td>-0.021098</td>\n",
       "      <td>0.035679</td>\n",
       "      <td>0</td>\n",
       "      <td>0</td>\n",
       "      <td>1</td>\n",
       "      <td>1</td>\n",
       "    </tr>\n",
       "    <tr>\n",
       "      <th>1</th>\n",
       "      <td>-0.002319</td>\n",
       "      <td>-0.032277</td>\n",
       "      <td>-0.018184</td>\n",
       "      <td>0.013383</td>\n",
       "      <td>-0.011639</td>\n",
       "      <td>0.052527</td>\n",
       "      <td>-0.004319</td>\n",
       "      <td>-0.040372</td>\n",
       "      <td>-0.011319</td>\n",
       "      <td>0.011722</td>\n",
       "      <td>...</td>\n",
       "      <td>-0.001033</td>\n",
       "      <td>0.057966</td>\n",
       "      <td>0.003911</td>\n",
       "      <td>-0.014854</td>\n",
       "      <td>-0.004188</td>\n",
       "      <td>0.007001</td>\n",
       "      <td>0</td>\n",
       "      <td>0</td>\n",
       "      <td>1</td>\n",
       "      <td>0</td>\n",
       "    </tr>\n",
       "    <tr>\n",
       "      <th>2</th>\n",
       "      <td>0.021749</td>\n",
       "      <td>-0.010410</td>\n",
       "      <td>-0.004304</td>\n",
       "      <td>-0.010770</td>\n",
       "      <td>-0.004601</td>\n",
       "      <td>0.060114</td>\n",
       "      <td>-0.032992</td>\n",
       "      <td>-0.034776</td>\n",
       "      <td>0.037919</td>\n",
       "      <td>0.025008</td>\n",
       "      <td>...</td>\n",
       "      <td>0.001429</td>\n",
       "      <td>0.053172</td>\n",
       "      <td>-0.003019</td>\n",
       "      <td>-0.001675</td>\n",
       "      <td>-0.017215</td>\n",
       "      <td>0.016437</td>\n",
       "      <td>0</td>\n",
       "      <td>0</td>\n",
       "      <td>1</td>\n",
       "      <td>0</td>\n",
       "    </tr>\n",
       "    <tr>\n",
       "      <th>3</th>\n",
       "      <td>-0.000086</td>\n",
       "      <td>0.001106</td>\n",
       "      <td>-0.015206</td>\n",
       "      <td>0.015126</td>\n",
       "      <td>-0.001652</td>\n",
       "      <td>0.065113</td>\n",
       "      <td>-0.009476</td>\n",
       "      <td>-0.052275</td>\n",
       "      <td>0.023797</td>\n",
       "      <td>0.022757</td>\n",
       "      <td>...</td>\n",
       "      <td>0.017189</td>\n",
       "      <td>0.069419</td>\n",
       "      <td>-0.025309</td>\n",
       "      <td>-0.009836</td>\n",
       "      <td>-0.029361</td>\n",
       "      <td>0.012510</td>\n",
       "      <td>0</td>\n",
       "      <td>0</td>\n",
       "      <td>1</td>\n",
       "      <td>1</td>\n",
       "    </tr>\n",
       "    <tr>\n",
       "      <th>4</th>\n",
       "      <td>-0.012769</td>\n",
       "      <td>-0.024972</td>\n",
       "      <td>0.002534</td>\n",
       "      <td>-0.020615</td>\n",
       "      <td>-0.022524</td>\n",
       "      <td>0.060707</td>\n",
       "      <td>-0.008900</td>\n",
       "      <td>-0.023104</td>\n",
       "      <td>0.038573</td>\n",
       "      <td>-0.000873</td>\n",
       "      <td>...</td>\n",
       "      <td>0.014157</td>\n",
       "      <td>0.042389</td>\n",
       "      <td>0.013121</td>\n",
       "      <td>0.014692</td>\n",
       "      <td>-0.045533</td>\n",
       "      <td>0.008413</td>\n",
       "      <td>0</td>\n",
       "      <td>0</td>\n",
       "      <td>1</td>\n",
       "      <td>0</td>\n",
       "    </tr>\n",
       "    <tr>\n",
       "      <th>...</th>\n",
       "      <td>...</td>\n",
       "      <td>...</td>\n",
       "      <td>...</td>\n",
       "      <td>...</td>\n",
       "      <td>...</td>\n",
       "      <td>...</td>\n",
       "      <td>...</td>\n",
       "      <td>...</td>\n",
       "      <td>...</td>\n",
       "      <td>...</td>\n",
       "      <td>...</td>\n",
       "      <td>...</td>\n",
       "      <td>...</td>\n",
       "      <td>...</td>\n",
       "      <td>...</td>\n",
       "      <td>...</td>\n",
       "      <td>...</td>\n",
       "      <td>...</td>\n",
       "      <td>...</td>\n",
       "      <td>...</td>\n",
       "      <td>...</td>\n",
       "    </tr>\n",
       "    <tr>\n",
       "      <th>12510</th>\n",
       "      <td>0.008069</td>\n",
       "      <td>-0.019125</td>\n",
       "      <td>0.018521</td>\n",
       "      <td>-0.033664</td>\n",
       "      <td>-0.011929</td>\n",
       "      <td>0.044832</td>\n",
       "      <td>-0.011822</td>\n",
       "      <td>-0.046514</td>\n",
       "      <td>0.037288</td>\n",
       "      <td>0.015168</td>\n",
       "      <td>...</td>\n",
       "      <td>0.005337</td>\n",
       "      <td>0.045893</td>\n",
       "      <td>0.003625</td>\n",
       "      <td>-0.017689</td>\n",
       "      <td>-0.034736</td>\n",
       "      <td>0.010429</td>\n",
       "      <td>0</td>\n",
       "      <td>0</td>\n",
       "      <td>1</td>\n",
       "      <td>1</td>\n",
       "    </tr>\n",
       "    <tr>\n",
       "      <th>12511</th>\n",
       "      <td>0.032365</td>\n",
       "      <td>-0.015908</td>\n",
       "      <td>0.015686</td>\n",
       "      <td>-0.016515</td>\n",
       "      <td>-0.014765</td>\n",
       "      <td>0.057625</td>\n",
       "      <td>-0.031313</td>\n",
       "      <td>-0.037653</td>\n",
       "      <td>0.003422</td>\n",
       "      <td>0.014710</td>\n",
       "      <td>...</td>\n",
       "      <td>0.033322</td>\n",
       "      <td>0.027682</td>\n",
       "      <td>-0.018315</td>\n",
       "      <td>-0.005030</td>\n",
       "      <td>-0.027586</td>\n",
       "      <td>0.015003</td>\n",
       "      <td>0</td>\n",
       "      <td>0</td>\n",
       "      <td>1</td>\n",
       "      <td>1</td>\n",
       "    </tr>\n",
       "    <tr>\n",
       "      <th>12512</th>\n",
       "      <td>0.003635</td>\n",
       "      <td>0.011399</td>\n",
       "      <td>-0.011378</td>\n",
       "      <td>-0.009706</td>\n",
       "      <td>-0.010376</td>\n",
       "      <td>0.073809</td>\n",
       "      <td>-0.028816</td>\n",
       "      <td>-0.046958</td>\n",
       "      <td>0.036731</td>\n",
       "      <td>0.016745</td>\n",
       "      <td>...</td>\n",
       "      <td>0.036082</td>\n",
       "      <td>0.042963</td>\n",
       "      <td>-0.008089</td>\n",
       "      <td>-0.053839</td>\n",
       "      <td>-0.019983</td>\n",
       "      <td>0.045565</td>\n",
       "      <td>1</td>\n",
       "      <td>0</td>\n",
       "      <td>1</td>\n",
       "      <td>0</td>\n",
       "    </tr>\n",
       "    <tr>\n",
       "      <th>12513</th>\n",
       "      <td>0.028538</td>\n",
       "      <td>-0.039625</td>\n",
       "      <td>-0.005739</td>\n",
       "      <td>0.010955</td>\n",
       "      <td>0.003517</td>\n",
       "      <td>0.064333</td>\n",
       "      <td>0.010148</td>\n",
       "      <td>-0.034340</td>\n",
       "      <td>0.009982</td>\n",
       "      <td>0.017702</td>\n",
       "      <td>...</td>\n",
       "      <td>-0.030521</td>\n",
       "      <td>0.031236</td>\n",
       "      <td>0.016533</td>\n",
       "      <td>-0.027138</td>\n",
       "      <td>-0.015386</td>\n",
       "      <td>-0.001245</td>\n",
       "      <td>0</td>\n",
       "      <td>0</td>\n",
       "      <td>1</td>\n",
       "      <td>1</td>\n",
       "    </tr>\n",
       "    <tr>\n",
       "      <th>12514</th>\n",
       "      <td>0.011171</td>\n",
       "      <td>-0.011653</td>\n",
       "      <td>0.029951</td>\n",
       "      <td>-0.014004</td>\n",
       "      <td>0.056126</td>\n",
       "      <td>0.029533</td>\n",
       "      <td>-0.022768</td>\n",
       "      <td>-0.032545</td>\n",
       "      <td>0.038598</td>\n",
       "      <td>0.003594</td>\n",
       "      <td>...</td>\n",
       "      <td>0.026424</td>\n",
       "      <td>0.069180</td>\n",
       "      <td>-0.049947</td>\n",
       "      <td>-0.015545</td>\n",
       "      <td>-0.006633</td>\n",
       "      <td>0.018327</td>\n",
       "      <td>0</td>\n",
       "      <td>0</td>\n",
       "      <td>1</td>\n",
       "      <td>0</td>\n",
       "    </tr>\n",
       "  </tbody>\n",
       "</table>\n",
       "<p>12515 rows × 304 columns</p>\n",
       "</div>"
      ],
      "text/plain": [
       "              0         1         2         3         4         5         6  \\\n",
       "0      0.018585 -0.023172 -0.010314 -0.016143 -0.007745  0.057815 -0.017379   \n",
       "1     -0.002319 -0.032277 -0.018184  0.013383 -0.011639  0.052527 -0.004319   \n",
       "2      0.021749 -0.010410 -0.004304 -0.010770 -0.004601  0.060114 -0.032992   \n",
       "3     -0.000086  0.001106 -0.015206  0.015126 -0.001652  0.065113 -0.009476   \n",
       "4     -0.012769 -0.024972  0.002534 -0.020615 -0.022524  0.060707 -0.008900   \n",
       "...         ...       ...       ...       ...       ...       ...       ...   \n",
       "12510  0.008069 -0.019125  0.018521 -0.033664 -0.011929  0.044832 -0.011822   \n",
       "12511  0.032365 -0.015908  0.015686 -0.016515 -0.014765  0.057625 -0.031313   \n",
       "12512  0.003635  0.011399 -0.011378 -0.009706 -0.010376  0.073809 -0.028816   \n",
       "12513  0.028538 -0.039625 -0.005739  0.010955  0.003517  0.064333  0.010148   \n",
       "12514  0.011171 -0.011653  0.029951 -0.014004  0.056126  0.029533 -0.022768   \n",
       "\n",
       "              7         8         9  ...       294       295       296  \\\n",
       "0     -0.040377 -0.000957  0.000053  ...  0.008006  0.036052  0.008423   \n",
       "1     -0.040372 -0.011319  0.011722  ... -0.001033  0.057966  0.003911   \n",
       "2     -0.034776  0.037919  0.025008  ...  0.001429  0.053172 -0.003019   \n",
       "3     -0.052275  0.023797  0.022757  ...  0.017189  0.069419 -0.025309   \n",
       "4     -0.023104  0.038573 -0.000873  ...  0.014157  0.042389  0.013121   \n",
       "...         ...       ...       ...  ...       ...       ...       ...   \n",
       "12510 -0.046514  0.037288  0.015168  ...  0.005337  0.045893  0.003625   \n",
       "12511 -0.037653  0.003422  0.014710  ...  0.033322  0.027682 -0.018315   \n",
       "12512 -0.046958  0.036731  0.016745  ...  0.036082  0.042963 -0.008089   \n",
       "12513 -0.034340  0.009982  0.017702  ... -0.030521  0.031236  0.016533   \n",
       "12514 -0.032545  0.038598  0.003594  ...  0.026424  0.069180 -0.049947   \n",
       "\n",
       "            297       298       299  has_salary_range  telecommuting  \\\n",
       "0     -0.009175 -0.021098  0.035679                 0              0   \n",
       "1     -0.014854 -0.004188  0.007001                 0              0   \n",
       "2     -0.001675 -0.017215  0.016437                 0              0   \n",
       "3     -0.009836 -0.029361  0.012510                 0              0   \n",
       "4      0.014692 -0.045533  0.008413                 0              0   \n",
       "...         ...       ...       ...               ...            ...   \n",
       "12510 -0.017689 -0.034736  0.010429                 0              0   \n",
       "12511 -0.005030 -0.027586  0.015003                 0              0   \n",
       "12512 -0.053839 -0.019983  0.045565                 1              0   \n",
       "12513 -0.027138 -0.015386 -0.001245                 0              0   \n",
       "12514 -0.015545 -0.006633  0.018327                 0              0   \n",
       "\n",
       "       has_company_logo  has_questions  \n",
       "0                     1              1  \n",
       "1                     1              0  \n",
       "2                     1              0  \n",
       "3                     1              1  \n",
       "4                     1              0  \n",
       "...                 ...            ...  \n",
       "12510                 1              1  \n",
       "12511                 1              1  \n",
       "12512                 1              0  \n",
       "12513                 1              1  \n",
       "12514                 1              0  \n",
       "\n",
       "[12515 rows x 304 columns]"
      ]
     },
     "execution_count": 219,
     "metadata": {},
     "output_type": "execute_result"
    }
   ],
   "source": [
    "# transformed X_rem df\n",
    "X_rem_wv_df"
   ]
  },
  {
   "cell_type": "code",
   "execution_count": 239,
   "id": "beded37f",
   "metadata": {},
   "outputs": [
    {
     "data": {
      "text/plain": [
       "(12515, 304)"
      ]
     },
     "execution_count": 239,
     "metadata": {},
     "output_type": "execute_result"
    }
   ],
   "source": [
    "X_rem_wv_df.shape"
   ]
  },
  {
   "cell_type": "code",
   "execution_count": 218,
   "id": "e980019d",
   "metadata": {},
   "outputs": [
    {
     "data": {
      "text/plain": [
       "0"
      ]
     },
     "execution_count": 218,
     "metadata": {},
     "output_type": "execute_result"
    }
   ],
   "source": [
    "# there is no nan in the X_rem_wv_df\n",
    "X_rem_wv_df.isna().sum().sum()"
   ]
  },
  {
   "cell_type": "markdown",
   "id": "591f1374",
   "metadata": {},
   "source": [
    "**X_rem_test**"
   ]
  },
  {
   "cell_type": "code",
   "execution_count": 220,
   "id": "b3ce3626",
   "metadata": {},
   "outputs": [
    {
     "data": {
      "text/html": [
       "<div>\n",
       "<style scoped>\n",
       "    .dataframe tbody tr th:only-of-type {\n",
       "        vertical-align: middle;\n",
       "    }\n",
       "\n",
       "    .dataframe tbody tr th {\n",
       "        vertical-align: top;\n",
       "    }\n",
       "\n",
       "    .dataframe thead th {\n",
       "        text-align: right;\n",
       "    }\n",
       "</style>\n",
       "<table border=\"1\" class=\"dataframe\">\n",
       "  <thead>\n",
       "    <tr style=\"text-align: right;\">\n",
       "      <th></th>\n",
       "      <th>has_salary_range</th>\n",
       "      <th>telecommuting</th>\n",
       "      <th>has_company_logo</th>\n",
       "      <th>has_questions</th>\n",
       "      <th>text</th>\n",
       "    </tr>\n",
       "  </thead>\n",
       "  <tbody>\n",
       "    <tr>\n",
       "      <th>8222</th>\n",
       "      <td>1</td>\n",
       "      <td>0</td>\n",
       "      <td>1</td>\n",
       "      <td>0</td>\n",
       "      <td>ecommerc specialist databas manag home decor c...</td>\n",
       "    </tr>\n",
       "    <tr>\n",
       "      <th>1560</th>\n",
       "      <td>0</td>\n",
       "      <td>0</td>\n",
       "      <td>1</td>\n",
       "      <td>1</td>\n",
       "      <td>solut engin blank declara focus bring data lif...</td>\n",
       "    </tr>\n",
       "    <tr>\n",
       "      <th>17171</th>\n",
       "      <td>1</td>\n",
       "      <td>0</td>\n",
       "      <td>0</td>\n",
       "      <td>1</td>\n",
       "      <td>sale repres home improv blank blank look good ...</td>\n",
       "    </tr>\n",
       "    <tr>\n",
       "      <th>9164</th>\n",
       "      <td>0</td>\n",
       "      <td>0</td>\n",
       "      <td>1</td>\n",
       "      <td>1</td>\n",
       "      <td>custom servic specialist interpret servic rela...</td>\n",
       "    </tr>\n",
       "    <tr>\n",
       "      <th>9454</th>\n",
       "      <td>0</td>\n",
       "      <td>0</td>\n",
       "      <td>1</td>\n",
       "      <td>0</td>\n",
       "      <td>custom servic associ record blank novitex ente...</td>\n",
       "    </tr>\n",
       "    <tr>\n",
       "      <th>...</th>\n",
       "      <td>...</td>\n",
       "      <td>...</td>\n",
       "      <td>...</td>\n",
       "      <td>...</td>\n",
       "      <td>...</td>\n",
       "    </tr>\n",
       "    <tr>\n",
       "      <th>2611</th>\n",
       "      <td>0</td>\n",
       "      <td>0</td>\n",
       "      <td>1</td>\n",
       "      <td>0</td>\n",
       "      <td>stock manag blank blank execut flow merchandis...</td>\n",
       "    </tr>\n",
       "    <tr>\n",
       "      <th>11822</th>\n",
       "      <td>0</td>\n",
       "      <td>0</td>\n",
       "      <td>1</td>\n",
       "      <td>0</td>\n",
       "      <td>cabl tech night shift blank tel tech network v...</td>\n",
       "    </tr>\n",
       "    <tr>\n",
       "      <th>10961</th>\n",
       "      <td>0</td>\n",
       "      <td>0</td>\n",
       "      <td>1</td>\n",
       "      <td>1</td>\n",
       "      <td>advisori consult associ blank green street adv...</td>\n",
       "    </tr>\n",
       "    <tr>\n",
       "      <th>13509</th>\n",
       "      <td>0</td>\n",
       "      <td>0</td>\n",
       "      <td>1</td>\n",
       "      <td>0</td>\n",
       "      <td>dish washer 3040 hr per week blank belfri inn ...</td>\n",
       "    </tr>\n",
       "    <tr>\n",
       "      <th>10307</th>\n",
       "      <td>0</td>\n",
       "      <td>0</td>\n",
       "      <td>1</td>\n",
       "      <td>0</td>\n",
       "      <td>custom servic associ blank novitex enterpris s...</td>\n",
       "    </tr>\n",
       "  </tbody>\n",
       "</table>\n",
       "<p>5364 rows × 5 columns</p>\n",
       "</div>"
      ],
      "text/plain": [
       "       has_salary_range  telecommuting  has_company_logo  has_questions  \\\n",
       "8222                  1              0                 1              0   \n",
       "1560                  0              0                 1              1   \n",
       "17171                 1              0                 0              1   \n",
       "9164                  0              0                 1              1   \n",
       "9454                  0              0                 1              0   \n",
       "...                 ...            ...               ...            ...   \n",
       "2611                  0              0                 1              0   \n",
       "11822                 0              0                 1              0   \n",
       "10961                 0              0                 1              1   \n",
       "13509                 0              0                 1              0   \n",
       "10307                 0              0                 1              0   \n",
       "\n",
       "                                                    text  \n",
       "8222   ecommerc specialist databas manag home decor c...  \n",
       "1560   solut engin blank declara focus bring data lif...  \n",
       "17171  sale repres home improv blank blank look good ...  \n",
       "9164   custom servic specialist interpret servic rela...  \n",
       "9454   custom servic associ record blank novitex ente...  \n",
       "...                                                  ...  \n",
       "2611   stock manag blank blank execut flow merchandis...  \n",
       "11822  cabl tech night shift blank tel tech network v...  \n",
       "10961  advisori consult associ blank green street adv...  \n",
       "13509  dish washer 3040 hr per week blank belfri inn ...  \n",
       "10307  custom servic associ blank novitex enterpris s...  \n",
       "\n",
       "[5364 rows x 5 columns]"
      ]
     },
     "execution_count": 220,
     "metadata": {},
     "output_type": "execute_result"
    }
   ],
   "source": [
    "X_test_stem"
   ]
  },
  {
   "cell_type": "code",
   "execution_count": 224,
   "id": "f94290f7",
   "metadata": {},
   "outputs": [
    {
     "name": "stderr",
     "output_type": "stream",
     "text": [
      "100%|██████████| 5364/5364 [00:06<00:00, 785.70it/s]\n"
     ]
    }
   ],
   "source": [
    "X_test_word2vec_text = np.array([sentence2vec(x) for x in tqdm(X_test_stem['text'])])"
   ]
  },
  {
   "cell_type": "code",
   "execution_count": 225,
   "id": "da2314a1",
   "metadata": {},
   "outputs": [
    {
     "data": {
      "text/plain": [
       "(5364, 300)"
      ]
     },
     "execution_count": 225,
     "metadata": {},
     "output_type": "execute_result"
    }
   ],
   "source": [
    "# keep the original row and 300d\n",
    "X_test_word2vec_text.shape"
   ]
  },
  {
   "cell_type": "code",
   "execution_count": 226,
   "id": "c7365871",
   "metadata": {},
   "outputs": [],
   "source": [
    "X_test_wv_text_df=pd.DataFrame(X_test_word2vec_text).reset_index(drop=True)"
   ]
  },
  {
   "cell_type": "code",
   "execution_count": 229,
   "id": "1897ddea",
   "metadata": {},
   "outputs": [
    {
     "data": {
      "text/plain": [
       "True"
      ]
     },
     "execution_count": 229,
     "metadata": {},
     "output_type": "execute_result"
    }
   ],
   "source": [
    "# check if transformed df shape is not changed \n",
    "X_test_wv_text_df.shape==X_test_word2vec_text.shape"
   ]
  },
  {
   "cell_type": "code",
   "execution_count": 231,
   "id": "c393ad06",
   "metadata": {},
   "outputs": [],
   "source": [
    "X_test_num_stem_df=X_test_stem[numerical].reset_index(drop=True)"
   ]
  },
  {
   "cell_type": "code",
   "execution_count": 234,
   "id": "c59767e4",
   "metadata": {},
   "outputs": [
    {
     "data": {
      "text/plain": [
       "True"
      ]
     },
     "execution_count": 234,
     "metadata": {},
     "output_type": "execute_result"
    }
   ],
   "source": [
    "# check if transformed df shape is not changed \n",
    "X_test_num_stem_df.shape==X_test_stem[numerical].shape"
   ]
  },
  {
   "cell_type": "code",
   "execution_count": 235,
   "id": "da17fc9c",
   "metadata": {},
   "outputs": [
    {
     "data": {
      "text/plain": [
       "True"
      ]
     },
     "execution_count": 235,
     "metadata": {},
     "output_type": "execute_result"
    }
   ],
   "source": [
    "# test set: numerical features and text features has same rows \n",
    "X_test_num_stem_df.shape[0]==X_test_wv_text_df.shape[0]"
   ]
  },
  {
   "cell_type": "code",
   "execution_count": 236,
   "id": "f4c61fd3",
   "metadata": {},
   "outputs": [],
   "source": [
    "# combine test set\n",
    "X_test_wv_df=pd.concat([X_test_wv_text_df,X_test_num_stem_df],axis=1)"
   ]
  },
  {
   "cell_type": "code",
   "execution_count": 237,
   "id": "9bc901b6",
   "metadata": {},
   "outputs": [
    {
     "data": {
      "text/html": [
       "<div>\n",
       "<style scoped>\n",
       "    .dataframe tbody tr th:only-of-type {\n",
       "        vertical-align: middle;\n",
       "    }\n",
       "\n",
       "    .dataframe tbody tr th {\n",
       "        vertical-align: top;\n",
       "    }\n",
       "\n",
       "    .dataframe thead th {\n",
       "        text-align: right;\n",
       "    }\n",
       "</style>\n",
       "<table border=\"1\" class=\"dataframe\">\n",
       "  <thead>\n",
       "    <tr style=\"text-align: right;\">\n",
       "      <th></th>\n",
       "      <th>0</th>\n",
       "      <th>1</th>\n",
       "      <th>2</th>\n",
       "      <th>3</th>\n",
       "      <th>4</th>\n",
       "      <th>5</th>\n",
       "      <th>6</th>\n",
       "      <th>7</th>\n",
       "      <th>8</th>\n",
       "      <th>9</th>\n",
       "      <th>...</th>\n",
       "      <th>294</th>\n",
       "      <th>295</th>\n",
       "      <th>296</th>\n",
       "      <th>297</th>\n",
       "      <th>298</th>\n",
       "      <th>299</th>\n",
       "      <th>has_salary_range</th>\n",
       "      <th>telecommuting</th>\n",
       "      <th>has_company_logo</th>\n",
       "      <th>has_questions</th>\n",
       "    </tr>\n",
       "  </thead>\n",
       "  <tbody>\n",
       "    <tr>\n",
       "      <th>0</th>\n",
       "      <td>0.018789</td>\n",
       "      <td>-0.022035</td>\n",
       "      <td>-0.013473</td>\n",
       "      <td>0.011040</td>\n",
       "      <td>0.001409</td>\n",
       "      <td>0.095111</td>\n",
       "      <td>0.007145</td>\n",
       "      <td>-0.054297</td>\n",
       "      <td>0.044798</td>\n",
       "      <td>0.040261</td>\n",
       "      <td>...</td>\n",
       "      <td>0.007426</td>\n",
       "      <td>0.037257</td>\n",
       "      <td>-0.023748</td>\n",
       "      <td>-0.006802</td>\n",
       "      <td>-0.024362</td>\n",
       "      <td>0.016189</td>\n",
       "      <td>1</td>\n",
       "      <td>0</td>\n",
       "      <td>1</td>\n",
       "      <td>0</td>\n",
       "    </tr>\n",
       "    <tr>\n",
       "      <th>1</th>\n",
       "      <td>0.010367</td>\n",
       "      <td>-0.050015</td>\n",
       "      <td>-0.010797</td>\n",
       "      <td>-0.007565</td>\n",
       "      <td>0.000990</td>\n",
       "      <td>0.048667</td>\n",
       "      <td>-0.014224</td>\n",
       "      <td>-0.055378</td>\n",
       "      <td>0.009178</td>\n",
       "      <td>0.042945</td>\n",
       "      <td>...</td>\n",
       "      <td>0.020617</td>\n",
       "      <td>0.053427</td>\n",
       "      <td>-0.012712</td>\n",
       "      <td>-0.027088</td>\n",
       "      <td>-0.010420</td>\n",
       "      <td>0.032028</td>\n",
       "      <td>0</td>\n",
       "      <td>0</td>\n",
       "      <td>1</td>\n",
       "      <td>1</td>\n",
       "    </tr>\n",
       "    <tr>\n",
       "      <th>2</th>\n",
       "      <td>-0.000405</td>\n",
       "      <td>-0.014026</td>\n",
       "      <td>-0.019699</td>\n",
       "      <td>0.005127</td>\n",
       "      <td>-0.017995</td>\n",
       "      <td>0.043106</td>\n",
       "      <td>-0.011168</td>\n",
       "      <td>-0.019834</td>\n",
       "      <td>-0.002494</td>\n",
       "      <td>-0.000975</td>\n",
       "      <td>...</td>\n",
       "      <td>-0.045438</td>\n",
       "      <td>0.080359</td>\n",
       "      <td>-0.031152</td>\n",
       "      <td>-0.004918</td>\n",
       "      <td>0.009107</td>\n",
       "      <td>0.053894</td>\n",
       "      <td>1</td>\n",
       "      <td>0</td>\n",
       "      <td>0</td>\n",
       "      <td>1</td>\n",
       "    </tr>\n",
       "    <tr>\n",
       "      <th>3</th>\n",
       "      <td>0.025157</td>\n",
       "      <td>-0.009937</td>\n",
       "      <td>0.010194</td>\n",
       "      <td>-0.006731</td>\n",
       "      <td>0.005550</td>\n",
       "      <td>0.053188</td>\n",
       "      <td>-0.027584</td>\n",
       "      <td>-0.029183</td>\n",
       "      <td>0.002354</td>\n",
       "      <td>0.012742</td>\n",
       "      <td>...</td>\n",
       "      <td>0.017930</td>\n",
       "      <td>0.038814</td>\n",
       "      <td>-0.025250</td>\n",
       "      <td>-0.016356</td>\n",
       "      <td>-0.011946</td>\n",
       "      <td>0.024874</td>\n",
       "      <td>0</td>\n",
       "      <td>0</td>\n",
       "      <td>1</td>\n",
       "      <td>1</td>\n",
       "    </tr>\n",
       "    <tr>\n",
       "      <th>4</th>\n",
       "      <td>0.015688</td>\n",
       "      <td>-0.003842</td>\n",
       "      <td>-0.021589</td>\n",
       "      <td>-0.003563</td>\n",
       "      <td>-0.012856</td>\n",
       "      <td>0.071822</td>\n",
       "      <td>-0.014360</td>\n",
       "      <td>-0.032929</td>\n",
       "      <td>0.020752</td>\n",
       "      <td>0.014072</td>\n",
       "      <td>...</td>\n",
       "      <td>0.006578</td>\n",
       "      <td>0.048972</td>\n",
       "      <td>-0.019309</td>\n",
       "      <td>-0.004729</td>\n",
       "      <td>-0.018557</td>\n",
       "      <td>0.011441</td>\n",
       "      <td>0</td>\n",
       "      <td>0</td>\n",
       "      <td>1</td>\n",
       "      <td>0</td>\n",
       "    </tr>\n",
       "    <tr>\n",
       "      <th>...</th>\n",
       "      <td>...</td>\n",
       "      <td>...</td>\n",
       "      <td>...</td>\n",
       "      <td>...</td>\n",
       "      <td>...</td>\n",
       "      <td>...</td>\n",
       "      <td>...</td>\n",
       "      <td>...</td>\n",
       "      <td>...</td>\n",
       "      <td>...</td>\n",
       "      <td>...</td>\n",
       "      <td>...</td>\n",
       "      <td>...</td>\n",
       "      <td>...</td>\n",
       "      <td>...</td>\n",
       "      <td>...</td>\n",
       "      <td>...</td>\n",
       "      <td>...</td>\n",
       "      <td>...</td>\n",
       "      <td>...</td>\n",
       "      <td>...</td>\n",
       "    </tr>\n",
       "    <tr>\n",
       "      <th>5359</th>\n",
       "      <td>0.009623</td>\n",
       "      <td>-0.038822</td>\n",
       "      <td>0.007203</td>\n",
       "      <td>-0.003796</td>\n",
       "      <td>-0.022963</td>\n",
       "      <td>0.027172</td>\n",
       "      <td>0.011261</td>\n",
       "      <td>-0.080157</td>\n",
       "      <td>0.034272</td>\n",
       "      <td>-0.006636</td>\n",
       "      <td>...</td>\n",
       "      <td>-0.026421</td>\n",
       "      <td>0.048347</td>\n",
       "      <td>-0.001478</td>\n",
       "      <td>-0.004622</td>\n",
       "      <td>-0.026346</td>\n",
       "      <td>-0.001985</td>\n",
       "      <td>0</td>\n",
       "      <td>0</td>\n",
       "      <td>1</td>\n",
       "      <td>0</td>\n",
       "    </tr>\n",
       "    <tr>\n",
       "      <th>5360</th>\n",
       "      <td>0.005633</td>\n",
       "      <td>-0.036866</td>\n",
       "      <td>-0.004559</td>\n",
       "      <td>0.013722</td>\n",
       "      <td>-0.038692</td>\n",
       "      <td>0.063361</td>\n",
       "      <td>-0.004791</td>\n",
       "      <td>-0.048095</td>\n",
       "      <td>0.006991</td>\n",
       "      <td>0.001913</td>\n",
       "      <td>...</td>\n",
       "      <td>0.020413</td>\n",
       "      <td>0.055088</td>\n",
       "      <td>0.011159</td>\n",
       "      <td>-0.020813</td>\n",
       "      <td>-0.008464</td>\n",
       "      <td>0.008605</td>\n",
       "      <td>0</td>\n",
       "      <td>0</td>\n",
       "      <td>1</td>\n",
       "      <td>0</td>\n",
       "    </tr>\n",
       "    <tr>\n",
       "      <th>5361</th>\n",
       "      <td>-0.004940</td>\n",
       "      <td>-0.017801</td>\n",
       "      <td>0.012386</td>\n",
       "      <td>-0.027455</td>\n",
       "      <td>0.022083</td>\n",
       "      <td>0.048710</td>\n",
       "      <td>-0.009394</td>\n",
       "      <td>-0.057615</td>\n",
       "      <td>0.042862</td>\n",
       "      <td>-0.009790</td>\n",
       "      <td>...</td>\n",
       "      <td>0.031981</td>\n",
       "      <td>0.064530</td>\n",
       "      <td>0.005916</td>\n",
       "      <td>-0.020952</td>\n",
       "      <td>-0.002602</td>\n",
       "      <td>0.030358</td>\n",
       "      <td>0</td>\n",
       "      <td>0</td>\n",
       "      <td>1</td>\n",
       "      <td>1</td>\n",
       "    </tr>\n",
       "    <tr>\n",
       "      <th>5362</th>\n",
       "      <td>-0.001808</td>\n",
       "      <td>-0.074149</td>\n",
       "      <td>-0.000581</td>\n",
       "      <td>-0.003270</td>\n",
       "      <td>-0.002644</td>\n",
       "      <td>0.047228</td>\n",
       "      <td>0.013216</td>\n",
       "      <td>-0.050476</td>\n",
       "      <td>0.055103</td>\n",
       "      <td>0.000468</td>\n",
       "      <td>...</td>\n",
       "      <td>-0.022682</td>\n",
       "      <td>0.093179</td>\n",
       "      <td>-0.026688</td>\n",
       "      <td>-0.038551</td>\n",
       "      <td>0.017785</td>\n",
       "      <td>-0.015965</td>\n",
       "      <td>0</td>\n",
       "      <td>0</td>\n",
       "      <td>1</td>\n",
       "      <td>0</td>\n",
       "    </tr>\n",
       "    <tr>\n",
       "      <th>5363</th>\n",
       "      <td>0.030027</td>\n",
       "      <td>-0.021073</td>\n",
       "      <td>-0.027623</td>\n",
       "      <td>0.011156</td>\n",
       "      <td>0.001816</td>\n",
       "      <td>0.088727</td>\n",
       "      <td>-0.006664</td>\n",
       "      <td>-0.035719</td>\n",
       "      <td>0.020171</td>\n",
       "      <td>0.019871</td>\n",
       "      <td>...</td>\n",
       "      <td>0.010312</td>\n",
       "      <td>0.053660</td>\n",
       "      <td>-0.022318</td>\n",
       "      <td>-0.016587</td>\n",
       "      <td>-0.034201</td>\n",
       "      <td>0.035940</td>\n",
       "      <td>0</td>\n",
       "      <td>0</td>\n",
       "      <td>1</td>\n",
       "      <td>0</td>\n",
       "    </tr>\n",
       "  </tbody>\n",
       "</table>\n",
       "<p>5364 rows × 304 columns</p>\n",
       "</div>"
      ],
      "text/plain": [
       "             0         1         2         3         4         5         6  \\\n",
       "0     0.018789 -0.022035 -0.013473  0.011040  0.001409  0.095111  0.007145   \n",
       "1     0.010367 -0.050015 -0.010797 -0.007565  0.000990  0.048667 -0.014224   \n",
       "2    -0.000405 -0.014026 -0.019699  0.005127 -0.017995  0.043106 -0.011168   \n",
       "3     0.025157 -0.009937  0.010194 -0.006731  0.005550  0.053188 -0.027584   \n",
       "4     0.015688 -0.003842 -0.021589 -0.003563 -0.012856  0.071822 -0.014360   \n",
       "...        ...       ...       ...       ...       ...       ...       ...   \n",
       "5359  0.009623 -0.038822  0.007203 -0.003796 -0.022963  0.027172  0.011261   \n",
       "5360  0.005633 -0.036866 -0.004559  0.013722 -0.038692  0.063361 -0.004791   \n",
       "5361 -0.004940 -0.017801  0.012386 -0.027455  0.022083  0.048710 -0.009394   \n",
       "5362 -0.001808 -0.074149 -0.000581 -0.003270 -0.002644  0.047228  0.013216   \n",
       "5363  0.030027 -0.021073 -0.027623  0.011156  0.001816  0.088727 -0.006664   \n",
       "\n",
       "             7         8         9  ...       294       295       296  \\\n",
       "0    -0.054297  0.044798  0.040261  ...  0.007426  0.037257 -0.023748   \n",
       "1    -0.055378  0.009178  0.042945  ...  0.020617  0.053427 -0.012712   \n",
       "2    -0.019834 -0.002494 -0.000975  ... -0.045438  0.080359 -0.031152   \n",
       "3    -0.029183  0.002354  0.012742  ...  0.017930  0.038814 -0.025250   \n",
       "4    -0.032929  0.020752  0.014072  ...  0.006578  0.048972 -0.019309   \n",
       "...        ...       ...       ...  ...       ...       ...       ...   \n",
       "5359 -0.080157  0.034272 -0.006636  ... -0.026421  0.048347 -0.001478   \n",
       "5360 -0.048095  0.006991  0.001913  ...  0.020413  0.055088  0.011159   \n",
       "5361 -0.057615  0.042862 -0.009790  ...  0.031981  0.064530  0.005916   \n",
       "5362 -0.050476  0.055103  0.000468  ... -0.022682  0.093179 -0.026688   \n",
       "5363 -0.035719  0.020171  0.019871  ...  0.010312  0.053660 -0.022318   \n",
       "\n",
       "           297       298       299  has_salary_range  telecommuting  \\\n",
       "0    -0.006802 -0.024362  0.016189                 1              0   \n",
       "1    -0.027088 -0.010420  0.032028                 0              0   \n",
       "2    -0.004918  0.009107  0.053894                 1              0   \n",
       "3    -0.016356 -0.011946  0.024874                 0              0   \n",
       "4    -0.004729 -0.018557  0.011441                 0              0   \n",
       "...        ...       ...       ...               ...            ...   \n",
       "5359 -0.004622 -0.026346 -0.001985                 0              0   \n",
       "5360 -0.020813 -0.008464  0.008605                 0              0   \n",
       "5361 -0.020952 -0.002602  0.030358                 0              0   \n",
       "5362 -0.038551  0.017785 -0.015965                 0              0   \n",
       "5363 -0.016587 -0.034201  0.035940                 0              0   \n",
       "\n",
       "      has_company_logo  has_questions  \n",
       "0                    1              0  \n",
       "1                    1              1  \n",
       "2                    0              1  \n",
       "3                    1              1  \n",
       "4                    1              0  \n",
       "...                ...            ...  \n",
       "5359                 1              0  \n",
       "5360                 1              0  \n",
       "5361                 1              1  \n",
       "5362                 1              0  \n",
       "5363                 1              0  \n",
       "\n",
       "[5364 rows x 304 columns]"
      ]
     },
     "execution_count": 237,
     "metadata": {},
     "output_type": "execute_result"
    }
   ],
   "source": [
    "X_test_wv_df"
   ]
  },
  {
   "cell_type": "code",
   "execution_count": 238,
   "id": "bd8e6367",
   "metadata": {},
   "outputs": [
    {
     "data": {
      "text/plain": [
       "(5364, 304)"
      ]
     },
     "execution_count": 238,
     "metadata": {},
     "output_type": "execute_result"
    }
   ],
   "source": [
    "X_test_wv_df.shape"
   ]
  },
  {
   "cell_type": "code",
   "execution_count": 240,
   "id": "8b979f6e",
   "metadata": {},
   "outputs": [
    {
     "data": {
      "text/plain": [
       "0"
      ]
     },
     "execution_count": 240,
     "metadata": {},
     "output_type": "execute_result"
    }
   ],
   "source": [
    "X_test_wv_df.isna().sum().sum()"
   ]
  },
  {
   "cell_type": "code",
   "execution_count": 241,
   "id": "e650aeaa",
   "metadata": {},
   "outputs": [
    {
     "name": "stdout",
     "output_type": "stream",
     "text": [
      "The shape of transformed (word2vec) reminder is (12515, 304),shape of transformed test set is (5364, 304) \n"
     ]
    }
   ],
   "source": [
    "print(f'The shape of transformed (word2vec) reminder is {X_rem_wv_df.shape},shape of transformed test set is {X_test_wv_df.shape} ')"
   ]
  },
  {
   "cell_type": "markdown",
   "id": "36df1b5f",
   "metadata": {},
   "source": [
    "## 4.2 GloVe<a id=\"4.2\"></a>\n",
    "<a href=\"#top\" class=\"btn btn-primary btn-sm\" role=\"button\" aria-pressed=\"true\" style=\"color:white\" data-toggle=\"popover\">Go to TOC</a>"
   ]
  },
  {
   "cell_type": "markdown",
   "id": "a99bc764",
   "metadata": {},
   "source": [
    "**Intro**\n",
    "\n",
    "GloVe (Global Vectors for Word Representation) is a pre-trained word embedding model that is used to map words to their vector representations. It was developed by researchers at Stanford University and published in a 2014 paper by Jeffrey Pennington, Richard Socher, and Christopher D. Manning, you can get more detail from here. [GloVe](https://nlp.stanford.edu/projects/glove/).\n",
    "\n",
    "- In this project I will use this re-trained GloVe embedding version down below.\n",
    "- Down load from here. [GloVe](https://nlp.stanford.edu/projects/glove/).\n",
    "Common Crawl (840B tokens, 2.2M vocab, cased, 300d vectors, 2.03 GB download)"
   ]
  },
  {
   "cell_type": "code",
   "execution_count": null,
   "id": "06ba1232",
   "metadata": {},
   "outputs": [],
   "source": []
  },
  {
   "cell_type": "code",
   "execution_count": null,
   "id": "28bd23cd",
   "metadata": {},
   "outputs": [],
   "source": []
  },
  {
   "cell_type": "markdown",
   "id": "e65d170e",
   "metadata": {},
   "source": [
    "# 5. Modeling"
   ]
  },
  {
   "cell_type": "markdown",
   "id": "14f31cd3",
   "metadata": {},
   "source": [
    "**Plan**\n",
    "\n",
    "- re-check target distribution\n",
    "- handle imbalanced data\n",
    "- modeling"
   ]
  },
  {
   "cell_type": "code",
   "execution_count": 249,
   "id": "cc8cf21a",
   "metadata": {},
   "outputs": [
    {
     "data": {
      "image/png": "[encoded data removed]",
      "text/plain": [
       "<Figure size 2000x600 with 2 Axes>"
      ]
     },
     "metadata": {},
     "output_type": "display_data"
    }
   ],
   "source": [
    "plt.figure(figsize=(20,6))\n",
    "plt.subplot(1,2,1)\n",
    "y_rem.value_counts().plot(kind='bar')\n",
    "plt.title(\"Distribution of job post Train\")\n",
    "plt.xlabel(\"Fake or not\")\n",
    "plt.ylabel('count')\n",
    "\n",
    "plt.subplot(1,2,2)\n",
    "y_test.value_counts().plot(kind='bar',color='red')\n",
    "plt.title(\"Distribution of job post Test\")\n",
    "plt.xlabel(\"Fake or not\")\n",
    "plt.ylabel('count')\n",
    "plt.show()"
   ]
  },
  {
   "cell_type": "markdown",
   "id": "50c4610c",
   "metadata": {},
   "source": [
    "- Data set is very embalanced, I need to balace the train set before modeling.\n",
    "- I don't want to touch test set, as most of the process on the test set may cause data leaking, or introduce bias in the test set."
   ]
  },
  {
   "cell_type": "markdown",
   "id": "ac1635e3",
   "metadata": {},
   "source": [
    "**Imbalanced data**\n",
    "\n",
    "**Note** : I will only use SMOTE() on remder set."
   ]
  },
  {
   "cell_type": "code",
   "execution_count": 258,
   "id": "09c3a072",
   "metadata": {},
   "outputs": [],
   "source": [
    "smote = SMOTE(random_state=42)\n",
    "X_rem_wv_smote, y_rem_smote = smote.fit_resample(X_rem_wv_df, y_rem)"
   ]
  },
  {
   "cell_type": "code",
   "execution_count": 262,
   "id": "1f3cc258",
   "metadata": {},
   "outputs": [
    {
     "data": {
      "text/plain": [
       "(23818, 304)"
      ]
     },
     "execution_count": 262,
     "metadata": {},
     "output_type": "execute_result"
    }
   ],
   "source": [
    "X_rem_wv_smote.shape"
   ]
  },
  {
   "cell_type": "code",
   "execution_count": 263,
   "id": "74601d73",
   "metadata": {},
   "outputs": [
    {
     "data": {
      "text/plain": [
       "0    11909\n",
       "1    11909\n",
       "Name: fraudulent, dtype: int64"
      ]
     },
     "execution_count": 263,
     "metadata": {},
     "output_type": "execute_result"
    }
   ],
   "source": [
    "y_rem_smote.value_counts()"
   ]
  },
  {
   "cell_type": "code",
   "execution_count": null,
   "id": "83ae6c37",
   "metadata": {},
   "outputs": [],
   "source": []
  }
 ],
 "metadata": {
  "kernelspec": {
   "display_name": "Python 3 (ipykernel)",
   "language": "python",
   "name": "python3"
  },
  "language_info": {
   "codemirror_mode": {
    "name": "ipython",
    "version": 3
   },
   "file_extension": ".py",
   "mimetype": "text/x-python",
   "name": "python",
   "nbconvert_exporter": "python",
   "pygments_lexer": "ipython3",
   "version": "3.9.15"
  }
 },
 "nbformat": 4,
 "nbformat_minor": 5
}
