{
 "cells": [
  {
   "cell_type": "markdown",
   "id": "25bb34ac",
   "metadata": {},
   "source": [
    "# Fake job Prediction: Investigating the pattern to avoid the job scam\n",
    "\n",
    "# Notebook 4 Modeling\n",
    "\n",
    "**Fourth setp: Modeling**\n",
    "\n",
    "By: Polly Pang\n",
    "\n",
    "In this portion of the notebook, I will working on the NLP process, convert text column into parse metrics. Create baseline model and base on the baseline do some further study."
   ]
  },
  {
   "cell_type": "markdown",
   "id": "5440e9e4",
   "metadata": {},
   "source": [
    "----"
   ]
  },
  {
   "cell_type": "markdown",
   "id": "5f40613d",
   "metadata": {},
   "source": [
    "<a id=\"top\"></a>\n",
    "<div class=\"list-group\" id=\"list-tab\" role=\"tablist\">\n",
    "<h3 class=\"list-group-item list-group-item-action active\" data-toggle=\"list\" role=\"tab\" aria-controls=\"home\"> Contents</h3>\n",
    "\n",
    "* [1. Libraries](#1)\n",
    "* [2. NLP](#2)\n",
    "    - [2.1 Target and Feature](#2.1)\n",
    "    - [2.2 vectorization](#2.2)\n",
    "    - [2.2 vectorization](#2.3)\n",
    "* [3. Modeling](#3)\n",
    "    - [3.1 DummyClassifier and baseline](#3.1)\n",
    "    - [3.2 oversampling](#3.2)\n",
    "    - [3.3 Logistic regression](#3.3)\n",
    "    - [3.4 KNN](#3.4)\n",
    "    - [3.5 Random Forests](#3.5)\n",
    "    - [3.6 XGBoost](#3.6)\n",
    "\n",
    "    \n",
    "    \n",
    "    \n",
    "* [7. End of Notebook 4](#7)"
   ]
  },
  {
   "cell_type": "markdown",
   "id": "739dd6a8",
   "metadata": {},
   "source": [
    "# 1. Libraries <a id=\"1\"></a>"
   ]
  },
  {
   "cell_type": "code",
   "execution_count": 115,
   "id": "1035c89e",
   "metadata": {},
   "outputs": [],
   "source": [
    "import numpy as np\n",
    "import pandas as pd\n",
    "import matplotlib.pyplot as plt\n",
    "import seaborn as sns\n",
    "import random\n",
    "import joblib\n",
    "import pickle\n",
    "\n",
    "# NLP \n",
    "import nltk\n",
    "import string\n",
    "from nltk.tokenize import word_tokenize\n",
    "from nltk.corpus import stopwords\n",
    "from sklearn.feature_extraction.text import TfidfVectorizer\n",
    "from sklearn.feature_extraction.text import CountVectorizer\n",
    "\n",
    "\n",
    "\n",
    "from sklearn.pipeline import Pipeline\n",
    "from imblearn.pipeline import Pipeline as imbPipeline\n",
    "from sklearn.compose import ColumnTransformer\n",
    "#from sklearn.model_selection import GridSearchCV\n",
    "\n",
    "#from sklearn.model_selection import RandomizedSearchCV\n",
    "#from sklearn.model_selection import RepeatedStratifiedKFold\n",
    "from sklearn.experimental import enable_halving_search_cv\n",
    "from sklearn.model_selection import HalvingGridSearchCV\n",
    "from sklearn.model_selection import cross_val_score\n",
    "\n",
    "\n",
    "from sklearn.decomposition import PCA\n",
    "from sklearn.preprocessing import MinMaxScaler\n",
    "\n",
    "from sklearn.model_selection import train_test_split\n",
    "from sklearn.metrics import confusion_matrix,ConfusionMatrixDisplay\n",
    "from sklearn.metrics import RocCurveDisplay\n",
    "from sklearn.metrics import f1_score\n",
    "from sklearn.metrics import classification_report\n",
    "\n",
    "\n",
    "\n",
    "from imblearn.over_sampling import SMOTE\n",
    "\n",
    "# model\n",
    "from sklearn.linear_model import LogisticRegression\n",
    "from sklearn.dummy import DummyClassifier\n",
    "from sklearn.neighbors import KNeighborsClassifier\n",
    "from sklearn.ensemble import RandomForestClassifier\n",
    "from xgboost import XGBClassifier\n",
    "\n",
    "\n",
    "# Ignore futurewarnings\n",
    "import warnings\n",
    "warnings.filterwarnings('ignore')"
   ]
  },
  {
   "cell_type": "code",
   "execution_count": 6,
   "id": "8a148358",
   "metadata": {},
   "outputs": [],
   "source": [
    "# load data\n",
    "model_df=joblib.load('data/df_model_full_df.pkl')"
   ]
  },
  {
   "cell_type": "code",
   "execution_count": 3,
   "id": "579a26da",
   "metadata": {},
   "outputs": [
    {
     "data": {
      "text/html": [
       "<div>\n",
       "<style scoped>\n",
       "    .dataframe tbody tr th:only-of-type {\n",
       "        vertical-align: middle;\n",
       "    }\n",
       "\n",
       "    .dataframe tbody tr th {\n",
       "        vertical-align: top;\n",
       "    }\n",
       "\n",
       "    .dataframe thead th {\n",
       "        text-align: right;\n",
       "    }\n",
       "</style>\n",
       "<table border=\"1\" class=\"dataframe\">\n",
       "  <thead>\n",
       "    <tr style=\"text-align: right;\">\n",
       "      <th></th>\n",
       "      <th>has_salary_range</th>\n",
       "      <th>telecommuting</th>\n",
       "      <th>has_company_logo</th>\n",
       "      <th>has_questions</th>\n",
       "      <th>fraudulent</th>\n",
       "      <th>text</th>\n",
       "    </tr>\n",
       "  </thead>\n",
       "  <tbody>\n",
       "    <tr>\n",
       "      <th>0</th>\n",
       "      <td>0</td>\n",
       "      <td>0</td>\n",
       "      <td>1</td>\n",
       "      <td>0</td>\n",
       "      <td>0</td>\n",
       "      <td>Marketing Intern Marketing We're Food52, and w...</td>\n",
       "    </tr>\n",
       "    <tr>\n",
       "      <th>1</th>\n",
       "      <td>0</td>\n",
       "      <td>0</td>\n",
       "      <td>1</td>\n",
       "      <td>0</td>\n",
       "      <td>0</td>\n",
       "      <td>Commissioning Machinery Assistant (CMA) Blank ...</td>\n",
       "    </tr>\n",
       "    <tr>\n",
       "      <th>2</th>\n",
       "      <td>0</td>\n",
       "      <td>0</td>\n",
       "      <td>1</td>\n",
       "      <td>0</td>\n",
       "      <td>0</td>\n",
       "      <td>Account Executive - Washington DC Sales Our pa...</td>\n",
       "    </tr>\n",
       "    <tr>\n",
       "      <th>3</th>\n",
       "      <td>0</td>\n",
       "      <td>0</td>\n",
       "      <td>1</td>\n",
       "      <td>1</td>\n",
       "      <td>0</td>\n",
       "      <td>Bill Review Manager Blank SpotSource Solutions...</td>\n",
       "    </tr>\n",
       "    <tr>\n",
       "      <th>4</th>\n",
       "      <td>0</td>\n",
       "      <td>0</td>\n",
       "      <td>0</td>\n",
       "      <td>0</td>\n",
       "      <td>0</td>\n",
       "      <td>Accounting Clerk Blank Blank Job OverviewApex ...</td>\n",
       "    </tr>\n",
       "  </tbody>\n",
       "</table>\n",
       "</div>"
      ],
      "text/plain": [
       "   has_salary_range  telecommuting  has_company_logo  has_questions  \\\n",
       "0                 0              0                 1              0   \n",
       "1                 0              0                 1              0   \n",
       "2                 0              0                 1              0   \n",
       "3                 0              0                 1              1   \n",
       "4                 0              0                 0              0   \n",
       "\n",
       "   fraudulent                                               text  \n",
       "0           0  Marketing Intern Marketing We're Food52, and w...  \n",
       "1           0  Commissioning Machinery Assistant (CMA) Blank ...  \n",
       "2           0  Account Executive - Washington DC Sales Our pa...  \n",
       "3           0  Bill Review Manager Blank SpotSource Solutions...  \n",
       "4           0  Accounting Clerk Blank Blank Job OverviewApex ...  "
      ]
     },
     "execution_count": 3,
     "metadata": {},
     "output_type": "execute_result"
    }
   ],
   "source": [
    "model_df.head()"
   ]
  },
  {
   "cell_type": "markdown",
   "id": "4e35e5d9",
   "metadata": {},
   "source": [
    "---"
   ]
  },
  {
   "cell_type": "markdown",
   "id": "101b0b24",
   "metadata": {},
   "source": [
    "# 2. NLP"
   ]
  },
  {
   "cell_type": "markdown",
   "id": "50cedde1",
   "metadata": {},
   "source": [
    "## 2.1 Target and Feature<a id=\"2.1\"></a>\n",
    "<a href=\"#top\" class=\"btn btn-primary btn-sm\" role=\"button\" aria-pressed=\"true\" style=\"color:white\" data-toggle=\"popover\">Go to TOC</a>"
   ]
  },
  {
   "cell_type": "markdown",
   "id": "d6d68cc0",
   "metadata": {},
   "source": [
    "**plan**\n",
    "- Define X and y, Target :`fraudulent`, Features:`has_salary_range`,`telecommuting`,`has_company_logo`,`has_questions`,and `text`.\n",
    "- split data into test set and reminder set, as I will process Cross-Validation in the follwing part, so I will not split my dataset into train and test.\n",
    "- investigate the distribustion of reminder set."
   ]
  },
  {
   "cell_type": "code",
   "execution_count": 82,
   "id": "7b604211",
   "metadata": {},
   "outputs": [],
   "source": [
    "# X and y\n",
    "X=model_df.drop('fraudulent',axis=1)\n",
    "y=model_df['fraudulent']"
   ]
  },
  {
   "cell_type": "code",
   "execution_count": 5,
   "id": "14bb3ab5",
   "metadata": {},
   "outputs": [
    {
     "name": "stdout",
     "output_type": "stream",
     "text": [
      "The shape of Target is (17879,), and shape of feature is (17879, 5)\n"
     ]
    }
   ],
   "source": [
    "# rows x columns\n",
    "print(f'The shape of Target is {y.shape}, and shape of feature is {X.shape}')"
   ]
  },
  {
   "cell_type": "code",
   "execution_count": 83,
   "id": "91f86c05",
   "metadata": {},
   "outputs": [],
   "source": [
    "X_rem,X_test,y_rem,y_test=train_test_split(X,y,test_size=0.3,random_state=5, stratify=y)"
   ]
  },
  {
   "cell_type": "code",
   "execution_count": 9,
   "id": "479a436b",
   "metadata": {},
   "outputs": [
    {
     "data": {
      "text/html": [
       "<div>\n",
       "<style scoped>\n",
       "    .dataframe tbody tr th:only-of-type {\n",
       "        vertical-align: middle;\n",
       "    }\n",
       "\n",
       "    .dataframe tbody tr th {\n",
       "        vertical-align: top;\n",
       "    }\n",
       "\n",
       "    .dataframe thead th {\n",
       "        text-align: right;\n",
       "    }\n",
       "</style>\n",
       "<table border=\"1\" class=\"dataframe\">\n",
       "  <thead>\n",
       "    <tr style=\"text-align: right;\">\n",
       "      <th></th>\n",
       "      <th>has_salary_range</th>\n",
       "      <th>telecommuting</th>\n",
       "      <th>has_company_logo</th>\n",
       "      <th>has_questions</th>\n",
       "      <th>text</th>\n",
       "    </tr>\n",
       "  </thead>\n",
       "  <tbody>\n",
       "    <tr>\n",
       "      <th>4310</th>\n",
       "      <td>0</td>\n",
       "      <td>0</td>\n",
       "      <td>1</td>\n",
       "      <td>1</td>\n",
       "      <td>Creative Director - Art Blank Kettle is an ind...</td>\n",
       "    </tr>\n",
       "    <tr>\n",
       "      <th>11082</th>\n",
       "      <td>0</td>\n",
       "      <td>0</td>\n",
       "      <td>1</td>\n",
       "      <td>0</td>\n",
       "      <td>CDL Driver Blank ABC Supply Co., Inc. is the n...</td>\n",
       "    </tr>\n",
       "    <tr>\n",
       "      <th>14188</th>\n",
       "      <td>0</td>\n",
       "      <td>0</td>\n",
       "      <td>1</td>\n",
       "      <td>0</td>\n",
       "      <td>Data Analyst (Marketing) Blank Blank We are lo...</td>\n",
       "    </tr>\n",
       "    <tr>\n",
       "      <th>8280</th>\n",
       "      <td>0</td>\n",
       "      <td>0</td>\n",
       "      <td>1</td>\n",
       "      <td>1</td>\n",
       "      <td>Channel Representative Blank Intercom (# is a ...</td>\n",
       "    </tr>\n",
       "    <tr>\n",
       "      <th>13924</th>\n",
       "      <td>0</td>\n",
       "      <td>0</td>\n",
       "      <td>1</td>\n",
       "      <td>0</td>\n",
       "      <td>Programmatic Media Manager Media Since 1978Our...</td>\n",
       "    </tr>\n",
       "  </tbody>\n",
       "</table>\n",
       "</div>"
      ],
      "text/plain": [
       "       has_salary_range  telecommuting  has_company_logo  has_questions  \\\n",
       "4310                  0              0                 1              1   \n",
       "11082                 0              0                 1              0   \n",
       "14188                 0              0                 1              0   \n",
       "8280                  0              0                 1              1   \n",
       "13924                 0              0                 1              0   \n",
       "\n",
       "                                                    text  \n",
       "4310   Creative Director - Art Blank Kettle is an ind...  \n",
       "11082  CDL Driver Blank ABC Supply Co., Inc. is the n...  \n",
       "14188  Data Analyst (Marketing) Blank Blank We are lo...  \n",
       "8280   Channel Representative Blank Intercom (# is a ...  \n",
       "13924  Programmatic Media Manager Media Since 1978Our...  "
      ]
     },
     "execution_count": 9,
     "metadata": {},
     "output_type": "execute_result"
    }
   ],
   "source": [
    "# take a look at X_rem\n",
    "X_rem.head()"
   ]
  },
  {
   "cell_type": "code",
   "execution_count": 10,
   "id": "a4c0428c",
   "metadata": {},
   "outputs": [
    {
     "data": {
      "text/plain": [
       "array([0, 1], dtype=int64)"
      ]
     },
     "execution_count": 10,
     "metadata": {},
     "output_type": "execute_result"
    }
   ],
   "source": [
    "y_rem.unique()"
   ]
  },
  {
   "cell_type": "code",
   "execution_count": 11,
   "id": "e217741d",
   "metadata": {},
   "outputs": [
    {
     "name": "stdout",
     "output_type": "stream",
     "text": [
      "The shape of X_rem is (12515, 5)\n",
      "The shape of X_test is (5364, 5)\n"
     ]
    }
   ],
   "source": [
    "print(f\"The shape of X_rem is {X_rem.shape}\")\n",
    "print(f\"The shape of X_test is {X_test.shape}\")"
   ]
  },
  {
   "cell_type": "code",
   "execution_count": 12,
   "id": "771b5d01",
   "metadata": {},
   "outputs": [
    {
     "name": "stdout",
     "output_type": "stream",
     "text": [
      "The shape of y_rem is (12515,)\n",
      "The shape of y_test is (5364,)\n"
     ]
    }
   ],
   "source": [
    "print(f\"The shape of y_rem is {y_rem.shape}\")\n",
    "print(f\"The shape of y_test is {y_test.shape}\")"
   ]
  },
  {
   "cell_type": "markdown",
   "id": "60861cdd",
   "metadata": {},
   "source": [
    "**Distribution of y_train**"
   ]
  },
  {
   "cell_type": "code",
   "execution_count": 11,
   "id": "7a8b1366",
   "metadata": {},
   "outputs": [
    {
     "data": {
      "image/png": "[encoded data removed]",
      "text/plain": [
       "<Figure size 1440x432 with 2 Axes>"
      ]
     },
     "metadata": {
      "needs_background": "light"
     },
     "output_type": "display_data"
    }
   ],
   "source": [
    "plt.figure(figsize=(20,6))\n",
    "plt.subplot(1,2,1)\n",
    "y_rem.value_counts().plot(kind='bar')\n",
    "plt.title(\"Distribution of job post Train\")\n",
    "plt.xlabel(\"Fake or not\")\n",
    "plt.ylabel('count')\n",
    "\n",
    "plt.subplot(1,2,2)\n",
    "y_test.value_counts().plot(kind='bar',color='red')\n",
    "plt.title(\"Distribution of job post Test\")\n",
    "plt.xlabel(\"Fake or not\")\n",
    "plt.ylabel('count')\n",
    "plt.show()"
   ]
  },
  {
   "cell_type": "markdown",
   "id": "16817dec",
   "metadata": {},
   "source": [
    "- It is clear the train set is very embalanced, I need to balace the train set before modeling.\n",
    "- I don't want to touch test set, as most of the process on the test set may cause data leaking, or introduce bais in the test set.\n",
    "- The test set may need upsampling to make it more balance, I will do some further investigate in the following part."
   ]
  },
  {
   "cell_type": "markdown",
   "id": "d44ba4fe",
   "metadata": {},
   "source": [
    "## 2.2 vectorization <a id=\"2.2\"></a>\n",
    "<a href=\"#top\" class=\"btn btn-primary btn-sm\" role=\"button\" aria-pressed=\"true\" style=\"color:white\" data-toggle=\"popover\">Go to TOC</a>"
   ]
  },
  {
   "cell_type": "markdown",
   "id": "27405cd2",
   "metadata": {},
   "source": [
    "Some terminologies of NLP, moving forward I will use these keywords to explain my process.\n",
    "\n",
    "\n",
    "\n",
    "| Term  | Definition| |\n",
    "| -------| -------- | --- |\n",
    "|**Corpus** |           | The entire collection of individual text files in the whole dataset. | |\n",
    "|**Document** |           | A single or individual text file. | |\n",
    "|**Token** |           | Processed words from the document; can be multiple words. | |\n",
    "|**Vocabulary** |           | Collection of the tokens from the corpus. | |\n",
    "\n",
    "\n",
    "**Plan**:\n",
    "\n",
    "Function tokenizer:\n",
    "- Implement Stemmer\n",
    "- Remove Punctuation\n",
    "- Remove Stopwords\n",
    "- Stem words"
   ]
  },
  {
   "cell_type": "code",
   "execution_count": 13,
   "id": "00811079",
   "metadata": {},
   "outputs": [],
   "source": [
    "# init stemmer\n",
    "stemmer = nltk.stem.PorterStemmer()\n",
    "# make tokens\n",
    "def tokenizer(text):\n",
    "    non_pun=''.join([w for w in text.lower() if w not in string.punctuation])\n",
    "    #print(type(non_pun),non_pun)\n",
    "\n",
    "    lst_words=non_pun.split(' ')\n",
    "    #print(lst_words)\n",
    "    # remove stop words and stem\n",
    "    lst_out=[]\n",
    "    for w in lst_words:\n",
    "        if (w not in stopwords.words('english')) and (w != \"\"):\n",
    "            stemmed_word = stemmer.stem(w)\n",
    "            lst_out.append(stemmed_word)\n",
    "    return lst_out"
   ]
  },
  {
   "cell_type": "code",
   "execution_count": 14,
   "id": "24fe2d1e",
   "metadata": {},
   "outputs": [
    {
     "data": {
      "text/plain": [
       "\"Commissioning Machinery Assistant (CMA) Blank Valor Services provides Workforce Solutions that meet the needs of companies across the Private Sector, with a special focus on the Oil &amp; Gas Industry. Valor Services will be involved with you throughout every step of the hiring process and remain in contact with you all the way through the final step of signing of the employment contract with your new employer. Valor Services was founded with the vision of employing the unique skills, experiences, and qualities of America s finest veterans to provide Private Sector companies with precise and concerted value-added services and America s finest Veterans with an optimized career opportunity.We are eager to get the word out to veterans that there are ample opportunities for employment in the private sector and that you are the ideal candidates to fill those positions. Valor Services Your Success is Our Mission. Our client, located in Houston, is actively seeking an experienced Commissioning Machinery Assistant that possesses strong supervisory skills and has an attention to detail. A strong dedication to safety is a must. The ideal candidate will execute all activities while complying with quality requirements and health, environmental, and safety regulations. Implement pre-commissioning and commissioning procedures for rotary equipment.Execute all activities with subcontractor s assigned crew that pertains to the discipline.Ensure effective utilization of commissioning manpower and consumables.Ensure the execution of vendor specialists' field activities with the assigned resources from the sub-contractor per vendor s representative plans.Carry out equipment inspections with client representatives and ensure proper certification is produced.Prepare forms for all pending tests and submit signed certificates for final hand over to the certification engineer for QA and QC.Coordinate in the field with vendor representatives.Keep records of all activities.Ensure that safety practices are strictly followed during the execution of activities.Report progress and constraints to the mechanical supervisor.Possible authorization by site manager to receive or issue a Permit To Work according to project Permit To Work procedures.Assist supervisor to expedite pending punch-list items in accordance with the commissioning manager s priorities.Assist supervisor to coordinate and supervise construction-support activities during pre-commissioning and commissioning activities.Company Overview:Our client is a premiere engineering, construction, and procurement company that executes large-scale projects internationally. Blank Blank Blank BlankBlank Blank US\""
      ]
     },
     "execution_count": 14,
     "metadata": {},
     "output_type": "execute_result"
    }
   ],
   "source": [
    "# a sample of the text data\n",
    "X_rem['text'][1]"
   ]
  },
  {
   "cell_type": "markdown",
   "id": "066c6084",
   "metadata": {},
   "source": [
    "**test my customized tokenizer**"
   ]
  },
  {
   "cell_type": "code",
   "execution_count": 14,
   "id": "b7cba8ea",
   "metadata": {},
   "outputs": [
    {
     "data": {
      "text/plain": [
       "['commiss',\n",
       " 'machineri',\n",
       " 'assist',\n",
       " 'cma',\n",
       " 'blank',\n",
       " 'valor',\n",
       " 'servic',\n",
       " 'provid',\n",
       " 'workforc',\n",
       " 'solut',\n",
       " 'meet',\n",
       " 'need',\n",
       " 'compani',\n",
       " 'across',\n",
       " 'privat',\n",
       " 'sector',\n",
       " 'special',\n",
       " 'focu',\n",
       " 'oil',\n",
       " 'amp',\n",
       " 'ga',\n",
       " 'industri',\n",
       " 'valor',\n",
       " 'servic',\n",
       " 'involv',\n",
       " 'throughout',\n",
       " 'everi',\n",
       " 'step',\n",
       " 'hire',\n",
       " 'process',\n",
       " 'remain',\n",
       " 'contact',\n",
       " 'way',\n",
       " 'final',\n",
       " 'step',\n",
       " 'sign',\n",
       " 'employ',\n",
       " 'contract',\n",
       " 'new',\n",
       " 'employ',\n",
       " 'valor',\n",
       " 'servic',\n",
       " 'found',\n",
       " 'vision',\n",
       " 'employ',\n",
       " 'uniqu',\n",
       " 'skill',\n",
       " 'experi',\n",
       " 'qualiti',\n",
       " 'america',\n",
       " 'finest',\n",
       " 'veteran',\n",
       " 'provid',\n",
       " 'privat',\n",
       " 'sector',\n",
       " 'compani',\n",
       " 'precis',\n",
       " 'concert',\n",
       " 'valuead',\n",
       " 'servic',\n",
       " 'america',\n",
       " 'finest',\n",
       " 'veteran',\n",
       " 'optim',\n",
       " 'career',\n",
       " 'opportunityw',\n",
       " 'eager',\n",
       " 'get',\n",
       " 'word',\n",
       " 'veteran',\n",
       " 'ampl',\n",
       " 'opportun',\n",
       " 'employ',\n",
       " 'privat',\n",
       " 'sector',\n",
       " 'ideal',\n",
       " 'candid',\n",
       " 'fill',\n",
       " 'posit',\n",
       " 'valor',\n",
       " 'servic',\n",
       " 'success',\n",
       " 'mission',\n",
       " 'client',\n",
       " 'locat',\n",
       " 'houston',\n",
       " 'activ',\n",
       " 'seek',\n",
       " 'experienc',\n",
       " 'commiss',\n",
       " 'machineri',\n",
       " 'assist',\n",
       " 'possess',\n",
       " 'strong',\n",
       " 'supervisori',\n",
       " 'skill',\n",
       " 'attent',\n",
       " 'detail',\n",
       " 'strong',\n",
       " 'dedic',\n",
       " 'safeti',\n",
       " 'must',\n",
       " 'ideal',\n",
       " 'candid',\n",
       " 'execut',\n",
       " 'activ',\n",
       " 'compli',\n",
       " 'qualiti',\n",
       " 'requir',\n",
       " 'health',\n",
       " 'environment',\n",
       " 'safeti',\n",
       " 'regul',\n",
       " 'implement',\n",
       " 'precommiss',\n",
       " 'commiss',\n",
       " 'procedur',\n",
       " 'rotari',\n",
       " 'equipmentexecut',\n",
       " 'activ',\n",
       " 'subcontractor',\n",
       " 'assign',\n",
       " 'crew',\n",
       " 'pertain',\n",
       " 'disciplineensur',\n",
       " 'effect',\n",
       " 'util',\n",
       " 'commiss',\n",
       " 'manpow',\n",
       " 'consumablesensur',\n",
       " 'execut',\n",
       " 'vendor',\n",
       " 'specialist',\n",
       " 'field',\n",
       " 'activ',\n",
       " 'assign',\n",
       " 'resourc',\n",
       " 'subcontractor',\n",
       " 'per',\n",
       " 'vendor',\n",
       " 'repres',\n",
       " 'planscarri',\n",
       " 'equip',\n",
       " 'inspect',\n",
       " 'client',\n",
       " 'repres',\n",
       " 'ensur',\n",
       " 'proper',\n",
       " 'certif',\n",
       " 'producedprepar',\n",
       " 'form',\n",
       " 'pend',\n",
       " 'test',\n",
       " 'submit',\n",
       " 'sign',\n",
       " 'certif',\n",
       " 'final',\n",
       " 'hand',\n",
       " 'certif',\n",
       " 'engin',\n",
       " 'qa',\n",
       " 'qccoordin',\n",
       " 'field',\n",
       " 'vendor',\n",
       " 'representativeskeep',\n",
       " 'record',\n",
       " 'activitiesensur',\n",
       " 'safeti',\n",
       " 'practic',\n",
       " 'strictli',\n",
       " 'follow',\n",
       " 'execut',\n",
       " 'activitiesreport',\n",
       " 'progress',\n",
       " 'constraint',\n",
       " 'mechan',\n",
       " 'supervisorposs',\n",
       " 'author',\n",
       " 'site',\n",
       " 'manag',\n",
       " 'receiv',\n",
       " 'issu',\n",
       " 'permit',\n",
       " 'work',\n",
       " 'accord',\n",
       " 'project',\n",
       " 'permit',\n",
       " 'work',\n",
       " 'proceduresassist',\n",
       " 'supervisor',\n",
       " 'expedit',\n",
       " 'pend',\n",
       " 'punchlist',\n",
       " 'item',\n",
       " 'accord',\n",
       " 'commiss',\n",
       " 'manag',\n",
       " 'prioritiesassist',\n",
       " 'supervisor',\n",
       " 'coordin',\n",
       " 'supervis',\n",
       " 'constructionsupport',\n",
       " 'activ',\n",
       " 'precommiss',\n",
       " 'commiss',\n",
       " 'activitiescompani',\n",
       " 'overviewour',\n",
       " 'client',\n",
       " 'premier',\n",
       " 'engin',\n",
       " 'construct',\n",
       " 'procur',\n",
       " 'compani',\n",
       " 'execut',\n",
       " 'largescal',\n",
       " 'project',\n",
       " 'intern',\n",
       " 'blank',\n",
       " 'blank',\n",
       " 'blank',\n",
       " 'blankblank',\n",
       " 'blank',\n",
       " 'us']"
      ]
     },
     "execution_count": 14,
     "metadata": {},
     "output_type": "execute_result"
    }
   ],
   "source": [
    "# test function tokenizer \n",
    "tokenizer(X_rem['text'][1])"
   ]
  },
  {
   "cell_type": "markdown",
   "id": "f300a675",
   "metadata": {},
   "source": [
    "**Text column and numerical column** \n",
    "- My numerical columns are all binary columns, so I don't need to apply scale or transfor them."
   ]
  },
  {
   "cell_type": "markdown",
   "id": "4fe5123e",
   "metadata": {},
   "source": [
    "### Two types of Vectorizers:\n",
    "\n",
    "**Count-Vectorizer (Bag-of-Words)**: CountVectorizer takes as input a list of strings, where each string represents a document. It then tokenizes the text. Once the text is tokenized, the CountVectorizer counts the number of occurrences of each token (word) in each document and returns a sparse matrix, where each row represents a document and each column represents a token (word). The value in a cell is the count of that word in that document.\n",
    "\n",
    "**TF-IDF:**\n",
    "The term frequency (TF) is the number of times a word appears in a document divided by the total number of words in the document.The IDF is used to de-emphasize words that appear frequently across all documents in the corpus. As a result the words that appear frequently in a document but not frequently across all documents will have a higher TF-IDF score."
   ]
  },
  {
   "cell_type": "markdown",
   "id": "77df1287",
   "metadata": {},
   "source": [
    "I will vectorize my dataset with Count-Vectorizer and TF-IDF, base on the transformed new dataset, I will process modedling, the reason why I don't put these step in one piece is, my dataset contains a large amount of text data, the running time of the whole pipline and gridsearch is super high. I am going to break the pipline into 2 parts. (My loptop has limited cumputing capacity,I will try to process the full pipline will kfoklder in the big data platform in the feature.)\n",
    "\n",
    "\n",
    "**Plan**\n",
    "- use ColumnTransformer to transform text column and numerical column at one time.\n",
    "- Text colum need to remove Punctuation, stopwords,tokenlize and Stem.\n",
    "- Finally get transfromed X_rem and X_test in with 2 different Vectorizers (Count-Vectorizer and TF-IDF)\n",
    "\n"
   ]
  },
  {
   "cell_type": "code",
   "execution_count": 15,
   "id": "43b2e8d9",
   "metadata": {},
   "outputs": [
    {
     "name": "stdout",
     "output_type": "stream",
     "text": [
      "Numerical columns are: ['has_salary_range', 'telecommuting', 'has_company_logo', 'has_questions']\n"
     ]
    }
   ],
   "source": [
    "numerical = list(X_rem.select_dtypes('number').columns)\n",
    "print(f\"Numerical columns are: {numerical}\")"
   ]
  },
  {
   "cell_type": "code",
   "execution_count": 16,
   "id": "0362ac8a",
   "metadata": {},
   "outputs": [
    {
     "name": "stdout",
     "output_type": "stream",
     "text": [
      "Categorical columns are: ['text']\n"
     ]
    }
   ],
   "source": [
    "text = [X_rem.columns[4]]\n",
    "print(f\"Categorical columns are: {text}\")"
   ]
  },
  {
   "cell_type": "markdown",
   "id": "771abcc2",
   "metadata": {},
   "source": [
    "**Note: If you choose to load Vectorized df from my result, you can pass this section from here, jump directly to 3 Modeling.**"
   ]
  },
  {
   "cell_type": "markdown",
   "id": "14446cf7",
   "metadata": {},
   "source": [
    "**Count-Vectorizer**"
   ]
  },
  {
   "cell_type": "code",
   "execution_count": 31,
   "id": "4b4a9332",
   "metadata": {},
   "outputs": [],
   "source": [
    "# columntransforms with Count-Vectorizer\n",
    "col_transforms = [('num','passthrough', numerical),\n",
    "                ('tokenizer', CountVectorizer(tokenizer=tokenizer,min_df=5), 'text')]"
   ]
  },
  {
   "cell_type": "code",
   "execution_count": null,
   "id": "e03853d5",
   "metadata": {},
   "outputs": [],
   "source": [
    "# Create the column transformer\n",
    "# note if u choose load df from my result, this cell can be pass\n",
    "col_trans = ColumnTransformer(col_transforms)\n",
    "\n",
    "# Fit\n",
    "col_trans.fit(X_rem)"
   ]
  },
  {
   "cell_type": "code",
   "execution_count": null,
   "id": "28ff7114",
   "metadata": {},
   "outputs": [],
   "source": [
    "# transform X_rem\n",
    "# note if u choose load df from my result, this cell can be pass\n",
    "X_rem_count= col_trans.transform(X_rem)"
   ]
  },
  {
   "cell_type": "code",
   "execution_count": null,
   "id": "d0d3cc94",
   "metadata": {},
   "outputs": [],
   "source": [
    "# transform X_test\n",
    "# note if u choose load df from my result, this cell can be pass\n",
    "X_test_count=col_trans.transform(X_test)"
   ]
  },
  {
   "cell_type": "code",
   "execution_count": null,
   "id": "4409a51d",
   "metadata": {},
   "outputs": [],
   "source": [
    "# note if u choose load df from my result, this cell can be pass\n",
    "X_rem_count.shape"
   ]
  },
  {
   "cell_type": "code",
   "execution_count": null,
   "id": "f0fedd46",
   "metadata": {},
   "outputs": [],
   "source": [
    "# note if u choose load df from my result, this cell can be pass\n",
    "X_test_count.shape"
   ]
  },
  {
   "cell_type": "code",
   "execution_count": null,
   "id": "454aec3f",
   "metadata": {},
   "outputs": [],
   "source": [
    "# Save sparse matrix\n",
    "# note if u choose load df from my result, this cell can be pass\n",
    "joblib.dump(X_rem_count, 'vectorized_df/matrix_rem_c.pkl')\n",
    "joblib.dump(X_test_count, 'vectorized_df/matrix_test_c.pkl')"
   ]
  },
  {
   "cell_type": "markdown",
   "id": "ca1cf7a3",
   "metadata": {},
   "source": [
    "**Vectorized X_rem dataframe (CountVectorizer)**"
   ]
  },
  {
   "cell_type": "code",
   "execution_count": null,
   "id": "2aac35e9",
   "metadata": {},
   "outputs": [],
   "source": [
    "# get feature_names\n",
    "# note if u choose load df from my result, this cell can be pass\n",
    "cols_rem_c=col_trans.get_feature_names_out()"
   ]
  },
  {
   "cell_type": "code",
   "execution_count": 57,
   "id": "8ea6767a",
   "metadata": {},
   "outputs": [
    {
     "data": {
      "text/html": [
       "<div>\n",
       "<style scoped>\n",
       "    .dataframe tbody tr th:only-of-type {\n",
       "        vertical-align: middle;\n",
       "    }\n",
       "\n",
       "    .dataframe tbody tr th {\n",
       "        vertical-align: top;\n",
       "    }\n",
       "\n",
       "    .dataframe thead th {\n",
       "        text-align: right;\n",
       "    }\n",
       "</style>\n",
       "<table border=\"1\" class=\"dataframe\">\n",
       "  <thead>\n",
       "    <tr style=\"text-align: right;\">\n",
       "      <th></th>\n",
       "      <th>num__has_salary_range</th>\n",
       "      <th>num__telecommuting</th>\n",
       "      <th>num__has_company_logo</th>\n",
       "      <th>num__has_questions</th>\n",
       "      <th>tokenizer__0</th>\n",
       "      <th>tokenizer__000</th>\n",
       "      <th>tokenizer__01</th>\n",
       "      <th>tokenizer__02</th>\n",
       "      <th>tokenizer__03</th>\n",
       "      <th>tokenizer__0415</th>\n",
       "      <th>...</th>\n",
       "      <th>tokenizer__zombi</th>\n",
       "      <th>tokenizer__zone</th>\n",
       "      <th>tokenizer__zoom</th>\n",
       "      <th>tokenizer__zoopla</th>\n",
       "      <th>tokenizer__zopa</th>\n",
       "      <th>tokenizer__zu</th>\n",
       "      <th>tokenizer__zullen</th>\n",
       "      <th>tokenizer__zult</th>\n",
       "      <th>tokenizer__zweig</th>\n",
       "      <th>tokenizer__zylun</th>\n",
       "    </tr>\n",
       "  </thead>\n",
       "  <tbody>\n",
       "    <tr>\n",
       "      <th>0</th>\n",
       "      <td>0</td>\n",
       "      <td>0</td>\n",
       "      <td>1</td>\n",
       "      <td>1</td>\n",
       "      <td>0</td>\n",
       "      <td>0</td>\n",
       "      <td>0</td>\n",
       "      <td>0</td>\n",
       "      <td>0</td>\n",
       "      <td>0</td>\n",
       "      <td>...</td>\n",
       "      <td>0</td>\n",
       "      <td>0</td>\n",
       "      <td>0</td>\n",
       "      <td>0</td>\n",
       "      <td>0</td>\n",
       "      <td>0</td>\n",
       "      <td>0</td>\n",
       "      <td>0</td>\n",
       "      <td>0</td>\n",
       "      <td>0</td>\n",
       "    </tr>\n",
       "    <tr>\n",
       "      <th>1</th>\n",
       "      <td>0</td>\n",
       "      <td>0</td>\n",
       "      <td>1</td>\n",
       "      <td>0</td>\n",
       "      <td>0</td>\n",
       "      <td>0</td>\n",
       "      <td>0</td>\n",
       "      <td>0</td>\n",
       "      <td>0</td>\n",
       "      <td>0</td>\n",
       "      <td>...</td>\n",
       "      <td>0</td>\n",
       "      <td>1</td>\n",
       "      <td>0</td>\n",
       "      <td>0</td>\n",
       "      <td>0</td>\n",
       "      <td>0</td>\n",
       "      <td>0</td>\n",
       "      <td>0</td>\n",
       "      <td>0</td>\n",
       "      <td>0</td>\n",
       "    </tr>\n",
       "    <tr>\n",
       "      <th>2</th>\n",
       "      <td>0</td>\n",
       "      <td>0</td>\n",
       "      <td>1</td>\n",
       "      <td>0</td>\n",
       "      <td>0</td>\n",
       "      <td>0</td>\n",
       "      <td>0</td>\n",
       "      <td>0</td>\n",
       "      <td>0</td>\n",
       "      <td>0</td>\n",
       "      <td>...</td>\n",
       "      <td>0</td>\n",
       "      <td>0</td>\n",
       "      <td>0</td>\n",
       "      <td>0</td>\n",
       "      <td>0</td>\n",
       "      <td>0</td>\n",
       "      <td>0</td>\n",
       "      <td>0</td>\n",
       "      <td>0</td>\n",
       "      <td>0</td>\n",
       "    </tr>\n",
       "    <tr>\n",
       "      <th>3</th>\n",
       "      <td>0</td>\n",
       "      <td>0</td>\n",
       "      <td>1</td>\n",
       "      <td>1</td>\n",
       "      <td>0</td>\n",
       "      <td>0</td>\n",
       "      <td>0</td>\n",
       "      <td>0</td>\n",
       "      <td>0</td>\n",
       "      <td>0</td>\n",
       "      <td>...</td>\n",
       "      <td>0</td>\n",
       "      <td>0</td>\n",
       "      <td>0</td>\n",
       "      <td>0</td>\n",
       "      <td>0</td>\n",
       "      <td>0</td>\n",
       "      <td>0</td>\n",
       "      <td>0</td>\n",
       "      <td>0</td>\n",
       "      <td>0</td>\n",
       "    </tr>\n",
       "    <tr>\n",
       "      <th>4</th>\n",
       "      <td>0</td>\n",
       "      <td>0</td>\n",
       "      <td>1</td>\n",
       "      <td>0</td>\n",
       "      <td>0</td>\n",
       "      <td>0</td>\n",
       "      <td>0</td>\n",
       "      <td>0</td>\n",
       "      <td>0</td>\n",
       "      <td>0</td>\n",
       "      <td>...</td>\n",
       "      <td>0</td>\n",
       "      <td>0</td>\n",
       "      <td>0</td>\n",
       "      <td>0</td>\n",
       "      <td>0</td>\n",
       "      <td>0</td>\n",
       "      <td>0</td>\n",
       "      <td>0</td>\n",
       "      <td>0</td>\n",
       "      <td>0</td>\n",
       "    </tr>\n",
       "  </tbody>\n",
       "</table>\n",
       "<p>5 rows × 18583 columns</p>\n",
       "</div>"
      ],
      "text/plain": [
       "   num__has_salary_range  num__telecommuting  num__has_company_logo  \\\n",
       "0                      0                   0                      1   \n",
       "1                      0                   0                      1   \n",
       "2                      0                   0                      1   \n",
       "3                      0                   0                      1   \n",
       "4                      0                   0                      1   \n",
       "\n",
       "   num__has_questions  tokenizer__0  tokenizer__000  tokenizer__01  \\\n",
       "0                   1             0               0              0   \n",
       "1                   0             0               0              0   \n",
       "2                   0             0               0              0   \n",
       "3                   1             0               0              0   \n",
       "4                   0             0               0              0   \n",
       "\n",
       "   tokenizer__02  tokenizer__03  tokenizer__0415  ...  tokenizer__zombi  \\\n",
       "0              0              0                0  ...                 0   \n",
       "1              0              0                0  ...                 0   \n",
       "2              0              0                0  ...                 0   \n",
       "3              0              0                0  ...                 0   \n",
       "4              0              0                0  ...                 0   \n",
       "\n",
       "   tokenizer__zone  tokenizer__zoom  tokenizer__zoopla  tokenizer__zopa  \\\n",
       "0                0                0                  0                0   \n",
       "1                1                0                  0                0   \n",
       "2                0                0                  0                0   \n",
       "3                0                0                  0                0   \n",
       "4                0                0                  0                0   \n",
       "\n",
       "   tokenizer__zu  tokenizer__zullen  tokenizer__zult  tokenizer__zweig  \\\n",
       "0              0                  0                0                 0   \n",
       "1              0                  0                0                 0   \n",
       "2              0                  0                0                 0   \n",
       "3              0                  0                0                 0   \n",
       "4              0                  0                0                 0   \n",
       "\n",
       "   tokenizer__zylun  \n",
       "0                 0  \n",
       "1                 0  \n",
       "2                 0  \n",
       "3                 0  \n",
       "4                 0  \n",
       "\n",
       "[5 rows x 18583 columns]"
      ]
     },
     "execution_count": 57,
     "metadata": {},
     "output_type": "execute_result"
    }
   ],
   "source": [
    "# transformed_rem_df\n",
    "# note if u choose load df from my result, this cell can be pass\n",
    "CountVectorizer_rem_df = pd.DataFrame(X_rem_count.toarray(), columns=cols_rem_c)\n",
    "CountVectorizer_rem_df.head()"
   ]
  },
  {
   "cell_type": "markdown",
   "id": "77f3fd02",
   "metadata": {},
   "source": [
    "**Vectorized X_test dataframe (CountVectorizer)**"
   ]
  },
  {
   "cell_type": "code",
   "execution_count": 58,
   "id": "1d9e1311",
   "metadata": {},
   "outputs": [],
   "source": [
    "# get feature_names\n",
    "# note if u choose load df from my result, this cell can be pass\n",
    "cols_test_c=col_trans.get_feature_names_out()"
   ]
  },
  {
   "cell_type": "code",
   "execution_count": 59,
   "id": "bd58d734",
   "metadata": {},
   "outputs": [
    {
     "data": {
      "text/html": [
       "<div>\n",
       "<style scoped>\n",
       "    .dataframe tbody tr th:only-of-type {\n",
       "        vertical-align: middle;\n",
       "    }\n",
       "\n",
       "    .dataframe tbody tr th {\n",
       "        vertical-align: top;\n",
       "    }\n",
       "\n",
       "    .dataframe thead th {\n",
       "        text-align: right;\n",
       "    }\n",
       "</style>\n",
       "<table border=\"1\" class=\"dataframe\">\n",
       "  <thead>\n",
       "    <tr style=\"text-align: right;\">\n",
       "      <th></th>\n",
       "      <th>num__has_salary_range</th>\n",
       "      <th>num__telecommuting</th>\n",
       "      <th>num__has_company_logo</th>\n",
       "      <th>num__has_questions</th>\n",
       "      <th>tokenizer__0</th>\n",
       "      <th>tokenizer__000</th>\n",
       "      <th>tokenizer__01</th>\n",
       "      <th>tokenizer__02</th>\n",
       "      <th>tokenizer__03</th>\n",
       "      <th>tokenizer__0415</th>\n",
       "      <th>...</th>\n",
       "      <th>tokenizer__zombi</th>\n",
       "      <th>tokenizer__zone</th>\n",
       "      <th>tokenizer__zoom</th>\n",
       "      <th>tokenizer__zoopla</th>\n",
       "      <th>tokenizer__zopa</th>\n",
       "      <th>tokenizer__zu</th>\n",
       "      <th>tokenizer__zullen</th>\n",
       "      <th>tokenizer__zult</th>\n",
       "      <th>tokenizer__zweig</th>\n",
       "      <th>tokenizer__zylun</th>\n",
       "    </tr>\n",
       "  </thead>\n",
       "  <tbody>\n",
       "    <tr>\n",
       "      <th>0</th>\n",
       "      <td>1</td>\n",
       "      <td>0</td>\n",
       "      <td>1</td>\n",
       "      <td>0</td>\n",
       "      <td>0</td>\n",
       "      <td>0</td>\n",
       "      <td>0</td>\n",
       "      <td>0</td>\n",
       "      <td>0</td>\n",
       "      <td>0</td>\n",
       "      <td>...</td>\n",
       "      <td>0</td>\n",
       "      <td>0</td>\n",
       "      <td>0</td>\n",
       "      <td>0</td>\n",
       "      <td>0</td>\n",
       "      <td>0</td>\n",
       "      <td>0</td>\n",
       "      <td>0</td>\n",
       "      <td>0</td>\n",
       "      <td>0</td>\n",
       "    </tr>\n",
       "    <tr>\n",
       "      <th>1</th>\n",
       "      <td>0</td>\n",
       "      <td>0</td>\n",
       "      <td>1</td>\n",
       "      <td>1</td>\n",
       "      <td>0</td>\n",
       "      <td>0</td>\n",
       "      <td>0</td>\n",
       "      <td>0</td>\n",
       "      <td>0</td>\n",
       "      <td>0</td>\n",
       "      <td>...</td>\n",
       "      <td>0</td>\n",
       "      <td>0</td>\n",
       "      <td>0</td>\n",
       "      <td>0</td>\n",
       "      <td>0</td>\n",
       "      <td>0</td>\n",
       "      <td>0</td>\n",
       "      <td>0</td>\n",
       "      <td>0</td>\n",
       "      <td>0</td>\n",
       "    </tr>\n",
       "    <tr>\n",
       "      <th>2</th>\n",
       "      <td>1</td>\n",
       "      <td>0</td>\n",
       "      <td>0</td>\n",
       "      <td>1</td>\n",
       "      <td>0</td>\n",
       "      <td>0</td>\n",
       "      <td>0</td>\n",
       "      <td>0</td>\n",
       "      <td>0</td>\n",
       "      <td>0</td>\n",
       "      <td>...</td>\n",
       "      <td>0</td>\n",
       "      <td>0</td>\n",
       "      <td>0</td>\n",
       "      <td>0</td>\n",
       "      <td>0</td>\n",
       "      <td>0</td>\n",
       "      <td>0</td>\n",
       "      <td>0</td>\n",
       "      <td>0</td>\n",
       "      <td>0</td>\n",
       "    </tr>\n",
       "    <tr>\n",
       "      <th>3</th>\n",
       "      <td>0</td>\n",
       "      <td>0</td>\n",
       "      <td>1</td>\n",
       "      <td>1</td>\n",
       "      <td>0</td>\n",
       "      <td>0</td>\n",
       "      <td>0</td>\n",
       "      <td>0</td>\n",
       "      <td>0</td>\n",
       "      <td>0</td>\n",
       "      <td>...</td>\n",
       "      <td>0</td>\n",
       "      <td>0</td>\n",
       "      <td>0</td>\n",
       "      <td>0</td>\n",
       "      <td>0</td>\n",
       "      <td>0</td>\n",
       "      <td>0</td>\n",
       "      <td>0</td>\n",
       "      <td>0</td>\n",
       "      <td>0</td>\n",
       "    </tr>\n",
       "    <tr>\n",
       "      <th>4</th>\n",
       "      <td>0</td>\n",
       "      <td>0</td>\n",
       "      <td>1</td>\n",
       "      <td>0</td>\n",
       "      <td>0</td>\n",
       "      <td>0</td>\n",
       "      <td>0</td>\n",
       "      <td>0</td>\n",
       "      <td>0</td>\n",
       "      <td>0</td>\n",
       "      <td>...</td>\n",
       "      <td>0</td>\n",
       "      <td>0</td>\n",
       "      <td>0</td>\n",
       "      <td>0</td>\n",
       "      <td>0</td>\n",
       "      <td>0</td>\n",
       "      <td>0</td>\n",
       "      <td>0</td>\n",
       "      <td>0</td>\n",
       "      <td>0</td>\n",
       "    </tr>\n",
       "  </tbody>\n",
       "</table>\n",
       "<p>5 rows × 18583 columns</p>\n",
       "</div>"
      ],
      "text/plain": [
       "   num__has_salary_range  num__telecommuting  num__has_company_logo  \\\n",
       "0                      1                   0                      1   \n",
       "1                      0                   0                      1   \n",
       "2                      1                   0                      0   \n",
       "3                      0                   0                      1   \n",
       "4                      0                   0                      1   \n",
       "\n",
       "   num__has_questions  tokenizer__0  tokenizer__000  tokenizer__01  \\\n",
       "0                   0             0               0              0   \n",
       "1                   1             0               0              0   \n",
       "2                   1             0               0              0   \n",
       "3                   1             0               0              0   \n",
       "4                   0             0               0              0   \n",
       "\n",
       "   tokenizer__02  tokenizer__03  tokenizer__0415  ...  tokenizer__zombi  \\\n",
       "0              0              0                0  ...                 0   \n",
       "1              0              0                0  ...                 0   \n",
       "2              0              0                0  ...                 0   \n",
       "3              0              0                0  ...                 0   \n",
       "4              0              0                0  ...                 0   \n",
       "\n",
       "   tokenizer__zone  tokenizer__zoom  tokenizer__zoopla  tokenizer__zopa  \\\n",
       "0                0                0                  0                0   \n",
       "1                0                0                  0                0   \n",
       "2                0                0                  0                0   \n",
       "3                0                0                  0                0   \n",
       "4                0                0                  0                0   \n",
       "\n",
       "   tokenizer__zu  tokenizer__zullen  tokenizer__zult  tokenizer__zweig  \\\n",
       "0              0                  0                0                 0   \n",
       "1              0                  0                0                 0   \n",
       "2              0                  0                0                 0   \n",
       "3              0                  0                0                 0   \n",
       "4              0                  0                0                 0   \n",
       "\n",
       "   tokenizer__zylun  \n",
       "0                 0  \n",
       "1                 0  \n",
       "2                 0  \n",
       "3                 0  \n",
       "4                 0  \n",
       "\n",
       "[5 rows x 18583 columns]"
      ]
     },
     "execution_count": 59,
     "metadata": {},
     "output_type": "execute_result"
    }
   ],
   "source": [
    "# transformed_test_df\n",
    "# note if u choose load df from my result, this cell can be pass\n",
    "CountVectorizer_test_df  = pd.DataFrame(X_test_count.toarray(), columns=cols_test_c)\n",
    "CountVectorizer_test_df.head()"
   ]
  },
  {
   "cell_type": "code",
   "execution_count": 60,
   "id": "bb2315dc",
   "metadata": {},
   "outputs": [
    {
     "name": "stdout",
     "output_type": "stream",
     "text": [
      "The shape of trainsformed X_train is (12515, 18583), and the shape of trainsformed X_test is (5364, 18583)\n"
     ]
    }
   ],
   "source": [
    "print(f'The shape of trainsformed X_train is {CountVectorizer_rem_df.shape}, and the shape of trainsformed X_test is {CountVectorizer_test_df.shape}')"
   ]
  },
  {
   "cell_type": "markdown",
   "id": "55751b3b",
   "metadata": {},
   "source": [
    "**save trainsfromed df (CountVectorizer)**"
   ]
  },
  {
   "cell_type": "code",
   "execution_count": 61,
   "id": "4fb1628b",
   "metadata": {},
   "outputs": [
    {
     "data": {
      "text/plain": [
       "['vectorized_df/CountVectorizer_rem_df.pkl']"
      ]
     },
     "execution_count": 61,
     "metadata": {},
     "output_type": "execute_result"
    }
   ],
   "source": [
    "# Save df into pickle file\n",
    "# note if u choose load df from my result, this cell can be pass\n",
    "joblib.dump(CountVectorizer_test_df, 'vectorized_df/CountVectorizer_test_df.pkl')\n",
    "joblib.dump(CountVectorizer_rem_df, 'vectorized_df/CountVectorizer_rem_df.pkl')"
   ]
  },
  {
   "cell_type": "markdown",
   "id": "1d8cbc1e",
   "metadata": {},
   "source": [
    "**TF-IDF**"
   ]
  },
  {
   "cell_type": "code",
   "execution_count": 75,
   "id": "fcae845d",
   "metadata": {},
   "outputs": [
    {
     "data": {
      "text/html": [
       "<style>#sk-container-id-3 {color: black;background-color: white;}#sk-container-id-3 pre{padding: 0;}#sk-container-id-3 div.sk-toggleable {background-color: white;}#sk-container-id-3 label.sk-toggleable__label {cursor: pointer;display: block;width: 100%;margin-bottom: 0;padding: 0.3em;box-sizing: border-box;text-align: center;}#sk-container-id-3 label.sk-toggleable__label-arrow:before {content: \"▸\";float: left;margin-right: 0.25em;color: #696969;}#sk-container-id-3 label.sk-toggleable__label-arrow:hover:before {color: black;}#sk-container-id-3 div.sk-estimator:hover label.sk-toggleable__label-arrow:before {color: black;}#sk-container-id-3 div.sk-toggleable__content {max-height: 0;max-width: 0;overflow: hidden;text-align: left;background-color: #f0f8ff;}#sk-container-id-3 div.sk-toggleable__content pre {margin: 0.2em;color: black;border-radius: 0.25em;background-color: #f0f8ff;}#sk-container-id-3 input.sk-toggleable__control:checked~div.sk-toggleable__content {max-height: 200px;max-width: 100%;overflow: auto;}#sk-container-id-3 input.sk-toggleable__control:checked~label.sk-toggleable__label-arrow:before {content: \"▾\";}#sk-container-id-3 div.sk-estimator input.sk-toggleable__control:checked~label.sk-toggleable__label {background-color: #d4ebff;}#sk-container-id-3 div.sk-label input.sk-toggleable__control:checked~label.sk-toggleable__label {background-color: #d4ebff;}#sk-container-id-3 input.sk-hidden--visually {border: 0;clip: rect(1px 1px 1px 1px);clip: rect(1px, 1px, 1px, 1px);height: 1px;margin: -1px;overflow: hidden;padding: 0;position: absolute;width: 1px;}#sk-container-id-3 div.sk-estimator {font-family: monospace;background-color: #f0f8ff;border: 1px dotted black;border-radius: 0.25em;box-sizing: border-box;margin-bottom: 0.5em;}#sk-container-id-3 div.sk-estimator:hover {background-color: #d4ebff;}#sk-container-id-3 div.sk-parallel-item::after {content: \"\";width: 100%;border-bottom: 1px solid gray;flex-grow: 1;}#sk-container-id-3 div.sk-label:hover label.sk-toggleable__label {background-color: #d4ebff;}#sk-container-id-3 div.sk-serial::before {content: \"\";position: absolute;border-left: 1px solid gray;box-sizing: border-box;top: 0;bottom: 0;left: 50%;z-index: 0;}#sk-container-id-3 div.sk-serial {display: flex;flex-direction: column;align-items: center;background-color: white;padding-right: 0.2em;padding-left: 0.2em;position: relative;}#sk-container-id-3 div.sk-item {position: relative;z-index: 1;}#sk-container-id-3 div.sk-parallel {display: flex;align-items: stretch;justify-content: center;background-color: white;position: relative;}#sk-container-id-3 div.sk-item::before, #sk-container-id-3 div.sk-parallel-item::before {content: \"\";position: absolute;border-left: 1px solid gray;box-sizing: border-box;top: 0;bottom: 0;left: 50%;z-index: -1;}#sk-container-id-3 div.sk-parallel-item {display: flex;flex-direction: column;z-index: 1;position: relative;background-color: white;}#sk-container-id-3 div.sk-parallel-item:first-child::after {align-self: flex-end;width: 50%;}#sk-container-id-3 div.sk-parallel-item:last-child::after {align-self: flex-start;width: 50%;}#sk-container-id-3 div.sk-parallel-item:only-child::after {width: 0;}#sk-container-id-3 div.sk-dashed-wrapped {border: 1px dashed gray;margin: 0 0.4em 0.5em 0.4em;box-sizing: border-box;padding-bottom: 0.4em;background-color: white;}#sk-container-id-3 div.sk-label label {font-family: monospace;font-weight: bold;display: inline-block;line-height: 1.2em;}#sk-container-id-3 div.sk-label-container {text-align: center;}#sk-container-id-3 div.sk-container {/* jupyter's `normalize.less` sets `[hidden] { display: none; }` but bootstrap.min.css set `[hidden] { display: none !important; }` so we also need the `!important` here to be able to override the default hidden behavior on the sphinx rendered scikit-learn.org. See: https://github.com/scikit-learn/scikit-learn/issues/21755 */display: inline-block !important;position: relative;}#sk-container-id-3 div.sk-text-repr-fallback {display: none;}</style><div id=\"sk-container-id-3\" class=\"sk-top-container\"><div class=\"sk-text-repr-fallback\"><pre>ColumnTransformer(transformers=[(&#x27;num&#x27;, &#x27;passthrough&#x27;,\n",
       "                                 [&#x27;has_salary_range&#x27;, &#x27;telecommuting&#x27;,\n",
       "                                  &#x27;has_company_logo&#x27;, &#x27;has_questions&#x27;]),\n",
       "                                (&#x27;tokenizer&#x27;,\n",
       "                                 TfidfVectorizer(min_df=5,\n",
       "                                                 tokenizer=&lt;function tokenizer at 0x00000223D255E8B0&gt;),\n",
       "                                 &#x27;text&#x27;)])</pre><b>In a Jupyter environment, please rerun this cell to show the HTML representation or trust the notebook. <br />On GitHub, the HTML representation is unable to render, please try loading this page with nbviewer.org.</b></div><div class=\"sk-container\" hidden><div class=\"sk-item sk-dashed-wrapped\"><div class=\"sk-label-container\"><div class=\"sk-label sk-toggleable\"><input class=\"sk-toggleable__control sk-hidden--visually\" id=\"sk-estimator-id-11\" type=\"checkbox\" ><label for=\"sk-estimator-id-11\" class=\"sk-toggleable__label sk-toggleable__label-arrow\">ColumnTransformer</label><div class=\"sk-toggleable__content\"><pre>ColumnTransformer(transformers=[(&#x27;num&#x27;, &#x27;passthrough&#x27;,\n",
       "                                 [&#x27;has_salary_range&#x27;, &#x27;telecommuting&#x27;,\n",
       "                                  &#x27;has_company_logo&#x27;, &#x27;has_questions&#x27;]),\n",
       "                                (&#x27;tokenizer&#x27;,\n",
       "                                 TfidfVectorizer(min_df=5,\n",
       "                                                 tokenizer=&lt;function tokenizer at 0x00000223D255E8B0&gt;),\n",
       "                                 &#x27;text&#x27;)])</pre></div></div></div><div class=\"sk-parallel\"><div class=\"sk-parallel-item\"><div class=\"sk-item\"><div class=\"sk-label-container\"><div class=\"sk-label sk-toggleable\"><input class=\"sk-toggleable__control sk-hidden--visually\" id=\"sk-estimator-id-12\" type=\"checkbox\" ><label for=\"sk-estimator-id-12\" class=\"sk-toggleable__label sk-toggleable__label-arrow\">num</label><div class=\"sk-toggleable__content\"><pre>[&#x27;has_salary_range&#x27;, &#x27;telecommuting&#x27;, &#x27;has_company_logo&#x27;, &#x27;has_questions&#x27;]</pre></div></div></div><div class=\"sk-serial\"><div class=\"sk-item\"><div class=\"sk-estimator sk-toggleable\"><input class=\"sk-toggleable__control sk-hidden--visually\" id=\"sk-estimator-id-13\" type=\"checkbox\" ><label for=\"sk-estimator-id-13\" class=\"sk-toggleable__label sk-toggleable__label-arrow\">passthrough</label><div class=\"sk-toggleable__content\"><pre>passthrough</pre></div></div></div></div></div></div><div class=\"sk-parallel-item\"><div class=\"sk-item\"><div class=\"sk-label-container\"><div class=\"sk-label sk-toggleable\"><input class=\"sk-toggleable__control sk-hidden--visually\" id=\"sk-estimator-id-14\" type=\"checkbox\" ><label for=\"sk-estimator-id-14\" class=\"sk-toggleable__label sk-toggleable__label-arrow\">tokenizer</label><div class=\"sk-toggleable__content\"><pre>text</pre></div></div></div><div class=\"sk-serial\"><div class=\"sk-item\"><div class=\"sk-estimator sk-toggleable\"><input class=\"sk-toggleable__control sk-hidden--visually\" id=\"sk-estimator-id-15\" type=\"checkbox\" ><label for=\"sk-estimator-id-15\" class=\"sk-toggleable__label sk-toggleable__label-arrow\">TfidfVectorizer</label><div class=\"sk-toggleable__content\"><pre>TfidfVectorizer(min_df=5, tokenizer=&lt;function tokenizer at 0x00000223D255E8B0&gt;)</pre></div></div></div></div></div></div></div></div></div></div>"
      ],
      "text/plain": [
       "ColumnTransformer(transformers=[('num', 'passthrough',\n",
       "                                 ['has_salary_range', 'telecommuting',\n",
       "                                  'has_company_logo', 'has_questions']),\n",
       "                                ('tokenizer',\n",
       "                                 TfidfVectorizer(min_df=5,\n",
       "                                                 tokenizer=<function tokenizer at 0x00000223D255E8B0>),\n",
       "                                 'text')])"
      ]
     },
     "execution_count": 75,
     "metadata": {},
     "output_type": "execute_result"
    }
   ],
   "source": [
    "# columntransforms\n",
    "# note if u choose load df from my result, this cell can be pass\n",
    "col_transforms_t = [('num','passthrough', numerical),\n",
    "                ('tokenizer', TfidfVectorizer(tokenizer=tokenizer,min_df=5), 'text')]\n",
    "col_trans_t = ColumnTransformer(col_transforms_t)\n",
    "\n",
    "# Fit\n",
    "col_trans_t.fit(X_rem)"
   ]
  },
  {
   "cell_type": "code",
   "execution_count": 76,
   "id": "6c964ea6",
   "metadata": {},
   "outputs": [],
   "source": [
    "# transform X_rem\n",
    "# note if u choose load df from my result, this cell can be pass\n",
    "X_rem_tf= col_trans_t.transform(X_rem)\n",
    "# transform X_test\n",
    "X_test_tf= col_trans_t.transform(X_test)"
   ]
  },
  {
   "cell_type": "code",
   "execution_count": 77,
   "id": "1e0d3729",
   "metadata": {},
   "outputs": [
    {
     "data": {
      "text/plain": [
       "(12515, 18583)"
      ]
     },
     "execution_count": 77,
     "metadata": {},
     "output_type": "execute_result"
    }
   ],
   "source": [
    "# note if u choose load df from my result, this cell can be pass\n",
    "X_rem_tf.shape"
   ]
  },
  {
   "cell_type": "code",
   "execution_count": 78,
   "id": "2d9ba018",
   "metadata": {},
   "outputs": [
    {
     "data": {
      "text/plain": [
       "(5364, 18583)"
      ]
     },
     "execution_count": 78,
     "metadata": {},
     "output_type": "execute_result"
    }
   ],
   "source": [
    "# note if u choose load df from my result, this cell can be pass\n",
    "X_test_tf.shape"
   ]
  },
  {
   "cell_type": "code",
   "execution_count": 79,
   "id": "5fe419aa",
   "metadata": {},
   "outputs": [
    {
     "data": {
      "text/plain": [
       "['vectorized_df/matrix_test_tf.pkl']"
      ]
     },
     "execution_count": 79,
     "metadata": {},
     "output_type": "execute_result"
    }
   ],
   "source": [
    "# Save sparse matrix \n",
    "# note if u choose load df from my result, this cell can be pass\n",
    "joblib.dump(X_rem_tf,'vectorized_df/matrix_rem_tf.pkl')\n",
    "joblib.dump(X_test_tf,'vectorized_df/matrix_test_tf.pkl')"
   ]
  },
  {
   "cell_type": "code",
   "execution_count": 80,
   "id": "454dd47d",
   "metadata": {},
   "outputs": [],
   "source": [
    "# get features\n",
    "cols_rem_tf=col_trans_t.get_feature_names_out()\n",
    "cols_test_tf=col_trans_t.get_feature_names_out()"
   ]
  },
  {
   "cell_type": "code",
   "execution_count": 81,
   "id": "b3ed0a8b",
   "metadata": {},
   "outputs": [
    {
     "data": {
      "text/html": [
       "<div>\n",
       "<style scoped>\n",
       "    .dataframe tbody tr th:only-of-type {\n",
       "        vertical-align: middle;\n",
       "    }\n",
       "\n",
       "    .dataframe tbody tr th {\n",
       "        vertical-align: top;\n",
       "    }\n",
       "\n",
       "    .dataframe thead th {\n",
       "        text-align: right;\n",
       "    }\n",
       "</style>\n",
       "<table border=\"1\" class=\"dataframe\">\n",
       "  <thead>\n",
       "    <tr style=\"text-align: right;\">\n",
       "      <th></th>\n",
       "      <th>num__has_salary_range</th>\n",
       "      <th>num__telecommuting</th>\n",
       "      <th>num__has_company_logo</th>\n",
       "      <th>num__has_questions</th>\n",
       "      <th>tokenizer__0</th>\n",
       "      <th>tokenizer__000</th>\n",
       "      <th>tokenizer__01</th>\n",
       "      <th>tokenizer__02</th>\n",
       "      <th>tokenizer__03</th>\n",
       "      <th>tokenizer__0415</th>\n",
       "      <th>...</th>\n",
       "      <th>tokenizer__zombi</th>\n",
       "      <th>tokenizer__zone</th>\n",
       "      <th>tokenizer__zoom</th>\n",
       "      <th>tokenizer__zoopla</th>\n",
       "      <th>tokenizer__zopa</th>\n",
       "      <th>tokenizer__zu</th>\n",
       "      <th>tokenizer__zullen</th>\n",
       "      <th>tokenizer__zult</th>\n",
       "      <th>tokenizer__zweig</th>\n",
       "      <th>tokenizer__zylun</th>\n",
       "    </tr>\n",
       "  </thead>\n",
       "  <tbody>\n",
       "    <tr>\n",
       "      <th>0</th>\n",
       "      <td>0.0</td>\n",
       "      <td>0.0</td>\n",
       "      <td>1.0</td>\n",
       "      <td>1.0</td>\n",
       "      <td>0.0</td>\n",
       "      <td>0.0</td>\n",
       "      <td>0.0</td>\n",
       "      <td>0.0</td>\n",
       "      <td>0.0</td>\n",
       "      <td>0.0</td>\n",
       "      <td>...</td>\n",
       "      <td>0.0</td>\n",
       "      <td>0.000000</td>\n",
       "      <td>0.0</td>\n",
       "      <td>0.0</td>\n",
       "      <td>0.0</td>\n",
       "      <td>0.0</td>\n",
       "      <td>0.0</td>\n",
       "      <td>0.0</td>\n",
       "      <td>0.0</td>\n",
       "      <td>0.0</td>\n",
       "    </tr>\n",
       "    <tr>\n",
       "      <th>1</th>\n",
       "      <td>0.0</td>\n",
       "      <td>0.0</td>\n",
       "      <td>1.0</td>\n",
       "      <td>0.0</td>\n",
       "      <td>0.0</td>\n",
       "      <td>0.0</td>\n",
       "      <td>0.0</td>\n",
       "      <td>0.0</td>\n",
       "      <td>0.0</td>\n",
       "      <td>0.0</td>\n",
       "      <td>...</td>\n",
       "      <td>0.0</td>\n",
       "      <td>0.041755</td>\n",
       "      <td>0.0</td>\n",
       "      <td>0.0</td>\n",
       "      <td>0.0</td>\n",
       "      <td>0.0</td>\n",
       "      <td>0.0</td>\n",
       "      <td>0.0</td>\n",
       "      <td>0.0</td>\n",
       "      <td>0.0</td>\n",
       "    </tr>\n",
       "    <tr>\n",
       "      <th>2</th>\n",
       "      <td>0.0</td>\n",
       "      <td>0.0</td>\n",
       "      <td>1.0</td>\n",
       "      <td>0.0</td>\n",
       "      <td>0.0</td>\n",
       "      <td>0.0</td>\n",
       "      <td>0.0</td>\n",
       "      <td>0.0</td>\n",
       "      <td>0.0</td>\n",
       "      <td>0.0</td>\n",
       "      <td>...</td>\n",
       "      <td>0.0</td>\n",
       "      <td>0.000000</td>\n",
       "      <td>0.0</td>\n",
       "      <td>0.0</td>\n",
       "      <td>0.0</td>\n",
       "      <td>0.0</td>\n",
       "      <td>0.0</td>\n",
       "      <td>0.0</td>\n",
       "      <td>0.0</td>\n",
       "      <td>0.0</td>\n",
       "    </tr>\n",
       "    <tr>\n",
       "      <th>3</th>\n",
       "      <td>0.0</td>\n",
       "      <td>0.0</td>\n",
       "      <td>1.0</td>\n",
       "      <td>1.0</td>\n",
       "      <td>0.0</td>\n",
       "      <td>0.0</td>\n",
       "      <td>0.0</td>\n",
       "      <td>0.0</td>\n",
       "      <td>0.0</td>\n",
       "      <td>0.0</td>\n",
       "      <td>...</td>\n",
       "      <td>0.0</td>\n",
       "      <td>0.000000</td>\n",
       "      <td>0.0</td>\n",
       "      <td>0.0</td>\n",
       "      <td>0.0</td>\n",
       "      <td>0.0</td>\n",
       "      <td>0.0</td>\n",
       "      <td>0.0</td>\n",
       "      <td>0.0</td>\n",
       "      <td>0.0</td>\n",
       "    </tr>\n",
       "    <tr>\n",
       "      <th>4</th>\n",
       "      <td>0.0</td>\n",
       "      <td>0.0</td>\n",
       "      <td>1.0</td>\n",
       "      <td>0.0</td>\n",
       "      <td>0.0</td>\n",
       "      <td>0.0</td>\n",
       "      <td>0.0</td>\n",
       "      <td>0.0</td>\n",
       "      <td>0.0</td>\n",
       "      <td>0.0</td>\n",
       "      <td>...</td>\n",
       "      <td>0.0</td>\n",
       "      <td>0.000000</td>\n",
       "      <td>0.0</td>\n",
       "      <td>0.0</td>\n",
       "      <td>0.0</td>\n",
       "      <td>0.0</td>\n",
       "      <td>0.0</td>\n",
       "      <td>0.0</td>\n",
       "      <td>0.0</td>\n",
       "      <td>0.0</td>\n",
       "    </tr>\n",
       "  </tbody>\n",
       "</table>\n",
       "<p>5 rows × 18583 columns</p>\n",
       "</div>"
      ],
      "text/plain": [
       "   num__has_salary_range  num__telecommuting  num__has_company_logo  \\\n",
       "0                    0.0                 0.0                    1.0   \n",
       "1                    0.0                 0.0                    1.0   \n",
       "2                    0.0                 0.0                    1.0   \n",
       "3                    0.0                 0.0                    1.0   \n",
       "4                    0.0                 0.0                    1.0   \n",
       "\n",
       "   num__has_questions  tokenizer__0  tokenizer__000  tokenizer__01  \\\n",
       "0                 1.0           0.0             0.0            0.0   \n",
       "1                 0.0           0.0             0.0            0.0   \n",
       "2                 0.0           0.0             0.0            0.0   \n",
       "3                 1.0           0.0             0.0            0.0   \n",
       "4                 0.0           0.0             0.0            0.0   \n",
       "\n",
       "   tokenizer__02  tokenizer__03  tokenizer__0415  ...  tokenizer__zombi  \\\n",
       "0            0.0            0.0              0.0  ...               0.0   \n",
       "1            0.0            0.0              0.0  ...               0.0   \n",
       "2            0.0            0.0              0.0  ...               0.0   \n",
       "3            0.0            0.0              0.0  ...               0.0   \n",
       "4            0.0            0.0              0.0  ...               0.0   \n",
       "\n",
       "   tokenizer__zone  tokenizer__zoom  tokenizer__zoopla  tokenizer__zopa  \\\n",
       "0         0.000000              0.0                0.0              0.0   \n",
       "1         0.041755              0.0                0.0              0.0   \n",
       "2         0.000000              0.0                0.0              0.0   \n",
       "3         0.000000              0.0                0.0              0.0   \n",
       "4         0.000000              0.0                0.0              0.0   \n",
       "\n",
       "   tokenizer__zu  tokenizer__zullen  tokenizer__zult  tokenizer__zweig  \\\n",
       "0            0.0                0.0              0.0               0.0   \n",
       "1            0.0                0.0              0.0               0.0   \n",
       "2            0.0                0.0              0.0               0.0   \n",
       "3            0.0                0.0              0.0               0.0   \n",
       "4            0.0                0.0              0.0               0.0   \n",
       "\n",
       "   tokenizer__zylun  \n",
       "0               0.0  \n",
       "1               0.0  \n",
       "2               0.0  \n",
       "3               0.0  \n",
       "4               0.0  \n",
       "\n",
       "[5 rows x 18583 columns]"
      ]
     },
     "execution_count": 81,
     "metadata": {},
     "output_type": "execute_result"
    }
   ],
   "source": [
    "# make df\n",
    "tf_rem_df = pd.DataFrame(X_rem_tf.toarray(), columns=cols_rem_tf)\n",
    "tf_rem_df.head()"
   ]
  },
  {
   "cell_type": "code",
   "execution_count": 82,
   "id": "eb7b163b",
   "metadata": {},
   "outputs": [
    {
     "data": {
      "text/html": [
       "<div>\n",
       "<style scoped>\n",
       "    .dataframe tbody tr th:only-of-type {\n",
       "        vertical-align: middle;\n",
       "    }\n",
       "\n",
       "    .dataframe tbody tr th {\n",
       "        vertical-align: top;\n",
       "    }\n",
       "\n",
       "    .dataframe thead th {\n",
       "        text-align: right;\n",
       "    }\n",
       "</style>\n",
       "<table border=\"1\" class=\"dataframe\">\n",
       "  <thead>\n",
       "    <tr style=\"text-align: right;\">\n",
       "      <th></th>\n",
       "      <th>num__has_salary_range</th>\n",
       "      <th>num__telecommuting</th>\n",
       "      <th>num__has_company_logo</th>\n",
       "      <th>num__has_questions</th>\n",
       "      <th>tokenizer__0</th>\n",
       "      <th>tokenizer__000</th>\n",
       "      <th>tokenizer__01</th>\n",
       "      <th>tokenizer__02</th>\n",
       "      <th>tokenizer__03</th>\n",
       "      <th>tokenizer__0415</th>\n",
       "      <th>...</th>\n",
       "      <th>tokenizer__zombi</th>\n",
       "      <th>tokenizer__zone</th>\n",
       "      <th>tokenizer__zoom</th>\n",
       "      <th>tokenizer__zoopla</th>\n",
       "      <th>tokenizer__zopa</th>\n",
       "      <th>tokenizer__zu</th>\n",
       "      <th>tokenizer__zullen</th>\n",
       "      <th>tokenizer__zult</th>\n",
       "      <th>tokenizer__zweig</th>\n",
       "      <th>tokenizer__zylun</th>\n",
       "    </tr>\n",
       "  </thead>\n",
       "  <tbody>\n",
       "    <tr>\n",
       "      <th>0</th>\n",
       "      <td>1.0</td>\n",
       "      <td>0.0</td>\n",
       "      <td>1.0</td>\n",
       "      <td>0.0</td>\n",
       "      <td>0.0</td>\n",
       "      <td>0.0</td>\n",
       "      <td>0.0</td>\n",
       "      <td>0.0</td>\n",
       "      <td>0.0</td>\n",
       "      <td>0.0</td>\n",
       "      <td>...</td>\n",
       "      <td>0.0</td>\n",
       "      <td>0.0</td>\n",
       "      <td>0.0</td>\n",
       "      <td>0.0</td>\n",
       "      <td>0.0</td>\n",
       "      <td>0.0</td>\n",
       "      <td>0.0</td>\n",
       "      <td>0.0</td>\n",
       "      <td>0.0</td>\n",
       "      <td>0.0</td>\n",
       "    </tr>\n",
       "    <tr>\n",
       "      <th>1</th>\n",
       "      <td>0.0</td>\n",
       "      <td>0.0</td>\n",
       "      <td>1.0</td>\n",
       "      <td>1.0</td>\n",
       "      <td>0.0</td>\n",
       "      <td>0.0</td>\n",
       "      <td>0.0</td>\n",
       "      <td>0.0</td>\n",
       "      <td>0.0</td>\n",
       "      <td>0.0</td>\n",
       "      <td>...</td>\n",
       "      <td>0.0</td>\n",
       "      <td>0.0</td>\n",
       "      <td>0.0</td>\n",
       "      <td>0.0</td>\n",
       "      <td>0.0</td>\n",
       "      <td>0.0</td>\n",
       "      <td>0.0</td>\n",
       "      <td>0.0</td>\n",
       "      <td>0.0</td>\n",
       "      <td>0.0</td>\n",
       "    </tr>\n",
       "    <tr>\n",
       "      <th>2</th>\n",
       "      <td>1.0</td>\n",
       "      <td>0.0</td>\n",
       "      <td>0.0</td>\n",
       "      <td>1.0</td>\n",
       "      <td>0.0</td>\n",
       "      <td>0.0</td>\n",
       "      <td>0.0</td>\n",
       "      <td>0.0</td>\n",
       "      <td>0.0</td>\n",
       "      <td>0.0</td>\n",
       "      <td>...</td>\n",
       "      <td>0.0</td>\n",
       "      <td>0.0</td>\n",
       "      <td>0.0</td>\n",
       "      <td>0.0</td>\n",
       "      <td>0.0</td>\n",
       "      <td>0.0</td>\n",
       "      <td>0.0</td>\n",
       "      <td>0.0</td>\n",
       "      <td>0.0</td>\n",
       "      <td>0.0</td>\n",
       "    </tr>\n",
       "    <tr>\n",
       "      <th>3</th>\n",
       "      <td>0.0</td>\n",
       "      <td>0.0</td>\n",
       "      <td>1.0</td>\n",
       "      <td>1.0</td>\n",
       "      <td>0.0</td>\n",
       "      <td>0.0</td>\n",
       "      <td>0.0</td>\n",
       "      <td>0.0</td>\n",
       "      <td>0.0</td>\n",
       "      <td>0.0</td>\n",
       "      <td>...</td>\n",
       "      <td>0.0</td>\n",
       "      <td>0.0</td>\n",
       "      <td>0.0</td>\n",
       "      <td>0.0</td>\n",
       "      <td>0.0</td>\n",
       "      <td>0.0</td>\n",
       "      <td>0.0</td>\n",
       "      <td>0.0</td>\n",
       "      <td>0.0</td>\n",
       "      <td>0.0</td>\n",
       "    </tr>\n",
       "    <tr>\n",
       "      <th>4</th>\n",
       "      <td>0.0</td>\n",
       "      <td>0.0</td>\n",
       "      <td>1.0</td>\n",
       "      <td>0.0</td>\n",
       "      <td>0.0</td>\n",
       "      <td>0.0</td>\n",
       "      <td>0.0</td>\n",
       "      <td>0.0</td>\n",
       "      <td>0.0</td>\n",
       "      <td>0.0</td>\n",
       "      <td>...</td>\n",
       "      <td>0.0</td>\n",
       "      <td>0.0</td>\n",
       "      <td>0.0</td>\n",
       "      <td>0.0</td>\n",
       "      <td>0.0</td>\n",
       "      <td>0.0</td>\n",
       "      <td>0.0</td>\n",
       "      <td>0.0</td>\n",
       "      <td>0.0</td>\n",
       "      <td>0.0</td>\n",
       "    </tr>\n",
       "  </tbody>\n",
       "</table>\n",
       "<p>5 rows × 18583 columns</p>\n",
       "</div>"
      ],
      "text/plain": [
       "   num__has_salary_range  num__telecommuting  num__has_company_logo  \\\n",
       "0                    1.0                 0.0                    1.0   \n",
       "1                    0.0                 0.0                    1.0   \n",
       "2                    1.0                 0.0                    0.0   \n",
       "3                    0.0                 0.0                    1.0   \n",
       "4                    0.0                 0.0                    1.0   \n",
       "\n",
       "   num__has_questions  tokenizer__0  tokenizer__000  tokenizer__01  \\\n",
       "0                 0.0           0.0             0.0            0.0   \n",
       "1                 1.0           0.0             0.0            0.0   \n",
       "2                 1.0           0.0             0.0            0.0   \n",
       "3                 1.0           0.0             0.0            0.0   \n",
       "4                 0.0           0.0             0.0            0.0   \n",
       "\n",
       "   tokenizer__02  tokenizer__03  tokenizer__0415  ...  tokenizer__zombi  \\\n",
       "0            0.0            0.0              0.0  ...               0.0   \n",
       "1            0.0            0.0              0.0  ...               0.0   \n",
       "2            0.0            0.0              0.0  ...               0.0   \n",
       "3            0.0            0.0              0.0  ...               0.0   \n",
       "4            0.0            0.0              0.0  ...               0.0   \n",
       "\n",
       "   tokenizer__zone  tokenizer__zoom  tokenizer__zoopla  tokenizer__zopa  \\\n",
       "0              0.0              0.0                0.0              0.0   \n",
       "1              0.0              0.0                0.0              0.0   \n",
       "2              0.0              0.0                0.0              0.0   \n",
       "3              0.0              0.0                0.0              0.0   \n",
       "4              0.0              0.0                0.0              0.0   \n",
       "\n",
       "   tokenizer__zu  tokenizer__zullen  tokenizer__zult  tokenizer__zweig  \\\n",
       "0            0.0                0.0              0.0               0.0   \n",
       "1            0.0                0.0              0.0               0.0   \n",
       "2            0.0                0.0              0.0               0.0   \n",
       "3            0.0                0.0              0.0               0.0   \n",
       "4            0.0                0.0              0.0               0.0   \n",
       "\n",
       "   tokenizer__zylun  \n",
       "0               0.0  \n",
       "1               0.0  \n",
       "2               0.0  \n",
       "3               0.0  \n",
       "4               0.0  \n",
       "\n",
       "[5 rows x 18583 columns]"
      ]
     },
     "execution_count": 82,
     "metadata": {},
     "output_type": "execute_result"
    }
   ],
   "source": [
    "tf_test_df = pd.DataFrame(X_test_tf.toarray(), columns=cols_test_tf)\n",
    "tf_test_df.head()"
   ]
  },
  {
   "cell_type": "code",
   "execution_count": 83,
   "id": "31b89c7a",
   "metadata": {},
   "outputs": [
    {
     "name": "stdout",
     "output_type": "stream",
     "text": [
      "The shape of trainsformed X_rem is (12515, 18583), and the shape of trainsformed X_test is (5364, 18583)\n"
     ]
    }
   ],
   "source": [
    "# print tf-idf transformed df shape\n",
    "print(f'The shape of trainsformed X_rem is {tf_rem_df.shape}, and the shape of trainsformed X_test is {tf_test_df.shape}')"
   ]
  },
  {
   "cell_type": "markdown",
   "id": "134dbc16",
   "metadata": {},
   "source": [
    "**save save trainsfromed df (TF-IDF)**"
   ]
  },
  {
   "cell_type": "code",
   "execution_count": 84,
   "id": "5de84030",
   "metadata": {},
   "outputs": [
    {
     "data": {
      "text/plain": [
       "['vectorized_df/TFIDF_rem_df.pkl']"
      ]
     },
     "execution_count": 84,
     "metadata": {},
     "output_type": "execute_result"
    }
   ],
   "source": [
    "joblib.dump(tf_test_df, 'vectorized_df/TFIDF_test_df.pkl')\n",
    "joblib.dump(tf_rem_df, 'vectorized_df/TFIDF_rem_df.pkl')"
   ]
  },
  {
   "cell_type": "markdown",
   "id": "5bfce497",
   "metadata": {},
   "source": [
    "- Looks like with TF-IDF and CountVectorizer I get exactly same sized the transformed dataframe,and the same features.\n",
    "- The only difference is the count of each features, as these 2 Vectorizers based on different weighting system."
   ]
  },
  {
   "cell_type": "markdown",
   "id": "7d05f432",
   "metadata": {},
   "source": [
    "- Moving forword, I will load my previous result instead of create a transformed dataframe again, as this process will cause more extra time."
   ]
  },
  {
   "cell_type": "markdown",
   "id": "2fc47a2d",
   "metadata": {},
   "source": [
    "____"
   ]
  },
  {
   "cell_type": "markdown",
   "id": "43b5068e",
   "metadata": {},
   "source": [
    "# 3. Modeling <a id=\"3\"></a>"
   ]
  },
  {
   "cell_type": "markdown",
   "id": "e488271b",
   "metadata": {},
   "source": [
    "## 3.1 DummyClassifier and baseline<a id=\"3.1\"></a>\n",
    "<a href=\"#top\" class=\"btn btn-primary btn-sm\" role=\"button\" aria-pressed=\"true\" style=\"color:white\" data-toggle=\"popover\">Go to TOC</a>"
   ]
  },
  {
   "cell_type": "markdown",
   "id": "5ad49b56",
   "metadata": {},
   "source": [
    "**DummyClassifier**: DummyClassifier is a class in the scikit-learn library that can be used as a simple baseline for classification tasks. The DummyClassifier is not designed to be a good classifier, but to serve as a simple, fast and easy-to-use baseline classifier for comparison with other classifiers.\n",
    "\n",
    "- I will use DummyClassifier to bulid my baseline model, instead of using logistic regression wich is designed for much balanced dataset.\n",
    "\n",
    "**Note: In order to reduce cumpting time, I will load Vectorized X_rem and X_test directly from the pickled file.**"
   ]
  },
  {
   "cell_type": "markdown",
   "id": "076e3c66",
   "metadata": {},
   "source": [
    "**Dummy baseline with CountVectorizer**"
   ]
  },
  {
   "cell_type": "code",
   "execution_count": 54,
   "id": "71fba5b7",
   "metadata": {},
   "outputs": [],
   "source": [
    "# load X_rem and X_test\n",
    "X_rem_count=joblib.load('vectorized_df/CountVectorizer_rem_df.pkl')\n",
    "X_test_count=joblib.load('vectorized_df/CountVectorizer_test_df.pkl')"
   ]
  },
  {
   "cell_type": "code",
   "execution_count": 55,
   "id": "c86d4fd7",
   "metadata": {},
   "outputs": [
    {
     "name": "stdout",
     "output_type": "stream",
     "text": [
      "the shpe of reminder is (12515, 18583),test is (5364, 18583)\n"
     ]
    }
   ],
   "source": [
    "# check shape\n",
    "print(f'the shpe of reminder is {X_rem_count.shape},test is {X_test_count.shape}')"
   ]
  },
  {
   "cell_type": "code",
   "execution_count": 59,
   "id": "09de728f",
   "metadata": {},
   "outputs": [],
   "source": [
    "# fit with reminder maybe cause data leak, BUt not going to run a gridsearch on the DummyClassifier\n",
    "#as there are no hyperparameter need to be tuned\n",
    "baseline_c = DummyClassifier() \n",
    "baseline_c.fit(X_rem_count, y_rem)\n",
    "\n",
    "# Make predictions\n",
    "base_score_count=baseline_c.score(X_test_count,y_test)"
   ]
  },
  {
   "cell_type": "code",
   "execution_count": 60,
   "id": "e1fb6b47",
   "metadata": {},
   "outputs": [
    {
     "name": "stdout",
     "output_type": "stream",
     "text": [
      "The test accuracy with CountVectorizer is 0.9515287099179717\n"
     ]
    }
   ],
   "source": [
    "print(f'The test accuracy with CountVectorizer is {base_score_count}')"
   ]
  },
  {
   "cell_type": "markdown",
   "id": "7e65af12",
   "metadata": {},
   "source": [
    "**Dummy baseline with TF-IDF**"
   ]
  },
  {
   "cell_type": "code",
   "execution_count": 49,
   "id": "97377986",
   "metadata": {},
   "outputs": [],
   "source": [
    "# load X_rem and X_test\n",
    "X_rem_tf=joblib.load('vectorized_df/TFIDF_rem_df.pkl')\n",
    "X_test_tf=joblib.load('vectorized_df/TFIDF_test_df.pkl')"
   ]
  },
  {
   "cell_type": "code",
   "execution_count": 50,
   "id": "e822ae45",
   "metadata": {},
   "outputs": [
    {
     "name": "stdout",
     "output_type": "stream",
     "text": [
      "the shpe of reminder is (12515, 18583),test is (5364, 18583)\n"
     ]
    }
   ],
   "source": [
    "# check shape\n",
    "print(f'the shpe of reminder is {X_rem_tf.shape},test is {X_test_tf.shape}')"
   ]
  },
  {
   "cell_type": "code",
   "execution_count": 51,
   "id": "97f6919c",
   "metadata": {},
   "outputs": [],
   "source": [
    "baseline_tf=DummyClassifier()\n",
    "baseline_tf.fit(X_rem_tf, y_rem)\n",
    "base_score_tf=baseline_tf.score(X_test_tf,y_test)"
   ]
  },
  {
   "cell_type": "code",
   "execution_count": 52,
   "id": "ea85ca77",
   "metadata": {},
   "outputs": [
    {
     "name": "stdout",
     "output_type": "stream",
     "text": [
      "The test accuracy with TF_IDF is 0.9515287099179717\n"
     ]
    }
   ],
   "source": [
    "print(f'The test accuracy with TF_IDF is {base_score_tf}')"
   ]
  },
  {
   "cell_type": "markdown",
   "id": "54116ec0",
   "metadata": {},
   "source": [
    "**Finding**"
   ]
  },
  {
   "cell_type": "markdown",
   "id": "ced51669",
   "metadata": {},
   "source": [
    "- With 2 different Vectorizers, I get a same test accuracy score. \n",
    "- 95% of test accuracy is really good, but is this really a working model? I will make a confusion matrix to do the further investigate.\n",
    "- It is clear this dummy baseline model does a great job on predict real jobs, at the sametime this dummy model dose nothing on find out fake jobs.\n",
    "- I will use this as a baseline, aim to improve them using other models.\n",
    "- Why this dummy model not doing well with predict fake job posts? My concern is the imbalace from my dataset."
   ]
  },
  {
   "cell_type": "markdown",
   "id": "35ffa297",
   "metadata": {},
   "source": [
    "**ConfusionMatrix** \n",
    "\n",
    "Note: As I am using DummyClassifier, base on this CountVectorizer and TF-IDF has a totally same result, I am not going to plot the ConfusionMatrix for TF-IDF."
   ]
  },
  {
   "cell_type": "code",
   "execution_count": 62,
   "id": "d44edf1a",
   "metadata": {},
   "outputs": [
    {
     "data": {
      "image/png": "[encoded data removed]",
      "text/plain": [
       "<Figure size 432x288 with 2 Axes>"
      ]
     },
     "metadata": {
      "needs_background": "light"
     },
     "output_type": "display_data"
    }
   ],
   "source": [
    "ConfusionMatrixDisplay.from_estimator(baseline_c, X_test_count,y_test)\n",
    "plt.show()"
   ]
  },
  {
   "cell_type": "code",
   "execution_count": 31,
   "id": "f3775d59",
   "metadata": {},
   "outputs": [
    {
     "name": "stdout",
     "output_type": "stream",
     "text": [
      "              precision    recall  f1-score   support\n",
      "\n",
      "           0       0.95      1.00      0.98      5104\n",
      "           1       0.00      0.00      0.00       260\n",
      "\n",
      "    accuracy                           0.95      5364\n",
      "   macro avg       0.48      0.50      0.49      5364\n",
      "weighted avg       0.91      0.95      0.93      5364\n",
      "\n"
     ]
    },
    {
     "name": "stderr",
     "output_type": "stream",
     "text": [
      "D:\\anaconda3\\lib\\site-packages\\sklearn\\metrics\\_classification.py:1334: UndefinedMetricWarning: Precision and F-score are ill-defined and being set to 0.0 in labels with no predicted samples. Use `zero_division` parameter to control this behavior.\n",
      "  _warn_prf(average, modifier, msg_start, len(result))\n",
      "D:\\anaconda3\\lib\\site-packages\\sklearn\\metrics\\_classification.py:1334: UndefinedMetricWarning: Precision and F-score are ill-defined and being set to 0.0 in labels with no predicted samples. Use `zero_division` parameter to control this behavior.\n",
      "  _warn_prf(average, modifier, msg_start, len(result))\n",
      "D:\\anaconda3\\lib\\site-packages\\sklearn\\metrics\\_classification.py:1334: UndefinedMetricWarning: Precision and F-score are ill-defined and being set to 0.0 in labels with no predicted samples. Use `zero_division` parameter to control this behavior.\n",
      "  _warn_prf(average, modifier, msg_start, len(result))\n"
     ]
    }
   ],
   "source": [
    "#baseline_c.predict(X_test_count)\n",
    "dummy_report_c = classification_report(y_test, baseline_c.predict(X_test_count))\n",
    "print(dummy_report_c)"
   ]
  },
  {
   "cell_type": "markdown",
   "id": "9c230eab",
   "metadata": {},
   "source": [
    "- This Waring is saying there exist label that never been perdect.\n",
    "- **As we see there is nothing in the label 1 part. Which means this dummy model does nothing no perdict Fake job.**"
   ]
  },
  {
   "cell_type": "code",
   "execution_count": 32,
   "id": "6956d13a",
   "metadata": {},
   "outputs": [
    {
     "data": {
      "text/plain": [
       "{1}"
      ]
     },
     "execution_count": 32,
     "metadata": {},
     "output_type": "execute_result"
    }
   ],
   "source": [
    "# label 1 is never been perdict----> No fake job has been perdected.\n",
    "set(y_test) - set(baseline_c.predict(X_test_count))"
   ]
  },
  {
   "cell_type": "code",
   "execution_count": 33,
   "id": "fba60c86",
   "metadata": {},
   "outputs": [
    {
     "data": {
      "text/plain": [
       "0    0.951578\n",
       "1    0.048422\n",
       "Name: fraudulent, dtype: float64"
      ]
     },
     "execution_count": 33,
     "metadata": {},
     "output_type": "execute_result"
    }
   ],
   "source": [
    "y_rem.value_counts(normalize=True)"
   ]
  },
  {
   "cell_type": "markdown",
   "id": "fe4aa8be",
   "metadata": {},
   "source": [
    "**I only have 5% fake jobs in the dataset.** \n",
    "- I will investigate the imbalance with smote()\n",
    "---"
   ]
  },
  {
   "cell_type": "markdown",
   "id": "b235f31f",
   "metadata": {},
   "source": [
    "# 3.2 oversampling<a id=\"3.2\"></a>\n",
    "<a href=\"#top\" class=\"btn btn-primary btn-sm\" role=\"button\" aria-pressed=\"true\" style=\"color:white\" data-toggle=\"popover\">Go to TOC</a>"
   ]
  },
  {
   "cell_type": "markdown",
   "id": "21a0de52",
   "metadata": {},
   "source": [
    "**Plan**\n",
    "- Run a default Logistic regression model with no resampling\n",
    "- Run a default Logistic regression model with resampling\n",
    "- compare the result"
   ]
  },
  {
   "cell_type": "code",
   "execution_count": 84,
   "id": "6039a582",
   "metadata": {},
   "outputs": [],
   "source": [
    "# split reminder data into train and validation with no smote()\n",
    "X_train, X_val, y_train, y_val = train_test_split(X_rem_count, y_rem, test_size=0.2, random_state=42,stratify=y_rem)"
   ]
  },
  {
   "cell_type": "code",
   "execution_count": 35,
   "id": "e7de1b74",
   "metadata": {},
   "outputs": [
    {
     "data": {
      "image/png": "[encoded data removed]",
      "text/plain": [
       "<Figure size 432x288 with 1 Axes>"
      ]
     },
     "metadata": {
      "needs_background": "light"
     },
     "output_type": "display_data"
    }
   ],
   "source": [
    "plt.figure()\n",
    "plt.title('imbalanced target')\n",
    "y_train.value_counts(normalize=True).plot(kind='bar')\n",
    "plt.show()"
   ]
  },
  {
   "cell_type": "code",
   "execution_count": 36,
   "id": "9979f969",
   "metadata": {},
   "outputs": [
    {
     "name": "stderr",
     "output_type": "stream",
     "text": [
      "D:\\anaconda3\\lib\\site-packages\\sklearn\\linear_model\\_logistic.py:444: ConvergenceWarning: lbfgs failed to converge (status=1):\n",
      "STOP: TOTAL NO. of ITERATIONS REACHED LIMIT.\n",
      "\n",
      "Increase the number of iterations (max_iter) or scale the data as shown in:\n",
      "    https://scikit-learn.org/stable/modules/preprocessing.html\n",
      "Please also refer to the documentation for alternative solver options:\n",
      "    https://scikit-learn.org/stable/modules/linear_model.html#logistic-regression\n",
      "  n_iter_i = _check_optimize_result(\n"
     ]
    },
    {
     "data": {
      "text/plain": [
       "0.9806114839671887"
      ]
     },
     "execution_count": 36,
     "metadata": {},
     "output_type": "execute_result"
    }
   ],
   "source": [
    "# base Logistic regression with all default parameter\n",
    "Logistic_d=LogisticRegression()\n",
    "Logistic_d.fit(X_train,y_train)\n",
    "Logistic_d.score(X_test_count,y_test)"
   ]
  },
  {
   "cell_type": "code",
   "execution_count": 37,
   "id": "5e7c0f31",
   "metadata": {},
   "outputs": [
    {
     "data": {
      "image/png": "[encoded data removed]",
      "text/plain": [
       "<Figure size 432x288 with 2 Axes>"
      ]
     },
     "metadata": {
      "needs_background": "light"
     },
     "output_type": "display_data"
    }
   ],
   "source": [
    "# base Logistic regression with no smote()\n",
    "ConfusionMatrixDisplay.from_estimator(Logistic_d, X_test_count,y_test,normalize='true')\n",
    "plt.show()"
   ]
  },
  {
   "cell_type": "code",
   "execution_count": 49,
   "id": "5cc92fd3",
   "metadata": {},
   "outputs": [
    {
     "data": {
      "image/png": "[encoded data removed]",
      "text/plain": [
       "<Figure size 432x288 with 1 Axes>"
      ]
     },
     "metadata": {
      "needs_background": "light"
     },
     "output_type": "display_data"
    }
   ],
   "source": [
    "RocCurveDisplay.from_estimator(Logistic_d, X_test_count,y_test)\n",
    "plt.title('ROC Curve with no smote')\n",
    "plt.show()"
   ]
  },
  {
   "cell_type": "code",
   "execution_count": 38,
   "id": "75e0943d",
   "metadata": {},
   "outputs": [],
   "source": [
    "# resampling\n",
    "sm = SMOTE(random_state=42)\n",
    "X_resampled, y_resampled = sm.fit_resample(X_train, y_train)"
   ]
  },
  {
   "cell_type": "code",
   "execution_count": 39,
   "id": "f0aeea30",
   "metadata": {},
   "outputs": [
    {
     "data": {
      "image/png": "[encoded data removed]",
      "text/plain": [
       "<Figure size 432x288 with 1 Axes>"
      ]
     },
     "metadata": {
      "needs_background": "light"
     },
     "output_type": "display_data"
    }
   ],
   "source": [
    "plt.figure()\n",
    "y_resampled.value_counts(normalize=True).plot(kind='bar')\n",
    "plt.title('after resampling')\n",
    "plt.show()"
   ]
  },
  {
   "cell_type": "code",
   "execution_count": 40,
   "id": "10d3d261",
   "metadata": {},
   "outputs": [
    {
     "name": "stderr",
     "output_type": "stream",
     "text": [
      "D:\\anaconda3\\lib\\site-packages\\sklearn\\linear_model\\_logistic.py:444: ConvergenceWarning: lbfgs failed to converge (status=1):\n",
      "STOP: TOTAL NO. of ITERATIONS REACHED LIMIT.\n",
      "\n",
      "Increase the number of iterations (max_iter) or scale the data as shown in:\n",
      "    https://scikit-learn.org/stable/modules/preprocessing.html\n",
      "Please also refer to the documentation for alternative solver options:\n",
      "    https://scikit-learn.org/stable/modules/linear_model.html#logistic-regression\n",
      "  n_iter_i = _check_optimize_result(\n"
     ]
    },
    {
     "data": {
      "text/plain": [
       "0.9746457867263236"
      ]
     },
     "execution_count": 40,
     "metadata": {},
     "output_type": "execute_result"
    }
   ],
   "source": [
    "# base Logistic regression with all default parameter after resampling\n",
    "Logistic_re=LogisticRegression()\n",
    "Logistic_re.fit(X_resampled,y_resampled)\n",
    "Logistic_re.score(X_test_count,y_test)"
   ]
  },
  {
   "cell_type": "code",
   "execution_count": 41,
   "id": "14cf2f90",
   "metadata": {},
   "outputs": [
    {
     "data": {
      "image/png": "[encoded data removed]",
      "text/plain": [
       "<Figure size 432x288 with 2 Axes>"
      ]
     },
     "metadata": {
      "needs_background": "light"
     },
     "output_type": "display_data"
    }
   ],
   "source": [
    "# base Logistic regression with no smote()\n",
    "ConfusionMatrixDisplay.from_estimator(Logistic_re, X_test_count,y_test,normalize='true')\n",
    "plt.show()"
   ]
  },
  {
   "cell_type": "code",
   "execution_count": 42,
   "id": "7cbc73ab",
   "metadata": {},
   "outputs": [
    {
     "data": {
      "image/png": "[encoded data removed]",
      "text/plain": [
       "<Figure size 432x288 with 1 Axes>"
      ]
     },
     "metadata": {
      "needs_background": "light"
     },
     "output_type": "display_data"
    }
   ],
   "source": [
    "RocCurveDisplay.from_estimator(Logistic_re, X_test_count,y_test)\n",
    "plt.title('ROC Curve with smote')\n",
    "plt.show()"
   ]
  },
  {
   "cell_type": "markdown",
   "id": "52177cce",
   "metadata": {},
   "source": [
    "- Though after resmapling, the test accuary have a little drop down. \n",
    "- But I observed 4% improvement on detect fake job posts. I believe that using somte() to process the resampling will improve the ability to finding out more scam.\n",
    "----"
   ]
  },
  {
   "cell_type": "markdown",
   "id": "6b19c566",
   "metadata": {},
   "source": [
    "# 3.3 Logistic regression<a id=\"3.3\"></a>\n",
    "<a href=\"#top\" class=\"btn btn-primary btn-sm\" role=\"button\" aria-pressed=\"true\" style=\"color:white\" data-toggle=\"popover\">Go to TOC</a>"
   ]
  },
  {
   "cell_type": "markdown",
   "id": "1b6b5316",
   "metadata": {},
   "source": [
    "**Plan**\n",
    "- Vectorizer: CountVectorizer\n",
    "  + imbalance care: smote()\n",
    "  + model: Logistic regression\n",
    "  + hyperparameter tune: gridsearchCV()\n",
    "\n",
    "- Vectorizer: TF-IDF\n",
    "  + imbalance care: smote()\n",
    "  + model: Logistic regression\n",
    "  + hyperparameter tune: gridsearchCV()\n",
    "  \n",
    "  \n",
    "**Note This Grid Search will take a long time, If you do not want to run this,pass the pipeline and grid search part,and you can just take my fitting result and load in.**"
   ]
  },
  {
   "cell_type": "markdown",
   "id": "03c96732",
   "metadata": {},
   "source": [
    "**CountVectorizer with scaler** "
   ]
  },
  {
   "cell_type": "code",
   "execution_count": 97,
   "id": "1100011e",
   "metadata": {},
   "outputs": [],
   "source": [
    "# define the pipeline\n",
    "pipe1 = imbPipeline([\n",
    "    ('smote',SMOTE(random_state=42)),\n",
    "    ('scaler',MinMaxScaler()),\n",
    "    ('dim_reducer', PCA()),\n",
    "    ('classifier',LogisticRegression())\n",
    "])\n",
    "\n",
    "# define C values\n",
    "c_values=[0.001, 0.01, 0.1, 1, 10]\n",
    "\n",
    "\n",
    "logistic_reg_grid=[\n",
    "    # no pca\n",
    "    {'classifier__C':c_values,\n",
    "     'dim_reducer':[None],\n",
    "    'classifier': [LogisticRegression(penalty='l1', random_state=123, n_jobs=-1,max_iter=1000)],\n",
    "    'classifier__solver':['saga']},\n",
    "    # with pca\n",
    "    {\n",
    "     'dim_reducer':[PCA()],\n",
    "     'dim_reducer__n_components': [0.95, 0.9, 0.85, 0.8],\n",
    "     'classifier': [LogisticRegression(penalty='l1', random_state=123, n_jobs=-1,max_iter=1000)],\n",
    "     'classifier__C': c_values,\n",
    "    'classifier__solver':['saga']},\n",
    "    # L2 with no pca,solver='lbfgs'\n",
    "    {\n",
    "     'dim_reducer':[None],\n",
    "     'classifier': [LogisticRegression(solver='lbfgs',penalty='l2', random_state=123, n_jobs=-1,max_iter=1000)],\n",
    "     'classifier__C': c_values},\n",
    "    {\n",
    "     'dim_reducer':[PCA()],\n",
    "     'dim_reducer__n_components': [0.95, 0.9, 0.85, 0.8],\n",
    "     'classifier': [LogisticRegression(solver='lbfgs',penalty='l2', random_state=123, n_jobs=-1,max_iter=1000)],\n",
    "     'classifier__C': c_values}  \n",
    "    \n",
    "]\n",
    " "
   ]
  },
  {
   "cell_type": "code",
   "execution_count": 98,
   "id": "f333f684",
   "metadata": {},
   "outputs": [],
   "source": [
    "# define GridSearch\n",
    "halving_cv = HalvingGridSearchCV(pipe1, logistic_reg_grid, n_jobs=-1, min_resources=\"exhaust\", factor=3,verbose=2)"
   ]
  },
  {
   "cell_type": "code",
   "execution_count": 99,
   "id": "6d6a0780",
   "metadata": {},
   "outputs": [
    {
     "name": "stdout",
     "output_type": "stream",
     "text": [
      "n_iterations: 4\n",
      "n_required_iterations: 4\n",
      "n_possible_iterations: 4\n",
      "min_resources_: 463\n",
      "max_resources_: 12515\n",
      "aggressive_elimination: False\n",
      "factor: 3\n",
      "----------\n",
      "iter: 0\n",
      "n_candidates: 50\n",
      "n_resources: 463\n",
      "Fitting 5 folds for each of 50 candidates, totalling 250 fits\n",
      "----------\n",
      "iter: 1\n",
      "n_candidates: 17\n",
      "n_resources: 1389\n",
      "Fitting 5 folds for each of 17 candidates, totalling 85 fits\n",
      "----------\n",
      "iter: 2\n",
      "n_candidates: 6\n",
      "n_resources: 4167\n",
      "Fitting 5 folds for each of 6 candidates, totalling 30 fits\n",
      "----------\n",
      "iter: 3\n",
      "n_candidates: 2\n",
      "n_resources: 12501\n",
      "Fitting 5 folds for each of 2 candidates, totalling 10 fits\n"
     ]
    }
   ],
   "source": [
    "# fit model\n",
    "logreg_gs_count_fit=halving_cv.fit(X_rem_count,y_rem)"
   ]
  },
  {
   "cell_type": "code",
   "execution_count": 102,
   "id": "2af648ef",
   "metadata": {},
   "outputs": [
    {
     "data": {
      "text/plain": [
       "0.8385533184190902"
      ]
     },
     "execution_count": 102,
     "metadata": {},
     "output_type": "execute_result"
    }
   ],
   "source": [
    "logreg_gs_count_fit.score(X_test_count,y_test)"
   ]
  },
  {
   "cell_type": "code",
   "execution_count": 103,
   "id": "7fbb6dba",
   "metadata": {},
   "outputs": [
    {
     "data": {
      "text/plain": [
       "['vectorized_df/logreg_count_fit.pkl']"
      ]
     },
     "execution_count": 103,
     "metadata": {},
     "output_type": "execute_result"
    }
   ],
   "source": [
    "# dump the result of logreg_gs_fit\n",
    "joblib.dump(logreg_gs_count_fit,'vectorized_df/logreg_count_fit.pkl')"
   ]
  },
  {
   "cell_type": "code",
   "execution_count": 17,
   "id": "18df9d88",
   "metadata": {},
   "outputs": [],
   "source": [
    "# load the fitted Logistic model \n",
    "logreg_fit_read=joblib.load('vectorized_df/logreg_gs_fit.pkl')"
   ]
  },
  {
   "cell_type": "code",
   "execution_count": 105,
   "id": "a3ee1f54",
   "metadata": {},
   "outputs": [
    {
     "data": {
      "image/png": "[encoded data removed]",
      "text/plain": [
       "<Figure size 432x288 with 2 Axes>"
      ]
     },
     "metadata": {
      "needs_background": "light"
     },
     "output_type": "display_data"
    }
   ],
   "source": [
    "ConfusionMatrixDisplay.from_estimator(logreg_gs_count_fit,X_test_count,y_test,normalize='true')\n",
    "plt.show()"
   ]
  },
  {
   "cell_type": "code",
   "execution_count": 112,
   "id": "14cbf706",
   "metadata": {},
   "outputs": [
    {
     "data": {
      "image/png": "[encoded data removed]",
      "text/plain": [
       "<Figure size 432x288 with 1 Axes>"
      ]
     },
     "metadata": {
      "needs_background": "light"
     },
     "output_type": "display_data"
    }
   ],
   "source": [
    "RocCurveDisplay.from_estimator(logreg_gs_count_fit,X_test_count,y_test)\n",
    "plt.title('ROC Curve Fake job Prediction logreg (CountVectorizer)')\n",
    "plt.show()"
   ]
  },
  {
   "cell_type": "markdown",
   "id": "3a7e847a",
   "metadata": {},
   "source": [
    "| **Target**  | **Description**                                                                                                                                                                                                                             |\n",
    "|----------|-----------------------------------------------------------------------------------------------------------------------------------------------------------------------------------------------------------------------------------------|\n",
    "| Condition      | 0 = no disease, 1 = disease"
   ]
  },
  {
   "cell_type": "markdown",
   "id": "60b8ce47",
   "metadata": {},
   "source": [
    "**TF-IDF with scaler**"
   ]
  },
  {
   "cell_type": "code",
   "execution_count": 101,
   "id": "b2c3ae13",
   "metadata": {},
   "outputs": [
    {
     "name": "stdout",
     "output_type": "stream",
     "text": [
      "n_iterations: 4\n",
      "n_required_iterations: 4\n",
      "n_possible_iterations: 4\n",
      "min_resources_: 463\n",
      "max_resources_: 12515\n",
      "aggressive_elimination: False\n",
      "factor: 3\n",
      "----------\n",
      "iter: 0\n",
      "n_candidates: 50\n",
      "n_resources: 463\n",
      "Fitting 5 folds for each of 50 candidates, totalling 250 fits\n",
      "----------\n",
      "iter: 1\n",
      "n_candidates: 17\n",
      "n_resources: 1389\n",
      "Fitting 5 folds for each of 17 candidates, totalling 85 fits\n",
      "----------\n",
      "iter: 2\n",
      "n_candidates: 6\n",
      "n_resources: 4167\n",
      "Fitting 5 folds for each of 6 candidates, totalling 30 fits\n",
      "----------\n",
      "iter: 3\n",
      "n_candidates: 2\n",
      "n_resources: 12501\n",
      "Fitting 5 folds for each of 2 candidates, totalling 10 fits\n"
     ]
    }
   ],
   "source": [
    "logreg_gs_tf=halving_cv.fit(X_rem_tf, y_rem)"
   ]
  },
  {
   "cell_type": "code",
   "execution_count": 107,
   "id": "b949c34e",
   "metadata": {},
   "outputs": [
    {
     "data": {
      "text/plain": [
       "['vectorized_df/logreg_tf_fit.pkl']"
      ]
     },
     "execution_count": 107,
     "metadata": {},
     "output_type": "execute_result"
    }
   ],
   "source": [
    "# dump the result of logreg_gs_fit\n",
    "joblib.dump(logreg_gs_tf,'vectorized_df/logreg_tf_fit.pkl')"
   ]
  },
  {
   "cell_type": "code",
   "execution_count": 109,
   "id": "2e72c335",
   "metadata": {},
   "outputs": [
    {
     "data": {
      "text/plain": [
       "0.9852721849366145"
      ]
     },
     "execution_count": 109,
     "metadata": {},
     "output_type": "execute_result"
    }
   ],
   "source": [
    "logreg_gs_tf.score(X_test_tf, y_test)"
   ]
  },
  {
   "cell_type": "code",
   "execution_count": 110,
   "id": "d9c1938c",
   "metadata": {},
   "outputs": [
    {
     "data": {
      "image/png": "[encoded data removed]",
      "text/plain": [
       "<Figure size 432x288 with 2 Axes>"
      ]
     },
     "metadata": {
      "needs_background": "light"
     },
     "output_type": "display_data"
    }
   ],
   "source": [
    "ConfusionMatrixDisplay.from_estimator(logreg_gs_tf,X_test_tf, y_test,normalize='true')\n",
    "plt.show()"
   ]
  },
  {
   "cell_type": "code",
   "execution_count": 111,
   "id": "34c57aa2",
   "metadata": {},
   "outputs": [
    {
     "data": {
      "image/png": "[encoded data removed]",
      "text/plain": [
       "<Figure size 432x288 with 1 Axes>"
      ]
     },
     "metadata": {
      "needs_background": "light"
     },
     "output_type": "display_data"
    }
   ],
   "source": [
    "RocCurveDisplay.from_estimator(logreg_gs_tf,X_test_tf, y_test)\n",
    "plt.title('ROC Curve Fake job Prediction logreg (IF-IDF)')\n",
    "plt.show()"
   ]
  },
  {
   "cell_type": "markdown",
   "id": "4c31eb70",
   "metadata": {},
   "source": [
    "# 3.4 KNN<a id=\"3.4\"></a>\n",
    "<a href=\"#top\" class=\"btn btn-primary btn-sm\" role=\"button\" aria-pressed=\"true\" style=\"color:white\" data-toggle=\"popover\">Go to TOC</a>"
   ]
  },
  {
   "cell_type": "markdown",
   "id": "70011288",
   "metadata": {},
   "source": [
    "**some variable use in this session:**\n",
    "\n",
    "- X_rem_count (X_reminder vectorized by CountVectorizer)\n",
    "- X_rem_tf (X_reminder vectorized by TF_IDF)\n",
    "- X_test_tf (x_test vectorized by TF_IDF)"
   ]
  },
  {
   "cell_type": "code",
   "execution_count": 35,
   "id": "5b2018b3",
   "metadata": {},
   "outputs": [],
   "source": [
    "# define pipepline for KNN\n",
    "\n",
    "pipe_k=imbPipeline([\n",
    "    ('smote',SMOTE(random_state=42)),\n",
    "    ('scaler',MinMaxScaler()),\n",
    "    ('dim_reducer', PCA()),\n",
    "    ('classifier',KNeighborsClassifier())\n",
    "])\n",
    "\n",
    "k_list=list(range(3,10))\n",
    "knn_grid_count=[{\n",
    "    'dim_reducer':[None],\n",
    "    'classifier__n_neighbors':k_list,\n",
    "    'classifier':[KNeighborsClassifier(n_jobs=-1)]\n",
    "},\n",
    "{   'dim_reducer':[PCA()],\n",
    "    'dim_reducer__n_components':[0.95, 0.9, 0.85, 0.8],\n",
    "    'classifier__n_neighbors':k_list,\n",
    "    'classifier':[KNeighborsClassifier(n_jobs=-1)]\n",
    "}        \n",
    "]\n"
   ]
  },
  {
   "cell_type": "code",
   "execution_count": 36,
   "id": "da8246e6",
   "metadata": {},
   "outputs": [],
   "source": [
    "# havlving grid for KNN\n",
    "halving_knn=HalvingGridSearchCV(pipe_k,knn_grid_count,n_jobs=-1, min_resources=\"exhaust\", factor=3,verbose=2)"
   ]
  },
  {
   "cell_type": "markdown",
   "id": "0a86e584",
   "metadata": {},
   "source": [
    "**CountVectorizer**\n",
    "\n",
    "**Note**: The fit process will take a very long time, you can skip these step by using my pre-fit model. `knn_count_fit.pkl`"
   ]
  },
  {
   "cell_type": "code",
   "execution_count": 37,
   "id": "1d933b95",
   "metadata": {},
   "outputs": [
    {
     "name": "stdout",
     "output_type": "stream",
     "text": [
      "n_iterations: 4\n",
      "n_required_iterations: 4\n",
      "n_possible_iterations: 4\n",
      "min_resources_: 463\n",
      "max_resources_: 12515\n",
      "aggressive_elimination: False\n",
      "factor: 3\n",
      "----------\n",
      "iter: 0\n",
      "n_candidates: 35\n",
      "n_resources: 463\n",
      "Fitting 5 folds for each of 35 candidates, totalling 175 fits\n",
      "----------\n",
      "iter: 1\n",
      "n_candidates: 12\n",
      "n_resources: 1389\n",
      "Fitting 5 folds for each of 12 candidates, totalling 60 fits\n",
      "----------\n",
      "iter: 2\n",
      "n_candidates: 4\n",
      "n_resources: 4167\n",
      "Fitting 5 folds for each of 4 candidates, totalling 20 fits\n",
      "----------\n",
      "iter: 3\n",
      "n_candidates: 2\n",
      "n_resources: 12501\n",
      "Fitting 5 folds for each of 2 candidates, totalling 10 fits\n"
     ]
    },
    {
     "name": "stderr",
     "output_type": "stream",
     "text": [
      "D:\\anaconda3\\lib\\site-packages\\sklearn\\model_selection\\_validation.py:378: FitFailedWarning: \n",
      "7 fits failed out of a total of 10.\n",
      "The score on these train-test partitions for these parameters will be set to nan.\n",
      "If these failures are not expected, you can try to debug them by setting error_score='raise'.\n",
      "\n",
      "Below are more details about the failures:\n",
      "--------------------------------------------------------------------------------\n",
      "1 fits failed with the following error:\n",
      "Traceback (most recent call last):\n",
      "  File \"D:\\anaconda3\\lib\\site-packages\\sklearn\\model_selection\\_validation.py\", line 686, in _fit_and_score\n",
      "    estimator.fit(X_train, y_train, **fit_params)\n",
      "  File \"D:\\anaconda3\\lib\\site-packages\\imblearn\\pipeline.py\", line 293, in fit\n",
      "    Xt, yt = self._fit(X, y, **fit_params_steps)\n",
      "  File \"D:\\anaconda3\\lib\\site-packages\\imblearn\\pipeline.py\", line 240, in _fit\n",
      "    X, fitted_transformer = fit_transform_one_cached(\n",
      "  File \"D:\\anaconda3\\lib\\site-packages\\joblib\\memory.py\", line 349, in __call__\n",
      "    return self.func(*args, **kwargs)\n",
      "  File \"D:\\anaconda3\\lib\\site-packages\\sklearn\\pipeline.py\", line 870, in _fit_transform_one\n",
      "    res = transformer.fit_transform(X, y, **fit_params)\n",
      "  File \"D:\\anaconda3\\lib\\site-packages\\sklearn\\decomposition\\_pca.py\", line 433, in fit_transform\n",
      "    U, S, Vt = self._fit(X)\n",
      "  File \"D:\\anaconda3\\lib\\site-packages\\sklearn\\decomposition\\_pca.py\", line 483, in _fit\n",
      "    return self._fit_full(X, n_components)\n",
      "  File \"D:\\anaconda3\\lib\\site-packages\\sklearn\\decomposition\\_pca.py\", line 518, in _fit_full\n",
      "    U, S, Vt = linalg.svd(X, full_matrices=False)\n",
      "  File \"D:\\anaconda3\\lib\\site-packages\\scipy\\linalg\\decomp_svd.py\", line 127, in svd\n",
      "    u, s, v, info = gesXd(a1, compute_uv=compute_uv, lwork=lwork,\n",
      "numpy.core._exceptions._ArrayMemoryError: Unable to allocate 2.63 GiB for an array with shape (19030, 18583) and data type float64\n",
      "\n",
      "--------------------------------------------------------------------------------\n",
      "6 fits failed with the following error:\n",
      "Traceback (most recent call last):\n",
      "  File \"D:\\anaconda3\\lib\\site-packages\\sklearn\\model_selection\\_validation.py\", line 686, in _fit_and_score\n",
      "    estimator.fit(X_train, y_train, **fit_params)\n",
      "  File \"D:\\anaconda3\\lib\\site-packages\\imblearn\\pipeline.py\", line 293, in fit\n",
      "    Xt, yt = self._fit(X, y, **fit_params_steps)\n",
      "  File \"D:\\anaconda3\\lib\\site-packages\\imblearn\\pipeline.py\", line 240, in _fit\n",
      "    X, fitted_transformer = fit_transform_one_cached(\n",
      "  File \"D:\\anaconda3\\lib\\site-packages\\joblib\\memory.py\", line 349, in __call__\n",
      "    return self.func(*args, **kwargs)\n",
      "  File \"D:\\anaconda3\\lib\\site-packages\\sklearn\\pipeline.py\", line 870, in _fit_transform_one\n",
      "    res = transformer.fit_transform(X, y, **fit_params)\n",
      "  File \"D:\\anaconda3\\lib\\site-packages\\sklearn\\decomposition\\_pca.py\", line 433, in fit_transform\n",
      "    U, S, Vt = self._fit(X)\n",
      "  File \"D:\\anaconda3\\lib\\site-packages\\sklearn\\decomposition\\_pca.py\", line 483, in _fit\n",
      "    return self._fit_full(X, n_components)\n",
      "  File \"D:\\anaconda3\\lib\\site-packages\\sklearn\\decomposition\\_pca.py\", line 518, in _fit_full\n",
      "    U, S, Vt = linalg.svd(X, full_matrices=False)\n",
      "  File \"D:\\anaconda3\\lib\\site-packages\\scipy\\linalg\\decomp_svd.py\", line 127, in svd\n",
      "    u, s, v, info = gesXd(a1, compute_uv=compute_uv, lwork=lwork,\n",
      "numpy.core._exceptions._ArrayMemoryError: Unable to allocate 7.72 GiB for an array with shape (1036113748,) and data type float64\n",
      "\n",
      "  warnings.warn(some_fits_failed_message, FitFailedWarning)\n",
      "D:\\anaconda3\\lib\\site-packages\\sklearn\\model_selection\\_search.py:953: UserWarning: One or more of the test scores are non-finite: [0.19130435 0.19130435 0.14130435 0.14347826 0.12826087 0.12826087\n",
      " 0.11521739 0.57173913 0.69347826 0.76521739 0.80652174 0.58913043\n",
      " 0.72173913 0.79130435 0.82173913 0.48478261 0.63913043 0.72391304\n",
      " 0.77391304 0.49347826 0.65434783 0.73478261 0.78913043 0.38478261\n",
      " 0.57608696 0.6826087  0.74130435 0.39782609 0.58695652 0.69782609\n",
      " 0.75434783 0.33043478 0.51304348 0.6173913  0.71304348 0.62599278\n",
      " 0.66353791 0.64909747 0.65848375 0.66570397 0.67942238 0.71046931\n",
      " 0.70902527 0.7234657  0.73212996 0.76101083 0.77472924 0.70948379\n",
      " 0.72004802 0.75222089 0.76494598        nan        nan]\n",
      "  warnings.warn(\n",
      "D:\\anaconda3\\lib\\site-packages\\sklearn\\model_selection\\_search.py:953: UserWarning: One or more of the train scores are non-finite: [0.31513514 0.31513514 0.19405405 0.19405405 0.16108108 0.16108108\n",
      " 0.14972973 0.86756757 0.91837838 0.93135135 0.94108108 0.88054054\n",
      " 0.92756757 0.93621622 0.94594595 0.72054054 0.85081081 0.89405405\n",
      " 0.90864865 0.73567568 0.85945946 0.89891892 0.91405405 0.59135135\n",
      " 0.78162162 0.85081081 0.87459459 0.60648649 0.79243243 0.85837838\n",
      " 0.88       0.49891892 0.71189189 0.80648649 0.84324324 0.76039604\n",
      " 0.87236724 0.81692169 0.8250225  0.80288029 0.81368137 0.89576958\n",
      " 0.85508551 0.86282628 0.90315032 0.91053105 0.91647165 0.8350435\n",
      " 0.87668767 0.8910291  0.89810981        nan        nan]\n",
      "  warnings.warn(\n"
     ]
    }
   ],
   "source": [
    "# CountVectorizer knn model fit \n",
    "knn_hv_c=halving_knn.fit(X_rem_count, y_rem)"
   ]
  },
  {
   "cell_type": "code",
   "execution_count": 67,
   "id": "dd01f287",
   "metadata": {},
   "outputs": [],
   "source": [
    "# dump with pickle\n",
    "with open('vectorized_df/knn_count_fit.pkl', 'wb') as f:\n",
    "    pickle.dump(knn_hv_c, f)"
   ]
  },
  {
   "cell_type": "code",
   "execution_count": 29,
   "id": "19d8bda2",
   "metadata": {},
   "outputs": [],
   "source": [
    "# load fitted model for knn (CountVectorizer)\n",
    "knn_count_fit_read=joblib.load('vectorized_df/knn_count_fit.pkl')"
   ]
  },
  {
   "cell_type": "code",
   "execution_count": 34,
   "id": "8cee1b7d",
   "metadata": {},
   "outputs": [],
   "source": [
    "# best train score for CountVectorizer\n",
    "best_test_score_c=knn_count_fit_read.score(X_test_count, y_test)"
   ]
  },
  {
   "cell_type": "code",
   "execution_count": 41,
   "id": "c600f79a",
   "metadata": {},
   "outputs": [
    {
     "name": "stdout",
     "output_type": "stream",
     "text": [
      "Best train score using CountVectorizer with knn is 0.889075316927666.\n"
     ]
    }
   ],
   "source": [
    "print(f'Best train score using CountVectorizer with knn is {best_test_score_c}.')"
   ]
  },
  {
   "cell_type": "code",
   "execution_count": 40,
   "id": "1068b903",
   "metadata": {},
   "outputs": [
    {
     "name": "stdout",
     "output_type": "stream",
     "text": [
      "Pipeline(steps=[('smote', SMOTE(random_state=42)), ('scaler', MinMaxScaler()),\n",
      "                ('dim_reducer', PCA(n_components=0.8)),\n",
      "                ('classifier', KNeighborsClassifier(n_jobs=-1, n_neighbors=3))])\n"
     ]
    }
   ],
   "source": [
    "print(f\"The best estimator for model KNN (CountVectorizer){knn_count_fit_read.best_estimator_}\")"
   ]
  },
  {
   "cell_type": "code",
   "execution_count": 38,
   "id": "a8e4b231",
   "metadata": {},
   "outputs": [
    {
     "data": {
      "image/png": "[encoded data removed]",
      "text/plain": [
       "<Figure size 432x288 with 2 Axes>"
      ]
     },
     "metadata": {
      "needs_background": "light"
     },
     "output_type": "display_data"
    }
   ],
   "source": [
    "ConfusionMatrixDisplay.from_estimator(knn_count_fit_read,X_test_count, y_test,normalize='true')\n",
    "plt.title('ConfusionMatrix KNN (CountVectorizer)')\n",
    "plt.show()"
   ]
  },
  {
   "cell_type": "code",
   "execution_count": 39,
   "id": "5bb07d64",
   "metadata": {},
   "outputs": [
    {
     "data": {
      "image/png": "[encoded data removed]",
      "text/plain": [
       "<Figure size 432x288 with 1 Axes>"
      ]
     },
     "metadata": {
      "needs_background": "light"
     },
     "output_type": "display_data"
    }
   ],
   "source": [
    "RocCurveDisplay.from_estimator(knn_count_fit_read, X_test_count, y_test)\n",
    "plt.title('ROC Curve Fake job Prediction KNN (CountVectorizer)')\n",
    "plt.show()"
   ]
  },
  {
   "cell_type": "markdown",
   "id": "908febc8",
   "metadata": {},
   "source": [
    "**Best Result**\n",
    "- This accuary score is 0.889, obvious this model has a lower accuacy score comapare with the others, or even my base dummy model.\n",
    "- Does a **GREAT job** for **perdict fake jobs**, it correctly predict 89% of TN and 95% of the TP.\n",
    "- Although this model did a great job on distinguish fake jobs, but it's test accuracy score is lower than my base line model, I will not choose this model moving forward. "
   ]
  },
  {
   "cell_type": "markdown",
   "id": "83bc5b15",
   "metadata": {},
   "source": [
    "**TF-IDF**\n",
    "\n",
    "**Note**: The fit process will take a very long time, you can skip these step by using my pre-fit model. `knn_tf_fit.pkl`"
   ]
  },
  {
   "cell_type": "code",
   "execution_count": 92,
   "id": "4bcd82c6",
   "metadata": {},
   "outputs": [
    {
     "name": "stdout",
     "output_type": "stream",
     "text": [
      "n_iterations: 4\n",
      "n_required_iterations: 4\n",
      "n_possible_iterations: 4\n",
      "min_resources_: 463\n",
      "max_resources_: 12515\n",
      "aggressive_elimination: False\n",
      "factor: 3\n",
      "----------\n",
      "iter: 0\n",
      "n_candidates: 35\n",
      "n_resources: 463\n",
      "Fitting 5 folds for each of 35 candidates, totalling 175 fits\n",
      "----------\n",
      "iter: 1\n",
      "n_candidates: 12\n",
      "n_resources: 1389\n",
      "Fitting 5 folds for each of 12 candidates, totalling 60 fits\n",
      "----------\n",
      "iter: 2\n",
      "n_candidates: 4\n",
      "n_resources: 4167\n",
      "Fitting 5 folds for each of 4 candidates, totalling 20 fits\n",
      "----------\n",
      "iter: 3\n",
      "n_candidates: 2\n",
      "n_resources: 12501\n",
      "Fitting 5 folds for each of 2 candidates, totalling 10 fits\n"
     ]
    },
    {
     "name": "stderr",
     "output_type": "stream",
     "text": [
      "D:\\anaconda3\\lib\\site-packages\\sklearn\\model_selection\\_validation.py:378: FitFailedWarning: \n",
      "7 fits failed out of a total of 10.\n",
      "The score on these train-test partitions for these parameters will be set to nan.\n",
      "If these failures are not expected, you can try to debug them by setting error_score='raise'.\n",
      "\n",
      "Below are more details about the failures:\n",
      "--------------------------------------------------------------------------------\n",
      "3 fits failed with the following error:\n",
      "Traceback (most recent call last):\n",
      "  File \"D:\\anaconda3\\lib\\site-packages\\sklearn\\model_selection\\_validation.py\", line 686, in _fit_and_score\n",
      "    estimator.fit(X_train, y_train, **fit_params)\n",
      "  File \"D:\\anaconda3\\lib\\site-packages\\imblearn\\pipeline.py\", line 293, in fit\n",
      "    Xt, yt = self._fit(X, y, **fit_params_steps)\n",
      "  File \"D:\\anaconda3\\lib\\site-packages\\imblearn\\pipeline.py\", line 240, in _fit\n",
      "    X, fitted_transformer = fit_transform_one_cached(\n",
      "  File \"D:\\anaconda3\\lib\\site-packages\\joblib\\memory.py\", line 349, in __call__\n",
      "    return self.func(*args, **kwargs)\n",
      "  File \"D:\\anaconda3\\lib\\site-packages\\sklearn\\pipeline.py\", line 870, in _fit_transform_one\n",
      "    res = transformer.fit_transform(X, y, **fit_params)\n",
      "  File \"D:\\anaconda3\\lib\\site-packages\\sklearn\\decomposition\\_pca.py\", line 433, in fit_transform\n",
      "    U, S, Vt = self._fit(X)\n",
      "  File \"D:\\anaconda3\\lib\\site-packages\\sklearn\\decomposition\\_pca.py\", line 483, in _fit\n",
      "    return self._fit_full(X, n_components)\n",
      "  File \"D:\\anaconda3\\lib\\site-packages\\sklearn\\decomposition\\_pca.py\", line 518, in _fit_full\n",
      "    U, S, Vt = linalg.svd(X, full_matrices=False)\n",
      "  File \"D:\\anaconda3\\lib\\site-packages\\scipy\\linalg\\decomp_svd.py\", line 127, in svd\n",
      "    u, s, v, info = gesXd(a1, compute_uv=compute_uv, lwork=lwork,\n",
      "numpy.core._exceptions._ArrayMemoryError: Unable to allocate 7.72 GiB for an array with shape (1036113748,) and data type float64\n",
      "\n",
      "--------------------------------------------------------------------------------\n",
      "1 fits failed with the following error:\n",
      "Traceback (most recent call last):\n",
      "  File \"D:\\anaconda3\\lib\\site-packages\\sklearn\\model_selection\\_validation.py\", line 686, in _fit_and_score\n",
      "    estimator.fit(X_train, y_train, **fit_params)\n",
      "  File \"D:\\anaconda3\\lib\\site-packages\\imblearn\\pipeline.py\", line 293, in fit\n",
      "    Xt, yt = self._fit(X, y, **fit_params_steps)\n",
      "  File \"D:\\anaconda3\\lib\\site-packages\\imblearn\\pipeline.py\", line 240, in _fit\n",
      "    X, fitted_transformer = fit_transform_one_cached(\n",
      "  File \"D:\\anaconda3\\lib\\site-packages\\joblib\\memory.py\", line 349, in __call__\n",
      "    return self.func(*args, **kwargs)\n",
      "  File \"D:\\anaconda3\\lib\\site-packages\\sklearn\\pipeline.py\", line 870, in _fit_transform_one\n",
      "    res = transformer.fit_transform(X, y, **fit_params)\n",
      "  File \"D:\\anaconda3\\lib\\site-packages\\sklearn\\decomposition\\_pca.py\", line 433, in fit_transform\n",
      "    U, S, Vt = self._fit(X)\n",
      "  File \"D:\\anaconda3\\lib\\site-packages\\sklearn\\decomposition\\_pca.py\", line 456, in _fit\n",
      "    X = self._validate_data(\n",
      "  File \"D:\\anaconda3\\lib\\site-packages\\sklearn\\base.py\", line 577, in _validate_data\n",
      "    X = check_array(X, input_name=\"X\", **check_params)\n",
      "  File \"D:\\anaconda3\\lib\\site-packages\\sklearn\\utils\\validation.py\", line 925, in check_array\n",
      "    array = np.array(array, dtype=dtype, order=order)\n",
      "numpy.core._exceptions._ArrayMemoryError: Unable to allocate 2.63 GiB for an array with shape (19030, 18583) and data type float64\n",
      "\n",
      "--------------------------------------------------------------------------------\n",
      "2 fits failed with the following error:\n",
      "Traceback (most recent call last):\n",
      "  File \"D:\\anaconda3\\lib\\site-packages\\sklearn\\model_selection\\_validation.py\", line 686, in _fit_and_score\n",
      "    estimator.fit(X_train, y_train, **fit_params)\n",
      "  File \"D:\\anaconda3\\lib\\site-packages\\imblearn\\pipeline.py\", line 293, in fit\n",
      "    Xt, yt = self._fit(X, y, **fit_params_steps)\n",
      "  File \"D:\\anaconda3\\lib\\site-packages\\imblearn\\pipeline.py\", line 240, in _fit\n",
      "    X, fitted_transformer = fit_transform_one_cached(\n",
      "  File \"D:\\anaconda3\\lib\\site-packages\\joblib\\memory.py\", line 349, in __call__\n",
      "    return self.func(*args, **kwargs)\n",
      "  File \"D:\\anaconda3\\lib\\site-packages\\sklearn\\pipeline.py\", line 870, in _fit_transform_one\n",
      "    res = transformer.fit_transform(X, y, **fit_params)\n",
      "  File \"D:\\anaconda3\\lib\\site-packages\\sklearn\\decomposition\\_pca.py\", line 433, in fit_transform\n",
      "    U, S, Vt = self._fit(X)\n",
      "  File \"D:\\anaconda3\\lib\\site-packages\\sklearn\\decomposition\\_pca.py\", line 483, in _fit\n",
      "    return self._fit_full(X, n_components)\n",
      "  File \"D:\\anaconda3\\lib\\site-packages\\sklearn\\decomposition\\_pca.py\", line 518, in _fit_full\n",
      "    U, S, Vt = linalg.svd(X, full_matrices=False)\n",
      "  File \"D:\\anaconda3\\lib\\site-packages\\scipy\\linalg\\decomp_svd.py\", line 127, in svd\n",
      "    u, s, v, info = gesXd(a1, compute_uv=compute_uv, lwork=lwork,\n",
      "numpy.core._exceptions._ArrayMemoryError: Unable to allocate 2.57 GiB for an array with shape (18583, 18583) and data type float64\n",
      "\n",
      "--------------------------------------------------------------------------------\n",
      "1 fits failed with the following error:\n",
      "Traceback (most recent call last):\n",
      "  File \"D:\\anaconda3\\lib\\site-packages\\sklearn\\model_selection\\_validation.py\", line 686, in _fit_and_score\n",
      "    estimator.fit(X_train, y_train, **fit_params)\n",
      "  File \"D:\\anaconda3\\lib\\site-packages\\imblearn\\pipeline.py\", line 293, in fit\n",
      "    Xt, yt = self._fit(X, y, **fit_params_steps)\n",
      "  File \"D:\\anaconda3\\lib\\site-packages\\imblearn\\pipeline.py\", line 240, in _fit\n",
      "    X, fitted_transformer = fit_transform_one_cached(\n",
      "  File \"D:\\anaconda3\\lib\\site-packages\\joblib\\memory.py\", line 349, in __call__\n",
      "    return self.func(*args, **kwargs)\n",
      "  File \"D:\\anaconda3\\lib\\site-packages\\sklearn\\pipeline.py\", line 870, in _fit_transform_one\n",
      "    res = transformer.fit_transform(X, y, **fit_params)\n",
      "  File \"D:\\anaconda3\\lib\\site-packages\\sklearn\\decomposition\\_pca.py\", line 433, in fit_transform\n",
      "    U, S, Vt = self._fit(X)\n",
      "  File \"D:\\anaconda3\\lib\\site-packages\\sklearn\\decomposition\\_pca.py\", line 483, in _fit\n",
      "    return self._fit_full(X, n_components)\n",
      "  File \"D:\\anaconda3\\lib\\site-packages\\sklearn\\decomposition\\_pca.py\", line 518, in _fit_full\n",
      "    U, S, Vt = linalg.svd(X, full_matrices=False)\n",
      "  File \"D:\\anaconda3\\lib\\site-packages\\scipy\\linalg\\decomp_svd.py\", line 127, in svd\n",
      "    u, s, v, info = gesXd(a1, compute_uv=compute_uv, lwork=lwork,\n",
      "numpy.core._exceptions._ArrayMemoryError: Unable to allocate 2.64 GiB for an array with shape (19034, 18583) and data type float64\n",
      "\n",
      "  warnings.warn(some_fits_failed_message, FitFailedWarning)\n",
      "D:\\anaconda3\\lib\\site-packages\\sklearn\\model_selection\\_search.py:953: UserWarning: One or more of the test scores are non-finite: [0.29130435 0.29565217 0.18913043 0.19130435 0.15217391 0.15217391\n",
      " 0.1326087  0.96956522 0.97391304 0.97391304 0.97391304 0.97173913\n",
      " 0.97391304 0.97391304 0.97391304 0.96956522 0.97391304 0.97391304\n",
      " 0.97391304 0.96956522 0.97391304 0.97391304 0.97391304 0.96956522\n",
      " 0.97173913 0.97391304 0.97391304 0.96956522 0.97391304 0.97391304\n",
      " 0.97391304 0.9673913  0.97391304 0.97391304 0.97391304 0.9631769\n",
      " 0.96245487 0.9631769  0.9631769  0.96245487 0.96245487 0.9631769\n",
      " 0.96245487 0.96245487 0.9631769  0.96245487 0.9631769  0.9695078\n",
      " 0.97238896 0.9697479  0.97190876        nan        nan]\n",
      "  warnings.warn(\n",
      "D:\\anaconda3\\lib\\site-packages\\sklearn\\model_selection\\_search.py:953: UserWarning: One or more of the train scores are non-finite: [0.4572973  0.46756757 0.29351351 0.30108108 0.17783784 0.18\n",
      " 0.14540541 1.         1.         1.         1.         1.\n",
      " 1.         1.         1.         1.         1.         1.\n",
      " 1.         1.         1.         1.         1.         1.\n",
      " 1.         1.         1.         1.         1.         1.\n",
      " 1.         0.99783784 1.         1.         1.         0.99927993\n",
      " 0.99927993 0.99891989 0.99927993 0.99927993 0.99927993 0.99927993\n",
      " 0.99927993 0.99927993 0.99927993 0.99927993 0.99909991 0.99609961\n",
      " 0.99867987 0.9979598  0.99807981        nan        nan]\n",
      "  warnings.warn(\n"
     ]
    }
   ],
   "source": [
    "# havlving grid for tf-idf\n",
    "knn_hv_tf=halving_knn.fit(X_rem_tf, y_rem)"
   ]
  },
  {
   "cell_type": "code",
   "execution_count": 93,
   "id": "8f9e85b1",
   "metadata": {},
   "outputs": [
    {
     "data": {
      "text/plain": [
       "['vectorized_df/knn_tf_fit.pkl']"
      ]
     },
     "execution_count": 93,
     "metadata": {},
     "output_type": "execute_result"
    }
   ],
   "source": [
    "# dump the fit result\n",
    "joblib.dump(knn_hv_tf,'vectorized_df/knn_tf_fit.pkl')"
   ]
  },
  {
   "cell_type": "code",
   "execution_count": 42,
   "id": "51fa5c83",
   "metadata": {},
   "outputs": [],
   "source": [
    "# load fit result TF\n",
    "knn_tf_fit_read=joblib.load('vectorized_df/knn_tf_fit.pkl')"
   ]
  },
  {
   "cell_type": "code",
   "execution_count": 44,
   "id": "c285063f",
   "metadata": {},
   "outputs": [],
   "source": [
    "# best test score of KNN (TF_IDF)\n",
    "knn_tf_score=knn_tf_fit_read.score(X_test_tf, y_test)"
   ]
  },
  {
   "cell_type": "code",
   "execution_count": 70,
   "id": "b7ca7a55",
   "metadata": {},
   "outputs": [
    {
     "name": "stdout",
     "output_type": "stream",
     "text": [
      "The best parameters for model KNN (TF_IDF) are {'classifier': KNeighborsClassifier(n_jobs=-1, n_neighbors=9), 'classifier__n_neighbors': 9, 'dim_reducer': PCA(n_components=0.8), 'dim_reducer__n_components': 0.8}\n"
     ]
    }
   ],
   "source": [
    "# best estimater knn (TF_IDF)\n",
    "#knn_tf_fit_read.best_params_\n",
    "print(f\"The best parameters for model KNN (TF_IDF) are {knn_tf_fit_read.best_params_}\")"
   ]
  },
  {
   "cell_type": "code",
   "execution_count": 45,
   "id": "4834057d",
   "metadata": {},
   "outputs": [
    {
     "name": "stdout",
     "output_type": "stream",
     "text": [
      "The best test score of KNN (TI_IDF) is 0.9852721849366145\n"
     ]
    }
   ],
   "source": [
    "print(f\"The best test score of KNN (TI_IDF) is {knn_tf_score}\")"
   ]
  },
  {
   "cell_type": "code",
   "execution_count": 46,
   "id": "fb86c90f",
   "metadata": {},
   "outputs": [
    {
     "data": {
      "image/png": "[encoded data removed]",
      "text/plain": [
       "<Figure size 432x288 with 2 Axes>"
      ]
     },
     "metadata": {
      "needs_background": "light"
     },
     "output_type": "display_data"
    }
   ],
   "source": [
    "ConfusionMatrixDisplay.from_estimator(knn_tf_fit_read,X_test_tf, y_test,normalize='true')\n",
    "plt.title('ConfusionMatrix KNN (IF_IDF)')\n",
    "plt.show()"
   ]
  },
  {
   "cell_type": "code",
   "execution_count": 157,
   "id": "6cb007f7",
   "metadata": {},
   "outputs": [
    {
     "data": {
      "text/plain": [
       "{'iter': array([0, 0, 0, 0, 0, 0, 0, 0, 0, 0, 0, 0, 0, 0, 0, 0, 0, 0, 0, 0, 0, 0,\n",
       "        0, 0, 0, 0, 0, 0, 0, 0, 0, 0, 0, 0, 0, 1, 1, 1, 1, 1, 1, 1, 1, 1,\n",
       "        1, 1, 1, 2, 2, 2, 2, 3, 3]),\n",
       " 'n_resources': array([  463,   463,   463,   463,   463,   463,   463,   463,   463,\n",
       "          463,   463,   463,   463,   463,   463,   463,   463,   463,\n",
       "          463,   463,   463,   463,   463,   463,   463,   463,   463,\n",
       "          463,   463,   463,   463,   463,   463,   463,   463,  1389,\n",
       "         1389,  1389,  1389,  1389,  1389,  1389,  1389,  1389,  1389,\n",
       "         1389,  1389,  4167,  4167,  4167,  4167, 12501, 12501]),\n",
       " 'mean_fit_time': array([   7.70977116,    7.58650074,    7.86894517,    7.01323438,\n",
       "           6.90871358,    7.32559915,    7.03657174,   30.20879531,\n",
       "          30.21468382,   30.57282562,   30.16082144,   30.64383302,\n",
       "          30.86823344,   30.10765014,   30.5690062 ,   30.67851415,\n",
       "          29.70312915,   30.13667669,   30.92048783,   29.84905524,\n",
       "          29.56081514,   30.82322755,   30.49081597,   27.56724768,\n",
       "          30.63254828,   30.60721636,   28.4625453 ,   30.14972801,\n",
       "          30.75690265,   29.13375874,   29.10494947,   31.44520173,\n",
       "          30.31857934,   24.78433905,   19.8625977 ,  577.43621473,\n",
       "         578.25122824,  576.86015534,  571.83698926,  570.73972425,\n",
       "         573.56288223,  574.85409069,  574.22018132,  577.33264489,\n",
       "         522.96742239,  440.6463542 ,  437.06035776, 4200.45165391,\n",
       "        4213.21590848, 4457.06850901, 2010.38045278, 1266.7032732 ,\n",
       "        2394.13950834]),\n",
       " 'std_fit_time': array([1.08602943e-01, 5.38114049e-01, 1.72415129e-01, 5.42178741e-01,\n",
       "        2.81380025e-01, 6.99468757e-01, 6.95056442e-01, 9.39433867e-01,\n",
       "        9.36695325e-01, 1.29382047e+00, 1.49472801e+00, 1.00826717e+00,\n",
       "        6.49027300e-01, 6.81735594e-01, 1.17451904e+00, 2.63714418e-01,\n",
       "        8.76070300e-01, 1.17673713e+00, 4.92630970e-01, 1.61914043e+00,\n",
       "        9.00563004e-01, 8.71066256e-01, 2.83988174e-01, 1.10703865e+00,\n",
       "        6.58278749e-01, 4.40574131e-01, 1.40262290e+00, 1.04647549e+00,\n",
       "        5.50466070e-01, 1.47032607e+00, 1.03195662e+00, 5.28353742e-01,\n",
       "        1.11227241e+00, 1.64159378e+00, 7.54103007e-01, 4.24412730e+00,\n",
       "        3.30378124e+00, 4.35815774e+00, 3.77795678e+00, 3.97441156e+00,\n",
       "        2.50797761e+00, 1.64572604e+00, 2.31377680e+00, 3.19614262e+00,\n",
       "        6.83691601e+01, 1.85839432e+00, 1.26806340e+00, 1.90800431e+01,\n",
       "        3.48570213e+01, 2.03110976e+02, 1.30625637e+03, 2.28666361e+03,\n",
       "        2.79020736e+03]),\n",
       " 'mean_score_time': array([0.41867847, 0.50524831, 0.42805371, 0.47752233, 0.44102039,\n",
       "        0.48071313, 0.53536744, 0.44002323, 0.46575427, 0.33630013,\n",
       "        0.3714066 , 0.43523536, 0.39992933, 0.3650238 , 0.38437114,\n",
       "        0.40451722, 0.37499647, 0.40830789, 0.35544825, 0.38038216,\n",
       "        0.44540815, 0.38457131, 0.35125976, 0.46415892, 0.4111001 ,\n",
       "        0.37160544, 0.4166852 , 0.43024988, 0.41150012, 0.39414577,\n",
       "        0.38487229, 0.44840021, 0.37140632, 0.26269727, 0.18411341,\n",
       "        0.91255817, 0.88943119, 0.92672057, 1.09247694, 0.88882155,\n",
       "        0.86568379, 0.97319551, 0.86727996, 0.77572422, 0.85211911,\n",
       "        0.58303981, 0.31375985, 5.37701945, 4.35295849, 3.49216752,\n",
       "        1.10564618, 0.90810571, 3.38772731]),\n",
       " 'std_score_time': array([0.01429249, 0.09344374, 0.0468612 , 0.09234324, 0.02962109,\n",
       "        0.03345418, 0.04351557, 0.03063828, 0.06552919, 0.04570934,\n",
       "        0.03800539, 0.04595797, 0.03745959, 0.06495403, 0.0452376 ,\n",
       "        0.02407422, 0.086873  , 0.02254602, 0.03308095, 0.04005622,\n",
       "        0.07512883, 0.02945508, 0.01703518, 0.01694343, 0.02124501,\n",
       "        0.01240255, 0.03215934, 0.02425375, 0.03038511, 0.0496734 ,\n",
       "        0.01256469, 0.0432546 , 0.03305764, 0.05406526, 0.03337444,\n",
       "        0.09701753, 0.16911851, 0.1888703 , 0.06757918, 0.1038319 ,\n",
       "        0.04093106, 0.09822982, 0.03706378, 0.04595231, 0.11834321,\n",
       "        0.03835055, 0.0354286 , 1.15186023, 0.64147508, 1.05532233,\n",
       "        0.36091236, 1.81621141, 4.14910888]),\n",
       " 'param_classifier': masked_array(data=[KNeighborsClassifier(n_jobs=-1),\n",
       "                    KNeighborsClassifier(n_jobs=-1),\n",
       "                    KNeighborsClassifier(n_jobs=-1),\n",
       "                    KNeighborsClassifier(n_jobs=-1),\n",
       "                    KNeighborsClassifier(n_jobs=-1),\n",
       "                    KNeighborsClassifier(n_jobs=-1),\n",
       "                    KNeighborsClassifier(n_jobs=-1),\n",
       "                    KNeighborsClassifier(n_jobs=-1, n_neighbors=9),\n",
       "                    KNeighborsClassifier(n_jobs=-1, n_neighbors=9),\n",
       "                    KNeighborsClassifier(n_jobs=-1, n_neighbors=9),\n",
       "                    KNeighborsClassifier(n_jobs=-1, n_neighbors=9),\n",
       "                    KNeighborsClassifier(n_jobs=-1, n_neighbors=9),\n",
       "                    KNeighborsClassifier(n_jobs=-1, n_neighbors=9),\n",
       "                    KNeighborsClassifier(n_jobs=-1, n_neighbors=9),\n",
       "                    KNeighborsClassifier(n_jobs=-1, n_neighbors=9),\n",
       "                    KNeighborsClassifier(n_jobs=-1, n_neighbors=9),\n",
       "                    KNeighborsClassifier(n_jobs=-1, n_neighbors=9),\n",
       "                    KNeighborsClassifier(n_jobs=-1, n_neighbors=9),\n",
       "                    KNeighborsClassifier(n_jobs=-1, n_neighbors=9),\n",
       "                    KNeighborsClassifier(n_jobs=-1, n_neighbors=9),\n",
       "                    KNeighborsClassifier(n_jobs=-1, n_neighbors=9),\n",
       "                    KNeighborsClassifier(n_jobs=-1, n_neighbors=9),\n",
       "                    KNeighborsClassifier(n_jobs=-1, n_neighbors=9),\n",
       "                    KNeighborsClassifier(n_jobs=-1, n_neighbors=9),\n",
       "                    KNeighborsClassifier(n_jobs=-1, n_neighbors=9),\n",
       "                    KNeighborsClassifier(n_jobs=-1, n_neighbors=9),\n",
       "                    KNeighborsClassifier(n_jobs=-1, n_neighbors=9),\n",
       "                    KNeighborsClassifier(n_jobs=-1, n_neighbors=9),\n",
       "                    KNeighborsClassifier(n_jobs=-1, n_neighbors=9),\n",
       "                    KNeighborsClassifier(n_jobs=-1, n_neighbors=9),\n",
       "                    KNeighborsClassifier(n_jobs=-1, n_neighbors=9),\n",
       "                    KNeighborsClassifier(n_jobs=-1, n_neighbors=9),\n",
       "                    KNeighborsClassifier(n_jobs=-1, n_neighbors=9),\n",
       "                    KNeighborsClassifier(n_jobs=-1, n_neighbors=9),\n",
       "                    KNeighborsClassifier(n_jobs=-1, n_neighbors=9),\n",
       "                    KNeighborsClassifier(n_jobs=-1, n_neighbors=9),\n",
       "                    KNeighborsClassifier(n_jobs=-1, n_neighbors=9),\n",
       "                    KNeighborsClassifier(n_jobs=-1, n_neighbors=9),\n",
       "                    KNeighborsClassifier(n_jobs=-1, n_neighbors=9),\n",
       "                    KNeighborsClassifier(n_jobs=-1, n_neighbors=9),\n",
       "                    KNeighborsClassifier(n_jobs=-1, n_neighbors=9),\n",
       "                    KNeighborsClassifier(n_jobs=-1, n_neighbors=9),\n",
       "                    KNeighborsClassifier(n_jobs=-1, n_neighbors=9),\n",
       "                    KNeighborsClassifier(n_jobs=-1, n_neighbors=9),\n",
       "                    KNeighborsClassifier(n_jobs=-1, n_neighbors=9),\n",
       "                    KNeighborsClassifier(n_jobs=-1, n_neighbors=9),\n",
       "                    KNeighborsClassifier(n_jobs=-1, n_neighbors=9),\n",
       "                    KNeighborsClassifier(n_jobs=-1, n_neighbors=9),\n",
       "                    KNeighborsClassifier(n_jobs=-1, n_neighbors=9),\n",
       "                    KNeighborsClassifier(n_jobs=-1, n_neighbors=9),\n",
       "                    KNeighborsClassifier(n_jobs=-1, n_neighbors=9),\n",
       "                    KNeighborsClassifier(n_jobs=-1, n_neighbors=9),\n",
       "                    KNeighborsClassifier(n_jobs=-1, n_neighbors=9)],\n",
       "              mask=[False, False, False, False, False, False, False, False,\n",
       "                    False, False, False, False, False, False, False, False,\n",
       "                    False, False, False, False, False, False, False, False,\n",
       "                    False, False, False, False, False, False, False, False,\n",
       "                    False, False, False, False, False, False, False, False,\n",
       "                    False, False, False, False, False, False, False, False,\n",
       "                    False, False, False, False, False],\n",
       "        fill_value='?',\n",
       "             dtype=object),\n",
       " 'param_classifier__n_neighbors': masked_array(data=[3, 4, 5, 6, 7, 8, 9, 3, 3, 3, 3, 4, 4, 4, 4, 5, 5, 5,\n",
       "                    5, 6, 6, 6, 6, 7, 7, 7, 7, 8, 8, 8, 8, 9, 9, 9, 9, 6,\n",
       "                    5, 9, 5, 4, 4, 4, 3, 3, 3, 6, 9, 5, 4, 3, 9, 9, 4],\n",
       "              mask=[False, False, False, False, False, False, False, False,\n",
       "                    False, False, False, False, False, False, False, False,\n",
       "                    False, False, False, False, False, False, False, False,\n",
       "                    False, False, False, False, False, False, False, False,\n",
       "                    False, False, False, False, False, False, False, False,\n",
       "                    False, False, False, False, False, False, False, False,\n",
       "                    False, False, False, False, False],\n",
       "        fill_value='?',\n",
       "             dtype=object),\n",
       " 'param_dim_reducer': masked_array(data=[None, None, None, None, None, None, None,\n",
       "                    PCA(n_components=0.8), PCA(n_components=0.8),\n",
       "                    PCA(n_components=0.8), PCA(n_components=0.8),\n",
       "                    PCA(n_components=0.8), PCA(n_components=0.8),\n",
       "                    PCA(n_components=0.8), PCA(n_components=0.8),\n",
       "                    PCA(n_components=0.8), PCA(n_components=0.8),\n",
       "                    PCA(n_components=0.8), PCA(n_components=0.8),\n",
       "                    PCA(n_components=0.8), PCA(n_components=0.8),\n",
       "                    PCA(n_components=0.8), PCA(n_components=0.8),\n",
       "                    PCA(n_components=0.8), PCA(n_components=0.8),\n",
       "                    PCA(n_components=0.8), PCA(n_components=0.8),\n",
       "                    PCA(n_components=0.8), PCA(n_components=0.8),\n",
       "                    PCA(n_components=0.8), PCA(n_components=0.8),\n",
       "                    PCA(n_components=0.8), PCA(n_components=0.8),\n",
       "                    PCA(n_components=0.8), PCA(n_components=0.8),\n",
       "                    PCA(n_components=0.8), PCA(n_components=0.8),\n",
       "                    PCA(n_components=0.8), PCA(n_components=0.8),\n",
       "                    PCA(n_components=0.8), PCA(n_components=0.8),\n",
       "                    PCA(n_components=0.8), PCA(n_components=0.8),\n",
       "                    PCA(n_components=0.8), PCA(n_components=0.8),\n",
       "                    PCA(n_components=0.8), PCA(n_components=0.8),\n",
       "                    PCA(n_components=0.8), PCA(n_components=0.8),\n",
       "                    PCA(n_components=0.8), PCA(n_components=0.8),\n",
       "                    PCA(n_components=0.8), PCA(n_components=0.8)],\n",
       "              mask=[False, False, False, False, False, False, False, False,\n",
       "                    False, False, False, False, False, False, False, False,\n",
       "                    False, False, False, False, False, False, False, False,\n",
       "                    False, False, False, False, False, False, False, False,\n",
       "                    False, False, False, False, False, False, False, False,\n",
       "                    False, False, False, False, False, False, False, False,\n",
       "                    False, False, False, False, False],\n",
       "        fill_value='?',\n",
       "             dtype=object),\n",
       " 'param_dim_reducer__n_components': masked_array(data=[--, --, --, --, --, --, --, 0.95, 0.9, 0.85, 0.8, 0.95,\n",
       "                    0.9, 0.85, 0.8, 0.95, 0.9, 0.85, 0.8, 0.95, 0.9, 0.85,\n",
       "                    0.8, 0.95, 0.9, 0.85, 0.8, 0.95, 0.9, 0.85, 0.8, 0.95,\n",
       "                    0.9, 0.85, 0.8, 0.9, 0.8, 0.85, 0.9, 0.8, 0.85, 0.9,\n",
       "                    0.8, 0.85, 0.9, 0.85, 0.8, 0.9, 0.9, 0.9, 0.8, 0.8,\n",
       "                    0.9],\n",
       "              mask=[ True,  True,  True,  True,  True,  True,  True, False,\n",
       "                    False, False, False, False, False, False, False, False,\n",
       "                    False, False, False, False, False, False, False, False,\n",
       "                    False, False, False, False, False, False, False, False,\n",
       "                    False, False, False, False, False, False, False, False,\n",
       "                    False, False, False, False, False, False, False, False,\n",
       "                    False, False, False, False, False],\n",
       "        fill_value='?',\n",
       "             dtype=object),\n",
       " 'params': [{'classifier': KNeighborsClassifier(n_jobs=-1),\n",
       "   'classifier__n_neighbors': 3,\n",
       "   'dim_reducer': None},\n",
       "  {'classifier': KNeighborsClassifier(n_jobs=-1),\n",
       "   'classifier__n_neighbors': 4,\n",
       "   'dim_reducer': None},\n",
       "  {'classifier': KNeighborsClassifier(n_jobs=-1),\n",
       "   'classifier__n_neighbors': 5,\n",
       "   'dim_reducer': None},\n",
       "  {'classifier': KNeighborsClassifier(n_jobs=-1),\n",
       "   'classifier__n_neighbors': 6,\n",
       "   'dim_reducer': None},\n",
       "  {'classifier': KNeighborsClassifier(n_jobs=-1),\n",
       "   'classifier__n_neighbors': 7,\n",
       "   'dim_reducer': None},\n",
       "  {'classifier': KNeighborsClassifier(n_jobs=-1),\n",
       "   'classifier__n_neighbors': 8,\n",
       "   'dim_reducer': None},\n",
       "  {'classifier': KNeighborsClassifier(n_jobs=-1),\n",
       "   'classifier__n_neighbors': 9,\n",
       "   'dim_reducer': None},\n",
       "  {'classifier': KNeighborsClassifier(n_jobs=-1, n_neighbors=9),\n",
       "   'classifier__n_neighbors': 3,\n",
       "   'dim_reducer': PCA(n_components=0.8),\n",
       "   'dim_reducer__n_components': 0.95},\n",
       "  {'classifier': KNeighborsClassifier(n_jobs=-1, n_neighbors=9),\n",
       "   'classifier__n_neighbors': 3,\n",
       "   'dim_reducer': PCA(n_components=0.8),\n",
       "   'dim_reducer__n_components': 0.9},\n",
       "  {'classifier': KNeighborsClassifier(n_jobs=-1, n_neighbors=9),\n",
       "   'classifier__n_neighbors': 3,\n",
       "   'dim_reducer': PCA(n_components=0.8),\n",
       "   'dim_reducer__n_components': 0.85},\n",
       "  {'classifier': KNeighborsClassifier(n_jobs=-1, n_neighbors=9),\n",
       "   'classifier__n_neighbors': 3,\n",
       "   'dim_reducer': PCA(n_components=0.8),\n",
       "   'dim_reducer__n_components': 0.8},\n",
       "  {'classifier': KNeighborsClassifier(n_jobs=-1, n_neighbors=9),\n",
       "   'classifier__n_neighbors': 4,\n",
       "   'dim_reducer': PCA(n_components=0.8),\n",
       "   'dim_reducer__n_components': 0.95},\n",
       "  {'classifier': KNeighborsClassifier(n_jobs=-1, n_neighbors=9),\n",
       "   'classifier__n_neighbors': 4,\n",
       "   'dim_reducer': PCA(n_components=0.8),\n",
       "   'dim_reducer__n_components': 0.9},\n",
       "  {'classifier': KNeighborsClassifier(n_jobs=-1, n_neighbors=9),\n",
       "   'classifier__n_neighbors': 4,\n",
       "   'dim_reducer': PCA(n_components=0.8),\n",
       "   'dim_reducer__n_components': 0.85},\n",
       "  {'classifier': KNeighborsClassifier(n_jobs=-1, n_neighbors=9),\n",
       "   'classifier__n_neighbors': 4,\n",
       "   'dim_reducer': PCA(n_components=0.8),\n",
       "   'dim_reducer__n_components': 0.8},\n",
       "  {'classifier': KNeighborsClassifier(n_jobs=-1, n_neighbors=9),\n",
       "   'classifier__n_neighbors': 5,\n",
       "   'dim_reducer': PCA(n_components=0.8),\n",
       "   'dim_reducer__n_components': 0.95},\n",
       "  {'classifier': KNeighborsClassifier(n_jobs=-1, n_neighbors=9),\n",
       "   'classifier__n_neighbors': 5,\n",
       "   'dim_reducer': PCA(n_components=0.8),\n",
       "   'dim_reducer__n_components': 0.9},\n",
       "  {'classifier': KNeighborsClassifier(n_jobs=-1, n_neighbors=9),\n",
       "   'classifier__n_neighbors': 5,\n",
       "   'dim_reducer': PCA(n_components=0.8),\n",
       "   'dim_reducer__n_components': 0.85},\n",
       "  {'classifier': KNeighborsClassifier(n_jobs=-1, n_neighbors=9),\n",
       "   'classifier__n_neighbors': 5,\n",
       "   'dim_reducer': PCA(n_components=0.8),\n",
       "   'dim_reducer__n_components': 0.8},\n",
       "  {'classifier': KNeighborsClassifier(n_jobs=-1, n_neighbors=9),\n",
       "   'classifier__n_neighbors': 6,\n",
       "   'dim_reducer': PCA(n_components=0.8),\n",
       "   'dim_reducer__n_components': 0.95},\n",
       "  {'classifier': KNeighborsClassifier(n_jobs=-1, n_neighbors=9),\n",
       "   'classifier__n_neighbors': 6,\n",
       "   'dim_reducer': PCA(n_components=0.8),\n",
       "   'dim_reducer__n_components': 0.9},\n",
       "  {'classifier': KNeighborsClassifier(n_jobs=-1, n_neighbors=9),\n",
       "   'classifier__n_neighbors': 6,\n",
       "   'dim_reducer': PCA(n_components=0.8),\n",
       "   'dim_reducer__n_components': 0.85},\n",
       "  {'classifier': KNeighborsClassifier(n_jobs=-1, n_neighbors=9),\n",
       "   'classifier__n_neighbors': 6,\n",
       "   'dim_reducer': PCA(n_components=0.8),\n",
       "   'dim_reducer__n_components': 0.8},\n",
       "  {'classifier': KNeighborsClassifier(n_jobs=-1, n_neighbors=9),\n",
       "   'classifier__n_neighbors': 7,\n",
       "   'dim_reducer': PCA(n_components=0.8),\n",
       "   'dim_reducer__n_components': 0.95},\n",
       "  {'classifier': KNeighborsClassifier(n_jobs=-1, n_neighbors=9),\n",
       "   'classifier__n_neighbors': 7,\n",
       "   'dim_reducer': PCA(n_components=0.8),\n",
       "   'dim_reducer__n_components': 0.9},\n",
       "  {'classifier': KNeighborsClassifier(n_jobs=-1, n_neighbors=9),\n",
       "   'classifier__n_neighbors': 7,\n",
       "   'dim_reducer': PCA(n_components=0.8),\n",
       "   'dim_reducer__n_components': 0.85},\n",
       "  {'classifier': KNeighborsClassifier(n_jobs=-1, n_neighbors=9),\n",
       "   'classifier__n_neighbors': 7,\n",
       "   'dim_reducer': PCA(n_components=0.8),\n",
       "   'dim_reducer__n_components': 0.8},\n",
       "  {'classifier': KNeighborsClassifier(n_jobs=-1, n_neighbors=9),\n",
       "   'classifier__n_neighbors': 8,\n",
       "   'dim_reducer': PCA(n_components=0.8),\n",
       "   'dim_reducer__n_components': 0.95},\n",
       "  {'classifier': KNeighborsClassifier(n_jobs=-1, n_neighbors=9),\n",
       "   'classifier__n_neighbors': 8,\n",
       "   'dim_reducer': PCA(n_components=0.8),\n",
       "   'dim_reducer__n_components': 0.9},\n",
       "  {'classifier': KNeighborsClassifier(n_jobs=-1, n_neighbors=9),\n",
       "   'classifier__n_neighbors': 8,\n",
       "   'dim_reducer': PCA(n_components=0.8),\n",
       "   'dim_reducer__n_components': 0.85},\n",
       "  {'classifier': KNeighborsClassifier(n_jobs=-1, n_neighbors=9),\n",
       "   'classifier__n_neighbors': 8,\n",
       "   'dim_reducer': PCA(n_components=0.8),\n",
       "   'dim_reducer__n_components': 0.8},\n",
       "  {'classifier': KNeighborsClassifier(n_jobs=-1, n_neighbors=9),\n",
       "   'classifier__n_neighbors': 9,\n",
       "   'dim_reducer': PCA(n_components=0.8),\n",
       "   'dim_reducer__n_components': 0.95},\n",
       "  {'classifier': KNeighborsClassifier(n_jobs=-1, n_neighbors=9),\n",
       "   'classifier__n_neighbors': 9,\n",
       "   'dim_reducer': PCA(n_components=0.8),\n",
       "   'dim_reducer__n_components': 0.9},\n",
       "  {'classifier': KNeighborsClassifier(n_jobs=-1, n_neighbors=9),\n",
       "   'classifier__n_neighbors': 9,\n",
       "   'dim_reducer': PCA(n_components=0.8),\n",
       "   'dim_reducer__n_components': 0.85},\n",
       "  {'classifier': KNeighborsClassifier(n_jobs=-1, n_neighbors=9),\n",
       "   'classifier__n_neighbors': 9,\n",
       "   'dim_reducer': PCA(n_components=0.8),\n",
       "   'dim_reducer__n_components': 0.8},\n",
       "  {'classifier': KNeighborsClassifier(n_jobs=-1, n_neighbors=9),\n",
       "   'classifier__n_neighbors': 6,\n",
       "   'dim_reducer': PCA(n_components=0.8),\n",
       "   'dim_reducer__n_components': 0.9},\n",
       "  {'classifier': KNeighborsClassifier(n_jobs=-1, n_neighbors=9),\n",
       "   'classifier__n_neighbors': 5,\n",
       "   'dim_reducer': PCA(n_components=0.8),\n",
       "   'dim_reducer__n_components': 0.8},\n",
       "  {'classifier': KNeighborsClassifier(n_jobs=-1, n_neighbors=9),\n",
       "   'classifier__n_neighbors': 9,\n",
       "   'dim_reducer': PCA(n_components=0.8),\n",
       "   'dim_reducer__n_components': 0.85},\n",
       "  {'classifier': KNeighborsClassifier(n_jobs=-1, n_neighbors=9),\n",
       "   'classifier__n_neighbors': 5,\n",
       "   'dim_reducer': PCA(n_components=0.8),\n",
       "   'dim_reducer__n_components': 0.9},\n",
       "  {'classifier': KNeighborsClassifier(n_jobs=-1, n_neighbors=9),\n",
       "   'classifier__n_neighbors': 4,\n",
       "   'dim_reducer': PCA(n_components=0.8),\n",
       "   'dim_reducer__n_components': 0.8},\n",
       "  {'classifier': KNeighborsClassifier(n_jobs=-1, n_neighbors=9),\n",
       "   'classifier__n_neighbors': 4,\n",
       "   'dim_reducer': PCA(n_components=0.8),\n",
       "   'dim_reducer__n_components': 0.85},\n",
       "  {'classifier': KNeighborsClassifier(n_jobs=-1, n_neighbors=9),\n",
       "   'classifier__n_neighbors': 4,\n",
       "   'dim_reducer': PCA(n_components=0.8),\n",
       "   'dim_reducer__n_components': 0.9},\n",
       "  {'classifier': KNeighborsClassifier(n_jobs=-1, n_neighbors=9),\n",
       "   'classifier__n_neighbors': 3,\n",
       "   'dim_reducer': PCA(n_components=0.8),\n",
       "   'dim_reducer__n_components': 0.8},\n",
       "  {'classifier': KNeighborsClassifier(n_jobs=-1, n_neighbors=9),\n",
       "   'classifier__n_neighbors': 3,\n",
       "   'dim_reducer': PCA(n_components=0.8),\n",
       "   'dim_reducer__n_components': 0.85},\n",
       "  {'classifier': KNeighborsClassifier(n_jobs=-1, n_neighbors=9),\n",
       "   'classifier__n_neighbors': 3,\n",
       "   'dim_reducer': PCA(n_components=0.8),\n",
       "   'dim_reducer__n_components': 0.9},\n",
       "  {'classifier': KNeighborsClassifier(n_jobs=-1, n_neighbors=9),\n",
       "   'classifier__n_neighbors': 6,\n",
       "   'dim_reducer': PCA(n_components=0.8),\n",
       "   'dim_reducer__n_components': 0.85},\n",
       "  {'classifier': KNeighborsClassifier(n_jobs=-1, n_neighbors=9),\n",
       "   'classifier__n_neighbors': 9,\n",
       "   'dim_reducer': PCA(n_components=0.8),\n",
       "   'dim_reducer__n_components': 0.8},\n",
       "  {'classifier': KNeighborsClassifier(n_jobs=-1, n_neighbors=9),\n",
       "   'classifier__n_neighbors': 5,\n",
       "   'dim_reducer': PCA(n_components=0.8),\n",
       "   'dim_reducer__n_components': 0.9},\n",
       "  {'classifier': KNeighborsClassifier(n_jobs=-1, n_neighbors=9),\n",
       "   'classifier__n_neighbors': 4,\n",
       "   'dim_reducer': PCA(n_components=0.8),\n",
       "   'dim_reducer__n_components': 0.9},\n",
       "  {'classifier': KNeighborsClassifier(n_jobs=-1, n_neighbors=9),\n",
       "   'classifier__n_neighbors': 3,\n",
       "   'dim_reducer': PCA(n_components=0.8),\n",
       "   'dim_reducer__n_components': 0.9},\n",
       "  {'classifier': KNeighborsClassifier(n_jobs=-1, n_neighbors=9),\n",
       "   'classifier__n_neighbors': 9,\n",
       "   'dim_reducer': PCA(n_components=0.8),\n",
       "   'dim_reducer__n_components': 0.8},\n",
       "  {'classifier': KNeighborsClassifier(n_jobs=-1, n_neighbors=9),\n",
       "   'classifier__n_neighbors': 9,\n",
       "   'dim_reducer': PCA(n_components=0.8),\n",
       "   'dim_reducer__n_components': 0.8},\n",
       "  {'classifier': KNeighborsClassifier(n_jobs=-1, n_neighbors=9),\n",
       "   'classifier__n_neighbors': 4,\n",
       "   'dim_reducer': PCA(n_components=0.8),\n",
       "   'dim_reducer__n_components': 0.9}],\n",
       " 'split0_test_score': array([0.13043478, 0.13043478, 0.10869565, 0.10869565, 0.10869565,\n",
       "        0.10869565, 0.09782609, 1.        , 1.        , 1.        ,\n",
       "        1.        , 1.        , 1.        , 1.        , 1.        ,\n",
       "        1.        , 1.        , 1.        , 1.        , 1.        ,\n",
       "        1.        , 1.        , 1.        , 1.        , 1.        ,\n",
       "        1.        , 1.        , 1.        , 1.        , 1.        ,\n",
       "        1.        , 1.        , 1.        , 1.        , 1.        ,\n",
       "        0.97472924, 0.97472924, 0.97833935, 0.97472924, 0.97472924,\n",
       "        0.97472924, 0.97472924, 0.97472924, 0.97472924, 0.97472924,\n",
       "        0.97472924, 0.97472924, 0.97358944, 0.97478992, 0.97238896,\n",
       "        0.97478992, 0.9832    , 0.9864    ]),\n",
       " 'split1_test_score': array([0.66304348, 0.68478261, 0.31521739, 0.32608696, 0.17391304,\n",
       "        0.17391304, 0.14130435, 0.97826087, 0.97826087, 0.97826087,\n",
       "        0.97826087, 0.97826087, 0.97826087, 0.97826087, 0.97826087,\n",
       "        0.97826087, 0.97826087, 0.97826087, 0.97826087, 0.97826087,\n",
       "        0.97826087, 0.97826087, 0.97826087, 0.97826087, 0.97826087,\n",
       "        0.97826087, 0.97826087, 0.97826087, 0.97826087, 0.97826087,\n",
       "        0.97826087, 0.97826087, 0.97826087, 0.97826087, 0.97826087,\n",
       "        0.94945848, 0.94584838, 0.94945848, 0.94945848, 0.94584838,\n",
       "        0.94584838, 0.94945848, 0.94584838, 0.94584838, 0.94945848,\n",
       "        0.94584838, 0.94945848, 0.95558223, 0.96518607, 0.95798319,\n",
       "        0.96638655,        nan,        nan]),\n",
       " 'split2_test_score': array([0.27173913, 0.27173913, 0.20652174, 0.20652174, 0.20652174,\n",
       "        0.20652174, 0.17391304, 0.9673913 , 0.9673913 , 0.9673913 ,\n",
       "        0.9673913 , 0.9673913 , 0.9673913 , 0.9673913 , 0.9673913 ,\n",
       "        0.9673913 , 0.9673913 , 0.9673913 , 0.9673913 , 0.9673913 ,\n",
       "        0.9673913 , 0.9673913 , 0.9673913 , 0.9673913 , 0.9673913 ,\n",
       "        0.9673913 , 0.9673913 , 0.9673913 , 0.9673913 , 0.9673913 ,\n",
       "        0.9673913 , 0.9673913 , 0.9673913 , 0.9673913 , 0.9673913 ,\n",
       "        0.9566787 , 0.9566787 , 0.9566787 , 0.9566787 , 0.9566787 ,\n",
       "        0.9566787 , 0.9566787 , 0.9566787 , 0.9566787 , 0.9566787 ,\n",
       "        0.9566787 , 0.9566787 , 0.97839136, 0.97719088, 0.97719088,\n",
       "        0.9759904 ,        nan,        nan]),\n",
       " 'split3_test_score': array([0.20652174, 0.20652174, 0.16304348, 0.16304348, 0.13043478,\n",
       "        0.13043478, 0.13043478, 0.9673913 , 0.9673913 , 0.9673913 ,\n",
       "        0.9673913 , 0.9673913 , 0.9673913 , 0.9673913 , 0.9673913 ,\n",
       "        0.9673913 , 0.9673913 , 0.9673913 , 0.9673913 , 0.9673913 ,\n",
       "        0.9673913 , 0.9673913 , 0.9673913 , 0.9673913 , 0.9673913 ,\n",
       "        0.9673913 , 0.9673913 , 0.9673913 , 0.9673913 , 0.9673913 ,\n",
       "        0.9673913 , 0.9673913 , 0.9673913 , 0.9673913 , 0.9673913 ,\n",
       "        0.96389892, 0.96389892, 0.96389892, 0.96389892, 0.96389892,\n",
       "        0.96389892, 0.96389892, 0.96389892, 0.96389892, 0.96389892,\n",
       "        0.96389892, 0.96389892, 0.96398559, 0.96878752, 0.96638655,\n",
       "        0.96638655,        nan, 0.9848    ]),\n",
       " 'split4_test_score': array([0.18478261, 0.18478261, 0.15217391, 0.15217391, 0.14130435,\n",
       "        0.14130435, 0.11956522, 0.93478261, 0.95652174, 0.95652174,\n",
       "        0.95652174, 0.94565217, 0.95652174, 0.95652174, 0.95652174,\n",
       "        0.93478261, 0.95652174, 0.95652174, 0.95652174, 0.93478261,\n",
       "        0.95652174, 0.95652174, 0.95652174, 0.93478261, 0.94565217,\n",
       "        0.95652174, 0.95652174, 0.93478261, 0.95652174, 0.95652174,\n",
       "        0.95652174, 0.92391304, 0.95652174, 0.95652174, 0.95652174,\n",
       "        0.97111913, 0.97111913, 0.96750903, 0.97111913, 0.97111913,\n",
       "        0.97111913, 0.97111913, 0.97111913, 0.97111913, 0.97111913,\n",
       "        0.97111913, 0.97111913, 0.9759904 , 0.9759904 , 0.97478992,\n",
       "        0.9759904 ,        nan,        nan]),\n",
       " 'mean_test_score': array([0.29130435, 0.29565217, 0.18913043, 0.19130435, 0.15217391,\n",
       "        0.15217391, 0.1326087 , 0.96956522, 0.97391304, 0.97391304,\n",
       "        0.97391304, 0.97173913, 0.97391304, 0.97391304, 0.97391304,\n",
       "        0.96956522, 0.97391304, 0.97391304, 0.97391304, 0.96956522,\n",
       "        0.97391304, 0.97391304, 0.97391304, 0.96956522, 0.97173913,\n",
       "        0.97391304, 0.97391304, 0.96956522, 0.97391304, 0.97391304,\n",
       "        0.97391304, 0.9673913 , 0.97391304, 0.97391304, 0.97391304,\n",
       "        0.9631769 , 0.96245487, 0.9631769 , 0.9631769 , 0.96245487,\n",
       "        0.96245487, 0.9631769 , 0.96245487, 0.96245487, 0.9631769 ,\n",
       "        0.96245487, 0.9631769 , 0.9695078 , 0.97238896, 0.9697479 ,\n",
       "        0.97190876,        nan,        nan]),\n",
       " 'std_test_score': array([0.19130435, 0.19976357, 0.07030853, 0.07423205, 0.03437258,\n",
       "        0.03437258, 0.02516486, 0.02107687, 0.0147442 , 0.0147442 ,\n",
       "        0.0147442 , 0.01766095, 0.0147442 , 0.0147442 , 0.0147442 ,\n",
       "        0.02107687, 0.0147442 , 0.0147442 , 0.0147442 , 0.02107687,\n",
       "        0.0147442 , 0.0147442 , 0.0147442 , 0.02107687, 0.01766095,\n",
       "        0.0147442 , 0.0147442 , 0.02107687, 0.0147442 , 0.0147442 ,\n",
       "        0.0147442 , 0.02478642, 0.0147442 , 0.0147442 , 0.0147442 ,\n",
       "        0.00924639, 0.01036296, 0.00979398, 0.00924639, 0.01036296,\n",
       "        0.01036296, 0.00924639, 0.01036296, 0.01036296, 0.00924639,\n",
       "        0.01036296, 0.00924639, 0.00850903, 0.00461834, 0.00689205,\n",
       "        0.00453012,        nan,        nan]),\n",
       " 'rank_test_score': array([46, 45, 48, 47, 49, 49, 51, 26,  1,  1,  1, 23,  1,  1,  1, 26,  1,\n",
       "         1,  1, 26,  1,  1,  1, 26, 23,  1,  1, 26,  1,  1,  1, 32,  1,  1,\n",
       "         1, 33, 39, 33, 33, 39, 39, 33, 39, 39, 33, 39, 33, 31, 21, 25, 22,\n",
       "        52, 53]),\n",
       " 'split0_train_score': array([0.34594595, 0.34594595, 0.18648649, 0.18648649, 0.14864865,\n",
       "        0.14864865, 0.13513514, 1.        , 1.        , 1.        ,\n",
       "        1.        , 1.        , 1.        , 1.        , 1.        ,\n",
       "        1.        , 1.        , 1.        , 1.        , 1.        ,\n",
       "        1.        , 1.        , 1.        , 1.        , 1.        ,\n",
       "        1.        , 1.        , 1.        , 1.        , 1.        ,\n",
       "        1.        , 0.9972973 , 1.        , 1.        , 1.        ,\n",
       "        1.        , 1.        , 1.        , 1.        , 1.        ,\n",
       "        1.        , 1.        , 1.        , 1.        , 1.        ,\n",
       "        1.        , 1.        , 0.99819982, 0.99969997, 0.99849985,\n",
       "        0.99879988, 0.9978    , 0.9996    ]),\n",
       " 'split1_train_score': array([0.88108108, 0.91081081, 0.71891892, 0.74594595, 0.3027027 ,\n",
       "        0.31081081, 0.19459459, 1.        , 1.        , 1.        ,\n",
       "        1.        , 1.        , 1.        , 1.        , 1.        ,\n",
       "        1.        , 1.        , 1.        , 1.        , 1.        ,\n",
       "        1.        , 1.        , 1.        , 1.        , 1.        ,\n",
       "        1.        , 1.        , 1.        , 1.        , 1.        ,\n",
       "        1.        , 1.        , 1.        , 1.        , 1.        ,\n",
       "        0.99819982, 0.99819982, 0.99819982, 0.99819982, 0.99819982,\n",
       "        0.99819982, 0.99819982, 0.99819982, 0.99819982, 0.99819982,\n",
       "        0.99819982, 0.99819982, 0.98709871, 0.99519952, 0.99309931,\n",
       "        0.99459946,        nan,        nan]),\n",
       " 'split2_train_score': array([0.38918919, 0.41081081, 0.2       , 0.2027027 , 0.15675676,\n",
       "        0.15945946, 0.12702703, 1.        , 1.        , 1.        ,\n",
       "        1.        , 1.        , 1.        , 1.        , 1.        ,\n",
       "        1.        , 1.        , 1.        , 1.        , 1.        ,\n",
       "        1.        , 1.        , 1.        , 1.        , 1.        ,\n",
       "        1.        , 1.        , 1.        , 1.        , 1.        ,\n",
       "        1.        , 1.        , 1.        , 1.        , 1.        ,\n",
       "        0.99909991, 0.99909991, 0.99909991, 0.99909991, 0.99909991,\n",
       "        0.99909991, 0.99909991, 0.99909991, 0.99909991, 0.99909991,\n",
       "        0.99909991, 0.99909991, 0.99909991, 0.99909991, 0.99909991,\n",
       "        0.99909991,        nan,        nan]),\n",
       " 'split3_train_score': array([0.34324324, 0.34324324, 0.18108108, 0.18918919, 0.14054054,\n",
       "        0.14054054, 0.13513514, 1.        , 1.        , 1.        ,\n",
       "        1.        , 1.        , 1.        , 1.        , 1.        ,\n",
       "        1.        , 1.        , 1.        , 1.        , 1.        ,\n",
       "        1.        , 1.        , 1.        , 1.        , 1.        ,\n",
       "        1.        , 1.        , 1.        , 1.        , 1.        ,\n",
       "        1.        , 1.        , 1.        , 1.        , 1.        ,\n",
       "        0.99909991, 0.99909991, 0.99909991, 0.99909991, 0.99909991,\n",
       "        0.99909991, 0.99909991, 0.99909991, 0.99909991, 0.99909991,\n",
       "        0.99909991, 0.99909991, 0.99609961, 0.99939994, 0.99909991,\n",
       "        0.99819982,        nan, 0.9992    ]),\n",
       " 'split4_train_score': array([0.32702703, 0.32702703, 0.18108108, 0.18108108, 0.14054054,\n",
       "        0.14054054, 0.13513514, 1.        , 1.        , 1.        ,\n",
       "        1.        , 1.        , 1.        , 1.        , 1.        ,\n",
       "        1.        , 1.        , 1.        , 1.        , 1.        ,\n",
       "        1.        , 1.        , 1.        , 1.        , 1.        ,\n",
       "        1.        , 1.        , 1.        , 1.        , 1.        ,\n",
       "        1.        , 0.99189189, 1.        , 1.        , 1.        ,\n",
       "        1.        , 1.        , 0.99819982, 1.        , 1.        ,\n",
       "        1.        , 1.        , 1.        , 1.        , 1.        ,\n",
       "        1.        , 0.99909991, 1.        , 1.        , 1.        ,\n",
       "        0.99969997,        nan,        nan]),\n",
       " 'mean_train_score': array([0.4572973 , 0.46756757, 0.29351351, 0.30108108, 0.17783784,\n",
       "        0.18      , 0.14540541, 1.        , 1.        , 1.        ,\n",
       "        1.        , 1.        , 1.        , 1.        , 1.        ,\n",
       "        1.        , 1.        , 1.        , 1.        , 1.        ,\n",
       "        1.        , 1.        , 1.        , 1.        , 1.        ,\n",
       "        1.        , 1.        , 1.        , 1.        , 1.        ,\n",
       "        1.        , 0.99783784, 1.        , 1.        , 1.        ,\n",
       "        0.99927993, 0.99927993, 0.99891989, 0.99927993, 0.99927993,\n",
       "        0.99927993, 0.99927993, 0.99927993, 0.99927993, 0.99927993,\n",
       "        0.99927993, 0.99909991, 0.99609961, 0.99867987, 0.9979598 ,\n",
       "        0.99807981,        nan,        nan]),\n",
       " 'std_train_score': array([0.21288927, 0.22346628, 0.21281514, 0.22254652, 0.06272134,\n",
       "        0.06577292, 0.02479426, 0.        , 0.        , 0.        ,\n",
       "        0.        , 0.        , 0.        , 0.        , 0.        ,\n",
       "        0.        , 0.        , 0.        , 0.        , 0.        ,\n",
       "        0.        , 0.        , 0.        , 0.        , 0.        ,\n",
       "        0.        , 0.        , 0.        , 0.        , 0.        ,\n",
       "        0.        , 0.00315187, 0.        , 0.        , 0.        ,\n",
       "        0.00067357, 0.00067357, 0.00067357, 0.00067357, 0.00067357,\n",
       "        0.00067357, 0.00067357, 0.00067357, 0.00067357, 0.00067357,\n",
       "        0.00067357, 0.00056927, 0.00468278, 0.00176585, 0.00247702,\n",
       "        0.00180617,        nan,        nan])}"
      ]
     },
     "execution_count": 157,
     "metadata": {},
     "output_type": "execute_result"
    }
   ],
   "source": [
    "knn_tf_fit_read.cv_results_"
   ]
  },
  {
   "cell_type": "code",
   "execution_count": 48,
   "id": "34316566",
   "metadata": {},
   "outputs": [
    {
     "data": {
      "image/png": "[encoded data removed]",
      "text/plain": [
       "<Figure size 432x288 with 1 Axes>"
      ]
     },
     "metadata": {
      "needs_background": "light"
     },
     "output_type": "display_data"
    }
   ],
   "source": [
    "RocCurveDisplay.from_estimator(knn_tf_fit_read,X_test_tf, y_test)\n",
    "plt.title('ROC Curve Fake job Prediction KNN (IF-IDF)')\n",
    "plt.show()"
   ]
  },
  {
   "cell_type": "markdown",
   "id": "12147898",
   "metadata": {},
   "source": [
    "**Best result:**\n",
    "- The best result for KNN (IF_IDF) is test acurrcy score 0.985, with the AUC 0.91.\n",
    "- This model predict 100% of TN, but only 76% of the TP. "
   ]
  },
  {
   "cell_type": "markdown",
   "id": "600f1d64",
   "metadata": {},
   "source": [
    "**Best model model KNN**"
   ]
  },
  {
   "cell_type": "markdown",
   "id": "2b228ed7",
   "metadata": {},
   "source": [
    "| Best estimator  Model 4                                                                                                                                            | model | Vectorizer | Test Accuracy      | % TP | % TN | AUC  |   |   |   |   |\n",
    "|:------------------------------------------------------------------------------------------------------------------------------------------------------------------:|:-----:|:----------:|:------------------:|:----:|:----:|:----:|:---:|:---:|:---:|:---:|\n",
    "| 'classifier': KNeighborsClassifier(n_jobs=-1, n_neighbors=9), 'classifier__n_neighbors': 9, 'dim_reducer': PCA(n_components=0.8), 'dim_reducer__n_components': 0.8 | KNN   | IF-IDF     | 0.9852721849366145 | 0.76 | 1    | 0.91 |   |   |   |   |"
   ]
  },
  {
   "cell_type": "markdown",
   "id": "d7b2d5de",
   "metadata": {},
   "source": [
    "# 3.5 Random Forests<a id=\"3.5\"></a>\n",
    "<a href=\"#top\" class=\"btn btn-primary btn-sm\" role=\"button\" aria-pressed=\"true\" style=\"color:white\" data-toggle=\"popover\">Go to TOC</a>"
   ]
  },
  {
   "cell_type": "markdown",
   "id": "bb6f89af",
   "metadata": {},
   "source": [
    "Random Forests will benefit from carefully Hyperparameter tune, this will increase computing time. I will runing a basic model for RT trees for time managerment reason, will come back later to do some enhance job later."
   ]
  },
  {
   "cell_type": "markdown",
   "id": "9aa701a3",
   "metadata": {},
   "source": [
    "**plan**\n",
    "- Find a better n_estimators\n",
    " + run a base garidsearch with all default paramerters,only with different n_estimators, I will use X_rem_count, y_rem to run this test.\n",
    "- implement gridsearch\n",
    "\n",
    "**some variable use in this session:**\n",
    "- X_rem_count (X_reminder vectorized by CountVectorizer)\n",
    "- X_rem_tf (X_reminder vectorized by TF_IDF)\n",
    "- X_test_tf (x_test vectorized by TF_IDF)"
   ]
  },
  {
   "cell_type": "code",
   "execution_count": 149,
   "id": "1f889104",
   "metadata": {},
   "outputs": [],
   "source": [
    "# basic gridsearch to find a better n_estimators range\n",
    "\n",
    "pipe_basic=imbPipeline([\n",
    "    ('smote',SMOTE(random_state=42)),\n",
    "    ('scaler',MinMaxScaler()), # choose MinMaxScaler(), as I don't want to change the distribustion of features ans target \n",
    "    ('classifier',RandomForestClassifier())\n",
    "])\n",
    "n_lst=[100,200,300,500,700,1000]\n",
    "grid_rt_basic=[{\n",
    "    'classifier__n_estimators':n_lst,\n",
    "    'classifier':[RandomForestClassifier(n_jobs=-1)]\n",
    "}        \n",
    "]"
   ]
  },
  {
   "cell_type": "code",
   "execution_count": 150,
   "id": "124e326c",
   "metadata": {},
   "outputs": [],
   "source": [
    "basic_grid_rt=HalvingGridSearchCV(pipe_basic,grid_rt_basic,n_jobs=-1, min_resources=\"exhaust\", factor=3,verbose=2)"
   ]
  },
  {
   "cell_type": "code",
   "execution_count": 151,
   "id": "7152e06b",
   "metadata": {},
   "outputs": [
    {
     "name": "stdout",
     "output_type": "stream",
     "text": [
      "n_iterations: 2\n",
      "n_required_iterations: 2\n",
      "n_possible_iterations: 2\n",
      "min_resources_: 4171\n",
      "max_resources_: 12515\n",
      "aggressive_elimination: False\n",
      "factor: 3\n",
      "----------\n",
      "iter: 0\n",
      "n_candidates: 6\n",
      "n_resources: 4171\n",
      "Fitting 5 folds for each of 6 candidates, totalling 30 fits\n",
      "----------\n",
      "iter: 1\n",
      "n_candidates: 2\n",
      "n_resources: 12513\n",
      "Fitting 5 folds for each of 2 candidates, totalling 10 fits\n"
     ]
    }
   ],
   "source": [
    "basic_grid_rt_fit=basic_grid_rt.fit(X_rem_count, y_rem)"
   ]
  },
  {
   "cell_type": "code",
   "execution_count": 152,
   "id": "2c8cd880",
   "metadata": {},
   "outputs": [
    {
     "data": {
      "text/plain": [
       "['vectorized_df/base_grid_rt.pkl']"
      ]
     },
     "execution_count": 152,
     "metadata": {},
     "output_type": "execute_result"
    }
   ],
   "source": [
    "# save fit result\n",
    "joblib.dump(basic_grid_rt_fit,'vectorized_df/base_grid_rt.pkl')"
   ]
  },
  {
   "cell_type": "code",
   "execution_count": 173,
   "id": "a57d862d",
   "metadata": {},
   "outputs": [
    {
     "name": "stdout",
     "output_type": "stream",
     "text": [
      " the best params are :{'classifier': RandomForestClassifier(n_estimators=300, n_jobs=-1), 'classifier__n_estimators': 300}\n"
     ]
    }
   ],
   "source": [
    "print(f\" the best params are :{basic_grid_rt_fit.best_params_}\")"
   ]
  },
  {
   "cell_type": "markdown",
   "id": "f36f21d2",
   "metadata": {},
   "source": [
    "- For all the tests I run above, \n",
    "- The best n_estimators was 300, I will run a n_estimator range around 200 to 420 step 20."
   ]
  },
  {
   "cell_type": "code",
   "execution_count": 181,
   "id": "6d757bdf",
   "metadata": {},
   "outputs": [],
   "source": [
    "pipe_rt=imbPipeline([\n",
    "    ('smote',SMOTE(random_state=42)),\n",
    "    ('scaler',MinMaxScaler()), # choose MinMaxScaler(), as I don't want to change the distribustion of features ans target \n",
    "    ('dim_reducer', PCA()),\n",
    "    ('classifier',RandomForestClassifier())\n",
    "])\n",
    "\n",
    "n_list=list(range(200,420,20))\n",
    "grid_rt=[{\n",
    "    'dim_reducer':[None],\n",
    "    'classifier__n_estimators':n_list,\n",
    "    'classifier':[RandomForestClassifier(n_jobs=-1)]\n",
    "},\n",
    "{   'dim_reducer':[PCA()],\n",
    "    'dim_reducer__n_components':[0.95, 0.9, 0.85, 0.8],\n",
    "    'classifier__n_estimators':n_list,\n",
    "    'classifier':[RandomForestClassifier(n_jobs=-1,)]\n",
    "}        \n",
    "]"
   ]
  },
  {
   "cell_type": "code",
   "execution_count": 182,
   "id": "bdad80a4",
   "metadata": {},
   "outputs": [
    {
     "data": {
      "text/plain": [
       "[200, 220, 240, 260, 280, 300, 320, 340, 360, 380, 400]"
      ]
     },
     "execution_count": 182,
     "metadata": {},
     "output_type": "execute_result"
    }
   ],
   "source": [
    "# list of n_estimators\n",
    "n_list"
   ]
  },
  {
   "cell_type": "code",
   "execution_count": 183,
   "id": "350ebd81",
   "metadata": {},
   "outputs": [],
   "source": [
    "rt_hv=HalvingGridSearchCV(pipe_rt,grid_rt,n_jobs=-1, min_resources=\"exhaust\", factor=3,verbose=2)"
   ]
  },
  {
   "cell_type": "markdown",
   "id": "591d2c56",
   "metadata": {},
   "source": [
    "**CountVectorizer**"
   ]
  },
  {
   "cell_type": "code",
   "execution_count": null,
   "id": "0aa091cc",
   "metadata": {},
   "outputs": [],
   "source": [
    "rt_count_fit=rt_hv.fit(X_rem_count, y_rem)"
   ]
  },
  {
   "cell_type": "code",
   "execution_count": 84,
   "id": "aa49bdd1",
   "metadata": {},
   "outputs": [
    {
     "data": {
      "text/html": [
       "<style>#sk-container-id-3 {color: black;background-color: white;}#sk-container-id-3 pre{padding: 0;}#sk-container-id-3 div.sk-toggleable {background-color: white;}#sk-container-id-3 label.sk-toggleable__label {cursor: pointer;display: block;width: 100%;margin-bottom: 0;padding: 0.3em;box-sizing: border-box;text-align: center;}#sk-container-id-3 label.sk-toggleable__label-arrow:before {content: \"▸\";float: left;margin-right: 0.25em;color: #696969;}#sk-container-id-3 label.sk-toggleable__label-arrow:hover:before {color: black;}#sk-container-id-3 div.sk-estimator:hover label.sk-toggleable__label-arrow:before {color: black;}#sk-container-id-3 div.sk-toggleable__content {max-height: 0;max-width: 0;overflow: hidden;text-align: left;background-color: #f0f8ff;}#sk-container-id-3 div.sk-toggleable__content pre {margin: 0.2em;color: black;border-radius: 0.25em;background-color: #f0f8ff;}#sk-container-id-3 input.sk-toggleable__control:checked~div.sk-toggleable__content {max-height: 200px;max-width: 100%;overflow: auto;}#sk-container-id-3 input.sk-toggleable__control:checked~label.sk-toggleable__label-arrow:before {content: \"▾\";}#sk-container-id-3 div.sk-estimator input.sk-toggleable__control:checked~label.sk-toggleable__label {background-color: #d4ebff;}#sk-container-id-3 div.sk-label input.sk-toggleable__control:checked~label.sk-toggleable__label {background-color: #d4ebff;}#sk-container-id-3 input.sk-hidden--visually {border: 0;clip: rect(1px 1px 1px 1px);clip: rect(1px, 1px, 1px, 1px);height: 1px;margin: -1px;overflow: hidden;padding: 0;position: absolute;width: 1px;}#sk-container-id-3 div.sk-estimator {font-family: monospace;background-color: #f0f8ff;border: 1px dotted black;border-radius: 0.25em;box-sizing: border-box;margin-bottom: 0.5em;}#sk-container-id-3 div.sk-estimator:hover {background-color: #d4ebff;}#sk-container-id-3 div.sk-parallel-item::after {content: \"\";width: 100%;border-bottom: 1px solid gray;flex-grow: 1;}#sk-container-id-3 div.sk-label:hover label.sk-toggleable__label {background-color: #d4ebff;}#sk-container-id-3 div.sk-serial::before {content: \"\";position: absolute;border-left: 1px solid gray;box-sizing: border-box;top: 0;bottom: 0;left: 50%;z-index: 0;}#sk-container-id-3 div.sk-serial {display: flex;flex-direction: column;align-items: center;background-color: white;padding-right: 0.2em;padding-left: 0.2em;position: relative;}#sk-container-id-3 div.sk-item {position: relative;z-index: 1;}#sk-container-id-3 div.sk-parallel {display: flex;align-items: stretch;justify-content: center;background-color: white;position: relative;}#sk-container-id-3 div.sk-item::before, #sk-container-id-3 div.sk-parallel-item::before {content: \"\";position: absolute;border-left: 1px solid gray;box-sizing: border-box;top: 0;bottom: 0;left: 50%;z-index: -1;}#sk-container-id-3 div.sk-parallel-item {display: flex;flex-direction: column;z-index: 1;position: relative;background-color: white;}#sk-container-id-3 div.sk-parallel-item:first-child::after {align-self: flex-end;width: 50%;}#sk-container-id-3 div.sk-parallel-item:last-child::after {align-self: flex-start;width: 50%;}#sk-container-id-3 div.sk-parallel-item:only-child::after {width: 0;}#sk-container-id-3 div.sk-dashed-wrapped {border: 1px dashed gray;margin: 0 0.4em 0.5em 0.4em;box-sizing: border-box;padding-bottom: 0.4em;background-color: white;}#sk-container-id-3 div.sk-label label {font-family: monospace;font-weight: bold;display: inline-block;line-height: 1.2em;}#sk-container-id-3 div.sk-label-container {text-align: center;}#sk-container-id-3 div.sk-container {/* jupyter's `normalize.less` sets `[hidden] { display: none; }` but bootstrap.min.css set `[hidden] { display: none !important; }` so we also need the `!important` here to be able to override the default hidden behavior on the sphinx rendered scikit-learn.org. See: https://github.com/scikit-learn/scikit-learn/issues/21755 */display: inline-block !important;position: relative;}#sk-container-id-3 div.sk-text-repr-fallback {display: none;}</style><div id=\"sk-container-id-3\" class=\"sk-top-container\"><div class=\"sk-text-repr-fallback\"><pre>HalvingGridSearchCV(estimator=Pipeline(steps=[(&#x27;smote&#x27;, SMOTE(random_state=42)),\n",
       "                                              (&#x27;scaler&#x27;, MinMaxScaler()),\n",
       "                                              (&#x27;dim_reducer&#x27;, PCA()),\n",
       "                                              (&#x27;classifier&#x27;,\n",
       "                                               RandomForestClassifier())]),\n",
       "                    n_jobs=-1,\n",
       "                    param_grid=[{&#x27;classifier&#x27;: [RandomForestClassifier(n_jobs=-1)],\n",
       "                                 &#x27;classifier__n_estimators&#x27;: [650, 660, 670,\n",
       "                                                              680, 690, 700,\n",
       "                                                              710, 720, 730,\n",
       "                                                              740, 750, 760,\n",
       "                                                              770, 780, 790],\n",
       "                                 &#x27;dim_reducer&#x27;: [None]},\n",
       "                                {&#x27;classifier&#x27;: [RandomForestClassifier(n_estimators=790,\n",
       "                                                                       n_jobs=-1)],\n",
       "                                 &#x27;classifier__n_estimators&#x27;: [650, 660, 670,\n",
       "                                                              680, 690, 700,\n",
       "                                                              710, 720, 730,\n",
       "                                                              740, 750, 760,\n",
       "                                                              770, 780, 790],\n",
       "                                 &#x27;dim_reducer&#x27;: [PCA(n_components=0.85)],\n",
       "                                 &#x27;dim_reducer__n_components&#x27;: [0.95, 0.9, 0.85,\n",
       "                                                               0.8]}],\n",
       "                    verbose=2)</pre><b>In a Jupyter environment, please rerun this cell to show the HTML representation or trust the notebook. <br />On GitHub, the HTML representation is unable to render, please try loading this page with nbviewer.org.</b></div><div class=\"sk-container\" hidden><div class=\"sk-item sk-dashed-wrapped\"><div class=\"sk-label-container\"><div class=\"sk-label sk-toggleable\"><input class=\"sk-toggleable__control sk-hidden--visually\" id=\"sk-estimator-id-12\" type=\"checkbox\" ><label for=\"sk-estimator-id-12\" class=\"sk-toggleable__label sk-toggleable__label-arrow\">HalvingGridSearchCV</label><div class=\"sk-toggleable__content\"><pre>HalvingGridSearchCV(estimator=Pipeline(steps=[(&#x27;smote&#x27;, SMOTE(random_state=42)),\n",
       "                                              (&#x27;scaler&#x27;, MinMaxScaler()),\n",
       "                                              (&#x27;dim_reducer&#x27;, PCA()),\n",
       "                                              (&#x27;classifier&#x27;,\n",
       "                                               RandomForestClassifier())]),\n",
       "                    n_jobs=-1,\n",
       "                    param_grid=[{&#x27;classifier&#x27;: [RandomForestClassifier(n_jobs=-1)],\n",
       "                                 &#x27;classifier__n_estimators&#x27;: [650, 660, 670,\n",
       "                                                              680, 690, 700,\n",
       "                                                              710, 720, 730,\n",
       "                                                              740, 750, 760,\n",
       "                                                              770, 780, 790],\n",
       "                                 &#x27;dim_reducer&#x27;: [None]},\n",
       "                                {&#x27;classifier&#x27;: [RandomForestClassifier(n_estimators=790,\n",
       "                                                                       n_jobs=-1)],\n",
       "                                 &#x27;classifier__n_estimators&#x27;: [650, 660, 670,\n",
       "                                                              680, 690, 700,\n",
       "                                                              710, 720, 730,\n",
       "                                                              740, 750, 760,\n",
       "                                                              770, 780, 790],\n",
       "                                 &#x27;dim_reducer&#x27;: [PCA(n_components=0.85)],\n",
       "                                 &#x27;dim_reducer__n_components&#x27;: [0.95, 0.9, 0.85,\n",
       "                                                               0.8]}],\n",
       "                    verbose=2)</pre></div></div></div><div class=\"sk-parallel\"><div class=\"sk-parallel-item\"><div class=\"sk-item\"><div class=\"sk-label-container\"><div class=\"sk-label sk-toggleable\"><input class=\"sk-toggleable__control sk-hidden--visually\" id=\"sk-estimator-id-13\" type=\"checkbox\" ><label for=\"sk-estimator-id-13\" class=\"sk-toggleable__label sk-toggleable__label-arrow\">estimator: Pipeline</label><div class=\"sk-toggleable__content\"><pre>Pipeline(steps=[(&#x27;smote&#x27;, SMOTE(random_state=42)), (&#x27;scaler&#x27;, MinMaxScaler()),\n",
       "                (&#x27;dim_reducer&#x27;, PCA()),\n",
       "                (&#x27;classifier&#x27;, RandomForestClassifier())])</pre></div></div></div><div class=\"sk-serial\"><div class=\"sk-item\"><div class=\"sk-serial\"><div class=\"sk-item\"><div class=\"sk-estimator sk-toggleable\"><input class=\"sk-toggleable__control sk-hidden--visually\" id=\"sk-estimator-id-14\" type=\"checkbox\" ><label for=\"sk-estimator-id-14\" class=\"sk-toggleable__label sk-toggleable__label-arrow\">SMOTE</label><div class=\"sk-toggleable__content\"><pre>SMOTE(random_state=42)</pre></div></div></div><div class=\"sk-item\"><div class=\"sk-estimator sk-toggleable\"><input class=\"sk-toggleable__control sk-hidden--visually\" id=\"sk-estimator-id-15\" type=\"checkbox\" ><label for=\"sk-estimator-id-15\" class=\"sk-toggleable__label sk-toggleable__label-arrow\">MinMaxScaler</label><div class=\"sk-toggleable__content\"><pre>MinMaxScaler()</pre></div></div></div><div class=\"sk-item\"><div class=\"sk-estimator sk-toggleable\"><input class=\"sk-toggleable__control sk-hidden--visually\" id=\"sk-estimator-id-16\" type=\"checkbox\" ><label for=\"sk-estimator-id-16\" class=\"sk-toggleable__label sk-toggleable__label-arrow\">PCA</label><div class=\"sk-toggleable__content\"><pre>PCA()</pre></div></div></div><div class=\"sk-item\"><div class=\"sk-estimator sk-toggleable\"><input class=\"sk-toggleable__control sk-hidden--visually\" id=\"sk-estimator-id-17\" type=\"checkbox\" ><label for=\"sk-estimator-id-17\" class=\"sk-toggleable__label sk-toggleable__label-arrow\">RandomForestClassifier</label><div class=\"sk-toggleable__content\"><pre>RandomForestClassifier()</pre></div></div></div></div></div></div></div></div></div></div></div></div>"
      ],
      "text/plain": [
       "HalvingGridSearchCV(estimator=Pipeline(steps=[('smote', SMOTE(random_state=42)),\n",
       "                                              ('scaler', MinMaxScaler()),\n",
       "                                              ('dim_reducer', PCA()),\n",
       "                                              ('classifier',\n",
       "                                               RandomForestClassifier())]),\n",
       "                    n_jobs=-1,\n",
       "                    param_grid=[{'classifier': [RandomForestClassifier(n_jobs=-1)],\n",
       "                                 'classifier__n_estimators': [650, 660, 670,\n",
       "                                                              680, 690, 700,\n",
       "                                                              710, 720, 730,\n",
       "                                                              740, 750, 760,\n",
       "                                                              770, 780, 790],\n",
       "                                 'dim_reducer': [None]},\n",
       "                                {'classifier': [RandomForestClassifier(n_estimators=790,\n",
       "                                                                       n_jobs=-1)],\n",
       "                                 'classifier__n_estimators': [650, 660, 670,\n",
       "                                                              680, 690, 700,\n",
       "                                                              710, 720, 730,\n",
       "                                                              740, 750, 760,\n",
       "                                                              770, 780, 790],\n",
       "                                 'dim_reducer': [PCA(n_components=0.85)],\n",
       "                                 'dim_reducer__n_components': [0.95, 0.9, 0.85,\n",
       "                                                               0.8]}],\n",
       "                    verbose=2)"
      ]
     },
     "execution_count": 84,
     "metadata": {},
     "output_type": "execute_result"
    }
   ],
   "source": [
    "_79"
   ]
  },
  {
   "cell_type": "code",
   "execution_count": 88,
   "id": "e9349d99",
   "metadata": {},
   "outputs": [],
   "source": [
    "# dump with pickle capture result from cell 79\n",
    "with open('vectorized_df/rt_count_fit.pkl', 'wb') as f:\n",
    "    pickle.dump(_79, f)"
   ]
  },
  {
   "cell_type": "code",
   "execution_count": 21,
   "id": "dfd6cf12",
   "metadata": {},
   "outputs": [],
   "source": [
    "rt_count_fit_read=joblib.load('vectorized_df/rt_count_fit.pkl')"
   ]
  },
  {
   "cell_type": "code",
   "execution_count": 71,
   "id": "b0485cb2",
   "metadata": {},
   "outputs": [
    {
     "name": "stdout",
     "output_type": "stream",
     "text": [
      "The best estimator for Random Forests (CountVectorizer){'classifier': RandomForestClassifier(n_estimators=790, n_jobs=-1), 'classifier__n_estimators': 790, 'dim_reducer': PCA(n_components=0.85), 'dim_reducer__n_components': 0.85}\n"
     ]
    }
   ],
   "source": [
    "print(f\"The best estimator for Random Forests (CountVectorizer){rt_count_fit_read.best_params_}\")"
   ]
  },
  {
   "cell_type": "code",
   "execution_count": 26,
   "id": "6dcfcaee",
   "metadata": {},
   "outputs": [
    {
     "data": {
      "text/plain": [
       "0.9681208053691275"
      ]
     },
     "execution_count": 26,
     "metadata": {},
     "output_type": "execute_result"
    }
   ],
   "source": [
    "rt_count_fit_read.score(X_test_count, y_test)"
   ]
  },
  {
   "cell_type": "code",
   "execution_count": 27,
   "id": "68f4a310",
   "metadata": {},
   "outputs": [
    {
     "data": {
      "image/png": "[encoded data removed]",
      "text/plain": [
       "<Figure size 432x288 with 2 Axes>"
      ]
     },
     "metadata": {
      "needs_background": "light"
     },
     "output_type": "display_data"
    }
   ],
   "source": [
    "ConfusionMatrixDisplay.from_estimator(rt_count_fit_read,X_test_count, y_test,normalize='true')\n",
    "plt.title('Random Forests ConfusionMatrix with CountVectorizer')\n",
    "plt.show()"
   ]
  },
  {
   "cell_type": "code",
   "execution_count": 28,
   "id": "4fa04748",
   "metadata": {},
   "outputs": [
    {
     "data": {
      "image/png": "[encoded data removed]",
      "text/plain": [
       "<Figure size 432x288 with 1 Axes>"
      ]
     },
     "metadata": {
      "needs_background": "light"
     },
     "output_type": "display_data"
    }
   ],
   "source": [
    "RocCurveDisplay.from_estimator(rt_count_fit_read,X_test_count, y_test)\n",
    "plt.title('ROC Curve Fake job post with model Random Forests (CountVectorizer)')\n",
    "plt.show()"
   ]
  },
  {
   "cell_type": "markdown",
   "id": "2cabb9bd",
   "metadata": {},
   "source": [
    "**Best result:**\n",
    "- The best result for Random Forests (CountVectorizer) is test acurrcy score 0.968, with the AUC 0.98.\n",
    "- This model predict 99% of TN, but only 47% of the TP. Clearly this model does not have a superior ability for dectect FAKE JOBS. "
   ]
  },
  {
   "cell_type": "markdown",
   "id": "b93c4554",
   "metadata": {},
   "source": [
    "**IF-IDF**\n",
    "\n",
    "- note: This fit process will take a very long time, you can skip this step by loading my fit result."
   ]
  },
  {
   "cell_type": "code",
   "execution_count": 10,
   "id": "92b162da",
   "metadata": {},
   "outputs": [
    {
     "name": "stdout",
     "output_type": "stream",
     "text": [
      "n_iterations: 4\n",
      "n_required_iterations: 4\n",
      "n_possible_iterations: 4\n",
      "min_resources_: 463\n",
      "max_resources_: 12515\n",
      "aggressive_elimination: False\n",
      "factor: 3\n",
      "----------\n",
      "iter: 0\n",
      "n_candidates: 75\n",
      "n_resources: 463\n",
      "Fitting 5 folds for each of 75 candidates, totalling 375 fits\n",
      "----------\n",
      "iter: 1\n",
      "n_candidates: 25\n",
      "n_resources: 1389\n",
      "Fitting 5 folds for each of 25 candidates, totalling 125 fits\n",
      "----------\n",
      "iter: 2\n",
      "n_candidates: 9\n",
      "n_resources: 4167\n",
      "Fitting 5 folds for each of 9 candidates, totalling 45 fits\n",
      "----------\n",
      "iter: 3\n",
      "n_candidates: 3\n",
      "n_resources: 12501\n",
      "Fitting 5 folds for each of 3 candidates, totalling 15 fits\n"
     ]
    }
   ],
   "source": [
    "rt_tf_fit=rt_hv.fit(X_rem_tf, y_rem)"
   ]
  },
  {
   "cell_type": "code",
   "execution_count": 11,
   "id": "04743e75",
   "metadata": {},
   "outputs": [
    {
     "data": {
      "text/plain": [
       "['vectorized_df/rt_tf_fit.pkl']"
      ]
     },
     "execution_count": 11,
     "metadata": {},
     "output_type": "execute_result"
    }
   ],
   "source": [
    "# dump result\n",
    "joblib.dump(rt_tf_fit, 'vectorized_df/rt_tf_fit.pkl')"
   ]
  },
  {
   "cell_type": "code",
   "execution_count": 13,
   "id": "47df8b32",
   "metadata": {},
   "outputs": [],
   "source": [
    "# load pre fit randomforests (IF_IDF)\n",
    "rt_tf_fit_read=joblib.load('vectorized_df/rt_tf_fit.pkl')"
   ]
  },
  {
   "cell_type": "code",
   "execution_count": 72,
   "id": "6201119a",
   "metadata": {},
   "outputs": [
    {
     "name": "stdout",
     "output_type": "stream",
     "text": [
      "Best estimator for Random Forests (TF_IDF) is {'classifier': RandomForestClassifier(n_estimators=690, n_jobs=-1), 'classifier__n_estimators': 690, 'dim_reducer': None}\n"
     ]
    }
   ],
   "source": [
    "print(f\"Best estimator for Random Forests (TF_IDF) is {rt_tf_fit_read.best_params_}\")"
   ]
  },
  {
   "cell_type": "code",
   "execution_count": 17,
   "id": "e08cb220",
   "metadata": {},
   "outputs": [
    {
     "data": {
      "text/plain": [
       "0.9832214765100671"
      ]
     },
     "execution_count": 17,
     "metadata": {},
     "output_type": "execute_result"
    }
   ],
   "source": [
    "rt_tf_fit_read.score(X_test_tf, y_test)"
   ]
  },
  {
   "cell_type": "code",
   "execution_count": 19,
   "id": "b559c865",
   "metadata": {},
   "outputs": [
    {
     "data": {
      "image/png": "[encoded data removed]",
      "text/plain": [
       "<Figure size 432x288 with 2 Axes>"
      ]
     },
     "metadata": {
      "needs_background": "light"
     },
     "output_type": "display_data"
    }
   ],
   "source": [
    "ConfusionMatrixDisplay.from_estimator(rt_tf_fit_read,X_test_tf, y_test,normalize='true')\n",
    "plt.title('Random Forests ConfusionMatrix with TF_IDF')\n",
    "plt.show()"
   ]
  },
  {
   "cell_type": "code",
   "execution_count": 20,
   "id": "c0b4ef93",
   "metadata": {},
   "outputs": [
    {
     "data": {
      "image/png": "[encoded data removed]",
      "text/plain": [
       "<Figure size 432x288 with 1 Axes>"
      ]
     },
     "metadata": {
      "needs_background": "light"
     },
     "output_type": "display_data"
    }
   ],
   "source": [
    "RocCurveDisplay.from_estimator(rt_tf_fit_read,X_test_tf, y_test)\n",
    "plt.title('ROC Curve Fake job post with model Random Forests (TF_IDF)')\n",
    "plt.show()"
   ]
  },
  {
   "cell_type": "markdown",
   "id": "897a6bcb",
   "metadata": {},
   "source": [
    "**Best result:**\n",
    "- The best result for Random Forests (TF_IDF) is test acurrcy score 0.983, with the AUC 0.99.\n",
    "- This model predict 100% of TN, but 65% of the TP. Compare with the previous model, this one has a better performance. "
   ]
  },
  {
   "cell_type": "markdown",
   "id": "58be6a10",
   "metadata": {},
   "source": [
    "**Best model model Random Forests**"
   ]
  },
  {
   "cell_type": "markdown",
   "id": "453e6d28",
   "metadata": {},
   "source": [
    "| Best estimator  Model 5                                                                                                 | model          | Vectorizer | Test Accuracy      | % TP  | % TN | AUC  |   |   |   |   |\n",
    "|:-----------------------------------------------------------------------------------------------------------------------:|:--------------:|:----------:|:------------------:|:-----:|:----:|:----:|:---:|:---:|:---:|:---:|\n",
    "| 'classifier': RandomForestClassifier(n_estimators=690, n_jobs=-1), 'classifier__n_estimators': 690, 'dim_reducer': None | Random Forests | IF-IDF     | 0.9832214765100671 | 0.65\t | 1    | 0.99 |   |   |   |   |"
   ]
  },
  {
   "cell_type": "markdown",
   "id": "49220062",
   "metadata": {},
   "source": [
    "# 3.6 XGBoost<a id=\"3.6\"></a>\n",
    "<a href=\"#top\" class=\"btn btn-primary btn-sm\" role=\"button\" aria-pressed=\"true\" style=\"color:white\" data-toggle=\"popover\">Go to TOC</a>"
   ]
  },
  {
   "cell_type": "markdown",
   "id": "fd8f1bf4",
   "metadata": {},
   "source": [
    "**plan**\n",
    "- Find a better n_estimators\n",
    " + split reminder into test and validate set finding a better n_estimators (Already done this is in the dummy base model session)\n",
    "- implement gridsearch\n",
    "\n",
    "**some variable use in this session:**\n",
    "- X_rem_count (X_reminder vectorized by CountVectorizer)\n",
    "- X_rem_tf (X_reminder vectorized by TF_IDF)\n",
    "- X_test_tf (x_test vectorized by TF_IDF)"
   ]
  },
  {
   "cell_type": "markdown",
   "id": "5e21a152",
   "metadata": {},
   "source": [
    "**Find a proper n**"
   ]
  },
  {
   "cell_type": "code",
   "execution_count": null,
   "id": "e6dfaeca",
   "metadata": {},
   "outputs": [],
   "source": [
    "n_list=[50,100,200,300,500,700,900,1000]\n",
    "val_acc_xg=[]\n",
    "train_acc_xg=[]\n",
    "for n in n_list:\n",
    "    xg_v=([\n",
    "    ('smote',SMOTE(random_state=42)),\n",
    "    ('scaler',MinMaxScaler()),\n",
    "    ('classifier',XGBClassifier(n_estimators=n))])\n",
    "    pipe_xg_v=imbPipeline(xg_v)\n",
    "    pipe_xg_v.fit(X_train,y_train)\n",
    "    val_acc_xg.append(pipe_xg_v.score(X_val,y_val))\n",
    "    train_acc_xg.append(pipe_xg_v.score(X_train,y_train))"
   ]
  },
  {
   "cell_type": "code",
   "execution_count": null,
   "id": "cf8b8b26",
   "metadata": {},
   "outputs": [],
   "source": [
    "pipe_xg=imbPipeline([\n",
    "    ('smote',SMOTE(random_state=42)),\n",
    "    ('scaler',MinMaxScaler()), # choose MinMaxScaler(), as I don't want to change the distribustion of features ans target \n",
    "    ('dim_reducer', PCA()),\n",
    "    ('classifier',XGBClassifier())\n",
    "])\n",
    "\n",
    "n_list=list(range(650,800,10))\n",
    "grid_rt=[{\n",
    "    'dim_reducer':[None],\n",
    "    'classifier__n_estimators':n_list,\n",
    "    'classifier':[XGBClassifier(n_jobs=-1)]\n",
    "},\n",
    "{   'dim_reducer':[PCA()],\n",
    "    'dim_reducer__n_components':[0.95, 0.9, 0.85, 0.8],\n",
    "    'classifier__n_estimators':n_list,\n",
    "    'classifier':[XGBClassifier(n_jobs=-1,)]\n",
    "}        \n",
    "]"
   ]
  }
 ],
 "metadata": {
  "kernelspec": {
   "display_name": "Python 3 (ipykernel)",
   "language": "python",
   "name": "python3"
  },
  "language_info": {
   "codemirror_mode": {
    "name": "ipython",
    "version": 3
   },
   "file_extension": ".py",
   "mimetype": "text/x-python",
   "name": "python",
   "nbconvert_exporter": "python",
   "pygments_lexer": "ipython3",
   "version": "3.9.7"
  }
 },
 "nbformat": 4,
 "nbformat_minor": 5
}
