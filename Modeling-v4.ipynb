{
 "cells": [
  {
   "cell_type": "markdown",
   "id": "25bb34ac",
   "metadata": {},
   "source": [
    "# Fake job Detection: Investigating fake posts to avoid the job scam\n",
    "\n",
    "# Notebook 4 Modeling\n",
    "\n",
    "**Fourth setp: Modeling**\n",
    "\n",
    "By: Polly Pang\n",
    "\n",
    "In this portion of the notebook, I will working on the NLP process, convert text column into Sparse metrics. Create baseline model and base on the baseline do some further study."
   ]
  },
  {
   "cell_type": "markdown",
   "id": "5440e9e4",
   "metadata": {},
   "source": [
    "----"
   ]
  },
  {
   "cell_type": "markdown",
   "id": "5f40613d",
   "metadata": {},
   "source": [
    "<a id=\"top\"></a>\n",
    "<div class=\"list-group\" id=\"list-tab\" role=\"tablist\">\n",
    "<h3 class=\"list-group-item list-group-item-action active\" data-toggle=\"list\" role=\"tab\" aria-controls=\"home\"> Contents</h3>\n",
    "\n",
    "* [1. Libraries](#1)\n",
    "* [2. NLP](#2)\n",
    "    - [2.1 Target and Feature](#2.1)\n",
    "    - [2.2 vectorization](#2.2)\n",
    "    - [2.2 vectorization](#2.3)\n",
    "* [3. Modeling](#3)\n",
    "    - [3.1 DummyClassifier and baseline](#3.1)\n",
    "    - [3.2 oversampling](#3.2)\n",
    "    - [3.3 Logistic regression](#3.3)\n",
    "    - [3.4 KNN](#3.4)\n",
    "    - [3.5 Random Forests](#3.5)\n",
    "    - [3.6 XGBoost](#3.6)\n",
    "\n",
    "    \n",
    "    \n",
    "    \n",
    "* [7. End of Notebook 4](#7)"
   ]
  },
  {
   "cell_type": "markdown",
   "id": "739dd6a8",
   "metadata": {},
   "source": [
    "# 1. Libraries <a id=\"1\"></a>"
   ]
  },
  {
   "cell_type": "code",
   "execution_count": 56,
   "id": "1035c89e",
   "metadata": {},
   "outputs": [],
   "source": [
    "import numpy as np\n",
    "import pandas as pd\n",
    "import matplotlib.pyplot as plt\n",
    "import seaborn as sns\n",
    "import random\n",
    "import joblib\n",
    "import pickle\n",
    "\n",
    "# NLP \n",
    "import nltk\n",
    "import string\n",
    "from nltk.tokenize import word_tokenize\n",
    "from nltk.corpus import stopwords\n",
    "from sklearn.feature_extraction.text import TfidfVectorizer\n",
    "from sklearn.feature_extraction.text import CountVectorizer\n",
    "\n",
    "\n",
    "from imblearn.over_sampling import SMOTE\n",
    "from sklearn.pipeline import Pipeline\n",
    "from imblearn.pipeline import Pipeline as imbPipeline\n",
    "from sklearn.compose import ColumnTransformer\n",
    "\n",
    "#from sklearn.model_selection import GridSearchCV\n",
    "#from sklearn.model_selection import RandomizedSearchCV\n",
    "#from sklearn.model_selection import RepeatedStratifiedKFold\n",
    "from sklearn.experimental import enable_halving_search_cv\n",
    "from sklearn.model_selection import HalvingGridSearchCV\n",
    "from sklearn.model_selection import cross_val_score\n",
    "\n",
    "\n",
    "from sklearn.decomposition import PCA\n",
    "from sklearn.preprocessing import MinMaxScaler\n",
    "\n",
    "from sklearn.model_selection import train_test_split\n",
    "from sklearn.metrics import confusion_matrix,ConfusionMatrixDisplay\n",
    "from sklearn.metrics import RocCurveDisplay\n",
    "from sklearn.metrics import f1_score\n",
    "from sklearn.metrics import classification_report\n",
    "\n",
    "\n",
    "from wordcloud import WordCloud\n",
    "\n",
    "\n",
    "# model\n",
    "from sklearn.linear_model import LogisticRegression\n",
    "from sklearn.dummy import DummyClassifier\n",
    "from sklearn.neighbors import KNeighborsClassifier\n",
    "from sklearn.ensemble import RandomForestClassifier\n",
    "from xgboost import XGBClassifier\n",
    "\n",
    "\n",
    "# Ignore futurewarnings\n",
    "import warnings\n",
    "warnings.filterwarnings('ignore')"
   ]
  },
  {
   "cell_type": "code",
   "execution_count": 2,
   "id": "8a148358",
   "metadata": {},
   "outputs": [],
   "source": [
    "# load data\n",
    "model_df=joblib.load('data/df_model_full_df.pkl')"
   ]
  },
  {
   "cell_type": "code",
   "execution_count": 3,
   "id": "579a26da",
   "metadata": {},
   "outputs": [
    {
     "data": {
      "text/html": [
       "<div>\n",
       "<style scoped>\n",
       "    .dataframe tbody tr th:only-of-type {\n",
       "        vertical-align: middle;\n",
       "    }\n",
       "\n",
       "    .dataframe tbody tr th {\n",
       "        vertical-align: top;\n",
       "    }\n",
       "\n",
       "    .dataframe thead th {\n",
       "        text-align: right;\n",
       "    }\n",
       "</style>\n",
       "<table border=\"1\" class=\"dataframe\">\n",
       "  <thead>\n",
       "    <tr style=\"text-align: right;\">\n",
       "      <th></th>\n",
       "      <th>has_salary_range</th>\n",
       "      <th>telecommuting</th>\n",
       "      <th>has_company_logo</th>\n",
       "      <th>has_questions</th>\n",
       "      <th>fraudulent</th>\n",
       "      <th>text</th>\n",
       "    </tr>\n",
       "  </thead>\n",
       "  <tbody>\n",
       "    <tr>\n",
       "      <th>0</th>\n",
       "      <td>0</td>\n",
       "      <td>0</td>\n",
       "      <td>1</td>\n",
       "      <td>0</td>\n",
       "      <td>0</td>\n",
       "      <td>Marketing Intern Marketing We're Food52, and w...</td>\n",
       "    </tr>\n",
       "    <tr>\n",
       "      <th>1</th>\n",
       "      <td>0</td>\n",
       "      <td>0</td>\n",
       "      <td>1</td>\n",
       "      <td>0</td>\n",
       "      <td>0</td>\n",
       "      <td>Commissioning Machinery Assistant (CMA) Blank ...</td>\n",
       "    </tr>\n",
       "    <tr>\n",
       "      <th>2</th>\n",
       "      <td>0</td>\n",
       "      <td>0</td>\n",
       "      <td>1</td>\n",
       "      <td>0</td>\n",
       "      <td>0</td>\n",
       "      <td>Account Executive - Washington DC Sales Our pa...</td>\n",
       "    </tr>\n",
       "    <tr>\n",
       "      <th>3</th>\n",
       "      <td>0</td>\n",
       "      <td>0</td>\n",
       "      <td>1</td>\n",
       "      <td>1</td>\n",
       "      <td>0</td>\n",
       "      <td>Bill Review Manager Blank SpotSource Solutions...</td>\n",
       "    </tr>\n",
       "    <tr>\n",
       "      <th>4</th>\n",
       "      <td>0</td>\n",
       "      <td>0</td>\n",
       "      <td>0</td>\n",
       "      <td>0</td>\n",
       "      <td>0</td>\n",
       "      <td>Accounting Clerk Blank Blank Job OverviewApex ...</td>\n",
       "    </tr>\n",
       "  </tbody>\n",
       "</table>\n",
       "</div>"
      ],
      "text/plain": [
       "   has_salary_range  telecommuting  has_company_logo  has_questions  \\\n",
       "0                 0              0                 1              0   \n",
       "1                 0              0                 1              0   \n",
       "2                 0              0                 1              0   \n",
       "3                 0              0                 1              1   \n",
       "4                 0              0                 0              0   \n",
       "\n",
       "   fraudulent                                               text  \n",
       "0           0  Marketing Intern Marketing We're Food52, and w...  \n",
       "1           0  Commissioning Machinery Assistant (CMA) Blank ...  \n",
       "2           0  Account Executive - Washington DC Sales Our pa...  \n",
       "3           0  Bill Review Manager Blank SpotSource Solutions...  \n",
       "4           0  Accounting Clerk Blank Blank Job OverviewApex ...  "
      ]
     },
     "execution_count": 3,
     "metadata": {},
     "output_type": "execute_result"
    }
   ],
   "source": [
    "model_df.head()"
   ]
  },
  {
   "cell_type": "markdown",
   "id": "4e35e5d9",
   "metadata": {},
   "source": [
    "---"
   ]
  },
  {
   "cell_type": "markdown",
   "id": "101b0b24",
   "metadata": {},
   "source": [
    "# 2. NLP"
   ]
  },
  {
   "cell_type": "markdown",
   "id": "50cedde1",
   "metadata": {},
   "source": [
    "## 2.1 Target and Feature<a id=\"2.1\"></a>\n",
    "<a href=\"#top\" class=\"btn btn-primary btn-sm\" role=\"button\" aria-pressed=\"true\" style=\"color:white\" data-toggle=\"popover\">Go to TOC</a>"
   ]
  },
  {
   "cell_type": "markdown",
   "id": "d6d68cc0",
   "metadata": {},
   "source": [
    "**plan**\n",
    "- Define X and y, Target :`fraudulent`, Features:`has_salary_range`,`telecommuting`,`has_company_logo`,`has_questions`,and `text`.\n",
    "- split data into test set and reminder set, as I will process Cross-Validation in the follwing part, so I will not split my dataset into train and test.\n",
    "- investigate the distribustion of reminder set."
   ]
  },
  {
   "cell_type": "code",
   "execution_count": 4,
   "id": "7b604211",
   "metadata": {},
   "outputs": [],
   "source": [
    "# X and y\n",
    "X=model_df.drop('fraudulent',axis=1)\n",
    "y=model_df['fraudulent']"
   ]
  },
  {
   "cell_type": "code",
   "execution_count": 5,
   "id": "14bb3ab5",
   "metadata": {},
   "outputs": [
    {
     "name": "stdout",
     "output_type": "stream",
     "text": [
      "The shape of Target is (17879,), and shape of feature is (17879, 5)\n"
     ]
    }
   ],
   "source": [
    "# rows x columns\n",
    "print(f'The shape of Target is {y.shape}, and shape of feature is {X.shape}')"
   ]
  },
  {
   "cell_type": "code",
   "execution_count": 6,
   "id": "91f86c05",
   "metadata": {},
   "outputs": [],
   "source": [
    "X_rem,X_test,y_rem,y_test=train_test_split(X,y,test_size=0.3,random_state=5, stratify=y)"
   ]
  },
  {
   "cell_type": "code",
   "execution_count": 7,
   "id": "479a436b",
   "metadata": {},
   "outputs": [
    {
     "data": {
      "text/html": [
       "<div>\n",
       "<style scoped>\n",
       "    .dataframe tbody tr th:only-of-type {\n",
       "        vertical-align: middle;\n",
       "    }\n",
       "\n",
       "    .dataframe tbody tr th {\n",
       "        vertical-align: top;\n",
       "    }\n",
       "\n",
       "    .dataframe thead th {\n",
       "        text-align: right;\n",
       "    }\n",
       "</style>\n",
       "<table border=\"1\" class=\"dataframe\">\n",
       "  <thead>\n",
       "    <tr style=\"text-align: right;\">\n",
       "      <th></th>\n",
       "      <th>has_salary_range</th>\n",
       "      <th>telecommuting</th>\n",
       "      <th>has_company_logo</th>\n",
       "      <th>has_questions</th>\n",
       "      <th>text</th>\n",
       "    </tr>\n",
       "  </thead>\n",
       "  <tbody>\n",
       "    <tr>\n",
       "      <th>4310</th>\n",
       "      <td>0</td>\n",
       "      <td>0</td>\n",
       "      <td>1</td>\n",
       "      <td>1</td>\n",
       "      <td>Creative Director - Art Blank Kettle is an ind...</td>\n",
       "    </tr>\n",
       "    <tr>\n",
       "      <th>11082</th>\n",
       "      <td>0</td>\n",
       "      <td>0</td>\n",
       "      <td>1</td>\n",
       "      <td>0</td>\n",
       "      <td>CDL Driver Blank ABC Supply Co., Inc. is the n...</td>\n",
       "    </tr>\n",
       "    <tr>\n",
       "      <th>14188</th>\n",
       "      <td>0</td>\n",
       "      <td>0</td>\n",
       "      <td>1</td>\n",
       "      <td>0</td>\n",
       "      <td>Data Analyst (Marketing) Blank Blank We are lo...</td>\n",
       "    </tr>\n",
       "    <tr>\n",
       "      <th>8280</th>\n",
       "      <td>0</td>\n",
       "      <td>0</td>\n",
       "      <td>1</td>\n",
       "      <td>1</td>\n",
       "      <td>Channel Representative Blank Intercom (# is a ...</td>\n",
       "    </tr>\n",
       "    <tr>\n",
       "      <th>13924</th>\n",
       "      <td>0</td>\n",
       "      <td>0</td>\n",
       "      <td>1</td>\n",
       "      <td>0</td>\n",
       "      <td>Programmatic Media Manager Media Since 1978Our...</td>\n",
       "    </tr>\n",
       "  </tbody>\n",
       "</table>\n",
       "</div>"
      ],
      "text/plain": [
       "       has_salary_range  telecommuting  has_company_logo  has_questions  \\\n",
       "4310                  0              0                 1              1   \n",
       "11082                 0              0                 1              0   \n",
       "14188                 0              0                 1              0   \n",
       "8280                  0              0                 1              1   \n",
       "13924                 0              0                 1              0   \n",
       "\n",
       "                                                    text  \n",
       "4310   Creative Director - Art Blank Kettle is an ind...  \n",
       "11082  CDL Driver Blank ABC Supply Co., Inc. is the n...  \n",
       "14188  Data Analyst (Marketing) Blank Blank We are lo...  \n",
       "8280   Channel Representative Blank Intercom (# is a ...  \n",
       "13924  Programmatic Media Manager Media Since 1978Our...  "
      ]
     },
     "execution_count": 7,
     "metadata": {},
     "output_type": "execute_result"
    }
   ],
   "source": [
    "# take a look at X_rem\n",
    "X_rem.head()"
   ]
  },
  {
   "cell_type": "code",
   "execution_count": 10,
   "id": "a4c0428c",
   "metadata": {},
   "outputs": [
    {
     "data": {
      "text/plain": [
       "array([0, 1], dtype=int64)"
      ]
     },
     "execution_count": 10,
     "metadata": {},
     "output_type": "execute_result"
    }
   ],
   "source": [
    "y_rem.unique()"
   ]
  },
  {
   "cell_type": "code",
   "execution_count": 11,
   "id": "e217741d",
   "metadata": {},
   "outputs": [
    {
     "name": "stdout",
     "output_type": "stream",
     "text": [
      "The shape of X_rem is (12515, 5)\n",
      "The shape of X_test is (5364, 5)\n"
     ]
    }
   ],
   "source": [
    "print(f\"The shape of X_rem is {X_rem.shape}\")\n",
    "print(f\"The shape of X_test is {X_test.shape}\")"
   ]
  },
  {
   "cell_type": "code",
   "execution_count": 12,
   "id": "771b5d01",
   "metadata": {},
   "outputs": [
    {
     "name": "stdout",
     "output_type": "stream",
     "text": [
      "The shape of y_rem is (12515,)\n",
      "The shape of y_test is (5364,)\n"
     ]
    }
   ],
   "source": [
    "print(f\"The shape of y_rem is {y_rem.shape}\")\n",
    "print(f\"The shape of y_test is {y_test.shape}\")"
   ]
  },
  {
   "cell_type": "markdown",
   "id": "60861cdd",
   "metadata": {},
   "source": [
    "**Distribution of y_train**"
   ]
  },
  {
   "cell_type": "code",
   "execution_count": 11,
   "id": "7a8b1366",
   "metadata": {},
   "outputs": [
    {
     "data": {
      "image/png": "[encoded data removed]",
      "text/plain": [
       "<Figure size 1440x432 with 2 Axes>"
      ]
     },
     "metadata": {
      "needs_background": "light"
     },
     "output_type": "display_data"
    }
   ],
   "source": [
    "plt.figure(figsize=(20,6))\n",
    "plt.subplot(1,2,1)\n",
    "y_rem.value_counts().plot(kind='bar')\n",
    "plt.title(\"Distribution of job post Train\")\n",
    "plt.xlabel(\"Fake or not\")\n",
    "plt.ylabel('count')\n",
    "\n",
    "plt.subplot(1,2,2)\n",
    "y_test.value_counts().plot(kind='bar',color='red')\n",
    "plt.title(\"Distribution of job post Test\")\n",
    "plt.xlabel(\"Fake or not\")\n",
    "plt.ylabel('count')\n",
    "plt.show()"
   ]
  },
  {
   "cell_type": "markdown",
   "id": "16817dec",
   "metadata": {},
   "source": [
    "- It is clear the train set is very embalanced, I need to balace the train set before modeling.\n",
    "- I don't want to touch test set, as most of the process on the test set may cause data leaking, or introduce bais in the test set.\n",
    "- The test set may need upsampling to make it more balance, I will do some further investigate in the following part."
   ]
  },
  {
   "cell_type": "markdown",
   "id": "d44ba4fe",
   "metadata": {},
   "source": [
    "## 2.2 vectorization <a id=\"2.2\"></a>\n",
    "<a href=\"#top\" class=\"btn btn-primary btn-sm\" role=\"button\" aria-pressed=\"true\" style=\"color:white\" data-toggle=\"popover\">Go to TOC</a>"
   ]
  },
  {
   "cell_type": "markdown",
   "id": "27405cd2",
   "metadata": {},
   "source": [
    "\n",
    "**Plan**:\n",
    "\n",
    "Function tokenizer:\n",
    "- Implement Stemmer\n",
    "- Remove Punctuation\n",
    "- Remove Stopwords\n",
    "- Stem words\n",
    "- plot wordcloud"
   ]
  },
  {
   "cell_type": "code",
   "execution_count": 58,
   "id": "00811079",
   "metadata": {},
   "outputs": [],
   "source": [
    "# init stemmer\n",
    "stemmer = nltk.stem.PorterStemmer()\n",
    "# make tokens\n",
    "def tokenizer(text):\n",
    "    non_pun=''.join([w for w in text.lower() if w not in string.punctuation])\n",
    "    #print(type(non_pun),non_pun)\n",
    "\n",
    "    lst_words=non_pun.split(' ')\n",
    "    #print(lst_words)\n",
    "    # remove stop words and stem\n",
    "    lst_out=[]\n",
    "    for w in lst_words:\n",
    "        if (w not in stopwords.words('english')) and (w != \"\"):\n",
    "            stemmed_word = stemmer.stem(w)\n",
    "            lst_out.append(stemmed_word)\n",
    "    return lst_out"
   ]
  },
  {
   "cell_type": "code",
   "execution_count": 14,
   "id": "24fe2d1e",
   "metadata": {},
   "outputs": [
    {
     "data": {
      "text/plain": [
       "\"Commissioning Machinery Assistant (CMA) Blank Valor Services provides Workforce Solutions that meet the needs of companies across the Private Sector, with a special focus on the Oil &amp; Gas Industry. Valor Services will be involved with you throughout every step of the hiring process and remain in contact with you all the way through the final step of signing of the employment contract with your new employer. Valor Services was founded with the vision of employing the unique skills, experiences, and qualities of America s finest veterans to provide Private Sector companies with precise and concerted value-added services and America s finest Veterans with an optimized career opportunity.We are eager to get the word out to veterans that there are ample opportunities for employment in the private sector and that you are the ideal candidates to fill those positions. Valor Services Your Success is Our Mission. Our client, located in Houston, is actively seeking an experienced Commissioning Machinery Assistant that possesses strong supervisory skills and has an attention to detail. A strong dedication to safety is a must. The ideal candidate will execute all activities while complying with quality requirements and health, environmental, and safety regulations. Implement pre-commissioning and commissioning procedures for rotary equipment.Execute all activities with subcontractor s assigned crew that pertains to the discipline.Ensure effective utilization of commissioning manpower and consumables.Ensure the execution of vendor specialists' field activities with the assigned resources from the sub-contractor per vendor s representative plans.Carry out equipment inspections with client representatives and ensure proper certification is produced.Prepare forms for all pending tests and submit signed certificates for final hand over to the certification engineer for QA and QC.Coordinate in the field with vendor representatives.Keep records of all activities.Ensure that safety practices are strictly followed during the execution of activities.Report progress and constraints to the mechanical supervisor.Possible authorization by site manager to receive or issue a Permit To Work according to project Permit To Work procedures.Assist supervisor to expedite pending punch-list items in accordance with the commissioning manager s priorities.Assist supervisor to coordinate and supervise construction-support activities during pre-commissioning and commissioning activities.Company Overview:Our client is a premiere engineering, construction, and procurement company that executes large-scale projects internationally. Blank Blank Blank BlankBlank Blank US\""
      ]
     },
     "execution_count": 14,
     "metadata": {},
     "output_type": "execute_result"
    }
   ],
   "source": [
    "# a sample of the text data\n",
    "X_rem['text'][1]"
   ]
  },
  {
   "cell_type": "markdown",
   "id": "066c6084",
   "metadata": {},
   "source": [
    "**test my customized tokenizer**"
   ]
  },
  {
   "cell_type": "code",
   "execution_count": 14,
   "id": "b7cba8ea",
   "metadata": {},
   "outputs": [
    {
     "data": {
      "text/plain": [
       "['commiss',\n",
       " 'machineri',\n",
       " 'assist',\n",
       " 'cma',\n",
       " 'blank',\n",
       " 'valor',\n",
       " 'servic',\n",
       " 'provid',\n",
       " 'workforc',\n",
       " 'solut',\n",
       " 'meet',\n",
       " 'need',\n",
       " 'compani',\n",
       " 'across',\n",
       " 'privat',\n",
       " 'sector',\n",
       " 'special',\n",
       " 'focu',\n",
       " 'oil',\n",
       " 'amp',\n",
       " 'ga',\n",
       " 'industri',\n",
       " 'valor',\n",
       " 'servic',\n",
       " 'involv',\n",
       " 'throughout',\n",
       " 'everi',\n",
       " 'step',\n",
       " 'hire',\n",
       " 'process',\n",
       " 'remain',\n",
       " 'contact',\n",
       " 'way',\n",
       " 'final',\n",
       " 'step',\n",
       " 'sign',\n",
       " 'employ',\n",
       " 'contract',\n",
       " 'new',\n",
       " 'employ',\n",
       " 'valor',\n",
       " 'servic',\n",
       " 'found',\n",
       " 'vision',\n",
       " 'employ',\n",
       " 'uniqu',\n",
       " 'skill',\n",
       " 'experi',\n",
       " 'qualiti',\n",
       " 'america',\n",
       " 'finest',\n",
       " 'veteran',\n",
       " 'provid',\n",
       " 'privat',\n",
       " 'sector',\n",
       " 'compani',\n",
       " 'precis',\n",
       " 'concert',\n",
       " 'valuead',\n",
       " 'servic',\n",
       " 'america',\n",
       " 'finest',\n",
       " 'veteran',\n",
       " 'optim',\n",
       " 'career',\n",
       " 'opportunityw',\n",
       " 'eager',\n",
       " 'get',\n",
       " 'word',\n",
       " 'veteran',\n",
       " 'ampl',\n",
       " 'opportun',\n",
       " 'employ',\n",
       " 'privat',\n",
       " 'sector',\n",
       " 'ideal',\n",
       " 'candid',\n",
       " 'fill',\n",
       " 'posit',\n",
       " 'valor',\n",
       " 'servic',\n",
       " 'success',\n",
       " 'mission',\n",
       " 'client',\n",
       " 'locat',\n",
       " 'houston',\n",
       " 'activ',\n",
       " 'seek',\n",
       " 'experienc',\n",
       " 'commiss',\n",
       " 'machineri',\n",
       " 'assist',\n",
       " 'possess',\n",
       " 'strong',\n",
       " 'supervisori',\n",
       " 'skill',\n",
       " 'attent',\n",
       " 'detail',\n",
       " 'strong',\n",
       " 'dedic',\n",
       " 'safeti',\n",
       " 'must',\n",
       " 'ideal',\n",
       " 'candid',\n",
       " 'execut',\n",
       " 'activ',\n",
       " 'compli',\n",
       " 'qualiti',\n",
       " 'requir',\n",
       " 'health',\n",
       " 'environment',\n",
       " 'safeti',\n",
       " 'regul',\n",
       " 'implement',\n",
       " 'precommiss',\n",
       " 'commiss',\n",
       " 'procedur',\n",
       " 'rotari',\n",
       " 'equipmentexecut',\n",
       " 'activ',\n",
       " 'subcontractor',\n",
       " 'assign',\n",
       " 'crew',\n",
       " 'pertain',\n",
       " 'disciplineensur',\n",
       " 'effect',\n",
       " 'util',\n",
       " 'commiss',\n",
       " 'manpow',\n",
       " 'consumablesensur',\n",
       " 'execut',\n",
       " 'vendor',\n",
       " 'specialist',\n",
       " 'field',\n",
       " 'activ',\n",
       " 'assign',\n",
       " 'resourc',\n",
       " 'subcontractor',\n",
       " 'per',\n",
       " 'vendor',\n",
       " 'repres',\n",
       " 'planscarri',\n",
       " 'equip',\n",
       " 'inspect',\n",
       " 'client',\n",
       " 'repres',\n",
       " 'ensur',\n",
       " 'proper',\n",
       " 'certif',\n",
       " 'producedprepar',\n",
       " 'form',\n",
       " 'pend',\n",
       " 'test',\n",
       " 'submit',\n",
       " 'sign',\n",
       " 'certif',\n",
       " 'final',\n",
       " 'hand',\n",
       " 'certif',\n",
       " 'engin',\n",
       " 'qa',\n",
       " 'qccoordin',\n",
       " 'field',\n",
       " 'vendor',\n",
       " 'representativeskeep',\n",
       " 'record',\n",
       " 'activitiesensur',\n",
       " 'safeti',\n",
       " 'practic',\n",
       " 'strictli',\n",
       " 'follow',\n",
       " 'execut',\n",
       " 'activitiesreport',\n",
       " 'progress',\n",
       " 'constraint',\n",
       " 'mechan',\n",
       " 'supervisorposs',\n",
       " 'author',\n",
       " 'site',\n",
       " 'manag',\n",
       " 'receiv',\n",
       " 'issu',\n",
       " 'permit',\n",
       " 'work',\n",
       " 'accord',\n",
       " 'project',\n",
       " 'permit',\n",
       " 'work',\n",
       " 'proceduresassist',\n",
       " 'supervisor',\n",
       " 'expedit',\n",
       " 'pend',\n",
       " 'punchlist',\n",
       " 'item',\n",
       " 'accord',\n",
       " 'commiss',\n",
       " 'manag',\n",
       " 'prioritiesassist',\n",
       " 'supervisor',\n",
       " 'coordin',\n",
       " 'supervis',\n",
       " 'constructionsupport',\n",
       " 'activ',\n",
       " 'precommiss',\n",
       " 'commiss',\n",
       " 'activitiescompani',\n",
       " 'overviewour',\n",
       " 'client',\n",
       " 'premier',\n",
       " 'engin',\n",
       " 'construct',\n",
       " 'procur',\n",
       " 'compani',\n",
       " 'execut',\n",
       " 'largescal',\n",
       " 'project',\n",
       " 'intern',\n",
       " 'blank',\n",
       " 'blank',\n",
       " 'blank',\n",
       " 'blankblank',\n",
       " 'blank',\n",
       " 'us']"
      ]
     },
     "execution_count": 14,
     "metadata": {},
     "output_type": "execute_result"
    }
   ],
   "source": [
    "# test function tokenizer \n",
    "tokenizer(X_rem['text'][1])"
   ]
  },
  {
   "cell_type": "markdown",
   "id": "f300a675",
   "metadata": {},
   "source": [
    "**Text column and numerical column** \n",
    "- My numerical columns are all binary columns, so I don't need to apply scale or transfor them."
   ]
  },
  {
   "cell_type": "markdown",
   "id": "1b0c50f3",
   "metadata": {},
   "source": [
    "### WordCloud"
   ]
  },
  {
   "cell_type": "code",
   "execution_count": 57,
   "id": "02d140cb",
   "metadata": {},
   "outputs": [],
   "source": [
    "wordcloud_df=model_df.copy()"
   ]
  },
  {
   "cell_type": "code",
   "execution_count": null,
   "id": "78270a50",
   "metadata": {},
   "outputs": [],
   "source": [
    "wordcloud_df['text']=wordcloud_df['text'].apply(tokenizer)"
   ]
  },
  {
   "cell_type": "code",
   "execution_count": null,
   "id": "68e085d1",
   "metadata": {},
   "outputs": [],
   "source": []
  },
  {
   "cell_type": "markdown",
   "id": "4fe5123e",
   "metadata": {},
   "source": [
    "### Two types of Vectorizers:\n",
    "\n",
    "**Count-Vectorizer (Bag-of-Words)**: CountVectorizer takes as input a list of strings, where each string represents a document. It then tokenizes the text. Once the text is tokenized, the CountVectorizer counts the number of occurrences of each token (word) in each document and returns a sparse matrix, where each row represents a document and each column represents a token (word). The value in a cell is the count of that word in that document.\n",
    "\n",
    "**TF-IDF:**\n",
    "The term frequency (TF) is the number of times a word appears in a document divided by the total number of words in the document.The IDF is used to de-emphasize words that appear frequently across all documents in the corpus. As a result the words that appear frequently in a document but not frequently across all documents will have a higher TF-IDF score."
   ]
  },
  {
   "cell_type": "markdown",
   "id": "77df1287",
   "metadata": {},
   "source": [
    "I will vectorize my dataset with Count-Vectorizer and TF-IDF, base on the transformed new dataset, I will process modedling, the reason why I don't put these step in one piece is, my dataset contains a large amount of text data, the running time of the whole pipline and gridsearch is super high. I am going to break the pipline into 2 parts. (My loptop has limited cumputing capacity,I will try to process the full pipline will kfoklder in the big data platform in the feature.)\n",
    "\n",
    "\n",
    "**Plan**\n",
    "- use ColumnTransformer to transform text column and numerical column at one time.\n",
    "- Text colum need to remove Punctuation, stopwords,tokenlize and Stem.\n",
    "- Finally get transfromed X_rem and X_test in with 2 different Vectorizers (Count-Vectorizer and TF-IDF)\n",
    "\n"
   ]
  },
  {
   "cell_type": "code",
   "execution_count": 15,
   "id": "43b2e8d9",
   "metadata": {},
   "outputs": [
    {
     "name": "stdout",
     "output_type": "stream",
     "text": [
      "Numerical columns are: ['has_salary_range', 'telecommuting', 'has_company_logo', 'has_questions']\n"
     ]
    }
   ],
   "source": [
    "numerical = list(X_rem.select_dtypes('number').columns)\n",
    "print(f\"Numerical columns are: {numerical}\")"
   ]
  },
  {
   "cell_type": "code",
   "execution_count": 16,
   "id": "0362ac8a",
   "metadata": {},
   "outputs": [
    {
     "name": "stdout",
     "output_type": "stream",
     "text": [
      "Categorical columns are: ['text']\n"
     ]
    }
   ],
   "source": [
    "text = [X_rem.columns[4]]\n",
    "print(f\"Categorical columns are: {text}\")"
   ]
  },
  {
   "cell_type": "markdown",
   "id": "771abcc2",
   "metadata": {},
   "source": [
    "**Note: If you choose to load Vectorized df from my result, you can pass this section from here, jump directly to 3 Modeling.**"
   ]
  },
  {
   "cell_type": "markdown",
   "id": "14446cf7",
   "metadata": {},
   "source": [
    "**Count-Vectorizer**"
   ]
  },
  {
   "cell_type": "code",
   "execution_count": 31,
   "id": "4b4a9332",
   "metadata": {},
   "outputs": [],
   "source": [
    "# columntransforms with Count-Vectorizer\n",
    "col_transforms = [('num','passthrough', numerical),\n",
    "                ('tokenizer', CountVectorizer(tokenizer=tokenizer,min_df=5), 'text')]"
   ]
  },
  {
   "cell_type": "markdown",
   "id": "0f080c16",
   "metadata": {},
   "source": [
    "### Load transfomed X_rem and X_test<a id=\"12\"></a>\n",
    "<a href=\"#13\" class=\"btn btn-primary btn-sm\" role=\"button\" aria-pressed=\"true\" style=\"background-color: red\" data-toggle=\"popover\">Load Vectorized features</a>"
   ]
  },
  {
   "cell_type": "code",
   "execution_count": null,
   "id": "e03853d5",
   "metadata": {},
   "outputs": [],
   "source": [
    "# Create the column transformer\n",
    "# note if u choose load df from my result, this cell can be pass\n",
    "col_trans = ColumnTransformer(col_transforms)\n",
    "\n",
    "# Fit\n",
    "col_trans.fit(X_rem)"
   ]
  },
  {
   "cell_type": "code",
   "execution_count": null,
   "id": "28ff7114",
   "metadata": {},
   "outputs": [],
   "source": [
    "# transform X_rem\n",
    "# note if u choose load df from my result, this cell can be pass\n",
    "X_rem_count= col_trans.transform(X_rem)"
   ]
  },
  {
   "cell_type": "code",
   "execution_count": null,
   "id": "d0d3cc94",
   "metadata": {},
   "outputs": [],
   "source": [
    "# transform X_test\n",
    "# note if u choose load df from my result, this cell can be pass\n",
    "X_test_count=col_trans.transform(X_test)"
   ]
  },
  {
   "cell_type": "code",
   "execution_count": null,
   "id": "4409a51d",
   "metadata": {},
   "outputs": [],
   "source": [
    "# note if u choose load df from my result, this cell can be pass\n",
    "X_rem_count.shape"
   ]
  },
  {
   "cell_type": "code",
   "execution_count": null,
   "id": "f0fedd46",
   "metadata": {},
   "outputs": [],
   "source": [
    "# note if u choose load df from my result, this cell can be pass\n",
    "X_test_count.shape"
   ]
  },
  {
   "cell_type": "code",
   "execution_count": null,
   "id": "454aec3f",
   "metadata": {},
   "outputs": [],
   "source": [
    "# Save sparse matrix\n",
    "# note if u choose load df from my result, this cell can be pass\n",
    "joblib.dump(X_rem_count, 'vectorized_df/matrix_rem_c.pkl')\n",
    "joblib.dump(X_test_count, 'vectorized_df/matrix_test_c.pkl')"
   ]
  },
  {
   "cell_type": "markdown",
   "id": "ca1cf7a3",
   "metadata": {},
   "source": [
    "**Vectorized X_rem dataframe (CountVectorizer)**"
   ]
  },
  {
   "cell_type": "code",
   "execution_count": null,
   "id": "2aac35e9",
   "metadata": {},
   "outputs": [],
   "source": [
    "# get feature_names\n",
    "# note if u choose load df from my result, this cell can be pass\n",
    "cols_rem_c=col_trans.get_feature_names_out()"
   ]
  },
  {
   "cell_type": "code",
   "execution_count": 57,
   "id": "8ea6767a",
   "metadata": {},
   "outputs": [
    {
     "data": {
      "text/html": [
       "<div>\n",
       "<style scoped>\n",
       "    .dataframe tbody tr th:only-of-type {\n",
       "        vertical-align: middle;\n",
       "    }\n",
       "\n",
       "    .dataframe tbody tr th {\n",
       "        vertical-align: top;\n",
       "    }\n",
       "\n",
       "    .dataframe thead th {\n",
       "        text-align: right;\n",
       "    }\n",
       "</style>\n",
       "<table border=\"1\" class=\"dataframe\">\n",
       "  <thead>\n",
       "    <tr style=\"text-align: right;\">\n",
       "      <th></th>\n",
       "      <th>num__has_salary_range</th>\n",
       "      <th>num__telecommuting</th>\n",
       "      <th>num__has_company_logo</th>\n",
       "      <th>num__has_questions</th>\n",
       "      <th>tokenizer__0</th>\n",
       "      <th>tokenizer__000</th>\n",
       "      <th>tokenizer__01</th>\n",
       "      <th>tokenizer__02</th>\n",
       "      <th>tokenizer__03</th>\n",
       "      <th>tokenizer__0415</th>\n",
       "      <th>...</th>\n",
       "      <th>tokenizer__zombi</th>\n",
       "      <th>tokenizer__zone</th>\n",
       "      <th>tokenizer__zoom</th>\n",
       "      <th>tokenizer__zoopla</th>\n",
       "      <th>tokenizer__zopa</th>\n",
       "      <th>tokenizer__zu</th>\n",
       "      <th>tokenizer__zullen</th>\n",
       "      <th>tokenizer__zult</th>\n",
       "      <th>tokenizer__zweig</th>\n",
       "      <th>tokenizer__zylun</th>\n",
       "    </tr>\n",
       "  </thead>\n",
       "  <tbody>\n",
       "    <tr>\n",
       "      <th>0</th>\n",
       "      <td>0</td>\n",
       "      <td>0</td>\n",
       "      <td>1</td>\n",
       "      <td>1</td>\n",
       "      <td>0</td>\n",
       "      <td>0</td>\n",
       "      <td>0</td>\n",
       "      <td>0</td>\n",
       "      <td>0</td>\n",
       "      <td>0</td>\n",
       "      <td>...</td>\n",
       "      <td>0</td>\n",
       "      <td>0</td>\n",
       "      <td>0</td>\n",
       "      <td>0</td>\n",
       "      <td>0</td>\n",
       "      <td>0</td>\n",
       "      <td>0</td>\n",
       "      <td>0</td>\n",
       "      <td>0</td>\n",
       "      <td>0</td>\n",
       "    </tr>\n",
       "    <tr>\n",
       "      <th>1</th>\n",
       "      <td>0</td>\n",
       "      <td>0</td>\n",
       "      <td>1</td>\n",
       "      <td>0</td>\n",
       "      <td>0</td>\n",
       "      <td>0</td>\n",
       "      <td>0</td>\n",
       "      <td>0</td>\n",
       "      <td>0</td>\n",
       "      <td>0</td>\n",
       "      <td>...</td>\n",
       "      <td>0</td>\n",
       "      <td>1</td>\n",
       "      <td>0</td>\n",
       "      <td>0</td>\n",
       "      <td>0</td>\n",
       "      <td>0</td>\n",
       "      <td>0</td>\n",
       "      <td>0</td>\n",
       "      <td>0</td>\n",
       "      <td>0</td>\n",
       "    </tr>\n",
       "    <tr>\n",
       "      <th>2</th>\n",
       "      <td>0</td>\n",
       "      <td>0</td>\n",
       "      <td>1</td>\n",
       "      <td>0</td>\n",
       "      <td>0</td>\n",
       "      <td>0</td>\n",
       "      <td>0</td>\n",
       "      <td>0</td>\n",
       "      <td>0</td>\n",
       "      <td>0</td>\n",
       "      <td>...</td>\n",
       "      <td>0</td>\n",
       "      <td>0</td>\n",
       "      <td>0</td>\n",
       "      <td>0</td>\n",
       "      <td>0</td>\n",
       "      <td>0</td>\n",
       "      <td>0</td>\n",
       "      <td>0</td>\n",
       "      <td>0</td>\n",
       "      <td>0</td>\n",
       "    </tr>\n",
       "    <tr>\n",
       "      <th>3</th>\n",
       "      <td>0</td>\n",
       "      <td>0</td>\n",
       "      <td>1</td>\n",
       "      <td>1</td>\n",
       "      <td>0</td>\n",
       "      <td>0</td>\n",
       "      <td>0</td>\n",
       "      <td>0</td>\n",
       "      <td>0</td>\n",
       "      <td>0</td>\n",
       "      <td>...</td>\n",
       "      <td>0</td>\n",
       "      <td>0</td>\n",
       "      <td>0</td>\n",
       "      <td>0</td>\n",
       "      <td>0</td>\n",
       "      <td>0</td>\n",
       "      <td>0</td>\n",
       "      <td>0</td>\n",
       "      <td>0</td>\n",
       "      <td>0</td>\n",
       "    </tr>\n",
       "    <tr>\n",
       "      <th>4</th>\n",
       "      <td>0</td>\n",
       "      <td>0</td>\n",
       "      <td>1</td>\n",
       "      <td>0</td>\n",
       "      <td>0</td>\n",
       "      <td>0</td>\n",
       "      <td>0</td>\n",
       "      <td>0</td>\n",
       "      <td>0</td>\n",
       "      <td>0</td>\n",
       "      <td>...</td>\n",
       "      <td>0</td>\n",
       "      <td>0</td>\n",
       "      <td>0</td>\n",
       "      <td>0</td>\n",
       "      <td>0</td>\n",
       "      <td>0</td>\n",
       "      <td>0</td>\n",
       "      <td>0</td>\n",
       "      <td>0</td>\n",
       "      <td>0</td>\n",
       "    </tr>\n",
       "  </tbody>\n",
       "</table>\n",
       "<p>5 rows × 18583 columns</p>\n",
       "</div>"
      ],
      "text/plain": [
       "   num__has_salary_range  num__telecommuting  num__has_company_logo  \\\n",
       "0                      0                   0                      1   \n",
       "1                      0                   0                      1   \n",
       "2                      0                   0                      1   \n",
       "3                      0                   0                      1   \n",
       "4                      0                   0                      1   \n",
       "\n",
       "   num__has_questions  tokenizer__0  tokenizer__000  tokenizer__01  \\\n",
       "0                   1             0               0              0   \n",
       "1                   0             0               0              0   \n",
       "2                   0             0               0              0   \n",
       "3                   1             0               0              0   \n",
       "4                   0             0               0              0   \n",
       "\n",
       "   tokenizer__02  tokenizer__03  tokenizer__0415  ...  tokenizer__zombi  \\\n",
       "0              0              0                0  ...                 0   \n",
       "1              0              0                0  ...                 0   \n",
       "2              0              0                0  ...                 0   \n",
       "3              0              0                0  ...                 0   \n",
       "4              0              0                0  ...                 0   \n",
       "\n",
       "   tokenizer__zone  tokenizer__zoom  tokenizer__zoopla  tokenizer__zopa  \\\n",
       "0                0                0                  0                0   \n",
       "1                1                0                  0                0   \n",
       "2                0                0                  0                0   \n",
       "3                0                0                  0                0   \n",
       "4                0                0                  0                0   \n",
       "\n",
       "   tokenizer__zu  tokenizer__zullen  tokenizer__zult  tokenizer__zweig  \\\n",
       "0              0                  0                0                 0   \n",
       "1              0                  0                0                 0   \n",
       "2              0                  0                0                 0   \n",
       "3              0                  0                0                 0   \n",
       "4              0                  0                0                 0   \n",
       "\n",
       "   tokenizer__zylun  \n",
       "0                 0  \n",
       "1                 0  \n",
       "2                 0  \n",
       "3                 0  \n",
       "4                 0  \n",
       "\n",
       "[5 rows x 18583 columns]"
      ]
     },
     "execution_count": 57,
     "metadata": {},
     "output_type": "execute_result"
    }
   ],
   "source": [
    "# transformed_rem_df\n",
    "# note if u choose load df from my result, this cell can be pass\n",
    "CountVectorizer_rem_df = pd.DataFrame(X_rem_count.toarray(), columns=cols_rem_c)\n",
    "CountVectorizer_rem_df.head()"
   ]
  },
  {
   "cell_type": "markdown",
   "id": "77f3fd02",
   "metadata": {},
   "source": [
    "**Vectorized X_test dataframe (CountVectorizer)**"
   ]
  },
  {
   "cell_type": "code",
   "execution_count": 58,
   "id": "1d9e1311",
   "metadata": {},
   "outputs": [],
   "source": [
    "# get feature_names\n",
    "# note if u choose load df from my result, this cell can be pass\n",
    "cols_test_c=col_trans.get_feature_names_out()"
   ]
  },
  {
   "cell_type": "code",
   "execution_count": 59,
   "id": "bd58d734",
   "metadata": {},
   "outputs": [
    {
     "data": {
      "text/html": [
       "<div>\n",
       "<style scoped>\n",
       "    .dataframe tbody tr th:only-of-type {\n",
       "        vertical-align: middle;\n",
       "    }\n",
       "\n",
       "    .dataframe tbody tr th {\n",
       "        vertical-align: top;\n",
       "    }\n",
       "\n",
       "    .dataframe thead th {\n",
       "        text-align: right;\n",
       "    }\n",
       "</style>\n",
       "<table border=\"1\" class=\"dataframe\">\n",
       "  <thead>\n",
       "    <tr style=\"text-align: right;\">\n",
       "      <th></th>\n",
       "      <th>num__has_salary_range</th>\n",
       "      <th>num__telecommuting</th>\n",
       "      <th>num__has_company_logo</th>\n",
       "      <th>num__has_questions</th>\n",
       "      <th>tokenizer__0</th>\n",
       "      <th>tokenizer__000</th>\n",
       "      <th>tokenizer__01</th>\n",
       "      <th>tokenizer__02</th>\n",
       "      <th>tokenizer__03</th>\n",
       "      <th>tokenizer__0415</th>\n",
       "      <th>...</th>\n",
       "      <th>tokenizer__zombi</th>\n",
       "      <th>tokenizer__zone</th>\n",
       "      <th>tokenizer__zoom</th>\n",
       "      <th>tokenizer__zoopla</th>\n",
       "      <th>tokenizer__zopa</th>\n",
       "      <th>tokenizer__zu</th>\n",
       "      <th>tokenizer__zullen</th>\n",
       "      <th>tokenizer__zult</th>\n",
       "      <th>tokenizer__zweig</th>\n",
       "      <th>tokenizer__zylun</th>\n",
       "    </tr>\n",
       "  </thead>\n",
       "  <tbody>\n",
       "    <tr>\n",
       "      <th>0</th>\n",
       "      <td>1</td>\n",
       "      <td>0</td>\n",
       "      <td>1</td>\n",
       "      <td>0</td>\n",
       "      <td>0</td>\n",
       "      <td>0</td>\n",
       "      <td>0</td>\n",
       "      <td>0</td>\n",
       "      <td>0</td>\n",
       "      <td>0</td>\n",
       "      <td>...</td>\n",
       "      <td>0</td>\n",
       "      <td>0</td>\n",
       "      <td>0</td>\n",
       "      <td>0</td>\n",
       "      <td>0</td>\n",
       "      <td>0</td>\n",
       "      <td>0</td>\n",
       "      <td>0</td>\n",
       "      <td>0</td>\n",
       "      <td>0</td>\n",
       "    </tr>\n",
       "    <tr>\n",
       "      <th>1</th>\n",
       "      <td>0</td>\n",
       "      <td>0</td>\n",
       "      <td>1</td>\n",
       "      <td>1</td>\n",
       "      <td>0</td>\n",
       "      <td>0</td>\n",
       "      <td>0</td>\n",
       "      <td>0</td>\n",
       "      <td>0</td>\n",
       "      <td>0</td>\n",
       "      <td>...</td>\n",
       "      <td>0</td>\n",
       "      <td>0</td>\n",
       "      <td>0</td>\n",
       "      <td>0</td>\n",
       "      <td>0</td>\n",
       "      <td>0</td>\n",
       "      <td>0</td>\n",
       "      <td>0</td>\n",
       "      <td>0</td>\n",
       "      <td>0</td>\n",
       "    </tr>\n",
       "    <tr>\n",
       "      <th>2</th>\n",
       "      <td>1</td>\n",
       "      <td>0</td>\n",
       "      <td>0</td>\n",
       "      <td>1</td>\n",
       "      <td>0</td>\n",
       "      <td>0</td>\n",
       "      <td>0</td>\n",
       "      <td>0</td>\n",
       "      <td>0</td>\n",
       "      <td>0</td>\n",
       "      <td>...</td>\n",
       "      <td>0</td>\n",
       "      <td>0</td>\n",
       "      <td>0</td>\n",
       "      <td>0</td>\n",
       "      <td>0</td>\n",
       "      <td>0</td>\n",
       "      <td>0</td>\n",
       "      <td>0</td>\n",
       "      <td>0</td>\n",
       "      <td>0</td>\n",
       "    </tr>\n",
       "    <tr>\n",
       "      <th>3</th>\n",
       "      <td>0</td>\n",
       "      <td>0</td>\n",
       "      <td>1</td>\n",
       "      <td>1</td>\n",
       "      <td>0</td>\n",
       "      <td>0</td>\n",
       "      <td>0</td>\n",
       "      <td>0</td>\n",
       "      <td>0</td>\n",
       "      <td>0</td>\n",
       "      <td>...</td>\n",
       "      <td>0</td>\n",
       "      <td>0</td>\n",
       "      <td>0</td>\n",
       "      <td>0</td>\n",
       "      <td>0</td>\n",
       "      <td>0</td>\n",
       "      <td>0</td>\n",
       "      <td>0</td>\n",
       "      <td>0</td>\n",
       "      <td>0</td>\n",
       "    </tr>\n",
       "    <tr>\n",
       "      <th>4</th>\n",
       "      <td>0</td>\n",
       "      <td>0</td>\n",
       "      <td>1</td>\n",
       "      <td>0</td>\n",
       "      <td>0</td>\n",
       "      <td>0</td>\n",
       "      <td>0</td>\n",
       "      <td>0</td>\n",
       "      <td>0</td>\n",
       "      <td>0</td>\n",
       "      <td>...</td>\n",
       "      <td>0</td>\n",
       "      <td>0</td>\n",
       "      <td>0</td>\n",
       "      <td>0</td>\n",
       "      <td>0</td>\n",
       "      <td>0</td>\n",
       "      <td>0</td>\n",
       "      <td>0</td>\n",
       "      <td>0</td>\n",
       "      <td>0</td>\n",
       "    </tr>\n",
       "  </tbody>\n",
       "</table>\n",
       "<p>5 rows × 18583 columns</p>\n",
       "</div>"
      ],
      "text/plain": [
       "   num__has_salary_range  num__telecommuting  num__has_company_logo  \\\n",
       "0                      1                   0                      1   \n",
       "1                      0                   0                      1   \n",
       "2                      1                   0                      0   \n",
       "3                      0                   0                      1   \n",
       "4                      0                   0                      1   \n",
       "\n",
       "   num__has_questions  tokenizer__0  tokenizer__000  tokenizer__01  \\\n",
       "0                   0             0               0              0   \n",
       "1                   1             0               0              0   \n",
       "2                   1             0               0              0   \n",
       "3                   1             0               0              0   \n",
       "4                   0             0               0              0   \n",
       "\n",
       "   tokenizer__02  tokenizer__03  tokenizer__0415  ...  tokenizer__zombi  \\\n",
       "0              0              0                0  ...                 0   \n",
       "1              0              0                0  ...                 0   \n",
       "2              0              0                0  ...                 0   \n",
       "3              0              0                0  ...                 0   \n",
       "4              0              0                0  ...                 0   \n",
       "\n",
       "   tokenizer__zone  tokenizer__zoom  tokenizer__zoopla  tokenizer__zopa  \\\n",
       "0                0                0                  0                0   \n",
       "1                0                0                  0                0   \n",
       "2                0                0                  0                0   \n",
       "3                0                0                  0                0   \n",
       "4                0                0                  0                0   \n",
       "\n",
       "   tokenizer__zu  tokenizer__zullen  tokenizer__zult  tokenizer__zweig  \\\n",
       "0              0                  0                0                 0   \n",
       "1              0                  0                0                 0   \n",
       "2              0                  0                0                 0   \n",
       "3              0                  0                0                 0   \n",
       "4              0                  0                0                 0   \n",
       "\n",
       "   tokenizer__zylun  \n",
       "0                 0  \n",
       "1                 0  \n",
       "2                 0  \n",
       "3                 0  \n",
       "4                 0  \n",
       "\n",
       "[5 rows x 18583 columns]"
      ]
     },
     "execution_count": 59,
     "metadata": {},
     "output_type": "execute_result"
    }
   ],
   "source": [
    "# transformed_test_df\n",
    "# note if u choose load df from my result, this cell can be pass\n",
    "CountVectorizer_test_df  = pd.DataFrame(X_test_count.toarray(), columns=cols_test_c)\n",
    "CountVectorizer_test_df.head()"
   ]
  },
  {
   "cell_type": "code",
   "execution_count": 60,
   "id": "bb2315dc",
   "metadata": {},
   "outputs": [
    {
     "name": "stdout",
     "output_type": "stream",
     "text": [
      "The shape of trainsformed X_train is (12515, 18583), and the shape of trainsformed X_test is (5364, 18583)\n"
     ]
    }
   ],
   "source": [
    "print(f'The shape of trainsformed X_train is {CountVectorizer_rem_df.shape}, and the shape of trainsformed X_test is {CountVectorizer_test_df.shape}')"
   ]
  },
  {
   "cell_type": "markdown",
   "id": "55751b3b",
   "metadata": {},
   "source": [
    "**save trainsfromed df (CountVectorizer)**"
   ]
  },
  {
   "cell_type": "code",
   "execution_count": 61,
   "id": "4fb1628b",
   "metadata": {},
   "outputs": [
    {
     "data": {
      "text/plain": [
       "['vectorized_df/CountVectorizer_rem_df.pkl']"
      ]
     },
     "execution_count": 61,
     "metadata": {},
     "output_type": "execute_result"
    }
   ],
   "source": [
    "# Save df into pickle file\n",
    "# note if u choose load df from my result, this cell can be pass\n",
    "joblib.dump(CountVectorizer_test_df, 'vectorized_df/CountVectorizer_test_df.pkl')\n",
    "joblib.dump(CountVectorizer_rem_df, 'vectorized_df/CountVectorizer_rem_df.pkl')"
   ]
  },
  {
   "cell_type": "markdown",
   "id": "1d8cbc1e",
   "metadata": {},
   "source": [
    "**TF-IDF**"
   ]
  },
  {
   "cell_type": "code",
   "execution_count": 75,
   "id": "fcae845d",
   "metadata": {},
   "outputs": [
    {
     "data": {
      "text/html": [
       "<style>#sk-container-id-3 {color: black;background-color: white;}#sk-container-id-3 pre{padding: 0;}#sk-container-id-3 div.sk-toggleable {background-color: white;}#sk-container-id-3 label.sk-toggleable__label {cursor: pointer;display: block;width: 100%;margin-bottom: 0;padding: 0.3em;box-sizing: border-box;text-align: center;}#sk-container-id-3 label.sk-toggleable__label-arrow:before {content: \"▸\";float: left;margin-right: 0.25em;color: #696969;}#sk-container-id-3 label.sk-toggleable__label-arrow:hover:before {color: black;}#sk-container-id-3 div.sk-estimator:hover label.sk-toggleable__label-arrow:before {color: black;}#sk-container-id-3 div.sk-toggleable__content {max-height: 0;max-width: 0;overflow: hidden;text-align: left;background-color: #f0f8ff;}#sk-container-id-3 div.sk-toggleable__content pre {margin: 0.2em;color: black;border-radius: 0.25em;background-color: #f0f8ff;}#sk-container-id-3 input.sk-toggleable__control:checked~div.sk-toggleable__content {max-height: 200px;max-width: 100%;overflow: auto;}#sk-container-id-3 input.sk-toggleable__control:checked~label.sk-toggleable__label-arrow:before {content: \"▾\";}#sk-container-id-3 div.sk-estimator input.sk-toggleable__control:checked~label.sk-toggleable__label {background-color: #d4ebff;}#sk-container-id-3 div.sk-label input.sk-toggleable__control:checked~label.sk-toggleable__label {background-color: #d4ebff;}#sk-container-id-3 input.sk-hidden--visually {border: 0;clip: rect(1px 1px 1px 1px);clip: rect(1px, 1px, 1px, 1px);height: 1px;margin: -1px;overflow: hidden;padding: 0;position: absolute;width: 1px;}#sk-container-id-3 div.sk-estimator {font-family: monospace;background-color: #f0f8ff;border: 1px dotted black;border-radius: 0.25em;box-sizing: border-box;margin-bottom: 0.5em;}#sk-container-id-3 div.sk-estimator:hover {background-color: #d4ebff;}#sk-container-id-3 div.sk-parallel-item::after {content: \"\";width: 100%;border-bottom: 1px solid gray;flex-grow: 1;}#sk-container-id-3 div.sk-label:hover label.sk-toggleable__label {background-color: #d4ebff;}#sk-container-id-3 div.sk-serial::before {content: \"\";position: absolute;border-left: 1px solid gray;box-sizing: border-box;top: 0;bottom: 0;left: 50%;z-index: 0;}#sk-container-id-3 div.sk-serial {display: flex;flex-direction: column;align-items: center;background-color: white;padding-right: 0.2em;padding-left: 0.2em;position: relative;}#sk-container-id-3 div.sk-item {position: relative;z-index: 1;}#sk-container-id-3 div.sk-parallel {display: flex;align-items: stretch;justify-content: center;background-color: white;position: relative;}#sk-container-id-3 div.sk-item::before, #sk-container-id-3 div.sk-parallel-item::before {content: \"\";position: absolute;border-left: 1px solid gray;box-sizing: border-box;top: 0;bottom: 0;left: 50%;z-index: -1;}#sk-container-id-3 div.sk-parallel-item {display: flex;flex-direction: column;z-index: 1;position: relative;background-color: white;}#sk-container-id-3 div.sk-parallel-item:first-child::after {align-self: flex-end;width: 50%;}#sk-container-id-3 div.sk-parallel-item:last-child::after {align-self: flex-start;width: 50%;}#sk-container-id-3 div.sk-parallel-item:only-child::after {width: 0;}#sk-container-id-3 div.sk-dashed-wrapped {border: 1px dashed gray;margin: 0 0.4em 0.5em 0.4em;box-sizing: border-box;padding-bottom: 0.4em;background-color: white;}#sk-container-id-3 div.sk-label label {font-family: monospace;font-weight: bold;display: inline-block;line-height: 1.2em;}#sk-container-id-3 div.sk-label-container {text-align: center;}#sk-container-id-3 div.sk-container {/* jupyter's `normalize.less` sets `[hidden] { display: none; }` but bootstrap.min.css set `[hidden] { display: none !important; }` so we also need the `!important` here to be able to override the default hidden behavior on the sphinx rendered scikit-learn.org. See: https://github.com/scikit-learn/scikit-learn/issues/21755 */display: inline-block !important;position: relative;}#sk-container-id-3 div.sk-text-repr-fallback {display: none;}</style><div id=\"sk-container-id-3\" class=\"sk-top-container\"><div class=\"sk-text-repr-fallback\"><pre>ColumnTransformer(transformers=[(&#x27;num&#x27;, &#x27;passthrough&#x27;,\n",
       "                                 [&#x27;has_salary_range&#x27;, &#x27;telecommuting&#x27;,\n",
       "                                  &#x27;has_company_logo&#x27;, &#x27;has_questions&#x27;]),\n",
       "                                (&#x27;tokenizer&#x27;,\n",
       "                                 TfidfVectorizer(min_df=5,\n",
       "                                                 tokenizer=&lt;function tokenizer at 0x00000223D255E8B0&gt;),\n",
       "                                 &#x27;text&#x27;)])</pre><b>In a Jupyter environment, please rerun this cell to show the HTML representation or trust the notebook. <br />On GitHub, the HTML representation is unable to render, please try loading this page with nbviewer.org.</b></div><div class=\"sk-container\" hidden><div class=\"sk-item sk-dashed-wrapped\"><div class=\"sk-label-container\"><div class=\"sk-label sk-toggleable\"><input class=\"sk-toggleable__control sk-hidden--visually\" id=\"sk-estimator-id-11\" type=\"checkbox\" ><label for=\"sk-estimator-id-11\" class=\"sk-toggleable__label sk-toggleable__label-arrow\">ColumnTransformer</label><div class=\"sk-toggleable__content\"><pre>ColumnTransformer(transformers=[(&#x27;num&#x27;, &#x27;passthrough&#x27;,\n",
       "                                 [&#x27;has_salary_range&#x27;, &#x27;telecommuting&#x27;,\n",
       "                                  &#x27;has_company_logo&#x27;, &#x27;has_questions&#x27;]),\n",
       "                                (&#x27;tokenizer&#x27;,\n",
       "                                 TfidfVectorizer(min_df=5,\n",
       "                                                 tokenizer=&lt;function tokenizer at 0x00000223D255E8B0&gt;),\n",
       "                                 &#x27;text&#x27;)])</pre></div></div></div><div class=\"sk-parallel\"><div class=\"sk-parallel-item\"><div class=\"sk-item\"><div class=\"sk-label-container\"><div class=\"sk-label sk-toggleable\"><input class=\"sk-toggleable__control sk-hidden--visually\" id=\"sk-estimator-id-12\" type=\"checkbox\" ><label for=\"sk-estimator-id-12\" class=\"sk-toggleable__label sk-toggleable__label-arrow\">num</label><div class=\"sk-toggleable__content\"><pre>[&#x27;has_salary_range&#x27;, &#x27;telecommuting&#x27;, &#x27;has_company_logo&#x27;, &#x27;has_questions&#x27;]</pre></div></div></div><div class=\"sk-serial\"><div class=\"sk-item\"><div class=\"sk-estimator sk-toggleable\"><input class=\"sk-toggleable__control sk-hidden--visually\" id=\"sk-estimator-id-13\" type=\"checkbox\" ><label for=\"sk-estimator-id-13\" class=\"sk-toggleable__label sk-toggleable__label-arrow\">passthrough</label><div class=\"sk-toggleable__content\"><pre>passthrough</pre></div></div></div></div></div></div><div class=\"sk-parallel-item\"><div class=\"sk-item\"><div class=\"sk-label-container\"><div class=\"sk-label sk-toggleable\"><input class=\"sk-toggleable__control sk-hidden--visually\" id=\"sk-estimator-id-14\" type=\"checkbox\" ><label for=\"sk-estimator-id-14\" class=\"sk-toggleable__label sk-toggleable__label-arrow\">tokenizer</label><div class=\"sk-toggleable__content\"><pre>text</pre></div></div></div><div class=\"sk-serial\"><div class=\"sk-item\"><div class=\"sk-estimator sk-toggleable\"><input class=\"sk-toggleable__control sk-hidden--visually\" id=\"sk-estimator-id-15\" type=\"checkbox\" ><label for=\"sk-estimator-id-15\" class=\"sk-toggleable__label sk-toggleable__label-arrow\">TfidfVectorizer</label><div class=\"sk-toggleable__content\"><pre>TfidfVectorizer(min_df=5, tokenizer=&lt;function tokenizer at 0x00000223D255E8B0&gt;)</pre></div></div></div></div></div></div></div></div></div></div>"
      ],
      "text/plain": [
       "ColumnTransformer(transformers=[('num', 'passthrough',\n",
       "                                 ['has_salary_range', 'telecommuting',\n",
       "                                  'has_company_logo', 'has_questions']),\n",
       "                                ('tokenizer',\n",
       "                                 TfidfVectorizer(min_df=5,\n",
       "                                                 tokenizer=<function tokenizer at 0x00000223D255E8B0>),\n",
       "                                 'text')])"
      ]
     },
     "execution_count": 75,
     "metadata": {},
     "output_type": "execute_result"
    }
   ],
   "source": [
    "# columntransforms\n",
    "# note if u choose load df from my result, this cell can be pass\n",
    "col_transforms_t = [('num','passthrough', numerical),\n",
    "                ('tokenizer', TfidfVectorizer(tokenizer=tokenizer,min_df=5), 'text')]\n",
    "col_trans_t = ColumnTransformer(col_transforms_t)\n",
    "\n",
    "# Fit\n",
    "col_trans_t.fit(X_rem)"
   ]
  },
  {
   "cell_type": "code",
   "execution_count": 76,
   "id": "6c964ea6",
   "metadata": {},
   "outputs": [],
   "source": [
    "# transform X_rem\n",
    "# note if u choose load df from my result, this cell can be pass\n",
    "X_rem_tf= col_trans_t.transform(X_rem)\n",
    "# transform X_test\n",
    "X_test_tf= col_trans_t.transform(X_test)"
   ]
  },
  {
   "cell_type": "code",
   "execution_count": 77,
   "id": "1e0d3729",
   "metadata": {},
   "outputs": [
    {
     "data": {
      "text/plain": [
       "(12515, 18583)"
      ]
     },
     "execution_count": 77,
     "metadata": {},
     "output_type": "execute_result"
    }
   ],
   "source": [
    "# note if u choose load df from my result, this cell can be pass\n",
    "X_rem_tf.shape"
   ]
  },
  {
   "cell_type": "code",
   "execution_count": 78,
   "id": "2d9ba018",
   "metadata": {},
   "outputs": [
    {
     "data": {
      "text/plain": [
       "(5364, 18583)"
      ]
     },
     "execution_count": 78,
     "metadata": {},
     "output_type": "execute_result"
    }
   ],
   "source": [
    "# note if u choose load df from my result, this cell can be pass\n",
    "X_test_tf.shape"
   ]
  },
  {
   "cell_type": "code",
   "execution_count": 79,
   "id": "5fe419aa",
   "metadata": {},
   "outputs": [
    {
     "data": {
      "text/plain": [
       "['vectorized_df/matrix_test_tf.pkl']"
      ]
     },
     "execution_count": 79,
     "metadata": {},
     "output_type": "execute_result"
    }
   ],
   "source": [
    "# Save sparse matrix \n",
    "# note if u choose load df from my result, this cell can be pass\n",
    "joblib.dump(X_rem_tf,'vectorized_df/matrix_rem_tf.pkl')\n",
    "joblib.dump(X_test_tf,'vectorized_df/matrix_test_tf.pkl')"
   ]
  },
  {
   "cell_type": "code",
   "execution_count": 80,
   "id": "454dd47d",
   "metadata": {},
   "outputs": [],
   "source": [
    "# get features\n",
    "cols_rem_tf=col_trans_t.get_feature_names_out()\n",
    "cols_test_tf=col_trans_t.get_feature_names_out()"
   ]
  },
  {
   "cell_type": "code",
   "execution_count": 81,
   "id": "b3ed0a8b",
   "metadata": {},
   "outputs": [
    {
     "data": {
      "text/html": [
       "<div>\n",
       "<style scoped>\n",
       "    .dataframe tbody tr th:only-of-type {\n",
       "        vertical-align: middle;\n",
       "    }\n",
       "\n",
       "    .dataframe tbody tr th {\n",
       "        vertical-align: top;\n",
       "    }\n",
       "\n",
       "    .dataframe thead th {\n",
       "        text-align: right;\n",
       "    }\n",
       "</style>\n",
       "<table border=\"1\" class=\"dataframe\">\n",
       "  <thead>\n",
       "    <tr style=\"text-align: right;\">\n",
       "      <th></th>\n",
       "      <th>num__has_salary_range</th>\n",
       "      <th>num__telecommuting</th>\n",
       "      <th>num__has_company_logo</th>\n",
       "      <th>num__has_questions</th>\n",
       "      <th>tokenizer__0</th>\n",
       "      <th>tokenizer__000</th>\n",
       "      <th>tokenizer__01</th>\n",
       "      <th>tokenizer__02</th>\n",
       "      <th>tokenizer__03</th>\n",
       "      <th>tokenizer__0415</th>\n",
       "      <th>...</th>\n",
       "      <th>tokenizer__zombi</th>\n",
       "      <th>tokenizer__zone</th>\n",
       "      <th>tokenizer__zoom</th>\n",
       "      <th>tokenizer__zoopla</th>\n",
       "      <th>tokenizer__zopa</th>\n",
       "      <th>tokenizer__zu</th>\n",
       "      <th>tokenizer__zullen</th>\n",
       "      <th>tokenizer__zult</th>\n",
       "      <th>tokenizer__zweig</th>\n",
       "      <th>tokenizer__zylun</th>\n",
       "    </tr>\n",
       "  </thead>\n",
       "  <tbody>\n",
       "    <tr>\n",
       "      <th>0</th>\n",
       "      <td>0.0</td>\n",
       "      <td>0.0</td>\n",
       "      <td>1.0</td>\n",
       "      <td>1.0</td>\n",
       "      <td>0.0</td>\n",
       "      <td>0.0</td>\n",
       "      <td>0.0</td>\n",
       "      <td>0.0</td>\n",
       "      <td>0.0</td>\n",
       "      <td>0.0</td>\n",
       "      <td>...</td>\n",
       "      <td>0.0</td>\n",
       "      <td>0.000000</td>\n",
       "      <td>0.0</td>\n",
       "      <td>0.0</td>\n",
       "      <td>0.0</td>\n",
       "      <td>0.0</td>\n",
       "      <td>0.0</td>\n",
       "      <td>0.0</td>\n",
       "      <td>0.0</td>\n",
       "      <td>0.0</td>\n",
       "    </tr>\n",
       "    <tr>\n",
       "      <th>1</th>\n",
       "      <td>0.0</td>\n",
       "      <td>0.0</td>\n",
       "      <td>1.0</td>\n",
       "      <td>0.0</td>\n",
       "      <td>0.0</td>\n",
       "      <td>0.0</td>\n",
       "      <td>0.0</td>\n",
       "      <td>0.0</td>\n",
       "      <td>0.0</td>\n",
       "      <td>0.0</td>\n",
       "      <td>...</td>\n",
       "      <td>0.0</td>\n",
       "      <td>0.041755</td>\n",
       "      <td>0.0</td>\n",
       "      <td>0.0</td>\n",
       "      <td>0.0</td>\n",
       "      <td>0.0</td>\n",
       "      <td>0.0</td>\n",
       "      <td>0.0</td>\n",
       "      <td>0.0</td>\n",
       "      <td>0.0</td>\n",
       "    </tr>\n",
       "    <tr>\n",
       "      <th>2</th>\n",
       "      <td>0.0</td>\n",
       "      <td>0.0</td>\n",
       "      <td>1.0</td>\n",
       "      <td>0.0</td>\n",
       "      <td>0.0</td>\n",
       "      <td>0.0</td>\n",
       "      <td>0.0</td>\n",
       "      <td>0.0</td>\n",
       "      <td>0.0</td>\n",
       "      <td>0.0</td>\n",
       "      <td>...</td>\n",
       "      <td>0.0</td>\n",
       "      <td>0.000000</td>\n",
       "      <td>0.0</td>\n",
       "      <td>0.0</td>\n",
       "      <td>0.0</td>\n",
       "      <td>0.0</td>\n",
       "      <td>0.0</td>\n",
       "      <td>0.0</td>\n",
       "      <td>0.0</td>\n",
       "      <td>0.0</td>\n",
       "    </tr>\n",
       "    <tr>\n",
       "      <th>3</th>\n",
       "      <td>0.0</td>\n",
       "      <td>0.0</td>\n",
       "      <td>1.0</td>\n",
       "      <td>1.0</td>\n",
       "      <td>0.0</td>\n",
       "      <td>0.0</td>\n",
       "      <td>0.0</td>\n",
       "      <td>0.0</td>\n",
       "      <td>0.0</td>\n",
       "      <td>0.0</td>\n",
       "      <td>...</td>\n",
       "      <td>0.0</td>\n",
       "      <td>0.000000</td>\n",
       "      <td>0.0</td>\n",
       "      <td>0.0</td>\n",
       "      <td>0.0</td>\n",
       "      <td>0.0</td>\n",
       "      <td>0.0</td>\n",
       "      <td>0.0</td>\n",
       "      <td>0.0</td>\n",
       "      <td>0.0</td>\n",
       "    </tr>\n",
       "    <tr>\n",
       "      <th>4</th>\n",
       "      <td>0.0</td>\n",
       "      <td>0.0</td>\n",
       "      <td>1.0</td>\n",
       "      <td>0.0</td>\n",
       "      <td>0.0</td>\n",
       "      <td>0.0</td>\n",
       "      <td>0.0</td>\n",
       "      <td>0.0</td>\n",
       "      <td>0.0</td>\n",
       "      <td>0.0</td>\n",
       "      <td>...</td>\n",
       "      <td>0.0</td>\n",
       "      <td>0.000000</td>\n",
       "      <td>0.0</td>\n",
       "      <td>0.0</td>\n",
       "      <td>0.0</td>\n",
       "      <td>0.0</td>\n",
       "      <td>0.0</td>\n",
       "      <td>0.0</td>\n",
       "      <td>0.0</td>\n",
       "      <td>0.0</td>\n",
       "    </tr>\n",
       "  </tbody>\n",
       "</table>\n",
       "<p>5 rows × 18583 columns</p>\n",
       "</div>"
      ],
      "text/plain": [
       "   num__has_salary_range  num__telecommuting  num__has_company_logo  \\\n",
       "0                    0.0                 0.0                    1.0   \n",
       "1                    0.0                 0.0                    1.0   \n",
       "2                    0.0                 0.0                    1.0   \n",
       "3                    0.0                 0.0                    1.0   \n",
       "4                    0.0                 0.0                    1.0   \n",
       "\n",
       "   num__has_questions  tokenizer__0  tokenizer__000  tokenizer__01  \\\n",
       "0                 1.0           0.0             0.0            0.0   \n",
       "1                 0.0           0.0             0.0            0.0   \n",
       "2                 0.0           0.0             0.0            0.0   \n",
       "3                 1.0           0.0             0.0            0.0   \n",
       "4                 0.0           0.0             0.0            0.0   \n",
       "\n",
       "   tokenizer__02  tokenizer__03  tokenizer__0415  ...  tokenizer__zombi  \\\n",
       "0            0.0            0.0              0.0  ...               0.0   \n",
       "1            0.0            0.0              0.0  ...               0.0   \n",
       "2            0.0            0.0              0.0  ...               0.0   \n",
       "3            0.0            0.0              0.0  ...               0.0   \n",
       "4            0.0            0.0              0.0  ...               0.0   \n",
       "\n",
       "   tokenizer__zone  tokenizer__zoom  tokenizer__zoopla  tokenizer__zopa  \\\n",
       "0         0.000000              0.0                0.0              0.0   \n",
       "1         0.041755              0.0                0.0              0.0   \n",
       "2         0.000000              0.0                0.0              0.0   \n",
       "3         0.000000              0.0                0.0              0.0   \n",
       "4         0.000000              0.0                0.0              0.0   \n",
       "\n",
       "   tokenizer__zu  tokenizer__zullen  tokenizer__zult  tokenizer__zweig  \\\n",
       "0            0.0                0.0              0.0               0.0   \n",
       "1            0.0                0.0              0.0               0.0   \n",
       "2            0.0                0.0              0.0               0.0   \n",
       "3            0.0                0.0              0.0               0.0   \n",
       "4            0.0                0.0              0.0               0.0   \n",
       "\n",
       "   tokenizer__zylun  \n",
       "0               0.0  \n",
       "1               0.0  \n",
       "2               0.0  \n",
       "3               0.0  \n",
       "4               0.0  \n",
       "\n",
       "[5 rows x 18583 columns]"
      ]
     },
     "execution_count": 81,
     "metadata": {},
     "output_type": "execute_result"
    }
   ],
   "source": [
    "# make df\n",
    "tf_rem_df = pd.DataFrame(X_rem_tf.toarray(), columns=cols_rem_tf)\n",
    "tf_rem_df.head()"
   ]
  },
  {
   "cell_type": "code",
   "execution_count": 82,
   "id": "eb7b163b",
   "metadata": {},
   "outputs": [
    {
     "data": {
      "text/html": [
       "<div>\n",
       "<style scoped>\n",
       "    .dataframe tbody tr th:only-of-type {\n",
       "        vertical-align: middle;\n",
       "    }\n",
       "\n",
       "    .dataframe tbody tr th {\n",
       "        vertical-align: top;\n",
       "    }\n",
       "\n",
       "    .dataframe thead th {\n",
       "        text-align: right;\n",
       "    }\n",
       "</style>\n",
       "<table border=\"1\" class=\"dataframe\">\n",
       "  <thead>\n",
       "    <tr style=\"text-align: right;\">\n",
       "      <th></th>\n",
       "      <th>num__has_salary_range</th>\n",
       "      <th>num__telecommuting</th>\n",
       "      <th>num__has_company_logo</th>\n",
       "      <th>num__has_questions</th>\n",
       "      <th>tokenizer__0</th>\n",
       "      <th>tokenizer__000</th>\n",
       "      <th>tokenizer__01</th>\n",
       "      <th>tokenizer__02</th>\n",
       "      <th>tokenizer__03</th>\n",
       "      <th>tokenizer__0415</th>\n",
       "      <th>...</th>\n",
       "      <th>tokenizer__zombi</th>\n",
       "      <th>tokenizer__zone</th>\n",
       "      <th>tokenizer__zoom</th>\n",
       "      <th>tokenizer__zoopla</th>\n",
       "      <th>tokenizer__zopa</th>\n",
       "      <th>tokenizer__zu</th>\n",
       "      <th>tokenizer__zullen</th>\n",
       "      <th>tokenizer__zult</th>\n",
       "      <th>tokenizer__zweig</th>\n",
       "      <th>tokenizer__zylun</th>\n",
       "    </tr>\n",
       "  </thead>\n",
       "  <tbody>\n",
       "    <tr>\n",
       "      <th>0</th>\n",
       "      <td>1.0</td>\n",
       "      <td>0.0</td>\n",
       "      <td>1.0</td>\n",
       "      <td>0.0</td>\n",
       "      <td>0.0</td>\n",
       "      <td>0.0</td>\n",
       "      <td>0.0</td>\n",
       "      <td>0.0</td>\n",
       "      <td>0.0</td>\n",
       "      <td>0.0</td>\n",
       "      <td>...</td>\n",
       "      <td>0.0</td>\n",
       "      <td>0.0</td>\n",
       "      <td>0.0</td>\n",
       "      <td>0.0</td>\n",
       "      <td>0.0</td>\n",
       "      <td>0.0</td>\n",
       "      <td>0.0</td>\n",
       "      <td>0.0</td>\n",
       "      <td>0.0</td>\n",
       "      <td>0.0</td>\n",
       "    </tr>\n",
       "    <tr>\n",
       "      <th>1</th>\n",
       "      <td>0.0</td>\n",
       "      <td>0.0</td>\n",
       "      <td>1.0</td>\n",
       "      <td>1.0</td>\n",
       "      <td>0.0</td>\n",
       "      <td>0.0</td>\n",
       "      <td>0.0</td>\n",
       "      <td>0.0</td>\n",
       "      <td>0.0</td>\n",
       "      <td>0.0</td>\n",
       "      <td>...</td>\n",
       "      <td>0.0</td>\n",
       "      <td>0.0</td>\n",
       "      <td>0.0</td>\n",
       "      <td>0.0</td>\n",
       "      <td>0.0</td>\n",
       "      <td>0.0</td>\n",
       "      <td>0.0</td>\n",
       "      <td>0.0</td>\n",
       "      <td>0.0</td>\n",
       "      <td>0.0</td>\n",
       "    </tr>\n",
       "    <tr>\n",
       "      <th>2</th>\n",
       "      <td>1.0</td>\n",
       "      <td>0.0</td>\n",
       "      <td>0.0</td>\n",
       "      <td>1.0</td>\n",
       "      <td>0.0</td>\n",
       "      <td>0.0</td>\n",
       "      <td>0.0</td>\n",
       "      <td>0.0</td>\n",
       "      <td>0.0</td>\n",
       "      <td>0.0</td>\n",
       "      <td>...</td>\n",
       "      <td>0.0</td>\n",
       "      <td>0.0</td>\n",
       "      <td>0.0</td>\n",
       "      <td>0.0</td>\n",
       "      <td>0.0</td>\n",
       "      <td>0.0</td>\n",
       "      <td>0.0</td>\n",
       "      <td>0.0</td>\n",
       "      <td>0.0</td>\n",
       "      <td>0.0</td>\n",
       "    </tr>\n",
       "    <tr>\n",
       "      <th>3</th>\n",
       "      <td>0.0</td>\n",
       "      <td>0.0</td>\n",
       "      <td>1.0</td>\n",
       "      <td>1.0</td>\n",
       "      <td>0.0</td>\n",
       "      <td>0.0</td>\n",
       "      <td>0.0</td>\n",
       "      <td>0.0</td>\n",
       "      <td>0.0</td>\n",
       "      <td>0.0</td>\n",
       "      <td>...</td>\n",
       "      <td>0.0</td>\n",
       "      <td>0.0</td>\n",
       "      <td>0.0</td>\n",
       "      <td>0.0</td>\n",
       "      <td>0.0</td>\n",
       "      <td>0.0</td>\n",
       "      <td>0.0</td>\n",
       "      <td>0.0</td>\n",
       "      <td>0.0</td>\n",
       "      <td>0.0</td>\n",
       "    </tr>\n",
       "    <tr>\n",
       "      <th>4</th>\n",
       "      <td>0.0</td>\n",
       "      <td>0.0</td>\n",
       "      <td>1.0</td>\n",
       "      <td>0.0</td>\n",
       "      <td>0.0</td>\n",
       "      <td>0.0</td>\n",
       "      <td>0.0</td>\n",
       "      <td>0.0</td>\n",
       "      <td>0.0</td>\n",
       "      <td>0.0</td>\n",
       "      <td>...</td>\n",
       "      <td>0.0</td>\n",
       "      <td>0.0</td>\n",
       "      <td>0.0</td>\n",
       "      <td>0.0</td>\n",
       "      <td>0.0</td>\n",
       "      <td>0.0</td>\n",
       "      <td>0.0</td>\n",
       "      <td>0.0</td>\n",
       "      <td>0.0</td>\n",
       "      <td>0.0</td>\n",
       "    </tr>\n",
       "  </tbody>\n",
       "</table>\n",
       "<p>5 rows × 18583 columns</p>\n",
       "</div>"
      ],
      "text/plain": [
       "   num__has_salary_range  num__telecommuting  num__has_company_logo  \\\n",
       "0                    1.0                 0.0                    1.0   \n",
       "1                    0.0                 0.0                    1.0   \n",
       "2                    1.0                 0.0                    0.0   \n",
       "3                    0.0                 0.0                    1.0   \n",
       "4                    0.0                 0.0                    1.0   \n",
       "\n",
       "   num__has_questions  tokenizer__0  tokenizer__000  tokenizer__01  \\\n",
       "0                 0.0           0.0             0.0            0.0   \n",
       "1                 1.0           0.0             0.0            0.0   \n",
       "2                 1.0           0.0             0.0            0.0   \n",
       "3                 1.0           0.0             0.0            0.0   \n",
       "4                 0.0           0.0             0.0            0.0   \n",
       "\n",
       "   tokenizer__02  tokenizer__03  tokenizer__0415  ...  tokenizer__zombi  \\\n",
       "0            0.0            0.0              0.0  ...               0.0   \n",
       "1            0.0            0.0              0.0  ...               0.0   \n",
       "2            0.0            0.0              0.0  ...               0.0   \n",
       "3            0.0            0.0              0.0  ...               0.0   \n",
       "4            0.0            0.0              0.0  ...               0.0   \n",
       "\n",
       "   tokenizer__zone  tokenizer__zoom  tokenizer__zoopla  tokenizer__zopa  \\\n",
       "0              0.0              0.0                0.0              0.0   \n",
       "1              0.0              0.0                0.0              0.0   \n",
       "2              0.0              0.0                0.0              0.0   \n",
       "3              0.0              0.0                0.0              0.0   \n",
       "4              0.0              0.0                0.0              0.0   \n",
       "\n",
       "   tokenizer__zu  tokenizer__zullen  tokenizer__zult  tokenizer__zweig  \\\n",
       "0            0.0                0.0              0.0               0.0   \n",
       "1            0.0                0.0              0.0               0.0   \n",
       "2            0.0                0.0              0.0               0.0   \n",
       "3            0.0                0.0              0.0               0.0   \n",
       "4            0.0                0.0              0.0               0.0   \n",
       "\n",
       "   tokenizer__zylun  \n",
       "0               0.0  \n",
       "1               0.0  \n",
       "2               0.0  \n",
       "3               0.0  \n",
       "4               0.0  \n",
       "\n",
       "[5 rows x 18583 columns]"
      ]
     },
     "execution_count": 82,
     "metadata": {},
     "output_type": "execute_result"
    }
   ],
   "source": [
    "tf_test_df = pd.DataFrame(X_test_tf.toarray(), columns=cols_test_tf)\n",
    "tf_test_df.head()"
   ]
  },
  {
   "cell_type": "code",
   "execution_count": 83,
   "id": "31b89c7a",
   "metadata": {},
   "outputs": [
    {
     "name": "stdout",
     "output_type": "stream",
     "text": [
      "The shape of trainsformed X_rem is (12515, 18583), and the shape of trainsformed X_test is (5364, 18583)\n"
     ]
    }
   ],
   "source": [
    "# print tf-idf transformed df shape\n",
    "print(f'The shape of trainsformed X_rem is {tf_rem_df.shape}, and the shape of trainsformed X_test is {tf_test_df.shape}')"
   ]
  },
  {
   "cell_type": "markdown",
   "id": "134dbc16",
   "metadata": {},
   "source": [
    "**save save trainsfromed df (TF-IDF)**"
   ]
  },
  {
   "cell_type": "code",
   "execution_count": 84,
   "id": "5de84030",
   "metadata": {},
   "outputs": [
    {
     "data": {
      "text/plain": [
       "['vectorized_df/TFIDF_rem_df.pkl']"
      ]
     },
     "execution_count": 84,
     "metadata": {},
     "output_type": "execute_result"
    }
   ],
   "source": [
    "joblib.dump(tf_test_df, 'vectorized_df/TFIDF_test_df.pkl')\n",
    "joblib.dump(tf_rem_df, 'vectorized_df/TFIDF_rem_df.pkl')"
   ]
  },
  {
   "cell_type": "markdown",
   "id": "5bfce497",
   "metadata": {},
   "source": [
    "- Looks like with TF-IDF and CountVectorizer I get exactly same sized the transformed dataframe,and the same features.\n",
    "- The only difference is the count of each features, as these 2 Vectorizers based on different weighting system."
   ]
  },
  {
   "cell_type": "markdown",
   "id": "7d05f432",
   "metadata": {},
   "source": [
    "- Moving forword, I will load my previous result instead of create a transformed dataframe again, as this process will cause more extra time."
   ]
  },
  {
   "cell_type": "markdown",
   "id": "2fc47a2d",
   "metadata": {},
   "source": [
    "____"
   ]
  },
  {
   "cell_type": "markdown",
   "id": "43b5068e",
   "metadata": {},
   "source": [
    "# 3. Modeling <a id=\"3\"></a>"
   ]
  },
  {
   "cell_type": "markdown",
   "id": "e488271b",
   "metadata": {},
   "source": [
    "## 3.1 DummyClassifier and baseline<a id=\"3.1\"></a>\n",
    "<a href=\"#top\" class=\"btn btn-primary btn-sm\" role=\"button\" aria-pressed=\"true\" style=\"color:white\" data-toggle=\"popover\">Go to TOC</a>"
   ]
  },
  {
   "cell_type": "markdown",
   "id": "5ad49b56",
   "metadata": {},
   "source": [
    "**DummyClassifier**: DummyClassifier is a class in the scikit-learn library that can be used as a simple baseline for classification tasks. The DummyClassifier is not designed to be a good classifier, but to serve as a simple, fast and easy-to-use baseline classifier for comparison with other classifiers.\n",
    "\n",
    "- I will use DummyClassifier to bulid my baseline model, instead of using logistic regression wich is designed for much balanced dataset.\n",
    "\n",
    "**Note: In order to reduce cumpting time, I will load Vectorized X_rem and X_test directly from the pickled file.**"
   ]
  },
  {
   "cell_type": "markdown",
   "id": "06d3917d",
   "metadata": {},
   "source": [
    "> **[GO back](#12)**\n",
    "\n",
    "\n",
    "**[Run the cell down below, you can also load X_rem_tf and X_test_tf in following cell]<a id=\"13\"></a>**"
   ]
  },
  {
   "cell_type": "markdown",
   "id": "076e3c66",
   "metadata": {},
   "source": [
    "**Dummy baseline with CountVectorizer**"
   ]
  },
  {
   "cell_type": "code",
   "execution_count": 8,
   "id": "71fba5b7",
   "metadata": {},
   "outputs": [],
   "source": [
    "# load X_rem and X_test\n",
    "X_rem_count=joblib.load('vectorized_df/CountVectorizer_rem_df.pkl')\n",
    "X_test_count=joblib.load('vectorized_df/CountVectorizer_test_df.pkl')"
   ]
  },
  {
   "cell_type": "code",
   "execution_count": 57,
   "id": "c86d4fd7",
   "metadata": {},
   "outputs": [
    {
     "name": "stdout",
     "output_type": "stream",
     "text": [
      "the shpe of reminder is (12515, 18583),test is (5364, 18583)\n"
     ]
    }
   ],
   "source": [
    "# check shape\n",
    "print(f'the shpe of reminder is {X_rem_count.shape},test is {X_test_count.shape}')"
   ]
  },
  {
   "cell_type": "code",
   "execution_count": 58,
   "id": "09de728f",
   "metadata": {},
   "outputs": [],
   "source": [
    "# fit with reminder maybe cause data leak, BUt not going to run a gridsearch on the DummyClassifier\n",
    "#as there are no hyperparameter need to be tuned\n",
    "baseline_c = DummyClassifier() \n",
    "baseline_c.fit(X_rem_count, y_rem)\n",
    "\n",
    "# Make predictions\n",
    "base_score_count=baseline_c.score(X_test_count,y_test)"
   ]
  },
  {
   "cell_type": "code",
   "execution_count": 59,
   "id": "e1fb6b47",
   "metadata": {},
   "outputs": [
    {
     "name": "stdout",
     "output_type": "stream",
     "text": [
      "The test accuracy with CountVectorizer is 0.9515287099179717\n"
     ]
    }
   ],
   "source": [
    "print(f'The test accuracy with CountVectorizer is {base_score_count}')"
   ]
  },
  {
   "cell_type": "markdown",
   "id": "7e65af12",
   "metadata": {},
   "source": [
    "**Dummy baseline with TF-IDF**"
   ]
  },
  {
   "cell_type": "code",
   "execution_count": 9,
   "id": "97377986",
   "metadata": {},
   "outputs": [],
   "source": [
    "# load X_rem and X_test\n",
    "X_rem_tf=joblib.load('vectorized_df/TFIDF_rem_df.pkl')\n",
    "X_test_tf=joblib.load('vectorized_df/TFIDF_test_df.pkl')"
   ]
  },
  {
   "cell_type": "code",
   "execution_count": 51,
   "id": "e822ae45",
   "metadata": {},
   "outputs": [
    {
     "name": "stdout",
     "output_type": "stream",
     "text": [
      "the shpe of reminder is (12515, 18583),test is (5364, 18583)\n"
     ]
    }
   ],
   "source": [
    "# check shape\n",
    "print(f'the shpe of reminder is {X_rem_tf.shape},test is {X_test_tf.shape}')"
   ]
  },
  {
   "cell_type": "code",
   "execution_count": 52,
   "id": "97f6919c",
   "metadata": {},
   "outputs": [],
   "source": [
    "baseline_tf=DummyClassifier()\n",
    "baseline_tf.fit(X_rem_tf, y_rem)\n",
    "base_score_tf=baseline_tf.score(X_test_tf,y_test)"
   ]
  },
  {
   "cell_type": "code",
   "execution_count": 53,
   "id": "ea85ca77",
   "metadata": {},
   "outputs": [
    {
     "name": "stdout",
     "output_type": "stream",
     "text": [
      "The test accuracy with TF_IDF is 0.9515287099179717\n"
     ]
    }
   ],
   "source": [
    "print(f'The test accuracy with TF_IDF is {base_score_tf}')"
   ]
  },
  {
   "cell_type": "markdown",
   "id": "54116ec0",
   "metadata": {},
   "source": [
    "**Finding**"
   ]
  },
  {
   "cell_type": "markdown",
   "id": "ced51669",
   "metadata": {},
   "source": [
    "- With 2 different Vectorizers, I get a same test accuracy score. The only thing behind these 2 models are vectorizers.\n",
    "- 95% of test accuracy is really good, but is this really a working model? I will make a confusion matrix to do the further investigate.\n",
    "- It is clear this dummy baseline model does a great job on predict real jobs, at the sametime this dummy model dose nothing on find out fake jobs.\n",
    "- I will use this as a baseline, aim to improve them using other models.\n",
    "- Why this dummy model not doing well with predict fake job posts? My concern is the imbalace from my dataset."
   ]
  },
  {
   "cell_type": "markdown",
   "id": "35ffa297",
   "metadata": {},
   "source": [
    "**ConfusionMatrix** \n",
    "\n",
    "Note: As I am using DummyClassifier, base on this CountVectorizer and TF-IDF has a totally same result, I am not going to plot the ConfusionMatrix for TF-IDF."
   ]
  },
  {
   "cell_type": "code",
   "execution_count": 60,
   "id": "d44edf1a",
   "metadata": {},
   "outputs": [
    {
     "data": {
      "image/png": "[encoded data removed]",
      "text/plain": [
       "<Figure size 432x288 with 2 Axes>"
      ]
     },
     "metadata": {
      "needs_background": "light"
     },
     "output_type": "display_data"
    }
   ],
   "source": [
    "ConfusionMatrixDisplay.from_estimator(baseline_c, X_test_count,y_test)\n",
    "plt.title(\"Dummy base model\")\n",
    "plt.show()"
   ]
  },
  {
   "cell_type": "code",
   "execution_count": 31,
   "id": "f3775d59",
   "metadata": {},
   "outputs": [
    {
     "name": "stdout",
     "output_type": "stream",
     "text": [
      "              precision    recall  f1-score   support\n",
      "\n",
      "           0       0.95      1.00      0.98      5104\n",
      "           1       0.00      0.00      0.00       260\n",
      "\n",
      "    accuracy                           0.95      5364\n",
      "   macro avg       0.48      0.50      0.49      5364\n",
      "weighted avg       0.91      0.95      0.93      5364\n",
      "\n"
     ]
    },
    {
     "name": "stderr",
     "output_type": "stream",
     "text": [
      "D:\\anaconda3\\lib\\site-packages\\sklearn\\metrics\\_classification.py:1334: UndefinedMetricWarning: Precision and F-score are ill-defined and being set to 0.0 in labels with no predicted samples. Use `zero_division` parameter to control this behavior.\n",
      "  _warn_prf(average, modifier, msg_start, len(result))\n",
      "D:\\anaconda3\\lib\\site-packages\\sklearn\\metrics\\_classification.py:1334: UndefinedMetricWarning: Precision and F-score are ill-defined and being set to 0.0 in labels with no predicted samples. Use `zero_division` parameter to control this behavior.\n",
      "  _warn_prf(average, modifier, msg_start, len(result))\n",
      "D:\\anaconda3\\lib\\site-packages\\sklearn\\metrics\\_classification.py:1334: UndefinedMetricWarning: Precision and F-score are ill-defined and being set to 0.0 in labels with no predicted samples. Use `zero_division` parameter to control this behavior.\n",
      "  _warn_prf(average, modifier, msg_start, len(result))\n"
     ]
    }
   ],
   "source": [
    "#baseline_c.predict(X_test_count)\n",
    "dummy_report_c = classification_report(y_test, baseline_c.predict(X_test_count))\n",
    "print(dummy_report_c)"
   ]
  },
  {
   "cell_type": "markdown",
   "id": "9c230eab",
   "metadata": {},
   "source": [
    "- This Waring is saying there exist label that never been perdect.\n",
    "- **As we see there is nothing in the label 1 part. Which means this dummy model does nothing no perdict Fake job.**"
   ]
  },
  {
   "cell_type": "code",
   "execution_count": 32,
   "id": "6956d13a",
   "metadata": {},
   "outputs": [
    {
     "data": {
      "text/plain": [
       "{1}"
      ]
     },
     "execution_count": 32,
     "metadata": {},
     "output_type": "execute_result"
    }
   ],
   "source": [
    "# label 1 is never been perdict----> No fake job has been perdected.\n",
    "set(y_test) - set(baseline_c.predict(X_test_count))"
   ]
  },
  {
   "cell_type": "code",
   "execution_count": 33,
   "id": "fba60c86",
   "metadata": {},
   "outputs": [
    {
     "data": {
      "text/plain": [
       "0    0.951578\n",
       "1    0.048422\n",
       "Name: fraudulent, dtype: float64"
      ]
     },
     "execution_count": 33,
     "metadata": {},
     "output_type": "execute_result"
    }
   ],
   "source": [
    "y_rem.value_counts(normalize=True)"
   ]
  },
  {
   "cell_type": "markdown",
   "id": "fe4aa8be",
   "metadata": {},
   "source": [
    "**I only have 5% fake jobs in the dataset.** \n",
    "- I will investigate the imbalance with smote()\n",
    "---"
   ]
  },
  {
   "cell_type": "markdown",
   "id": "b235f31f",
   "metadata": {},
   "source": [
    "# 3.2 oversampling<a id=\"3.2\"></a>\n",
    "<a href=\"#top\" class=\"btn btn-primary btn-sm\" role=\"button\" aria-pressed=\"true\" style=\"color:white\" data-toggle=\"popover\">Go to TOC</a>"
   ]
  },
  {
   "cell_type": "markdown",
   "id": "21a0de52",
   "metadata": {},
   "source": [
    "**Plan**\n",
    "- Run a default Logistic regression model with no resampling\n",
    "- Run a default Logistic regression model with resampling\n",
    "- compare the result"
   ]
  },
  {
   "cell_type": "code",
   "execution_count": 42,
   "id": "6039a582",
   "metadata": {},
   "outputs": [],
   "source": [
    "# split reminder data into train and validation with no smote()\n",
    "X_train, X_val, y_train, y_val = train_test_split(X_rem_count, y_rem, test_size=0.2, random_state=42,stratify=y_rem)"
   ]
  },
  {
   "cell_type": "code",
   "execution_count": 35,
   "id": "e7de1b74",
   "metadata": {},
   "outputs": [
    {
     "data": {
      "image/png": "[encoded data removed]",
      "text/plain": [
       "<Figure size 432x288 with 1 Axes>"
      ]
     },
     "metadata": {
      "needs_background": "light"
     },
     "output_type": "display_data"
    }
   ],
   "source": [
    "plt.figure()\n",
    "plt.title('imbalanced target')\n",
    "y_train.value_counts(normalize=True).plot(kind='bar')\n",
    "plt.show()"
   ]
  },
  {
   "cell_type": "code",
   "execution_count": 36,
   "id": "9979f969",
   "metadata": {},
   "outputs": [
    {
     "name": "stderr",
     "output_type": "stream",
     "text": [
      "D:\\anaconda3\\lib\\site-packages\\sklearn\\linear_model\\_logistic.py:444: ConvergenceWarning: lbfgs failed to converge (status=1):\n",
      "STOP: TOTAL NO. of ITERATIONS REACHED LIMIT.\n",
      "\n",
      "Increase the number of iterations (max_iter) or scale the data as shown in:\n",
      "    https://scikit-learn.org/stable/modules/preprocessing.html\n",
      "Please also refer to the documentation for alternative solver options:\n",
      "    https://scikit-learn.org/stable/modules/linear_model.html#logistic-regression\n",
      "  n_iter_i = _check_optimize_result(\n"
     ]
    },
    {
     "data": {
      "text/plain": [
       "0.9806114839671887"
      ]
     },
     "execution_count": 36,
     "metadata": {},
     "output_type": "execute_result"
    }
   ],
   "source": [
    "# base Logistic regression with all default parameter\n",
    "Logistic_d=LogisticRegression()\n",
    "Logistic_d.fit(X_train,y_train)\n",
    "Logistic_d.score(X_test_count,y_test)"
   ]
  },
  {
   "cell_type": "code",
   "execution_count": 37,
   "id": "5e7c0f31",
   "metadata": {},
   "outputs": [
    {
     "data": {
      "image/png": "[encoded data removed]",
      "text/plain": [
       "<Figure size 432x288 with 2 Axes>"
      ]
     },
     "metadata": {
      "needs_background": "light"
     },
     "output_type": "display_data"
    }
   ],
   "source": [
    "# base Logistic regression with no smote()\n",
    "ConfusionMatrixDisplay.from_estimator(Logistic_d, X_test_count,y_test,normalize='true')\n",
    "plt.show()"
   ]
  },
  {
   "cell_type": "code",
   "execution_count": 49,
   "id": "5cc92fd3",
   "metadata": {},
   "outputs": [
    {
     "data": {
      "image/png": "[encoded data removed]",
      "text/plain": [
       "<Figure size 432x288 with 1 Axes>"
      ]
     },
     "metadata": {
      "needs_background": "light"
     },
     "output_type": "display_data"
    }
   ],
   "source": [
    "RocCurveDisplay.from_estimator(Logistic_d, X_test_count,y_test)\n",
    "plt.title('ROC Curve with no smote')\n",
    "plt.show()"
   ]
  },
  {
   "cell_type": "code",
   "execution_count": 38,
   "id": "75e0943d",
   "metadata": {},
   "outputs": [],
   "source": [
    "# resampling\n",
    "sm = SMOTE(random_state=42)\n",
    "X_resampled, y_resampled = sm.fit_resample(X_train, y_train)"
   ]
  },
  {
   "cell_type": "code",
   "execution_count": 39,
   "id": "f0aeea30",
   "metadata": {},
   "outputs": [
    {
     "data": {
      "image/png": "[encoded data removed]",
      "text/plain": [
       "<Figure size 432x288 with 1 Axes>"
      ]
     },
     "metadata": {
      "needs_background": "light"
     },
     "output_type": "display_data"
    }
   ],
   "source": [
    "plt.figure()\n",
    "y_resampled.value_counts(normalize=True).plot(kind='bar')\n",
    "plt.title('after resampling')\n",
    "plt.show()"
   ]
  },
  {
   "cell_type": "code",
   "execution_count": 40,
   "id": "10d3d261",
   "metadata": {},
   "outputs": [
    {
     "name": "stderr",
     "output_type": "stream",
     "text": [
      "D:\\anaconda3\\lib\\site-packages\\sklearn\\linear_model\\_logistic.py:444: ConvergenceWarning: lbfgs failed to converge (status=1):\n",
      "STOP: TOTAL NO. of ITERATIONS REACHED LIMIT.\n",
      "\n",
      "Increase the number of iterations (max_iter) or scale the data as shown in:\n",
      "    https://scikit-learn.org/stable/modules/preprocessing.html\n",
      "Please also refer to the documentation for alternative solver options:\n",
      "    https://scikit-learn.org/stable/modules/linear_model.html#logistic-regression\n",
      "  n_iter_i = _check_optimize_result(\n"
     ]
    },
    {
     "data": {
      "text/plain": [
       "0.9746457867263236"
      ]
     },
     "execution_count": 40,
     "metadata": {},
     "output_type": "execute_result"
    }
   ],
   "source": [
    "# base Logistic regression with all default parameter after resampling\n",
    "Logistic_re=LogisticRegression()\n",
    "Logistic_re.fit(X_resampled,y_resampled)\n",
    "Logistic_re.score(X_test_count,y_test)"
   ]
  },
  {
   "cell_type": "code",
   "execution_count": 41,
   "id": "14cf2f90",
   "metadata": {},
   "outputs": [
    {
     "data": {
      "image/png": "[encoded data removed]",
      "text/plain": [
       "<Figure size 432x288 with 2 Axes>"
      ]
     },
     "metadata": {
      "needs_background": "light"
     },
     "output_type": "display_data"
    }
   ],
   "source": [
    "# base Logistic regression with no smote()\n",
    "ConfusionMatrixDisplay.from_estimator(Logistic_re, X_test_count,y_test,normalize='true')\n",
    "plt.show()"
   ]
  },
  {
   "cell_type": "code",
   "execution_count": 42,
   "id": "7cbc73ab",
   "metadata": {},
   "outputs": [
    {
     "data": {
      "image/png": "[encoded data removed]",
      "text/plain": [
       "<Figure size 432x288 with 1 Axes>"
      ]
     },
     "metadata": {
      "needs_background": "light"
     },
     "output_type": "display_data"
    }
   ],
   "source": [
    "RocCurveDisplay.from_estimator(Logistic_re, X_test_count,y_test)\n",
    "plt.title('ROC Curve with smote')\n",
    "plt.show()"
   ]
  },
  {
   "cell_type": "markdown",
   "id": "52177cce",
   "metadata": {},
   "source": [
    "- Though after resmapling, the test accuary have a little drop down. \n",
    "- But I observed 4% improvement on detect fake job posts. I believe that using somte() to process the resampling will improve the ability to finding out more scam.\n",
    "----"
   ]
  },
  {
   "cell_type": "markdown",
   "id": "6b19c566",
   "metadata": {},
   "source": [
    "# 3.3 Logistic regression<a id=\"3.3\"></a>\n",
    "<a href=\"#top\" class=\"btn btn-primary btn-sm\" role=\"button\" aria-pressed=\"true\" style=\"color:white\" data-toggle=\"popover\">Go to TOC</a>"
   ]
  },
  {
   "cell_type": "markdown",
   "id": "1b6b5316",
   "metadata": {},
   "source": [
    "**Plan**\n",
    "- **Vectorizer: CountVectorizer/ TF-IDF**\n",
    "  + imbalance care: smote()\n",
    "  + scaler: MinMaxScaler(), the reason I choose this scaler is: There is only 2 kinds of features in my dataset(binary columns and text column), andn I don't want to change the distribution of my dataset.\n",
    "  + dim_reducer:PCA()\n",
    "  + model: Logistic regression\n",
    "  + hyperparameter tune: gridsearchCV()\n",
    "  \n",
    "- Reason of using scaler: I may seed up the trainng time of my model.\n",
    "\n",
    "  \n",
    "  \n",
    "**Note This Grid Search will take a long time, If you do not want to run this,pass the pipeline and grid search part,and you can just take my fitting result and load in.**"
   ]
  },
  {
   "cell_type": "markdown",
   "id": "03c96732",
   "metadata": {},
   "source": [
    "**CountVectorizer with scaler** "
   ]
  },
  {
   "cell_type": "code",
   "execution_count": 97,
   "id": "1100011e",
   "metadata": {},
   "outputs": [],
   "source": [
    "# define the pipeline\n",
    "pipe1 = imbPipeline([\n",
    "    ('smote',SMOTE(random_state=42)),\n",
    "    ('scaler',MinMaxScaler()),\n",
    "    ('dim_reducer', PCA()),\n",
    "    ('classifier',LogisticRegression())\n",
    "])\n",
    "\n",
    "# define C values\n",
    "c_values=[0.001, 0.01, 0.1, 1, 10]\n",
    "\n",
    "\n",
    "logistic_reg_grid=[\n",
    "    # no pca\n",
    "    {'classifier__C':c_values,\n",
    "     'dim_reducer':[None],\n",
    "    'classifier': [LogisticRegression(penalty='l1', random_state=123, n_jobs=-1,max_iter=1000)],\n",
    "    'classifier__solver':['saga']},\n",
    "    # with pca\n",
    "    {\n",
    "     'dim_reducer':[PCA()],\n",
    "     'dim_reducer__n_components': [0.95, 0.9, 0.85, 0.8],\n",
    "     'classifier': [LogisticRegression(penalty='l1', random_state=123, n_jobs=-1,max_iter=1000)],\n",
    "     'classifier__C': c_values,\n",
    "    'classifier__solver':['saga']},\n",
    "    # L2 with no pca,solver='lbfgs'\n",
    "    {\n",
    "     'dim_reducer':[None],\n",
    "     'classifier': [LogisticRegression(solver='lbfgs',penalty='l2', random_state=123, n_jobs=-1,max_iter=1000)],\n",
    "     'classifier__C': c_values},\n",
    "    {\n",
    "     'dim_reducer':[PCA()],\n",
    "     'dim_reducer__n_components': [0.95, 0.9, 0.85, 0.8],\n",
    "     'classifier': [LogisticRegression(solver='lbfgs',penalty='l2', random_state=123, n_jobs=-1,max_iter=1000)],\n",
    "     'classifier__C': c_values}  \n",
    "    \n",
    "]\n",
    " "
   ]
  },
  {
   "cell_type": "code",
   "execution_count": 98,
   "id": "f333f684",
   "metadata": {},
   "outputs": [],
   "source": [
    "# define GridSearch\n",
    "halving_cv = HalvingGridSearchCV(pipe1, logistic_reg_grid, n_jobs=-1, min_resources=\"exhaust\", factor=3,verbose=2)"
   ]
  },
  {
   "cell_type": "markdown",
   "id": "f5d6f08c",
   "metadata": {},
   "source": [
    "### Load result from my pre-fit model<a id=\"10\"></a>\n",
    "<a href=\"#11\" class=\"btn btn-primary btn-sm\" role=\"button\" aria-pressed=\"true\" style=\"background-color: red\" data-toggle=\"popover\">Load  result Logreg-count</a>"
   ]
  },
  {
   "cell_type": "code",
   "execution_count": 99,
   "id": "6d6a0780",
   "metadata": {},
   "outputs": [
    {
     "name": "stdout",
     "output_type": "stream",
     "text": [
      "n_iterations: 4\n",
      "n_required_iterations: 4\n",
      "n_possible_iterations: 4\n",
      "min_resources_: 463\n",
      "max_resources_: 12515\n",
      "aggressive_elimination: False\n",
      "factor: 3\n",
      "----------\n",
      "iter: 0\n",
      "n_candidates: 50\n",
      "n_resources: 463\n",
      "Fitting 5 folds for each of 50 candidates, totalling 250 fits\n",
      "----------\n",
      "iter: 1\n",
      "n_candidates: 17\n",
      "n_resources: 1389\n",
      "Fitting 5 folds for each of 17 candidates, totalling 85 fits\n",
      "----------\n",
      "iter: 2\n",
      "n_candidates: 6\n",
      "n_resources: 4167\n",
      "Fitting 5 folds for each of 6 candidates, totalling 30 fits\n",
      "----------\n",
      "iter: 3\n",
      "n_candidates: 2\n",
      "n_resources: 12501\n",
      "Fitting 5 folds for each of 2 candidates, totalling 10 fits\n"
     ]
    }
   ],
   "source": [
    "# fit model\n",
    "# this will take super long time to fit the model.\n",
    "logreg_gs_count_fit=halving_cv.fit(X_rem_count,y_rem)"
   ]
  },
  {
   "cell_type": "code",
   "execution_count": 102,
   "id": "2af648ef",
   "metadata": {},
   "outputs": [
    {
     "data": {
      "text/plain": [
       "0.8385533184190902"
      ]
     },
     "execution_count": 102,
     "metadata": {},
     "output_type": "execute_result"
    }
   ],
   "source": [
    "logreg_gs_count_fit.score(X_test_count,y_test)"
   ]
  },
  {
   "cell_type": "code",
   "execution_count": 103,
   "id": "7fbb6dba",
   "metadata": {},
   "outputs": [
    {
     "data": {
      "text/plain": [
       "['vectorized_df/logreg_count_fit.pkl']"
      ]
     },
     "execution_count": 103,
     "metadata": {},
     "output_type": "execute_result"
    }
   ],
   "source": [
    "# dump the result of logreg_gs_fit\n",
    "joblib.dump(logreg_gs_count_fit,'vectorized_df/logreg_count_fit.pkl')"
   ]
  },
  {
   "cell_type": "markdown",
   "id": "ce30686b",
   "metadata": {},
   "source": [
    "> **[Go Back](#10)**\n",
    "\n",
    "\n",
    "**[Run the cell down below to load the fitted result]<a id=\"11\"></a>**"
   ]
  },
  {
   "cell_type": "code",
   "execution_count": 69,
   "id": "18df9d88",
   "metadata": {},
   "outputs": [],
   "source": [
    "# load the fitted Logistic model \n",
    "logreg_fit_read=joblib.load('vectorized_df/logreg_count_fit.pkl')"
   ]
  },
  {
   "cell_type": "code",
   "execution_count": 75,
   "id": "58ae2792",
   "metadata": {},
   "outputs": [
    {
     "name": "stdout",
     "output_type": "stream",
     "text": [
      "{'classifier': LogisticRegression(C=10, max_iter=1000, n_jobs=-1, random_state=123), 'classifier__C': 10, 'dim_reducer': PCA(n_components=0.85), 'dim_reducer__n_components': 0.85}\n"
     ]
    }
   ],
   "source": [
    "print(logreg_fit_read.best_params_)"
   ]
  },
  {
   "cell_type": "code",
   "execution_count": 76,
   "id": "dc66ecb1",
   "metadata": {},
   "outputs": [
    {
     "name": "stdout",
     "output_type": "stream",
     "text": [
      "Best train score using CountVectorizer with Logestic Regression is 0.8385533184190902.\n"
     ]
    }
   ],
   "source": [
    "print(f'Best train score using CountVectorizer with Logestic Regression is {logreg_fit_read.score(X_test_count,y_test)}.')"
   ]
  },
  {
   "cell_type": "code",
   "execution_count": 70,
   "id": "a3ee1f54",
   "metadata": {},
   "outputs": [
    {
     "data": {
      "image/png": "[encoded data removed]",
      "text/plain": [
       "<Figure size 432x288 with 2 Axes>"
      ]
     },
     "metadata": {
      "needs_background": "light"
     },
     "output_type": "display_data"
    }
   ],
   "source": [
    "ConfusionMatrixDisplay.from_estimator(logreg_fit_read,X_test_count,y_test,normalize='true')\n",
    "plt.show()"
   ]
  },
  {
   "cell_type": "code",
   "execution_count": 64,
   "id": "6b2ea9e3",
   "metadata": {},
   "outputs": [
    {
     "data": {
      "image/png": "[encoded data removed]",
      "text/plain": [
       "<Figure size 432x288 with 1 Axes>"
      ]
     },
     "metadata": {
      "needs_background": "light"
     },
     "output_type": "display_data"
    }
   ],
   "source": [
    "RocCurveDisplay.from_estimator(logreg_fit_read,X_test_count,y_test)\n",
    "plt.title('ROC Curve Fake job Prediction logreg (CountVectorizer)')\n",
    "plt.show()"
   ]
  },
  {
   "cell_type": "markdown",
   "id": "f0e0c769",
   "metadata": {},
   "source": [
    "**Best Result**\n",
    "- This accuary score is 0.8385, obvious this model has a lower accuacy score comapare with the others, or even my base dummy model.\n",
    "- Does a **Good job** for **perdict fake jobs**, it correctly predict 83% of TN and 92% of the TP.\n",
    "- The model did a great job on distinguish fake jobs, but it's test accuracy score is lower than my base line model, I will not choose this model moving forward. "
   ]
  },
  {
   "cell_type": "markdown",
   "id": "60b8ce47",
   "metadata": {},
   "source": [
    "**TF-IDF with scaler**"
   ]
  },
  {
   "cell_type": "markdown",
   "id": "00421e95",
   "metadata": {},
   "source": [
    "### Load result from my pre-fit model<a id=\"14\"></a>\n",
    "<a href=\"#15\" class=\"btn btn-primary btn-sm\" role=\"button\" aria-pressed=\"true\" style=\"background-color: red\" data-toggle=\"popover\">Load  result Logreg-IF_IDF</a>"
   ]
  },
  {
   "cell_type": "code",
   "execution_count": 101,
   "id": "b2c3ae13",
   "metadata": {},
   "outputs": [
    {
     "name": "stdout",
     "output_type": "stream",
     "text": [
      "n_iterations: 4\n",
      "n_required_iterations: 4\n",
      "n_possible_iterations: 4\n",
      "min_resources_: 463\n",
      "max_resources_: 12515\n",
      "aggressive_elimination: False\n",
      "factor: 3\n",
      "----------\n",
      "iter: 0\n",
      "n_candidates: 50\n",
      "n_resources: 463\n",
      "Fitting 5 folds for each of 50 candidates, totalling 250 fits\n",
      "----------\n",
      "iter: 1\n",
      "n_candidates: 17\n",
      "n_resources: 1389\n",
      "Fitting 5 folds for each of 17 candidates, totalling 85 fits\n",
      "----------\n",
      "iter: 2\n",
      "n_candidates: 6\n",
      "n_resources: 4167\n",
      "Fitting 5 folds for each of 6 candidates, totalling 30 fits\n",
      "----------\n",
      "iter: 3\n",
      "n_candidates: 2\n",
      "n_resources: 12501\n",
      "Fitting 5 folds for each of 2 candidates, totalling 10 fits\n"
     ]
    }
   ],
   "source": [
    "logreg_gs_tf=halving_cv.fit(X_rem_tf, y_rem)"
   ]
  },
  {
   "cell_type": "code",
   "execution_count": 107,
   "id": "b949c34e",
   "metadata": {},
   "outputs": [
    {
     "data": {
      "text/plain": [
       "['vectorized_df/logreg_tf_fit.pkl']"
      ]
     },
     "execution_count": 107,
     "metadata": {},
     "output_type": "execute_result"
    }
   ],
   "source": [
    "# dump the result of logreg_gs_fit\n",
    "joblib.dump(logreg_gs_tf,'vectorized_df/logreg_tf_fit.pkl')"
   ]
  },
  {
   "cell_type": "markdown",
   "id": "f5a71b95",
   "metadata": {},
   "source": [
    "> **[Go Back](#14)**\n",
    "\n",
    "\n",
    "**[Run the cell down below to load the fitted result]<a id=\"15\"></a>**"
   ]
  },
  {
   "cell_type": "code",
   "execution_count": 32,
   "id": "f340e5d8",
   "metadata": {},
   "outputs": [],
   "source": [
    "# load the fitted Logistic model \n",
    "logreg_gs_tf_read=joblib.load('vectorized_df/logreg_tf_fit.pkl')"
   ]
  },
  {
   "cell_type": "code",
   "execution_count": 71,
   "id": "f79225e8",
   "metadata": {},
   "outputs": [
    {
     "data": {
      "text/plain": [
       "0.9852721849366145"
      ]
     },
     "execution_count": 71,
     "metadata": {},
     "output_type": "execute_result"
    }
   ],
   "source": [
    "logreg_gs_tf_read.score(X_test_tf, y_test)"
   ]
  },
  {
   "cell_type": "code",
   "execution_count": 79,
   "id": "6f151ea1",
   "metadata": {},
   "outputs": [
    {
     "name": "stdout",
     "output_type": "stream",
     "text": [
      "{'classifier': LogisticRegression(C=10, max_iter=1000, n_jobs=-1, random_state=123), 'classifier__C': 10, 'dim_reducer': PCA(n_components=0.85), 'dim_reducer__n_components': 0.85}\n"
     ]
    }
   ],
   "source": [
    "# best params for log-reg model with IF-IDF\n",
    "print(logreg_gs_tf_read.best_params_)"
   ]
  },
  {
   "cell_type": "code",
   "execution_count": 72,
   "id": "8c2117dc",
   "metadata": {},
   "outputs": [
    {
     "data": {
      "image/png": "[encoded data removed]",
      "text/plain": [
       "<Figure size 432x288 with 2 Axes>"
      ]
     },
     "metadata": {
      "needs_background": "light"
     },
     "output_type": "display_data"
    }
   ],
   "source": [
    "ConfusionMatrixDisplay.from_estimator(logreg_gs_tf_read,X_test_tf, y_test,normalize='true')\n",
    "plt.show()"
   ]
  },
  {
   "cell_type": "code",
   "execution_count": 73,
   "id": "81caf212",
   "metadata": {},
   "outputs": [
    {
     "data": {
      "image/png": "[encoded data removed]",
      "text/plain": [
       "<Figure size 432x288 with 1 Axes>"
      ]
     },
     "metadata": {
      "needs_background": "light"
     },
     "output_type": "display_data"
    }
   ],
   "source": [
    "RocCurveDisplay.from_estimator(logreg_gs_tf_read,X_test_tf, y_test)\n",
    "plt.title('ROC Curve Fake job Prediction logreg (IF-IDF)')\n",
    "plt.show()"
   ]
  },
  {
   "cell_type": "code",
   "execution_count": 33,
   "id": "9cf7c821",
   "metadata": {},
   "outputs": [
    {
     "name": "stdout",
     "output_type": "stream",
     "text": [
      "              precision    recall  f1-score   support\n",
      "\n",
      "           0       0.99      0.99      0.99      5104\n",
      "           1       0.89      0.80      0.84       260\n",
      "\n",
      "    accuracy                           0.99      5364\n",
      "   macro avg       0.94      0.90      0.92      5364\n",
      "weighted avg       0.98      0.99      0.98      5364\n",
      "\n"
     ]
    }
   ],
   "source": [
    "print(classification_report(y_test,logreg_gs_tf_read.predict(X_test_tf)))"
   ]
  },
  {
   "cell_type": "markdown",
   "id": "51e7b7cb",
   "metadata": {},
   "source": [
    "**Best Result**\n",
    "- This accuary score is 0.985.\n",
    "- It correctly predict 99% of TN and 80% of the TP, compare with the model with previous model (CountVectorizer), this one lack of the ability of detect fake jobs."
   ]
  },
  {
   "cell_type": "markdown",
   "id": "6f03c366",
   "metadata": {},
   "source": [
    "**Best model model logestic regression**"
   ]
  },
  {
   "cell_type": "markdown",
   "id": "e9ef2d7a",
   "metadata": {},
   "source": [
    "| Best estimator  Model 1                                                                                                                                                          | model               | Vectorizer | Test Accuracy      | % TP | % TN | AUC  |   |   |   |   |\n",
    "|----------------------------------------------------------------------------------------------------------------------------------------------------------------------------------|---------------------|------------|--------------------|------|------|------|---|---|---|---|\n",
    "| classifier': LogisticRegression(C=10, max_iter=1000, n_jobs=-1, random_state=123), 'classifier__C': 10, 'dim_reducer': PCA(n_components=0.85), 'dim_reducer__n_components': 0.85 | Logistic regression | IF-IDF     | 0.9852721849366145 | 0.80 | 0.99 | 0.99 |   |   |   |   |"
   ]
  },
  {
   "cell_type": "markdown",
   "id": "4c31eb70",
   "metadata": {},
   "source": [
    "# 3.4 KNN<a id=\"3.4\"></a>\n",
    "<a href=\"#top\" class=\"btn btn-primary btn-sm\" role=\"button\" aria-pressed=\"true\" style=\"color:white\" data-toggle=\"popover\">Go to TOC</a>"
   ]
  },
  {
   "cell_type": "markdown",
   "id": "32d98af9",
   "metadata": {},
   "source": [
    "**some variable use in this session:**\n",
    "\n",
    "- X_rem_count (X_reminder vectorized by CountVectorizer)\n",
    "- X_rem_tf (X_reminder vectorized by TF_IDF)\n",
    "- X_test_tf (x_test vectorized by TF_IDF)"
   ]
  },
  {
   "cell_type": "code",
   "execution_count": 35,
   "id": "5b2018b3",
   "metadata": {},
   "outputs": [],
   "source": [
    "# define pipepline for KNN\n",
    "\n",
    "pipe_k=imbPipeline([\n",
    "    ('smote',SMOTE(random_state=42)),\n",
    "    ('scaler',MinMaxScaler()),\n",
    "    ('dim_reducer', PCA()),\n",
    "    ('classifier',KNeighborsClassifier())\n",
    "])\n",
    "\n",
    "k_list=list(range(3,10))\n",
    "knn_grid_count=[{\n",
    "    'dim_reducer':[None],\n",
    "    'classifier__n_neighbors':k_list,\n",
    "    'classifier':[KNeighborsClassifier(n_jobs=-1)]\n",
    "},\n",
    "{   'dim_reducer':[PCA()],\n",
    "    'dim_reducer__n_components':[0.95, 0.9, 0.85, 0.8],\n",
    "    'classifier__n_neighbors':k_list,\n",
    "    'classifier':[KNeighborsClassifier(n_jobs=-1)]\n",
    "}        \n",
    "]\n"
   ]
  },
  {
   "cell_type": "code",
   "execution_count": 36,
   "id": "da8246e6",
   "metadata": {},
   "outputs": [],
   "source": [
    "# havlving grid for KNN\n",
    "halving_knn=HalvingGridSearchCV(pipe_k,knn_grid_count,n_jobs=-1, min_resources=\"exhaust\", factor=3,verbose=2)"
   ]
  },
  {
   "cell_type": "markdown",
   "id": "0a86e584",
   "metadata": {},
   "source": [
    "**CountVectorizer**\n",
    "\n",
    "**Note**: The fit process will take a very long time, you can skip these step by using my pre-fit model. `knn_count_fit.pkl`"
   ]
  },
  {
   "cell_type": "code",
   "execution_count": 37,
   "id": "1d933b95",
   "metadata": {},
   "outputs": [
    {
     "name": "stdout",
     "output_type": "stream",
     "text": [
      "n_iterations: 4\n",
      "n_required_iterations: 4\n",
      "n_possible_iterations: 4\n",
      "min_resources_: 463\n",
      "max_resources_: 12515\n",
      "aggressive_elimination: False\n",
      "factor: 3\n",
      "----------\n",
      "iter: 0\n",
      "n_candidates: 35\n",
      "n_resources: 463\n",
      "Fitting 5 folds for each of 35 candidates, totalling 175 fits\n",
      "----------\n",
      "iter: 1\n",
      "n_candidates: 12\n",
      "n_resources: 1389\n",
      "Fitting 5 folds for each of 12 candidates, totalling 60 fits\n",
      "----------\n",
      "iter: 2\n",
      "n_candidates: 4\n",
      "n_resources: 4167\n",
      "Fitting 5 folds for each of 4 candidates, totalling 20 fits\n",
      "----------\n",
      "iter: 3\n",
      "n_candidates: 2\n",
      "n_resources: 12501\n",
      "Fitting 5 folds for each of 2 candidates, totalling 10 fits\n"
     ]
    },
    {
     "name": "stderr",
     "output_type": "stream",
     "text": [
      "D:\\anaconda3\\lib\\site-packages\\sklearn\\model_selection\\_validation.py:378: FitFailedWarning: \n",
      "7 fits failed out of a total of 10.\n",
      "The score on these train-test partitions for these parameters will be set to nan.\n",
      "If these failures are not expected, you can try to debug them by setting error_score='raise'.\n",
      "\n",
      "Below are more details about the failures:\n",
      "--------------------------------------------------------------------------------\n",
      "1 fits failed with the following error:\n",
      "Traceback (most recent call last):\n",
      "  File \"D:\\anaconda3\\lib\\site-packages\\sklearn\\model_selection\\_validation.py\", line 686, in _fit_and_score\n",
      "    estimator.fit(X_train, y_train, **fit_params)\n",
      "  File \"D:\\anaconda3\\lib\\site-packages\\imblearn\\pipeline.py\", line 293, in fit\n",
      "    Xt, yt = self._fit(X, y, **fit_params_steps)\n",
      "  File \"D:\\anaconda3\\lib\\site-packages\\imblearn\\pipeline.py\", line 240, in _fit\n",
      "    X, fitted_transformer = fit_transform_one_cached(\n",
      "  File \"D:\\anaconda3\\lib\\site-packages\\joblib\\memory.py\", line 349, in __call__\n",
      "    return self.func(*args, **kwargs)\n",
      "  File \"D:\\anaconda3\\lib\\site-packages\\sklearn\\pipeline.py\", line 870, in _fit_transform_one\n",
      "    res = transformer.fit_transform(X, y, **fit_params)\n",
      "  File \"D:\\anaconda3\\lib\\site-packages\\sklearn\\decomposition\\_pca.py\", line 433, in fit_transform\n",
      "    U, S, Vt = self._fit(X)\n",
      "  File \"D:\\anaconda3\\lib\\site-packages\\sklearn\\decomposition\\_pca.py\", line 483, in _fit\n",
      "    return self._fit_full(X, n_components)\n",
      "  File \"D:\\anaconda3\\lib\\site-packages\\sklearn\\decomposition\\_pca.py\", line 518, in _fit_full\n",
      "    U, S, Vt = linalg.svd(X, full_matrices=False)\n",
      "  File \"D:\\anaconda3\\lib\\site-packages\\scipy\\linalg\\decomp_svd.py\", line 127, in svd\n",
      "    u, s, v, info = gesXd(a1, compute_uv=compute_uv, lwork=lwork,\n",
      "numpy.core._exceptions._ArrayMemoryError: Unable to allocate 2.63 GiB for an array with shape (19030, 18583) and data type float64\n",
      "\n",
      "--------------------------------------------------------------------------------\n",
      "6 fits failed with the following error:\n",
      "Traceback (most recent call last):\n",
      "  File \"D:\\anaconda3\\lib\\site-packages\\sklearn\\model_selection\\_validation.py\", line 686, in _fit_and_score\n",
      "    estimator.fit(X_train, y_train, **fit_params)\n",
      "  File \"D:\\anaconda3\\lib\\site-packages\\imblearn\\pipeline.py\", line 293, in fit\n",
      "    Xt, yt = self._fit(X, y, **fit_params_steps)\n",
      "  File \"D:\\anaconda3\\lib\\site-packages\\imblearn\\pipeline.py\", line 240, in _fit\n",
      "    X, fitted_transformer = fit_transform_one_cached(\n",
      "  File \"D:\\anaconda3\\lib\\site-packages\\joblib\\memory.py\", line 349, in __call__\n",
      "    return self.func(*args, **kwargs)\n",
      "  File \"D:\\anaconda3\\lib\\site-packages\\sklearn\\pipeline.py\", line 870, in _fit_transform_one\n",
      "    res = transformer.fit_transform(X, y, **fit_params)\n",
      "  File \"D:\\anaconda3\\lib\\site-packages\\sklearn\\decomposition\\_pca.py\", line 433, in fit_transform\n",
      "    U, S, Vt = self._fit(X)\n",
      "  File \"D:\\anaconda3\\lib\\site-packages\\sklearn\\decomposition\\_pca.py\", line 483, in _fit\n",
      "    return self._fit_full(X, n_components)\n",
      "  File \"D:\\anaconda3\\lib\\site-packages\\sklearn\\decomposition\\_pca.py\", line 518, in _fit_full\n",
      "    U, S, Vt = linalg.svd(X, full_matrices=False)\n",
      "  File \"D:\\anaconda3\\lib\\site-packages\\scipy\\linalg\\decomp_svd.py\", line 127, in svd\n",
      "    u, s, v, info = gesXd(a1, compute_uv=compute_uv, lwork=lwork,\n",
      "numpy.core._exceptions._ArrayMemoryError: Unable to allocate 7.72 GiB for an array with shape (1036113748,) and data type float64\n",
      "\n",
      "  warnings.warn(some_fits_failed_message, FitFailedWarning)\n",
      "D:\\anaconda3\\lib\\site-packages\\sklearn\\model_selection\\_search.py:953: UserWarning: One or more of the test scores are non-finite: [0.19130435 0.19130435 0.14130435 0.14347826 0.12826087 0.12826087\n",
      " 0.11521739 0.57173913 0.69347826 0.76521739 0.80652174 0.58913043\n",
      " 0.72173913 0.79130435 0.82173913 0.48478261 0.63913043 0.72391304\n",
      " 0.77391304 0.49347826 0.65434783 0.73478261 0.78913043 0.38478261\n",
      " 0.57608696 0.6826087  0.74130435 0.39782609 0.58695652 0.69782609\n",
      " 0.75434783 0.33043478 0.51304348 0.6173913  0.71304348 0.62599278\n",
      " 0.66353791 0.64909747 0.65848375 0.66570397 0.67942238 0.71046931\n",
      " 0.70902527 0.7234657  0.73212996 0.76101083 0.77472924 0.70948379\n",
      " 0.72004802 0.75222089 0.76494598        nan        nan]\n",
      "  warnings.warn(\n",
      "D:\\anaconda3\\lib\\site-packages\\sklearn\\model_selection\\_search.py:953: UserWarning: One or more of the train scores are non-finite: [0.31513514 0.31513514 0.19405405 0.19405405 0.16108108 0.16108108\n",
      " 0.14972973 0.86756757 0.91837838 0.93135135 0.94108108 0.88054054\n",
      " 0.92756757 0.93621622 0.94594595 0.72054054 0.85081081 0.89405405\n",
      " 0.90864865 0.73567568 0.85945946 0.89891892 0.91405405 0.59135135\n",
      " 0.78162162 0.85081081 0.87459459 0.60648649 0.79243243 0.85837838\n",
      " 0.88       0.49891892 0.71189189 0.80648649 0.84324324 0.76039604\n",
      " 0.87236724 0.81692169 0.8250225  0.80288029 0.81368137 0.89576958\n",
      " 0.85508551 0.86282628 0.90315032 0.91053105 0.91647165 0.8350435\n",
      " 0.87668767 0.8910291  0.89810981        nan        nan]\n",
      "  warnings.warn(\n"
     ]
    }
   ],
   "source": [
    "# CountVectorizer knn model fit \n",
    "knn_hv_c=halving_knn.fit(X_rem_count, y_rem)"
   ]
  },
  {
   "cell_type": "code",
   "execution_count": 67,
   "id": "dd01f287",
   "metadata": {},
   "outputs": [],
   "source": [
    "# dump with pickle\n",
    "with open('vectorized_df/knn_count_fit.pkl', 'wb') as f:\n",
    "    pickle.dump(knn_hv_c, f)"
   ]
  },
  {
   "cell_type": "code",
   "execution_count": 29,
   "id": "45c5aa60",
   "metadata": {},
   "outputs": [],
   "source": [
    "# load fitted model for knn (CountVectorizer)\n",
    "knn_count_fit_read=joblib.load('vectorized_df/knn_count_fit.pkl')"
   ]
  },
  {
   "cell_type": "code",
   "execution_count": 34,
   "id": "8cee1b7d",
   "metadata": {},
   "outputs": [],
   "source": [
    "# best train score for CountVectorizer\n",
    "best_test_score_c=knn_count_fit_read.score(X_test_count, y_test)"
   ]
  },
  {
   "cell_type": "code",
   "execution_count": 41,
   "id": "c600f79a",
   "metadata": {},
   "outputs": [
    {
     "name": "stdout",
     "output_type": "stream",
     "text": [
      "Best train score using CountVectorizer with knn is 0.889075316927666.\n"
     ]
    }
   ],
   "source": [
    "print(f'Best train score using CountVectorizer with knn is {best_test_score_c}.')"
   ]
  },
  {
   "cell_type": "code",
   "execution_count": 40,
   "id": "98077c2c",
   "metadata": {},
   "outputs": [
    {
     "name": "stdout",
     "output_type": "stream",
     "text": [
      "Pipeline(steps=[('smote', SMOTE(random_state=42)), ('scaler', MinMaxScaler()),\n",
      "                ('dim_reducer', PCA(n_components=0.8)),\n",
      "                ('classifier', KNeighborsClassifier(n_jobs=-1, n_neighbors=3))])\n"
     ]
    }
   ],
   "source": [
    "print(f\"The best estimator for model KNN (CountVectorizer){knn_count_fit_read.best_estimator_}\")"
   ]
  },
  {
   "cell_type": "code",
   "execution_count": 38,
   "id": "a8e4b231",
   "metadata": {},
   "outputs": [
    {
     "data": {
      "image/png": "[encoded data removed]",
      "text/plain": [
       "<Figure size 432x288 with 2 Axes>"
      ]
     },
     "metadata": {
      "needs_background": "light"
     },
     "output_type": "display_data"
    }
   ],
   "source": [
    "ConfusionMatrixDisplay.from_estimator(knn_count_fit_read,X_test_count, y_test,normalize='true')\n",
    "plt.title('ConfusionMatrix KNN (CountVectorizer)')\n",
    "plt.show()"
   ]
  },
  {
   "cell_type": "code",
   "execution_count": 39,
   "id": "5bb07d64",
   "metadata": {},
   "outputs": [
    {
     "data": {
      "image/png": "[encoded data removed]",
      "text/plain": [
       "<Figure size 432x288 with 1 Axes>"
      ]
     },
     "metadata": {
      "needs_background": "light"
     },
     "output_type": "display_data"
    }
   ],
   "source": [
    "RocCurveDisplay.from_estimator(knn_count_fit_read, X_test_count, y_test)\n",
    "plt.title('ROC Curve Fake job Prediction KNN (CountVectorizer)')\n",
    "plt.show()"
   ]
  },
  {
   "cell_type": "markdown",
   "id": "908febc8",
   "metadata": {},
   "source": [
    "**Best Result**\n",
    "- This accuary score is 0.889, obvious this model has a lower accuacy score comapare with the others, or even my base dummy model.\n",
    "- Does a **GREAT job** for **perdict fake jobs**, it correctly predict 89% of TN and 95% of the TP.\n",
    "- Although this model did a great job on distinguish fake jobs, but it's test accuracy score is lower than my base line model, I will not choose this model moving forward. "
   ]
  },
  {
   "cell_type": "markdown",
   "id": "83bc5b15",
   "metadata": {},
   "source": [
    "**TF-IDF**\n",
    "\n",
    "**Note**: The fit process will take a very long time, you can skip these step by using my pre-fit model. `knn_tf_fit.pkl`"
   ]
  },
  {
   "cell_type": "code",
   "execution_count": 92,
   "id": "4bcd82c6",
   "metadata": {},
   "outputs": [
    {
     "name": "stdout",
     "output_type": "stream",
     "text": [
      "n_iterations: 4\n",
      "n_required_iterations: 4\n",
      "n_possible_iterations: 4\n",
      "min_resources_: 463\n",
      "max_resources_: 12515\n",
      "aggressive_elimination: False\n",
      "factor: 3\n",
      "----------\n",
      "iter: 0\n",
      "n_candidates: 35\n",
      "n_resources: 463\n",
      "Fitting 5 folds for each of 35 candidates, totalling 175 fits\n",
      "----------\n",
      "iter: 1\n",
      "n_candidates: 12\n",
      "n_resources: 1389\n",
      "Fitting 5 folds for each of 12 candidates, totalling 60 fits\n",
      "----------\n",
      "iter: 2\n",
      "n_candidates: 4\n",
      "n_resources: 4167\n",
      "Fitting 5 folds for each of 4 candidates, totalling 20 fits\n",
      "----------\n",
      "iter: 3\n",
      "n_candidates: 2\n",
      "n_resources: 12501\n",
      "Fitting 5 folds for each of 2 candidates, totalling 10 fits\n"
     ]
    },
    {
     "name": "stderr",
     "output_type": "stream",
     "text": [
      "D:\\anaconda3\\lib\\site-packages\\sklearn\\model_selection\\_validation.py:378: FitFailedWarning: \n",
      "7 fits failed out of a total of 10.\n",
      "The score on these train-test partitions for these parameters will be set to nan.\n",
      "If these failures are not expected, you can try to debug them by setting error_score='raise'.\n",
      "\n",
      "Below are more details about the failures:\n",
      "--------------------------------------------------------------------------------\n",
      "3 fits failed with the following error:\n",
      "Traceback (most recent call last):\n",
      "  File \"D:\\anaconda3\\lib\\site-packages\\sklearn\\model_selection\\_validation.py\", line 686, in _fit_and_score\n",
      "    estimator.fit(X_train, y_train, **fit_params)\n",
      "  File \"D:\\anaconda3\\lib\\site-packages\\imblearn\\pipeline.py\", line 293, in fit\n",
      "    Xt, yt = self._fit(X, y, **fit_params_steps)\n",
      "  File \"D:\\anaconda3\\lib\\site-packages\\imblearn\\pipeline.py\", line 240, in _fit\n",
      "    X, fitted_transformer = fit_transform_one_cached(\n",
      "  File \"D:\\anaconda3\\lib\\site-packages\\joblib\\memory.py\", line 349, in __call__\n",
      "    return self.func(*args, **kwargs)\n",
      "  File \"D:\\anaconda3\\lib\\site-packages\\sklearn\\pipeline.py\", line 870, in _fit_transform_one\n",
      "    res = transformer.fit_transform(X, y, **fit_params)\n",
      "  File \"D:\\anaconda3\\lib\\site-packages\\sklearn\\decomposition\\_pca.py\", line 433, in fit_transform\n",
      "    U, S, Vt = self._fit(X)\n",
      "  File \"D:\\anaconda3\\lib\\site-packages\\sklearn\\decomposition\\_pca.py\", line 483, in _fit\n",
      "    return self._fit_full(X, n_components)\n",
      "  File \"D:\\anaconda3\\lib\\site-packages\\sklearn\\decomposition\\_pca.py\", line 518, in _fit_full\n",
      "    U, S, Vt = linalg.svd(X, full_matrices=False)\n",
      "  File \"D:\\anaconda3\\lib\\site-packages\\scipy\\linalg\\decomp_svd.py\", line 127, in svd\n",
      "    u, s, v, info = gesXd(a1, compute_uv=compute_uv, lwork=lwork,\n",
      "numpy.core._exceptions._ArrayMemoryError: Unable to allocate 7.72 GiB for an array with shape (1036113748,) and data type float64\n",
      "\n",
      "--------------------------------------------------------------------------------\n",
      "1 fits failed with the following error:\n",
      "Traceback (most recent call last):\n",
      "  File \"D:\\anaconda3\\lib\\site-packages\\sklearn\\model_selection\\_validation.py\", line 686, in _fit_and_score\n",
      "    estimator.fit(X_train, y_train, **fit_params)\n",
      "  File \"D:\\anaconda3\\lib\\site-packages\\imblearn\\pipeline.py\", line 293, in fit\n",
      "    Xt, yt = self._fit(X, y, **fit_params_steps)\n",
      "  File \"D:\\anaconda3\\lib\\site-packages\\imblearn\\pipeline.py\", line 240, in _fit\n",
      "    X, fitted_transformer = fit_transform_one_cached(\n",
      "  File \"D:\\anaconda3\\lib\\site-packages\\joblib\\memory.py\", line 349, in __call__\n",
      "    return self.func(*args, **kwargs)\n",
      "  File \"D:\\anaconda3\\lib\\site-packages\\sklearn\\pipeline.py\", line 870, in _fit_transform_one\n",
      "    res = transformer.fit_transform(X, y, **fit_params)\n",
      "  File \"D:\\anaconda3\\lib\\site-packages\\sklearn\\decomposition\\_pca.py\", line 433, in fit_transform\n",
      "    U, S, Vt = self._fit(X)\n",
      "  File \"D:\\anaconda3\\lib\\site-packages\\sklearn\\decomposition\\_pca.py\", line 456, in _fit\n",
      "    X = self._validate_data(\n",
      "  File \"D:\\anaconda3\\lib\\site-packages\\sklearn\\base.py\", line 577, in _validate_data\n",
      "    X = check_array(X, input_name=\"X\", **check_params)\n",
      "  File \"D:\\anaconda3\\lib\\site-packages\\sklearn\\utils\\validation.py\", line 925, in check_array\n",
      "    array = np.array(array, dtype=dtype, order=order)\n",
      "numpy.core._exceptions._ArrayMemoryError: Unable to allocate 2.63 GiB for an array with shape (19030, 18583) and data type float64\n",
      "\n",
      "--------------------------------------------------------------------------------\n",
      "2 fits failed with the following error:\n",
      "Traceback (most recent call last):\n",
      "  File \"D:\\anaconda3\\lib\\site-packages\\sklearn\\model_selection\\_validation.py\", line 686, in _fit_and_score\n",
      "    estimator.fit(X_train, y_train, **fit_params)\n",
      "  File \"D:\\anaconda3\\lib\\site-packages\\imblearn\\pipeline.py\", line 293, in fit\n",
      "    Xt, yt = self._fit(X, y, **fit_params_steps)\n",
      "  File \"D:\\anaconda3\\lib\\site-packages\\imblearn\\pipeline.py\", line 240, in _fit\n",
      "    X, fitted_transformer = fit_transform_one_cached(\n",
      "  File \"D:\\anaconda3\\lib\\site-packages\\joblib\\memory.py\", line 349, in __call__\n",
      "    return self.func(*args, **kwargs)\n",
      "  File \"D:\\anaconda3\\lib\\site-packages\\sklearn\\pipeline.py\", line 870, in _fit_transform_one\n",
      "    res = transformer.fit_transform(X, y, **fit_params)\n",
      "  File \"D:\\anaconda3\\lib\\site-packages\\sklearn\\decomposition\\_pca.py\", line 433, in fit_transform\n",
      "    U, S, Vt = self._fit(X)\n",
      "  File \"D:\\anaconda3\\lib\\site-packages\\sklearn\\decomposition\\_pca.py\", line 483, in _fit\n",
      "    return self._fit_full(X, n_components)\n",
      "  File \"D:\\anaconda3\\lib\\site-packages\\sklearn\\decomposition\\_pca.py\", line 518, in _fit_full\n",
      "    U, S, Vt = linalg.svd(X, full_matrices=False)\n",
      "  File \"D:\\anaconda3\\lib\\site-packages\\scipy\\linalg\\decomp_svd.py\", line 127, in svd\n",
      "    u, s, v, info = gesXd(a1, compute_uv=compute_uv, lwork=lwork,\n",
      "numpy.core._exceptions._ArrayMemoryError: Unable to allocate 2.57 GiB for an array with shape (18583, 18583) and data type float64\n",
      "\n",
      "--------------------------------------------------------------------------------\n",
      "1 fits failed with the following error:\n",
      "Traceback (most recent call last):\n",
      "  File \"D:\\anaconda3\\lib\\site-packages\\sklearn\\model_selection\\_validation.py\", line 686, in _fit_and_score\n",
      "    estimator.fit(X_train, y_train, **fit_params)\n",
      "  File \"D:\\anaconda3\\lib\\site-packages\\imblearn\\pipeline.py\", line 293, in fit\n",
      "    Xt, yt = self._fit(X, y, **fit_params_steps)\n",
      "  File \"D:\\anaconda3\\lib\\site-packages\\imblearn\\pipeline.py\", line 240, in _fit\n",
      "    X, fitted_transformer = fit_transform_one_cached(\n",
      "  File \"D:\\anaconda3\\lib\\site-packages\\joblib\\memory.py\", line 349, in __call__\n",
      "    return self.func(*args, **kwargs)\n",
      "  File \"D:\\anaconda3\\lib\\site-packages\\sklearn\\pipeline.py\", line 870, in _fit_transform_one\n",
      "    res = transformer.fit_transform(X, y, **fit_params)\n",
      "  File \"D:\\anaconda3\\lib\\site-packages\\sklearn\\decomposition\\_pca.py\", line 433, in fit_transform\n",
      "    U, S, Vt = self._fit(X)\n",
      "  File \"D:\\anaconda3\\lib\\site-packages\\sklearn\\decomposition\\_pca.py\", line 483, in _fit\n",
      "    return self._fit_full(X, n_components)\n",
      "  File \"D:\\anaconda3\\lib\\site-packages\\sklearn\\decomposition\\_pca.py\", line 518, in _fit_full\n",
      "    U, S, Vt = linalg.svd(X, full_matrices=False)\n",
      "  File \"D:\\anaconda3\\lib\\site-packages\\scipy\\linalg\\decomp_svd.py\", line 127, in svd\n",
      "    u, s, v, info = gesXd(a1, compute_uv=compute_uv, lwork=lwork,\n",
      "numpy.core._exceptions._ArrayMemoryError: Unable to allocate 2.64 GiB for an array with shape (19034, 18583) and data type float64\n",
      "\n",
      "  warnings.warn(some_fits_failed_message, FitFailedWarning)\n",
      "D:\\anaconda3\\lib\\site-packages\\sklearn\\model_selection\\_search.py:953: UserWarning: One or more of the test scores are non-finite: [0.29130435 0.29565217 0.18913043 0.19130435 0.15217391 0.15217391\n",
      " 0.1326087  0.96956522 0.97391304 0.97391304 0.97391304 0.97173913\n",
      " 0.97391304 0.97391304 0.97391304 0.96956522 0.97391304 0.97391304\n",
      " 0.97391304 0.96956522 0.97391304 0.97391304 0.97391304 0.96956522\n",
      " 0.97173913 0.97391304 0.97391304 0.96956522 0.97391304 0.97391304\n",
      " 0.97391304 0.9673913  0.97391304 0.97391304 0.97391304 0.9631769\n",
      " 0.96245487 0.9631769  0.9631769  0.96245487 0.96245487 0.9631769\n",
      " 0.96245487 0.96245487 0.9631769  0.96245487 0.9631769  0.9695078\n",
      " 0.97238896 0.9697479  0.97190876        nan        nan]\n",
      "  warnings.warn(\n",
      "D:\\anaconda3\\lib\\site-packages\\sklearn\\model_selection\\_search.py:953: UserWarning: One or more of the train scores are non-finite: [0.4572973  0.46756757 0.29351351 0.30108108 0.17783784 0.18\n",
      " 0.14540541 1.         1.         1.         1.         1.\n",
      " 1.         1.         1.         1.         1.         1.\n",
      " 1.         1.         1.         1.         1.         1.\n",
      " 1.         1.         1.         1.         1.         1.\n",
      " 1.         0.99783784 1.         1.         1.         0.99927993\n",
      " 0.99927993 0.99891989 0.99927993 0.99927993 0.99927993 0.99927993\n",
      " 0.99927993 0.99927993 0.99927993 0.99927993 0.99909991 0.99609961\n",
      " 0.99867987 0.9979598  0.99807981        nan        nan]\n",
      "  warnings.warn(\n"
     ]
    }
   ],
   "source": [
    "# havlving grid for tf-idf\n",
    "knn_hv_tf=halving_knn.fit(X_rem_tf, y_rem)"
   ]
  },
  {
   "cell_type": "code",
   "execution_count": 93,
   "id": "8f9e85b1",
   "metadata": {},
   "outputs": [
    {
     "data": {
      "text/plain": [
       "['vectorized_df/knn_tf_fit.pkl']"
      ]
     },
     "execution_count": 93,
     "metadata": {},
     "output_type": "execute_result"
    }
   ],
   "source": [
    "# dump the fit result\n",
    "joblib.dump(knn_hv_tf,'vectorized_df/knn_tf_fit.pkl')"
   ]
  },
  {
   "cell_type": "code",
   "execution_count": 42,
   "id": "51fa5c83",
   "metadata": {},
   "outputs": [],
   "source": [
    "# load fit result TF\n",
    "knn_tf_fit_read=joblib.load('vectorized_df/knn_tf_fit.pkl')"
   ]
  },
  {
   "cell_type": "code",
   "execution_count": 44,
   "id": "c285063f",
   "metadata": {},
   "outputs": [],
   "source": [
    "# best test score of KNN (TF_IDF)\n",
    "knn_tf_score=knn_tf_fit_read.score(X_test_tf, y_test)"
   ]
  },
  {
   "cell_type": "code",
   "execution_count": 70,
   "id": "5d3f0a3f",
   "metadata": {},
   "outputs": [
    {
     "name": "stdout",
     "output_type": "stream",
     "text": [
      "The best parameters for model KNN (TF_IDF) are {'classifier': KNeighborsClassifier(n_jobs=-1, n_neighbors=9), 'classifier__n_neighbors': 9, 'dim_reducer': PCA(n_components=0.8), 'dim_reducer__n_components': 0.8}\n"
     ]
    }
   ],
   "source": [
    "# best estimater knn (TF_IDF)\n",
    "#knn_tf_fit_read.best_params_\n",
    "print(f\"The best parameters for model KNN (TF_IDF) are {knn_tf_fit_read.best_params_}\")"
   ]
  },
  {
   "cell_type": "code",
   "execution_count": 45,
   "id": "6451bc4d",
   "metadata": {},
   "outputs": [
    {
     "name": "stdout",
     "output_type": "stream",
     "text": [
      "The best test score of KNN (TI_IDF) is 0.9852721849366145\n"
     ]
    }
   ],
   "source": [
    "print(f\"The best test score of KNN (TI_IDF) is {knn_tf_score}\")"
   ]
  },
  {
   "cell_type": "code",
   "execution_count": 46,
   "id": "fb86c90f",
   "metadata": {},
   "outputs": [
    {
     "data": {
      "image/png": "[encoded data removed]",
      "text/plain": [
       "<Figure size 432x288 with 2 Axes>"
      ]
     },
     "metadata": {
      "needs_background": "light"
     },
     "output_type": "display_data"
    }
   ],
   "source": [
    "ConfusionMatrixDisplay.from_estimator(knn_tf_fit_read,X_test_tf, y_test,normalize='true')\n",
    "plt.title('ConfusionMatrix KNN (IF_IDF)')\n",
    "plt.show()"
   ]
  },
  {
   "cell_type": "code",
   "execution_count": 48,
   "id": "34316566",
   "metadata": {},
   "outputs": [
    {
     "data": {
      "image/png": "[encoded data removed]",
      "text/plain": [
       "<Figure size 432x288 with 1 Axes>"
      ]
     },
     "metadata": {
      "needs_background": "light"
     },
     "output_type": "display_data"
    }
   ],
   "source": [
    "RocCurveDisplay.from_estimator(knn_tf_fit_read,X_test_tf, y_test)\n",
    "plt.title('ROC Curve Fake job Prediction KNN (IF-IDF)')\n",
    "plt.show()"
   ]
  },
  {
   "cell_type": "markdown",
   "id": "eb154dcb",
   "metadata": {},
   "source": [
    "**Best result:**\n",
    "- The best result for KNN (IF_IDF) is test acurrcy score 0.985, with the AUC 0.91.\n",
    "- This model predict 100% of TN, but only 76% of the TP. "
   ]
  },
  {
   "cell_type": "markdown",
   "id": "3f4f8517",
   "metadata": {},
   "source": [
    "**Best model model KNN**"
   ]
  },
  {
   "cell_type": "markdown",
   "id": "73c12dd2",
   "metadata": {},
   "source": [
    "| Best estimator  Model 2                                                                                                                                            | model | Vectorizer | Test Accuracy      | % TP | % TN | AUC  |   |   |   |   |\n",
    "|:------------------------------------------------------------------------------------------------------------------------------------------------------------------:|:-----:|:----------:|:------------------:|:----:|:----:|:----:|:---:|:---:|:---:|:---:|\n",
    "| 'classifier': KNeighborsClassifier(n_jobs=-1, n_neighbors=9), 'classifier__n_neighbors': 9, 'dim_reducer': PCA(n_components=0.8), 'dim_reducer__n_components': 0.8 | KNN   | IF-IDF     | 0.9852721849366145 | 0.76 | 1    | 0.91 |   |   |   |   |"
   ]
  },
  {
   "cell_type": "markdown",
   "id": "d7b2d5de",
   "metadata": {},
   "source": [
    "# 3.5 Random Forests<a id=\"3.5\"></a>\n",
    "<a href=\"#top\" class=\"btn btn-primary btn-sm\" role=\"button\" aria-pressed=\"true\" style=\"color:white\" data-toggle=\"popover\">Go to TOC</a>"
   ]
  },
  {
   "cell_type": "markdown",
   "id": "bb6f89af",
   "metadata": {},
   "source": [
    "Random Forests will benefit from carefully Hyperparameter tune, this will increase computing time. I will runing a basic model for RT trees for time managerment reason, will come back later to do some enhance job later."
   ]
  },
  {
   "cell_type": "markdown",
   "id": "9aa701a3",
   "metadata": {},
   "source": [
    "**plan**\n",
    "- Find a better n_estimators\n",
    " + split reminder into validation and train set, to run a default RT model to find a smaller n_estimator range.\n",
    "- implement gridsearch\n",
    "\n",
    "**some variable use in this session:**\n",
    "- X_rem_count (X_reminder vectorized by CountVectorizer)\n",
    "- X_rem_tf (X_reminder vectorized by TF_IDF)\n",
    "- X_test_tf (x_test vectorized by TF_IDF)"
   ]
  },
  {
   "cell_type": "code",
   "execution_count": 18,
   "id": "b070b9b6",
   "metadata": {},
   "outputs": [],
   "source": [
    "# split reminder data into train and validation (CountVectorizer)\n",
    "X_train_count, X_val_count, y_train_count, y_val_count = train_test_split(X_rem_count, y_rem, test_size=0.2, random_state=42,stratify=y_rem)"
   ]
  },
  {
   "cell_type": "code",
   "execution_count": 16,
   "id": "3990fe68",
   "metadata": {},
   "outputs": [],
   "source": [
    "# basic Hyperparameter (CountVectorizer) tune to find a samller n_estimators range\n",
    "n_lst=list(range(100,1050,50))\n",
    "train_acc_count=[]\n",
    "val_acc_count=[]\n",
    "for n in n_lst:\n",
    "    estimators=[\n",
    "    ('smote',SMOTE(random_state=42)),\n",
    "    ('scaler',MinMaxScaler()),\n",
    "    ('classifier',RandomForestClassifier(n_estimators=n,n_jobs=-1))]\n",
    "    pipe_rt_0=imbPipeline(estimators)\n",
    "    pipe_rt_0.fit(X_train_count,y_train_count)\n",
    "    train_acc=pipe_rt_0.score(X_train_count,y_train_count)\n",
    "    val_acc=pipe_rt_0.score(X_val_count,y_val_count)\n",
    "    train_acc_count.append(train_acc)\n",
    "    val_acc_count.append(val_acc)"
   ]
  },
  {
   "cell_type": "code",
   "execution_count": 48,
   "id": "7bb58ca9",
   "metadata": {},
   "outputs": [
    {
     "data": {
      "image/png": "[encoded data removed]",
      "text/plain": [
       "<Figure size 864x432 with 1 Axes>"
      ]
     },
     "metadata": {
      "needs_background": "light"
     },
     "output_type": "display_data"
    }
   ],
   "source": [
    "plt.figure(figsize=(12,6))\n",
    "plt.plot(n_lst,train_acc_count,label='train')\n",
    "plt.title('Random Forests n_estimators Tune (CountVectorizer)')\n",
    "plt.plot(n_lst,val_acc_count,label='val',color='red')\n",
    "plt.plot(n_lst[np.array(val_acc_count).argmax()],max(val_acc_count),'ro',color='blue')\n",
    "plt.xlabel('n_lst')\n",
    "plt.grid()\n",
    "plt.ylabel('acc')\n",
    "plt.legend()\n",
    "plt.show()"
   ]
  },
  {
   "cell_type": "code",
   "execution_count": 33,
   "id": "313d0abe",
   "metadata": {},
   "outputs": [
    {
     "data": {
      "text/plain": [
       "3"
      ]
     },
     "execution_count": 33,
     "metadata": {},
     "output_type": "execute_result"
    }
   ],
   "source": [
    "max_index=np.array(val_acc_count).argmax()\n",
    "max_index"
   ]
  },
  {
   "cell_type": "code",
   "execution_count": 35,
   "id": "417523e1",
   "metadata": {},
   "outputs": [
    {
     "data": {
      "text/plain": [
       "250"
      ]
     },
     "execution_count": 35,
     "metadata": {},
     "output_type": "execute_result"
    }
   ],
   "source": [
    "# best n_estimators is 250\n",
    "n_lst[max_index]"
   ]
  },
  {
   "cell_type": "markdown",
   "id": "7bb6c1ee",
   "metadata": {},
   "source": [
    "**n_estimators range (CountVectorizer)**:\n",
    "- The best n_estimators in the experiment above is 250, I will use 200 to 420 as the n_estimators range.\n",
    "- The random forests model is overfitted in all these test I ran above."
   ]
  },
  {
   "cell_type": "code",
   "execution_count": 23,
   "id": "9ba4f159",
   "metadata": {},
   "outputs": [],
   "source": [
    "# split reminder data into train and validation (IF_IDF)\n",
    "X_train_tf, X_val_tf, y_train_tf, y_val_tf = train_test_split(X_rem_tf, y_rem, test_size=0.2, random_state=42,stratify=y_rem)"
   ]
  },
  {
   "cell_type": "code",
   "execution_count": 36,
   "id": "4dfbcf05",
   "metadata": {},
   "outputs": [],
   "source": [
    "# basic Hyperparameter (if_idf) tune to find a samller n_estimators range\n",
    "n_lst=list(range(100,1050,50))\n",
    "train_acc_tf=[]\n",
    "val_acc_tf=[]\n",
    "for n in n_lst:\n",
    "    estimators=[\n",
    "    ('smote',SMOTE(random_state=42)),\n",
    "    ('scaler',MinMaxScaler()),\n",
    "    ('classifier',RandomForestClassifier(n_estimators=n,n_jobs=-1))]\n",
    "    pipe_rt_0=imbPipeline(estimators)\n",
    "    pipe_rt_0.fit(X_train_tf,y_train_tf)\n",
    "    train_acc=pipe_rt_0.score(X_train_tf,y_train_tf)\n",
    "    val_acc=pipe_rt_0.score(X_val_tf,y_val_tf)\n",
    "    train_acc_tf.append(train_acc)\n",
    "    val_acc_tf.append(val_acc)"
   ]
  },
  {
   "cell_type": "code",
   "execution_count": 47,
   "id": "0f87d34e",
   "metadata": {},
   "outputs": [
    {
     "data": {
      "image/png": "[encoded data removed]",
      "text/plain": [
       "<Figure size 864x432 with 1 Axes>"
      ]
     },
     "metadata": {
      "needs_background": "light"
     },
     "output_type": "display_data"
    }
   ],
   "source": [
    "plt.figure(figsize=(12,6))\n",
    "plt.plot(n_lst,train_acc_tf,label='train')\n",
    "plt.title('Random Forests n_estimators Tune (IF_IDF)')\n",
    "plt.plot(n_lst,val_acc_tf,label='val',color='red')\n",
    "plt.plot(n_lst[np.array(val_acc_tf).argmax()],max(val_acc_tf),'ro',color='blue')\n",
    "plt.xlabel('n_lst')\n",
    "plt.ylabel('acc')\n",
    "plt.grid()\n",
    "plt.legend()\n",
    "plt.show()"
   ]
  },
  {
   "cell_type": "code",
   "execution_count": 44,
   "id": "07e10215",
   "metadata": {},
   "outputs": [
    {
     "name": "stdout",
     "output_type": "stream",
     "text": [
      "[100, 150, 200, 250, 300, 350, 400, 450, 500, 550, 600, 650, 700, 750, 800, 850, 900, 950, 1000]\n"
     ]
    }
   ],
   "source": [
    "print(n_lst)"
   ]
  },
  {
   "cell_type": "code",
   "execution_count": 42,
   "id": "fda6285b",
   "metadata": {},
   "outputs": [
    {
     "data": {
      "text/plain": [
       "800"
      ]
     },
     "execution_count": 42,
     "metadata": {},
     "output_type": "execute_result"
    }
   ],
   "source": [
    "max_index_rt_tf=np.array(val_acc_tf).argmax()\n",
    "n_lst[max_index_rt_tf]"
   ]
  },
  {
   "cell_type": "markdown",
   "id": "5dd6c933",
   "metadata": {},
   "source": [
    "**n_estimators range (if_idf)**:\n",
    "- The best n_estimators in the experiment is 800, I will use 650 to 900 as the n_estimators range.\n",
    "- The random forests model is overfitted in all these test I ran above.\n",
    "\n",
    "**Note**: If you re-run my experiment you may get a slight different result. "
   ]
  },
  {
   "cell_type": "code",
   "execution_count": 9,
   "id": "60e0fbad",
   "metadata": {},
   "outputs": [],
   "source": [
    "# pipeline for random forest\n",
    "pipe_rt=imbPipeline([\n",
    "    ('smote',SMOTE(random_state=42)),\n",
    "    ('scaler',MinMaxScaler()), # choose MinMaxScaler(), as I don't want to change the distribustion of features ans target \n",
    "    ('dim_reducer', PCA()),\n",
    "    ('classifier',RandomForestClassifier())\n",
    "])\n",
    "\n",
    "n_list=list(range(200,420,20))\n",
    "grid_rt=[{\n",
    "    'dim_reducer':[None],\n",
    "    'classifier__n_estimators':n_list,\n",
    "    'classifier':[RandomForestClassifier(n_jobs=-1)]\n",
    "},\n",
    "{   'dim_reducer':[PCA()],\n",
    "    'dim_reducer__n_components':[0.95, 0.9, 0.85, 0.8],\n",
    "    'classifier__n_estimators':n_list,\n",
    "    'classifier':[RandomForestClassifier(n_jobs=-1)]\n",
    "}        \n",
    "]"
   ]
  },
  {
   "cell_type": "code",
   "execution_count": 10,
   "id": "a5ad481c",
   "metadata": {},
   "outputs": [],
   "source": [
    "# RT GridSearch\n",
    "rt_hv=HalvingGridSearchCV(pipe_rt,grid_rt,n_jobs=-1, min_resources=\"exhaust\", factor=3,verbose=2)"
   ]
  },
  {
   "cell_type": "markdown",
   "id": "591d2c56",
   "metadata": {},
   "source": [
    "**CountVectorizer**"
   ]
  },
  {
   "cell_type": "code",
   "execution_count": null,
   "id": "88ec62b3",
   "metadata": {},
   "outputs": [],
   "source": [
    "rt_count_fit=rt_hv.fit(X_rem_count, y_rem)"
   ]
  },
  {
   "cell_type": "code",
   "execution_count": 13,
   "id": "e9349d99",
   "metadata": {},
   "outputs": [],
   "source": [
    "# dump with pickle capture result from cell 79\n",
    "with open('vectorized_df/rt_count_fit.pkl', 'wb') as f:\n",
    "    pickle.dump(rt_count_fit, f)"
   ]
  },
  {
   "cell_type": "code",
   "execution_count": 14,
   "id": "41d3801c",
   "metadata": {},
   "outputs": [],
   "source": [
    "rt_count_fit_read=joblib.load('vectorized_df/rt_count_fit.pkl')"
   ]
  },
  {
   "cell_type": "code",
   "execution_count": 15,
   "id": "66da44e9",
   "metadata": {},
   "outputs": [
    {
     "name": "stdout",
     "output_type": "stream",
     "text": [
      "The best estimator for Random Forests (CountVectorizer){'classifier': RandomForestClassifier(n_estimators=320, n_jobs=-1), 'classifier__n_estimators': 320, 'dim_reducer': PCA(n_components=0.8), 'dim_reducer__n_components': 0.8}\n"
     ]
    }
   ],
   "source": [
    "print(f\"The best estimator for Random Forests (CountVectorizer){rt_count_fit_read.best_params_}\")"
   ]
  },
  {
   "cell_type": "code",
   "execution_count": 16,
   "id": "6dcfcaee",
   "metadata": {},
   "outputs": [
    {
     "data": {
      "text/plain": [
       "0.9733407904548844"
      ]
     },
     "execution_count": 16,
     "metadata": {},
     "output_type": "execute_result"
    }
   ],
   "source": [
    "rt_count_fit_read.score(X_test_count, y_test)"
   ]
  },
  {
   "cell_type": "code",
   "execution_count": 17,
   "id": "99730e1e",
   "metadata": {},
   "outputs": [
    {
     "data": {
      "image/png": "[encoded data removed]",
      "text/plain": [
       "<Figure size 432x288 with 2 Axes>"
      ]
     },
     "metadata": {
      "needs_background": "light"
     },
     "output_type": "display_data"
    }
   ],
   "source": [
    "ConfusionMatrixDisplay.from_estimator(rt_count_fit_read,X_test_count, y_test,normalize='true')\n",
    "plt.title('Random Forests ConfusionMatrix with CountVectorizer')\n",
    "plt.show()"
   ]
  },
  {
   "cell_type": "code",
   "execution_count": 18,
   "id": "9cb33238",
   "metadata": {
    "scrolled": true
   },
   "outputs": [
    {
     "data": {
      "image/png": "[encoded data removed]",
      "text/plain": [
       "<Figure size 432x288 with 1 Axes>"
      ]
     },
     "metadata": {
      "needs_background": "light"
     },
     "output_type": "display_data"
    }
   ],
   "source": [
    "RocCurveDisplay.from_estimator(rt_count_fit_read,X_test_count, y_test)\n",
    "plt.title('ROC Curve Fake job post with model Random Forests (CountVectorizer)')\n",
    "plt.show()"
   ]
  },
  {
   "cell_type": "markdown",
   "id": "45aaa70d",
   "metadata": {},
   "source": [
    "**Best result:**\n",
    "- The best result for Random Forests (CountVectorizer) is test acurrcy score 0.968, with the AUC 0.98.\n",
    "- This model predict 99% of TN, but only 55% of the TP. Clearly this model does not have a superior ability for dectect FAKE JOBS. "
   ]
  },
  {
   "cell_type": "markdown",
   "id": "b93c4554",
   "metadata": {},
   "source": [
    "**IF-IDF**\n",
    "\n",
    "- note: This fit process will take a very long time, you can skip this step by loading my fit result.\n",
    "- Accroding to the approach above, I will use  **700 to 920** as the n_estimators range."
   ]
  },
  {
   "cell_type": "code",
   "execution_count": 11,
   "id": "54b51343",
   "metadata": {},
   "outputs": [],
   "source": [
    "# pipeline for random forest (TF_IDF)\n",
    "pipe_rt_tf=imbPipeline([\n",
    "    ('smote',SMOTE(random_state=42)),\n",
    "    ('scaler',MinMaxScaler()), # choose MinMaxScaler(), as I don't want to change the distribustion of features ans target \n",
    "    ('dim_reducer', PCA()),\n",
    "    ('classifier',RandomForestClassifier())\n",
    "])\n",
    "\n",
    "n_list_tf=list(range(700,920,20))\n",
    "grid_rt_1=[{\n",
    "    'dim_reducer':[None],\n",
    "    'classifier__n_estimators':n_list,\n",
    "    'classifier':[RandomForestClassifier(n_jobs=-1)]\n",
    "},\n",
    "{   'dim_reducer':[PCA()],\n",
    "    'dim_reducer__n_components':[0.95, 0.9, 0.85, 0.8],\n",
    "    'classifier__n_estimators':n_list_tf,\n",
    "    'classifier':[RandomForestClassifier(n_jobs=-1)]\n",
    "}]    \n"
   ]
  },
  {
   "cell_type": "code",
   "execution_count": 12,
   "id": "826617ec",
   "metadata": {},
   "outputs": [
    {
     "data": {
      "text/plain": [
       "[700, 720, 740, 760, 780, 800, 820, 840, 860, 880, 900]"
      ]
     },
     "execution_count": 12,
     "metadata": {},
     "output_type": "execute_result"
    }
   ],
   "source": [
    "n_list_tf"
   ]
  },
  {
   "cell_type": "code",
   "execution_count": 13,
   "id": "01eff37b",
   "metadata": {},
   "outputs": [],
   "source": [
    "# RT GridSearch (if_iDF)\n",
    "rt_hv_tf=HalvingGridSearchCV(pipe_rt_tf,grid_rt_1,n_jobs=-1, min_resources=\"exhaust\", factor=3,verbose=2)"
   ]
  },
  {
   "cell_type": "code",
   "execution_count": 14,
   "id": "883cd81d",
   "metadata": {},
   "outputs": [
    {
     "name": "stdout",
     "output_type": "stream",
     "text": [
      "n_iterations: 4\n",
      "n_required_iterations: 4\n",
      "n_possible_iterations: 4\n",
      "min_resources_: 463\n",
      "max_resources_: 12515\n",
      "aggressive_elimination: False\n",
      "factor: 3\n",
      "----------\n",
      "iter: 0\n",
      "n_candidates: 55\n",
      "n_resources: 463\n",
      "Fitting 5 folds for each of 55 candidates, totalling 275 fits\n",
      "----------\n",
      "iter: 1\n",
      "n_candidates: 19\n",
      "n_resources: 1389\n",
      "Fitting 5 folds for each of 19 candidates, totalling 95 fits\n",
      "----------\n",
      "iter: 2\n",
      "n_candidates: 7\n",
      "n_resources: 4167\n",
      "Fitting 5 folds for each of 7 candidates, totalling 35 fits\n",
      "----------\n",
      "iter: 3\n",
      "n_candidates: 3\n",
      "n_resources: 12501\n",
      "Fitting 5 folds for each of 3 candidates, totalling 15 fits\n"
     ]
    }
   ],
   "source": [
    "rt_tf_fit=rt_hv_tf.fit(X_rem_tf, y_rem)"
   ]
  },
  {
   "cell_type": "code",
   "execution_count": 15,
   "id": "04743e75",
   "metadata": {},
   "outputs": [
    {
     "data": {
      "text/plain": [
       "['vectorized_df/rt_tf_fit.pkl']"
      ]
     },
     "execution_count": 15,
     "metadata": {},
     "output_type": "execute_result"
    }
   ],
   "source": [
    "# dump result\n",
    "joblib.dump(rt_tf_fit, 'vectorized_df/rt_tf_fit.pkl')"
   ]
  },
  {
   "cell_type": "code",
   "execution_count": 13,
   "id": "6e2e970a",
   "metadata": {},
   "outputs": [],
   "source": [
    "# load pre fit randomforests (IF_IDF)\n",
    "rt_tf_fit_read=joblib.load('vectorized_df/rt_tf_fit.pkl')"
   ]
  },
  {
   "cell_type": "code",
   "execution_count": 72,
   "id": "98b78437",
   "metadata": {},
   "outputs": [
    {
     "name": "stdout",
     "output_type": "stream",
     "text": [
      "Best estimator for Random Forests (TF_IDF) is {'classifier': RandomForestClassifier(n_estimators=690, n_jobs=-1), 'classifier__n_estimators': 690, 'dim_reducer': None}\n"
     ]
    }
   ],
   "source": [
    "print(f\"Best estimator for Random Forests (TF_IDF) is {rt_tf_fit_read.best_params_}\")"
   ]
  },
  {
   "cell_type": "code",
   "execution_count": 17,
   "id": "7d768e8e",
   "metadata": {},
   "outputs": [
    {
     "data": {
      "text/plain": [
       "0.9832214765100671"
      ]
     },
     "execution_count": 17,
     "metadata": {},
     "output_type": "execute_result"
    }
   ],
   "source": [
    "rt_tf_fit_read.score(X_test_tf, y_test)"
   ]
  },
  {
   "cell_type": "code",
   "execution_count": 19,
   "id": "1d9bef38",
   "metadata": {},
   "outputs": [
    {
     "data": {
      "image/png": "[encoded data removed]",
      "text/plain": [
       "<Figure size 432x288 with 2 Axes>"
      ]
     },
     "metadata": {
      "needs_background": "light"
     },
     "output_type": "display_data"
    }
   ],
   "source": [
    "ConfusionMatrixDisplay.from_estimator(rt_tf_fit_read,X_test_tf, y_test,normalize='true')\n",
    "plt.title('Random Forests ConfusionMatrix with TF_IDF')\n",
    "plt.show()"
   ]
  },
  {
   "cell_type": "code",
   "execution_count": 20,
   "id": "df821ba8",
   "metadata": {},
   "outputs": [
    {
     "data": {
      "image/png": "[encoded data removed]",
      "text/plain": [
       "<Figure size 432x288 with 1 Axes>"
      ]
     },
     "metadata": {
      "needs_background": "light"
     },
     "output_type": "display_data"
    }
   ],
   "source": [
    "RocCurveDisplay.from_estimator(rt_tf_fit_read,X_test_tf, y_test)\n",
    "plt.title('ROC Curve Fake job post with model Random Forests (TF_IDF)')\n",
    "plt.show()"
   ]
  },
  {
   "cell_type": "markdown",
   "id": "ce426073",
   "metadata": {},
   "source": [
    "**Best result:**\n",
    "- The best result for Random Forests (TF_IDF) is test acurrcy score 0.983, with the AUC 0.99.\n",
    "- This model predict 100% of TN, but 65% of the TP. Compare with the previous model, this one has a better performance. "
   ]
  },
  {
   "cell_type": "markdown",
   "id": "14893168",
   "metadata": {},
   "source": [
    "**Best model model Random Forests**"
   ]
  },
  {
   "cell_type": "markdown",
   "id": "5e7119e5",
   "metadata": {},
   "source": [
    "| Best estimator  Model 3                                                                                                 | model          | Vectorizer | Test Accuracy      | % TP  | % TN | AUC  |   |   |   |   |\n",
    "|:-----------------------------------------------------------------------------------------------------------------------:|:--------------:|:----------:|:------------------:|:-----:|:----:|:----:|:---:|:---:|:---:|:---:|\n",
    "| 'classifier': RandomForestClassifier(n_estimators=690, n_jobs=-1), 'classifier__n_estimators': 690, 'dim_reducer': None | Random Forests | IF-IDF     | 0.9832214765100671 | 0.65\t | 1    | 0.99 |   |   |   |   |"
   ]
  },
  {
   "cell_type": "markdown",
   "id": "62f82db9",
   "metadata": {},
   "source": [
    "# 3.6 XGBoost<a id=\"3.6\"></a>\n",
    "<a href=\"#top\" class=\"btn btn-primary btn-sm\" role=\"button\" aria-pressed=\"true\" style=\"color:white\" data-toggle=\"popover\">Go to TOC</a>"
   ]
  },
  {
   "cell_type": "markdown",
   "id": "e3a985f4",
   "metadata": {},
   "source": [
    "**plan**\n",
    "- Find a better n_estimators\n",
    " + split reminder into test and validate set finding a better n_estimators (Already done this is in the dummy base model session)\n",
    "- implement gridsearch\n",
    "\n",
    "**some variable use in this session:**\n",
    "- X_rem_count (X_reminder vectorized by CountVectorizer)\n",
    "- X_rem_tf (X_reminder vectorized by TF_IDF)"
   ]
  },
  {
   "cell_type": "markdown",
   "id": "1805764d",
   "metadata": {},
   "source": [
    "**CountVectorizer**"
   ]
  },
  {
   "cell_type": "markdown",
   "id": "3e35864d",
   "metadata": {},
   "source": [
    "**Find a proper n**"
   ]
  },
  {
   "cell_type": "code",
   "execution_count": 88,
   "id": "57104485",
   "metadata": {},
   "outputs": [],
   "source": [
    "n_list=[50,100,200,300,500,700,900,1000]\n",
    "train_acc_xg_c=[]\n",
    "val_acc_xg_c=[]\n",
    "for n in n_list:\n",
    "    estimators=[\n",
    "    ('smote',SMOTE(random_state=42)),\n",
    "    ('scaler',MinMaxScaler()),\n",
    "    ('classifier',XGBClassifier(n_estimators=n,n_jobs=-1))]\n",
    "    pipe_xg_0=imbPipeline(estimators)\n",
    "    pipe_xg_0.fit(X_train_count,y_train_count)\n",
    "    train_acc=pipe_xg_0.score(X_train_count,y_train_count)\n",
    "    val_acc=pipe_xg_0.score(X_val_count,y_val_count)\n",
    "    train_acc_xg_c.append(train_acc)\n",
    "    val_acc_xg_c.append(val_acc)"
   ]
  },
  {
   "cell_type": "code",
   "execution_count": null,
   "id": "2975222e",
   "metadata": {},
   "outputs": [],
   "source": [
    "n_list=[50,100,200,300,500,700,900,1000]\n",
    "xg_test(n_list,max_depth)"
   ]
  },
  {
   "cell_type": "code",
   "execution_count": 86,
   "id": "c3eb1e4b",
   "metadata": {},
   "outputs": [
    {
     "data": {
      "image/png": "[encoded data removed]",
      "text/plain": [
       "<Figure size 864x432 with 1 Axes>"
      ]
     },
     "metadata": {
      "needs_background": "light"
     },
     "output_type": "display_data"
    }
   ],
   "source": [
    "plt.figure(figsize=(12,6))\n",
    "plt.plot(n_list,train_acc_xg_c,label='train')\n",
    "plt.title('XGBoost n_estimators Tune (CountVectorizer)')\n",
    "plt.plot(n_list,val_acc_xg_c,label='val',color='red')\n",
    "plt.plot(n_list[np.array(val_acc_xg_c).argmax()],max(val_acc_xg_c),'ro',color='blue')\n",
    "plt.xlabel('n_list')\n",
    "plt.ylabel('acc')\n",
    "plt.grid()\n",
    "plt.legend()\n",
    "plt.show()"
   ]
  },
  {
   "cell_type": "code",
   "execution_count": 34,
   "id": "bc7f4e32",
   "metadata": {},
   "outputs": [
    {
     "ename": "NameError",
     "evalue": "name 'val_acc_xg_c' is not defined",
     "output_type": "error",
     "traceback": [
      "\u001b[1;31m---------------------------------------------------------------------------\u001b[0m",
      "\u001b[1;31mNameError\u001b[0m                                 Traceback (most recent call last)",
      "\u001b[1;32m~\\AppData\\Local\\Temp/ipykernel_18296/1979739083.py\u001b[0m in \u001b[0;36m<module>\u001b[1;34m\u001b[0m\n\u001b[1;32m----> 1\u001b[1;33m \u001b[0mmax_index_XG_count\u001b[0m\u001b[1;33m=\u001b[0m\u001b[0mnp\u001b[0m\u001b[1;33m.\u001b[0m\u001b[0marray\u001b[0m\u001b[1;33m(\u001b[0m\u001b[0mval_acc_xg_c\u001b[0m\u001b[1;33m)\u001b[0m\u001b[1;33m.\u001b[0m\u001b[0margmax\u001b[0m\u001b[1;33m(\u001b[0m\u001b[1;33m)\u001b[0m\u001b[1;33m\u001b[0m\u001b[1;33m\u001b[0m\u001b[0m\n\u001b[0m\u001b[0;32m      2\u001b[0m \u001b[0mn_list\u001b[0m\u001b[1;33m[\u001b[0m\u001b[0mmax_index_XG_count\u001b[0m\u001b[1;33m]\u001b[0m\u001b[1;33m\u001b[0m\u001b[1;33m\u001b[0m\u001b[0m\n",
      "\u001b[1;31mNameError\u001b[0m: name 'val_acc_xg_c' is not defined"
     ]
    }
   ],
   "source": [
    "max_index_XG_count=np.array(val_acc_xg_c).argmax()\n",
    "n_list[max_index_XG_count]"
   ]
  },
  {
   "cell_type": "markdown",
   "id": "4877ae89",
   "metadata": {},
   "source": [
    "**n_estimators range (countvector)**:\n",
    "- The best n_estimators in the experiment is 900, I will use 800 to 1000 as the n_estimators range.\n",
    "- The random forests model is overfitted in all these test I ran above, I will max_depth=4 in my gridsearch, consider the train time is super long (4-5h), I decisided to stop the further experiment here.\n",
    "\n",
    "**Note**: If you re-run my experiment you may get a slight different result. "
   ]
  },
  {
   "cell_type": "code",
   "execution_count": 16,
   "id": "209d85d1",
   "metadata": {},
   "outputs": [],
   "source": [
    "pipe_xg=imbPipeline([\n",
    "    ('smote',SMOTE(random_state=42)),\n",
    "    ('scaler',MinMaxScaler()), # choose MinMaxScaler(), as I don't want to change the distribustion of features ans target \n",
    "    ('dim_reducer', PCA()),\n",
    "    ('classifier',XGBClassifier())\n",
    "])\n",
    "\n",
    "n_list_xg=list(range(800,1050,50))\n",
    "grid_xg=[{\n",
    "    'dim_reducer':[None],\n",
    "    'classifier__n_estimators':n_list_xg,\n",
    "    'classifier':[XGBClassifier(n_jobs=-1,max_depth=4)]\n",
    "},\n",
    "{   'dim_reducer':[PCA()],\n",
    "    'dim_reducer__n_components':[0.95, 0.9, 0.85, 0.8],\n",
    "    'classifier__n_estimators':n_list_xg,\n",
    "    'classifier':[XGBClassifier(n_jobs=-1,max_depth=4)]\n",
    "}        \n",
    "]"
   ]
  },
  {
   "cell_type": "code",
   "execution_count": 17,
   "id": "0cff976d",
   "metadata": {},
   "outputs": [],
   "source": [
    "# xgboost GridSearch (CountVectorizer)\n",
    "xg_hv_count=HalvingGridSearchCV(pipe_xg,grid_xg,n_jobs=-1, min_resources=\"exhaust\", factor=3,verbose=2)"
   ]
  },
  {
   "cell_type": "code",
   "execution_count": 18,
   "id": "e952780a",
   "metadata": {},
   "outputs": [
    {
     "name": "stdout",
     "output_type": "stream",
     "text": [
      "n_iterations: 3\n",
      "n_required_iterations: 3\n",
      "n_possible_iterations: 3\n",
      "min_resources_: 1390\n",
      "max_resources_: 12515\n",
      "aggressive_elimination: False\n",
      "factor: 3\n",
      "----------\n",
      "iter: 0\n",
      "n_candidates: 25\n",
      "n_resources: 1390\n",
      "Fitting 5 folds for each of 25 candidates, totalling 125 fits\n",
      "----------\n",
      "iter: 1\n",
      "n_candidates: 9\n",
      "n_resources: 4170\n",
      "Fitting 5 folds for each of 9 candidates, totalling 45 fits\n",
      "----------\n",
      "iter: 2\n",
      "n_candidates: 3\n",
      "n_resources: 12510\n",
      "Fitting 5 folds for each of 3 candidates, totalling 15 fits\n"
     ]
    }
   ],
   "source": [
    "# this trainning process takes a \n",
    "xg_count_fit=xg_hv_count.fit(X_rem_count, y_rem)"
   ]
  },
  {
   "cell_type": "code",
   "execution_count": 19,
   "id": "681818dc",
   "metadata": {},
   "outputs": [
    {
     "data": {
      "text/plain": [
       "['vectorized_df/xg_count_fit.pkl']"
      ]
     },
     "execution_count": 19,
     "metadata": {},
     "output_type": "execute_result"
    }
   ],
   "source": [
    "# dump the fit result\n",
    "joblib.dump(xg_count_fit, 'vectorized_df/xg_count_fit.pkl')"
   ]
  },
  {
   "cell_type": "code",
   "execution_count": 48,
   "id": "f5819133",
   "metadata": {},
   "outputs": [
    {
     "name": "stdout",
     "output_type": "stream",
     "text": [
      "{'classifier': XGBClassifier(base_score=None, booster=None, callbacks=None,\n",
      "              colsample_bylevel=None, colsample_bynode=None,\n",
      "              colsample_bytree=None, early_stopping_rounds=None,\n",
      "              enable_categorical=False, eval_metric=None, feature_types=None,\n",
      "              gamma=None, gpu_id=None, grow_policy=None, importance_type=None,\n",
      "              interaction_constraints=None, learning_rate=None, max_bin=None,\n",
      "              max_cat_threshold=None, max_cat_to_onehot=None,\n",
      "              max_delta_step=None, max_depth=4, max_leaves=None,\n",
      "              min_child_weight=None, missing=nan, monotone_constraints=None,\n",
      "              n_estimators=1000, n_jobs=-1, num_parallel_tree=None,\n",
      "              predictor=None, random_state=None, ...), 'classifier__n_estimators': 1000, 'dim_reducer': PCA(n_components=0.8), 'dim_reducer__n_components': 0.8}\n"
     ]
    }
   ],
   "source": [
    "# best params XGboosting with vectorizer\n",
    "print(xg_count_fit.best_params_)"
   ]
  },
  {
   "cell_type": "code",
   "execution_count": 49,
   "id": "5facd433",
   "metadata": {},
   "outputs": [
    {
     "data": {
      "text/plain": [
       "0.9841536167039523"
      ]
     },
     "execution_count": 49,
     "metadata": {},
     "output_type": "execute_result"
    }
   ],
   "source": [
    "# best model test accuracy rate \n",
    "xg_count_fit.score(X_test_count,y_test)"
   ]
  },
  {
   "cell_type": "code",
   "execution_count": 20,
   "id": "5f1648b0",
   "metadata": {},
   "outputs": [
    {
     "data": {
      "image/png": "[encoded data removed]",
      "text/plain": [
       "<Figure size 432x288 with 2 Axes>"
      ]
     },
     "metadata": {
      "needs_background": "light"
     },
     "output_type": "display_data"
    }
   ],
   "source": [
    "ConfusionMatrixDisplay.from_estimator(xg_count_fit,X_test_count, y_test,normalize='true')\n",
    "plt.title('XGboosting ConfusionMatrix with CountVectorizer')\n",
    "plt.show()"
   ]
  },
  {
   "cell_type": "code",
   "execution_count": 21,
   "id": "bef6f8c0",
   "metadata": {},
   "outputs": [
    {
     "data": {
      "image/png": "[encoded data removed]",
      "text/plain": [
       "<Figure size 432x288 with 1 Axes>"
      ]
     },
     "metadata": {
      "needs_background": "light"
     },
     "output_type": "display_data"
    }
   ],
   "source": [
    "RocCurveDisplay.from_estimator(xg_count_fit,X_test_count, y_test)\n",
    "plt.title('ROC Curve Fake job post with model XGboosting (CountVectorizer)')\n",
    "plt.show()"
   ]
  },
  {
   "cell_type": "code",
   "execution_count": 30,
   "id": "bc202dc1",
   "metadata": {},
   "outputs": [
    {
     "name": "stdout",
     "output_type": "stream",
     "text": [
      "              precision    recall  f1-score   support\n",
      "\n",
      "           0       0.99      0.99      0.99      5104\n",
      "           1       0.88      0.78      0.83       260\n",
      "\n",
      "    accuracy                           0.98      5364\n",
      "   macro avg       0.93      0.89      0.91      5364\n",
      "weighted avg       0.98      0.98      0.98      5364\n",
      "\n"
     ]
    }
   ],
   "source": [
    "print(classification_report(y_test,xg_count_fit.predict(X_test_count)))"
   ]
  },
  {
   "cell_type": "markdown",
   "id": "d5b208fb",
   "metadata": {},
   "source": [
    "**Best result:**\n",
    "- The best result for XGboosting (countvector) is test acurrcy score 0.9841536167039523, with the AUC 0.99.\n",
    "- This model predicts 99% of TN, but 78% of TP.\n",
    "- Xgboosting benefits from careful hyperparameter tuning, considering my laptop's computing capacity, I only did n_estimators and max_depth, it will be a good direction for further study."
   ]
  },
  {
   "cell_type": "markdown",
   "id": "a7da85e2",
   "metadata": {},
   "source": [
    "**IF_IDF**"
   ]
  },
  {
   "cell_type": "code",
   "execution_count": 24,
   "id": "da09418c",
   "metadata": {},
   "outputs": [],
   "source": [
    "n_list=[50,100,200,300,500,700,900,1000]\n",
    "train_acc_xg_tf=[]\n",
    "val_acc_xg_tf=[]\n",
    "for n in n_list:\n",
    "    estimators=[\n",
    "    ('smote',SMOTE(random_state=42)),\n",
    "    ('scaler',MinMaxScaler()),\n",
    "    ('classifier',XGBClassifier(n_estimators=n,n_jobs=-1))]\n",
    "    pipe_xg_1=imbPipeline(estimators)\n",
    "    pipe_xg_1.fit(X_train_tf,y_train_tf)\n",
    "    train_acc=pipe_xg_1.score(X_train_tf,y_train_tf)\n",
    "    val_acc=pipe_xg_1.score(X_val_tf,y_val_tf)\n",
    "    train_acc_xg_tf.append(train_acc)\n",
    "    val_acc_xg_tf.append(val_acc)"
   ]
  },
  {
   "cell_type": "code",
   "execution_count": 25,
   "id": "b6ea1feb",
   "metadata": {},
   "outputs": [
    {
     "data": {
      "text/plain": [
       "[0.9987015581302437, 1.0, 1.0, 1.0, 1.0, 1.0, 1.0, 1.0]"
      ]
     },
     "execution_count": 25,
     "metadata": {},
     "output_type": "execute_result"
    }
   ],
   "source": [
    "train_acc_xg_tf"
   ]
  },
  {
   "cell_type": "code",
   "execution_count": 26,
   "id": "c2e7491c",
   "metadata": {},
   "outputs": [
    {
     "data": {
      "text/plain": [
       "[0.9840191769876149,\n",
       " 0.986016779864163,\n",
       " 0.9856172592888534,\n",
       " 0.9864163004394726,\n",
       " 0.9856172592888534,\n",
       " 0.9856172592888534,\n",
       " 0.9852177387135438,\n",
       " 0.9852177387135438]"
      ]
     },
     "execution_count": 26,
     "metadata": {},
     "output_type": "execute_result"
    }
   ],
   "source": [
    "val_acc_xg_tf"
   ]
  },
  {
   "cell_type": "code",
   "execution_count": 36,
   "id": "9ac8cbe1",
   "metadata": {},
   "outputs": [
    {
     "data": {
      "image/png": "[encoded data removed]",
      "text/plain": [
       "<Figure size 864x432 with 1 Axes>"
      ]
     },
     "metadata": {
      "needs_background": "light"
     },
     "output_type": "display_data"
    }
   ],
   "source": [
    "plt.figure(figsize=(12,6))\n",
    "plt.plot(n_list,train_acc_xg_tf,label='train')\n",
    "plt.title('XGBoost n_estimators Tune (IF_IDF)')\n",
    "plt.plot(n_list,val_acc_xg_tf,label='val',color='red')\n",
    "plt.plot(n_list[np.array(val_acc_xg_tf).argmax()],max(val_acc_xg_tf),'ro',color='blue')\n",
    "plt.xlabel('n_list')\n",
    "plt.ylabel('acc')\n",
    "plt.grid()\n",
    "plt.legend()\n",
    "plt.show()"
   ]
  },
  {
   "cell_type": "code",
   "execution_count": 37,
   "id": "7cdb8465",
   "metadata": {},
   "outputs": [
    {
     "data": {
      "text/plain": [
       "300"
      ]
     },
     "execution_count": 37,
     "metadata": {},
     "output_type": "execute_result"
    }
   ],
   "source": [
    "max_index_XG_TF=np.array(val_acc_xg_tf).argmax()\n",
    "n_list[max_index_XG_TF]"
   ]
  },
  {
   "cell_type": "markdown",
   "id": "eb52ecbb",
   "metadata": {},
   "source": [
    "**n_estimators range (countvector)**:\n",
    "- The best n_estimators in the experiment is 300, I will use 200 to 400 as the n_estimators range.\n",
    "- The random forests model is overfitted in all these test I ran above, I will max_depth=4 in my gridsearch, consider the train time is super long (4-5h), I decisided to stop the further experiment here.\n",
    "\n",
    "**Note**: If you re-run my experiment you may get a slight different result. "
   ]
  },
  {
   "cell_type": "code",
   "execution_count": 38,
   "id": "47782a76",
   "metadata": {},
   "outputs": [],
   "source": [
    "pipe_xg=imbPipeline([\n",
    "    ('smote',SMOTE(random_state=42)),\n",
    "    ('scaler',MinMaxScaler()), # choose MinMaxScaler(), as I don't want to change the distribustion of features ans target \n",
    "    ('dim_reducer', PCA()),\n",
    "    ('classifier',XGBClassifier())\n",
    "])\n",
    "\n",
    "n_list_xg_1=list(range(200,450,50))\n",
    "grid_xg_1=[{\n",
    "    'dim_reducer':[None],\n",
    "    'classifier__n_estimators':n_list_xg_1,\n",
    "    'classifier':[XGBClassifier(n_jobs=-1,max_depth=4)]\n",
    "},\n",
    "{   'dim_reducer':[PCA()],\n",
    "    'dim_reducer__n_components':[0.95, 0.9, 0.85, 0.8],\n",
    "    'classifier__n_estimators':n_list_xg,\n",
    "    'classifier':[XGBClassifier(n_jobs=-1,max_depth=4)]\n",
    "}        \n",
    "]"
   ]
  },
  {
   "cell_type": "code",
   "execution_count": 39,
   "id": "1451373f",
   "metadata": {},
   "outputs": [],
   "source": [
    "# xgboost GridSearch (CountVectorizer)\n",
    "xg_hv_tf=HalvingGridSearchCV(pipe_xg,grid_xg_1,n_jobs=-1, min_resources=\"exhaust\", factor=3,verbose=2)"
   ]
  },
  {
   "cell_type": "code",
   "execution_count": 40,
   "id": "ba06e9a0",
   "metadata": {},
   "outputs": [
    {
     "name": "stdout",
     "output_type": "stream",
     "text": [
      "n_iterations: 3\n",
      "n_required_iterations: 3\n",
      "n_possible_iterations: 3\n",
      "min_resources_: 1390\n",
      "max_resources_: 12515\n",
      "aggressive_elimination: False\n",
      "factor: 3\n",
      "----------\n",
      "iter: 0\n",
      "n_candidates: 25\n",
      "n_resources: 1390\n",
      "Fitting 5 folds for each of 25 candidates, totalling 125 fits\n",
      "----------\n",
      "iter: 1\n",
      "n_candidates: 9\n",
      "n_resources: 4170\n",
      "Fitting 5 folds for each of 9 candidates, totalling 45 fits\n",
      "----------\n",
      "iter: 2\n",
      "n_candidates: 3\n",
      "n_resources: 12510\n",
      "Fitting 5 folds for each of 3 candidates, totalling 15 fits\n"
     ]
    }
   ],
   "source": [
    "xg_tf_fit=xg_hv_tf.fit(X_rem_tf,y_rem)"
   ]
  },
  {
   "cell_type": "code",
   "execution_count": 41,
   "id": "fb8bfe23",
   "metadata": {},
   "outputs": [
    {
     "data": {
      "text/plain": [
       "['vectorized_df/xg_tf_fit.pkl']"
      ]
     },
     "execution_count": 41,
     "metadata": {},
     "output_type": "execute_result"
    }
   ],
   "source": [
    "# dump the trainning result\n",
    "joblib.dump(xg_tf_fit, 'vectorized_df/xg_tf_fit.pkl')"
   ]
  },
  {
   "cell_type": "code",
   "execution_count": 51,
   "id": "32ccd685",
   "metadata": {},
   "outputs": [
    {
     "name": "stdout",
     "output_type": "stream",
     "text": [
      "{'classifier': XGBClassifier(base_score=None, booster=None, callbacks=None,\n",
      "              colsample_bylevel=None, colsample_bynode=None,\n",
      "              colsample_bytree=None, early_stopping_rounds=None,\n",
      "              enable_categorical=False, eval_metric=None, feature_types=None,\n",
      "              gamma=None, gpu_id=None, grow_policy=None, importance_type=None,\n",
      "              interaction_constraints=None, learning_rate=None, max_bin=None,\n",
      "              max_cat_threshold=None, max_cat_to_onehot=None,\n",
      "              max_delta_step=None, max_depth=4, max_leaves=None,\n",
      "              min_child_weight=None, missing=nan, monotone_constraints=None,\n",
      "              n_estimators=1000, n_jobs=-1, num_parallel_tree=None,\n",
      "              predictor=None, random_state=None, ...), 'classifier__n_estimators': 1000, 'dim_reducer': PCA(n_components=0.8), 'dim_reducer__n_components': 0.8}\n"
     ]
    }
   ],
   "source": [
    "print(xg_tf_fit.best_params_)"
   ]
  },
  {
   "cell_type": "code",
   "execution_count": 53,
   "id": "a2bc7ce4",
   "metadata": {},
   "outputs": [
    {
     "data": {
      "text/plain": [
       "0.9863907531692767"
      ]
     },
     "execution_count": 53,
     "metadata": {},
     "output_type": "execute_result"
    }
   ],
   "source": [
    "# best test acc wit TF_IDF\n",
    "xg_tf_fit.score(X_test_tf, y_test)"
   ]
  },
  {
   "cell_type": "code",
   "execution_count": 43,
   "id": "a869c5d7",
   "metadata": {},
   "outputs": [
    {
     "data": {
      "image/png": "[encoded data removed]",
      "text/plain": [
       "<Figure size 432x288 with 2 Axes>"
      ]
     },
     "metadata": {
      "needs_background": "light"
     },
     "output_type": "display_data"
    }
   ],
   "source": [
    "ConfusionMatrixDisplay.from_estimator(xg_tf_fit,X_test_tf, y_test,normalize='true')\n",
    "plt.title('XGboosting ConfusionMatrix with TF_TDF')\n",
    "plt.show()"
   ]
  },
  {
   "cell_type": "code",
   "execution_count": 54,
   "id": "522670d1",
   "metadata": {},
   "outputs": [
    {
     "data": {
      "image/png": "[encoded data removed]",
      "text/plain": [
       "<Figure size 432x288 with 1 Axes>"
      ]
     },
     "metadata": {
      "needs_background": "light"
     },
     "output_type": "display_data"
    }
   ],
   "source": [
    "RocCurveDisplay.from_estimator(xg_tf_fit,X_test_tf, y_test)\n",
    "plt.title('ROC Curve Fake job post with model XGboosting (TF_IDF)')\n",
    "plt.show()"
   ]
  },
  {
   "cell_type": "code",
   "execution_count": 46,
   "id": "43be24f3",
   "metadata": {},
   "outputs": [
    {
     "name": "stdout",
     "output_type": "stream",
     "text": [
      "              precision    recall  f1-score   support\n",
      "\n",
      "           0       0.99      1.00      0.99      5104\n",
      "           1       0.95      0.76      0.84       260\n",
      "\n",
      "    accuracy                           0.99      5364\n",
      "   macro avg       0.97      0.88      0.92      5364\n",
      "weighted avg       0.99      0.99      0.99      5364\n",
      "\n"
     ]
    }
   ],
   "source": [
    "print(classification_report(y_test,xg_tf_fit.predict(X_test_tf)))"
   ]
  },
  {
   "cell_type": "markdown",
   "id": "d841cebc",
   "metadata": {},
   "source": [
    "**Best result:**\n",
    "- The best result for XGboosting (TF_IDF) is test acurrcy score 0.9863907531692767, with the AUC 0.98.\n",
    "- This model predicts 100% of TN, but 76% of TP."
   ]
  },
  {
   "cell_type": "markdown",
   "id": "be7628a1",
   "metadata": {},
   "source": [
    "| Best estimator  Model 4                                                                                                | model         | Vectorizer  | Test Accuracy      | % TP | % TN | AUC  |   |   |   |   |\n",
    "|------------------------------------------------------------------------------------------------------------------------|---------------|-------------|--------------------|------|------|------|---|---|---|---|\n",
    "|  'classifier__n_estimators': 1000, 'dim_reducer': PCA(n_components=0.8), 'dim_reducer__n_components': 0.8},max_depth=4 | XGBClassifier | countvector | 0.9841536167039523 | 0.78 | 0.99 | 0.99 |   |   |   |   |"
   ]
  },
  {
   "cell_type": "code",
   "execution_count": null,
   "id": "b745713f",
   "metadata": {},
   "outputs": [],
   "source": []
  }
 ],
 "metadata": {
  "kernelspec": {
   "display_name": "Python 3 (ipykernel)",
   "language": "python",
   "name": "python3"
  },
  "language_info": {
   "codemirror_mode": {
    "name": "ipython",
    "version": 3
   },
   "file_extension": ".py",
   "mimetype": "text/x-python",
   "name": "python",
   "nbconvert_exporter": "python",
   "pygments_lexer": "ipython3",
   "version": "3.9.7"
  }
 },
 "nbformat": 4,
 "nbformat_minor": 5
}
